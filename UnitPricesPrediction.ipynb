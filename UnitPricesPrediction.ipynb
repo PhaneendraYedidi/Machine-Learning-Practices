{
  "nbformat": 4,
  "nbformat_minor": 0,
  "metadata": {
    "colab": {
      "name": "UnitPricesPrediction.ipynb",
      "provenance": [],
      "collapsed_sections": [],
      "include_colab_link": true
    },
    "kernelspec": {
      "display_name": "Python 3",
      "language": "python",
      "name": "python3"
    },
    "language_info": {
      "codemirror_mode": {
        "name": "ipython",
        "version": 3
      },
      "file_extension": ".py",
      "mimetype": "text/x-python",
      "name": "python",
      "nbconvert_exporter": "python",
      "pygments_lexer": "ipython3",
      "version": "3.6.12"
    },
    "toc": {
      "base_numbering": 1,
      "nav_menu": {},
      "number_sections": true,
      "sideBar": true,
      "skip_h1_title": false,
      "title_cell": "Table of Contents",
      "title_sidebar": "Contents",
      "toc_cell": false,
      "toc_position": {},
      "toc_section_display": true,
      "toc_window_display": false
    }
  },
  "cells": [
    {
      "cell_type": "markdown",
      "metadata": {
        "id": "view-in-github",
        "colab_type": "text"
      },
      "source": [
        "<a href=\"https://colab.research.google.com/github/PhaneendraYedidi/Machine-Learning-Practices/blob/master/UnitPricesPrediction.ipynb\" target=\"_parent\"><img src=\"https://colab.research.google.com/assets/colab-badge.svg\" alt=\"Open In Colab\"/></a>"
      ]
    },
    {
      "cell_type": "code",
      "metadata": {
        "id": "z1TMrGiq5_g6"
      },
      "source": [
        "import pandas as pd\n",
        "import numpy as np\n",
        "from sklearn.linear_model import LinearRegression\n",
        "from sklearn import metrics\n",
        "import matplotlib.pyplot as plt\n",
        "import seaborn as sns\n",
        "from sklearn.model_selection import train_test_split\n",
        "from sklearn.model_selection import GridSearchCV \n",
        "from sklearn.model_selection import RandomizedSearchCV \n"
      ],
      "execution_count": 61,
      "outputs": []
    },
    {
      "cell_type": "code",
      "metadata": {
        "colab": {
          "base_uri": "https://localhost:8080/"
        },
        "id": "Kx2GpqxU7Sbm",
        "outputId": "00967956-8f4f-4e44-f55d-325c9ef8fcfd"
      },
      "source": [
        "#Mounting the Google drive\n",
        "from google.colab import drive\n",
        "drive.mount('/content/drive')"
      ],
      "execution_count": 62,
      "outputs": [
        {
          "output_type": "stream",
          "text": [
            "Drive already mounted at /content/drive; to attempt to forcibly remount, call drive.mount(\"/content/drive\", force_remount=True).\n"
          ],
          "name": "stdout"
        }
      ]
    },
    {
      "cell_type": "code",
      "metadata": {
        "id": "YLmbhVoK8I2r"
      },
      "source": [
        "#Reading the train and test data from drive\n",
        "pathExt = 'drive/MyDrive/HackathonData/'\n",
        "trainData = pd.read_csv(pathExt + \"Train.csv\")\n",
        "testData = pd.read_csv(pathExt + \"Test.csv\")"
      ],
      "execution_count": 63,
      "outputs": []
    },
    {
      "cell_type": "markdown",
      "metadata": {
        "id": "syM3mQAJAhi-"
      },
      "source": [
        "Business Constraints:\n",
        "\n",
        "*   Multivariate Regression\n",
        "*   Big dataset, underfitting vs overfitting\n",
        "*   Optimizing RMSE to generalize well on unseen data\n",
        "\n",
        "\n",
        "\n",
        "\n"
      ]
    },
    {
      "cell_type": "markdown",
      "metadata": {
        "id": "cyI0wrE5n8nB"
      },
      "source": [
        "#Data Cleaning"
      ]
    },
    {
      "cell_type": "code",
      "metadata": {
        "colab": {
          "base_uri": "https://localhost:8080/",
          "height": 195
        },
        "id": "s5p38xS09Jw9",
        "outputId": "a2f9ac04-fd02-424b-f4eb-947780bc7f7c"
      },
      "source": [
        "trainData.head()\n",
        "#trainData.value_counts()"
      ],
      "execution_count": 64,
      "outputs": [
        {
          "output_type": "execute_result",
          "data": {
            "text/html": [
              "<div>\n",
              "<style scoped>\n",
              "    .dataframe tbody tr th:only-of-type {\n",
              "        vertical-align: middle;\n",
              "    }\n",
              "\n",
              "    .dataframe tbody tr th {\n",
              "        vertical-align: top;\n",
              "    }\n",
              "\n",
              "    .dataframe thead th {\n",
              "        text-align: right;\n",
              "    }\n",
              "</style>\n",
              "<table border=\"1\" class=\"dataframe\">\n",
              "  <thead>\n",
              "    <tr style=\"text-align: right;\">\n",
              "      <th></th>\n",
              "      <th>InvoiceNo</th>\n",
              "      <th>StockCode</th>\n",
              "      <th>Description</th>\n",
              "      <th>Quantity</th>\n",
              "      <th>InvoiceDate</th>\n",
              "      <th>UnitPrice</th>\n",
              "      <th>CustomerID</th>\n",
              "      <th>Country</th>\n",
              "    </tr>\n",
              "  </thead>\n",
              "  <tbody>\n",
              "    <tr>\n",
              "      <th>0</th>\n",
              "      <td>6141</td>\n",
              "      <td>1583</td>\n",
              "      <td>144</td>\n",
              "      <td>3</td>\n",
              "      <td>2011-05-06 16:54:00</td>\n",
              "      <td>3.75</td>\n",
              "      <td>14056.0</td>\n",
              "      <td>35</td>\n",
              "    </tr>\n",
              "    <tr>\n",
              "      <th>1</th>\n",
              "      <td>6349</td>\n",
              "      <td>1300</td>\n",
              "      <td>3682</td>\n",
              "      <td>6</td>\n",
              "      <td>2011-05-11 07:35:00</td>\n",
              "      <td>1.95</td>\n",
              "      <td>13098.0</td>\n",
              "      <td>35</td>\n",
              "    </tr>\n",
              "    <tr>\n",
              "      <th>2</th>\n",
              "      <td>16783</td>\n",
              "      <td>2178</td>\n",
              "      <td>1939</td>\n",
              "      <td>4</td>\n",
              "      <td>2011-11-20 13:20:00</td>\n",
              "      <td>5.95</td>\n",
              "      <td>15044.0</td>\n",
              "      <td>35</td>\n",
              "    </tr>\n",
              "    <tr>\n",
              "      <th>3</th>\n",
              "      <td>16971</td>\n",
              "      <td>2115</td>\n",
              "      <td>2983</td>\n",
              "      <td>1</td>\n",
              "      <td>2011-11-22 12:07:00</td>\n",
              "      <td>0.83</td>\n",
              "      <td>15525.0</td>\n",
              "      <td>35</td>\n",
              "    </tr>\n",
              "    <tr>\n",
              "      <th>4</th>\n",
              "      <td>6080</td>\n",
              "      <td>1210</td>\n",
              "      <td>2886</td>\n",
              "      <td>12</td>\n",
              "      <td>2011-05-06 09:00:00</td>\n",
              "      <td>1.65</td>\n",
              "      <td>13952.0</td>\n",
              "      <td>35</td>\n",
              "    </tr>\n",
              "  </tbody>\n",
              "</table>\n",
              "</div>"
            ],
            "text/plain": [
              "   InvoiceNo  StockCode  Description  ...  UnitPrice CustomerID  Country\n",
              "0       6141       1583          144  ...       3.75    14056.0       35\n",
              "1       6349       1300         3682  ...       1.95    13098.0       35\n",
              "2      16783       2178         1939  ...       5.95    15044.0       35\n",
              "3      16971       2115         2983  ...       0.83    15525.0       35\n",
              "4       6080       1210         2886  ...       1.65    13952.0       35\n",
              "\n",
              "[5 rows x 8 columns]"
            ]
          },
          "metadata": {
            "tags": []
          },
          "execution_count": 64
        }
      ]
    },
    {
      "cell_type": "code",
      "metadata": {
        "colab": {
          "base_uri": "https://localhost:8080/",
          "height": 195
        },
        "id": "Mwsq1E0pLSq_",
        "outputId": "38e9c12b-dbed-4df8-f269-6182fadb9315"
      },
      "source": [
        "testData.head()"
      ],
      "execution_count": 65,
      "outputs": [
        {
          "output_type": "execute_result",
          "data": {
            "text/html": [
              "<div>\n",
              "<style scoped>\n",
              "    .dataframe tbody tr th:only-of-type {\n",
              "        vertical-align: middle;\n",
              "    }\n",
              "\n",
              "    .dataframe tbody tr th {\n",
              "        vertical-align: top;\n",
              "    }\n",
              "\n",
              "    .dataframe thead th {\n",
              "        text-align: right;\n",
              "    }\n",
              "</style>\n",
              "<table border=\"1\" class=\"dataframe\">\n",
              "  <thead>\n",
              "    <tr style=\"text-align: right;\">\n",
              "      <th></th>\n",
              "      <th>InvoiceNo</th>\n",
              "      <th>StockCode</th>\n",
              "      <th>Description</th>\n",
              "      <th>Quantity</th>\n",
              "      <th>InvoiceDate</th>\n",
              "      <th>CustomerID</th>\n",
              "      <th>Country</th>\n",
              "    </tr>\n",
              "  </thead>\n",
              "  <tbody>\n",
              "    <tr>\n",
              "      <th>0</th>\n",
              "      <td>3139</td>\n",
              "      <td>1709</td>\n",
              "      <td>1079</td>\n",
              "      <td>3</td>\n",
              "      <td>2011-02-22 15:22:00</td>\n",
              "      <td>16161.0</td>\n",
              "      <td>35</td>\n",
              "    </tr>\n",
              "    <tr>\n",
              "      <th>1</th>\n",
              "      <td>617</td>\n",
              "      <td>510</td>\n",
              "      <td>3457</td>\n",
              "      <td>1</td>\n",
              "      <td>2010-12-08 12:46:00</td>\n",
              "      <td>17341.0</td>\n",
              "      <td>35</td>\n",
              "    </tr>\n",
              "    <tr>\n",
              "      <th>2</th>\n",
              "      <td>14653</td>\n",
              "      <td>604</td>\n",
              "      <td>694</td>\n",
              "      <td>36</td>\n",
              "      <td>2011-10-25 13:53:00</td>\n",
              "      <td>15158.0</td>\n",
              "      <td>35</td>\n",
              "    </tr>\n",
              "    <tr>\n",
              "      <th>3</th>\n",
              "      <td>8634</td>\n",
              "      <td>1478</td>\n",
              "      <td>3473</td>\n",
              "      <td>2</td>\n",
              "      <td>2011-06-27 12:38:00</td>\n",
              "      <td>16033.0</td>\n",
              "      <td>35</td>\n",
              "    </tr>\n",
              "    <tr>\n",
              "      <th>4</th>\n",
              "      <td>15546</td>\n",
              "      <td>3216</td>\n",
              "      <td>871</td>\n",
              "      <td>1</td>\n",
              "      <td>2011-11-06 16:14:00</td>\n",
              "      <td>15351.0</td>\n",
              "      <td>35</td>\n",
              "    </tr>\n",
              "  </tbody>\n",
              "</table>\n",
              "</div>"
            ],
            "text/plain": [
              "   InvoiceNo  StockCode  Description  ...          InvoiceDate CustomerID  Country\n",
              "0       3139       1709         1079  ...  2011-02-22 15:22:00    16161.0       35\n",
              "1        617        510         3457  ...  2010-12-08 12:46:00    17341.0       35\n",
              "2      14653        604          694  ...  2011-10-25 13:53:00    15158.0       35\n",
              "3       8634       1478         3473  ...  2011-06-27 12:38:00    16033.0       35\n",
              "4      15546       3216          871  ...  2011-11-06 16:14:00    15351.0       35\n",
              "\n",
              "[5 rows x 7 columns]"
            ]
          },
          "metadata": {
            "tags": []
          },
          "execution_count": 65
        }
      ]
    },
    {
      "cell_type": "code",
      "metadata": {
        "colab": {
          "base_uri": "https://localhost:8080/",
          "height": 284
        },
        "id": "w8ipam0YGnlN",
        "outputId": "58848e50-4622-4af4-9be7-172b7dd0cb5a"
      },
      "source": [
        "trainData.describe()"
      ],
      "execution_count": 66,
      "outputs": [
        {
          "output_type": "execute_result",
          "data": {
            "text/html": [
              "<div>\n",
              "<style scoped>\n",
              "    .dataframe tbody tr th:only-of-type {\n",
              "        vertical-align: middle;\n",
              "    }\n",
              "\n",
              "    .dataframe tbody tr th {\n",
              "        vertical-align: top;\n",
              "    }\n",
              "\n",
              "    .dataframe thead th {\n",
              "        text-align: right;\n",
              "    }\n",
              "</style>\n",
              "<table border=\"1\" class=\"dataframe\">\n",
              "  <thead>\n",
              "    <tr style=\"text-align: right;\">\n",
              "      <th></th>\n",
              "      <th>InvoiceNo</th>\n",
              "      <th>StockCode</th>\n",
              "      <th>Description</th>\n",
              "      <th>Quantity</th>\n",
              "      <th>UnitPrice</th>\n",
              "      <th>CustomerID</th>\n",
              "      <th>Country</th>\n",
              "    </tr>\n",
              "  </thead>\n",
              "  <tbody>\n",
              "    <tr>\n",
              "      <th>count</th>\n",
              "      <td>284780.000000</td>\n",
              "      <td>284780.000000</td>\n",
              "      <td>284780.000000</td>\n",
              "      <td>284780.000000</td>\n",
              "      <td>284780.000000</td>\n",
              "      <td>284780.000000</td>\n",
              "      <td>284780.000000</td>\n",
              "    </tr>\n",
              "    <tr>\n",
              "      <th>mean</th>\n",
              "      <td>9955.394083</td>\n",
              "      <td>1573.386807</td>\n",
              "      <td>2023.955573</td>\n",
              "      <td>12.028468</td>\n",
              "      <td>3.451216</td>\n",
              "      <td>15288.224278</td>\n",
              "      <td>32.823846</td>\n",
              "    </tr>\n",
              "    <tr>\n",
              "      <th>std</th>\n",
              "      <td>5551.519138</td>\n",
              "      <td>843.604991</td>\n",
              "      <td>1089.812078</td>\n",
              "      <td>295.111588</td>\n",
              "      <td>78.399541</td>\n",
              "      <td>1714.336529</td>\n",
              "      <td>6.743602</td>\n",
              "    </tr>\n",
              "    <tr>\n",
              "      <th>min</th>\n",
              "      <td>0.000000</td>\n",
              "      <td>0.000000</td>\n",
              "      <td>0.000000</td>\n",
              "      <td>-80995.000000</td>\n",
              "      <td>0.000000</td>\n",
              "      <td>12346.000000</td>\n",
              "      <td>0.000000</td>\n",
              "    </tr>\n",
              "    <tr>\n",
              "      <th>25%</th>\n",
              "      <td>5069.000000</td>\n",
              "      <td>939.000000</td>\n",
              "      <td>1141.000000</td>\n",
              "      <td>2.000000</td>\n",
              "      <td>1.250000</td>\n",
              "      <td>13953.000000</td>\n",
              "      <td>35.000000</td>\n",
              "    </tr>\n",
              "    <tr>\n",
              "      <th>50%</th>\n",
              "      <td>10310.000000</td>\n",
              "      <td>1521.000000</td>\n",
              "      <td>1987.000000</td>\n",
              "      <td>5.000000</td>\n",
              "      <td>1.950000</td>\n",
              "      <td>15152.000000</td>\n",
              "      <td>35.000000</td>\n",
              "    </tr>\n",
              "    <tr>\n",
              "      <th>75%</th>\n",
              "      <td>14657.000000</td>\n",
              "      <td>2106.000000</td>\n",
              "      <td>2945.000000</td>\n",
              "      <td>12.000000</td>\n",
              "      <td>3.750000</td>\n",
              "      <td>16794.000000</td>\n",
              "      <td>35.000000</td>\n",
              "    </tr>\n",
              "    <tr>\n",
              "      <th>max</th>\n",
              "      <td>22188.000000</td>\n",
              "      <td>3683.000000</td>\n",
              "      <td>3895.000000</td>\n",
              "      <td>80995.000000</td>\n",
              "      <td>38970.000000</td>\n",
              "      <td>18287.000000</td>\n",
              "      <td>36.000000</td>\n",
              "    </tr>\n",
              "  </tbody>\n",
              "</table>\n",
              "</div>"
            ],
            "text/plain": [
              "           InvoiceNo      StockCode  ...     CustomerID        Country\n",
              "count  284780.000000  284780.000000  ...  284780.000000  284780.000000\n",
              "mean     9955.394083    1573.386807  ...   15288.224278      32.823846\n",
              "std      5551.519138     843.604991  ...    1714.336529       6.743602\n",
              "min         0.000000       0.000000  ...   12346.000000       0.000000\n",
              "25%      5069.000000     939.000000  ...   13953.000000      35.000000\n",
              "50%     10310.000000    1521.000000  ...   15152.000000      35.000000\n",
              "75%     14657.000000    2106.000000  ...   16794.000000      35.000000\n",
              "max     22188.000000    3683.000000  ...   18287.000000      36.000000\n",
              "\n",
              "[8 rows x 7 columns]"
            ]
          },
          "metadata": {
            "tags": []
          },
          "execution_count": 66
        }
      ]
    },
    {
      "cell_type": "code",
      "metadata": {
        "colab": {
          "base_uri": "https://localhost:8080/"
        },
        "id": "3HqNqDRkGnlN",
        "outputId": "78eb6da3-fc97-41fe-9027-88d55cc76476"
      },
      "source": [
        "#Min value of Quantity is negative which is not realistic so removing the values\n",
        "print('Shape of train data',trainData.shape)\n",
        "trainData = trainData[trainData['Quantity']>0]\n",
        "print('Shape of train data',trainData.shape)"
      ],
      "execution_count": 67,
      "outputs": [
        {
          "output_type": "stream",
          "text": [
            "Shape of train data (284780, 8)\n",
            "Shape of train data (278613, 8)\n"
          ],
          "name": "stdout"
        }
      ]
    },
    {
      "cell_type": "code",
      "metadata": {
        "colab": {
          "base_uri": "https://localhost:8080/"
        },
        "id": "NfEYQ74kGnlO",
        "outputId": "c7dacaa3-b804-468a-df64-aa841eee2571"
      },
      "source": [
        "trainData.info()"
      ],
      "execution_count": 68,
      "outputs": [
        {
          "output_type": "stream",
          "text": [
            "<class 'pandas.core.frame.DataFrame'>\n",
            "Int64Index: 278613 entries, 0 to 284779\n",
            "Data columns (total 8 columns):\n",
            " #   Column       Non-Null Count   Dtype  \n",
            "---  ------       --------------   -----  \n",
            " 0   InvoiceNo    278613 non-null  int64  \n",
            " 1   StockCode    278613 non-null  int64  \n",
            " 2   Description  278613 non-null  int64  \n",
            " 3   Quantity     278613 non-null  int64  \n",
            " 4   InvoiceDate  278613 non-null  object \n",
            " 5   UnitPrice    278613 non-null  float64\n",
            " 6   CustomerID   278613 non-null  float64\n",
            " 7   Country      278613 non-null  int64  \n",
            "dtypes: float64(2), int64(5), object(1)\n",
            "memory usage: 19.1+ MB\n"
          ],
          "name": "stdout"
        }
      ]
    },
    {
      "cell_type": "markdown",
      "metadata": {
        "id": "ux37VTotGnlO"
      },
      "source": [
        "No Null values in the Training data"
      ]
    },
    {
      "cell_type": "code",
      "metadata": {
        "colab": {
          "base_uri": "https://localhost:8080/",
          "height": 69
        },
        "id": "2GyJblTBGnlO",
        "outputId": "98ea05a5-7e33-4701-a4dc-0c79afad9b91"
      },
      "source": [
        "'''\n",
        "s = sum(trainData.Quantity.values);\n",
        "h = trainData.Quantity.values/s;\n",
        "plt.plot(h, label=\"Histrogram of Quantity\")\n",
        "plt.xlabel('Index of a Quantity')\n",
        "plt.ylabel('Number of Occurances')\n",
        "plt.legend()\n",
        "plt.grid()\n",
        "plt.show()\n",
        "\n",
        "c = np.cumsum(h)\n",
        "plt.plot(c,label='Cumulative distribution of Quantity')\n",
        "plt.grid()\n",
        "plt.legend()\n",
        "plt.show()\n",
        "'''"
      ],
      "execution_count": 69,
      "outputs": [
        {
          "output_type": "execute_result",
          "data": {
            "application/vnd.google.colaboratory.intrinsic+json": {
              "type": "string"
            },
            "text/plain": [
              "'\\ns = sum(trainData.Quantity.values);\\nh = trainData.Quantity.values/s;\\nplt.plot(h, label=\"Histrogram of Quantity\")\\nplt.xlabel(\\'Index of a Quantity\\')\\nplt.ylabel(\\'Number of Occurances\\')\\nplt.legend()\\nplt.grid()\\nplt.show()\\n\\nc = np.cumsum(h)\\nplt.plot(c,label=\\'Cumulative distribution of Quantity\\')\\nplt.grid()\\nplt.legend()\\nplt.show()\\n'"
            ]
          },
          "metadata": {
            "tags": []
          },
          "execution_count": 69
        }
      ]
    },
    {
      "cell_type": "code",
      "metadata": {
        "colab": {
          "base_uri": "https://localhost:8080/",
          "height": 52
        },
        "id": "0PfHRqWLGnlO",
        "outputId": "0219282d-2ad4-43c2-e366-79fde55afb4f"
      },
      "source": [
        "'''\n",
        "plt.figure(figsize=(20, 10))\n",
        "\n",
        "plt.hist(trainData.Quantity.value_counts(), bins=160)\n",
        "\n",
        "#plt.yscale('log', nonposy='clip')\n",
        "\n",
        "plt.title('Histogram of quantity')\n",
        "'''"
      ],
      "execution_count": 70,
      "outputs": [
        {
          "output_type": "execute_result",
          "data": {
            "application/vnd.google.colaboratory.intrinsic+json": {
              "type": "string"
            },
            "text/plain": [
              "\"\\nplt.figure(figsize=(20, 10))\\n\\nplt.hist(trainData.Quantity.value_counts(), bins=160)\\n\\n#plt.yscale('log', nonposy='clip')\\n\\nplt.title('Histogram of quantity')\\n\""
            ]
          },
          "metadata": {
            "tags": []
          },
          "execution_count": 70
        }
      ]
    },
    {
      "cell_type": "code",
      "metadata": {
        "colab": {
          "base_uri": "https://localhost:8080/"
        },
        "id": "pGAiEZrwHa6b",
        "outputId": "7f4ba050-5e4a-44f8-ca4a-73b3b922381a"
      },
      "source": [
        "for i in np.arange(10,101,10):\n",
        "  p = np.percentile(trainData.Quantity, i)\n",
        "  print('Percentile ', str(i), \"is \", str(p))"
      ],
      "execution_count": 71,
      "outputs": [
        {
          "output_type": "stream",
          "text": [
            "Percentile  10 is  1.0\n",
            "Percentile  20 is  2.0\n",
            "Percentile  30 is  2.0\n",
            "Percentile  40 is  4.0\n",
            "Percentile  50 is  6.0\n",
            "Percentile  60 is  8.0\n",
            "Percentile  70 is  12.0\n",
            "Percentile  80 is  12.0\n",
            "Percentile  90 is  24.0\n",
            "Percentile  100 is  80995.0\n"
          ],
          "name": "stdout"
        }
      ]
    },
    {
      "cell_type": "code",
      "metadata": {
        "colab": {
          "base_uri": "https://localhost:8080/"
        },
        "id": "sAb5nxj_QuK4",
        "outputId": "5f2a5c7b-79cc-4589-8dbf-8bf427985179"
      },
      "source": [
        "for i in np.arange(90,101,1):\n",
        "  p = np.percentile(trainData.Quantity, i)\n",
        "  print('Percentile ', str(i), \"is \", str(p))"
      ],
      "execution_count": 72,
      "outputs": [
        {
          "output_type": "stream",
          "text": [
            "Percentile  90 is  24.0\n",
            "Percentile  91 is  24.0\n",
            "Percentile  92 is  24.0\n",
            "Percentile  93 is  25.0\n",
            "Percentile  94 is  32.0\n",
            "Percentile  95 is  36.0\n",
            "Percentile  96 is  48.0\n",
            "Percentile  97 is  50.0\n",
            "Percentile  98 is  96.0\n",
            "Percentile  99 is  120.0\n",
            "Percentile  100 is  80995.0\n"
          ],
          "name": "stdout"
        }
      ]
    },
    {
      "cell_type": "code",
      "metadata": {
        "colab": {
          "base_uri": "https://localhost:8080/"
        },
        "id": "8vqYNHc-Qzn1",
        "outputId": "5422a1ba-5900-468d-c3bc-a302cb25dc6a"
      },
      "source": [
        "for i in np.arange(99,100.1,.1):\n",
        "  p = np.percentile(trainData.Quantity, i)\n",
        "  print('Percentile ', str(i), \"is \", str(p))"
      ],
      "execution_count": 73,
      "outputs": [
        {
          "output_type": "stream",
          "text": [
            "Percentile  99.0 is  120.0\n",
            "Percentile  99.1 is  144.0\n",
            "Percentile  99.19999999999999 is  144.0\n",
            "Percentile  99.29999999999998 is  144.0\n",
            "Percentile  99.39999999999998 is  192.0\n",
            "Percentile  99.49999999999997 is  200.0\n",
            "Percentile  99.59999999999997 is  216.0\n",
            "Percentile  99.69999999999996 is  256.0\n",
            "Percentile  99.79999999999995 is  320.0\n",
            "Percentile  99.89999999999995 is  500.0\n",
            "Percentile  99.99999999999994 is  80994.99999881606\n"
          ],
          "name": "stdout"
        }
      ]
    },
    {
      "cell_type": "code",
      "metadata": {
        "colab": {
          "base_uri": "https://localhost:8080/"
        },
        "id": "UFbsBFQcRHXN",
        "outputId": "0229f272-023a-4fc6-8155-ae75ed0777b0"
      },
      "source": [
        "#There is a big change in percentile of quantity from 99.89. This can be thought of as outlier\n",
        "print('Shape of train data',trainData.shape)\n",
        "#trainData = trainData[trainData['Quantity']>=500]\n",
        "trainData = trainData[trainData.Quantity < np.percentile(trainData.Quantity,99.9)]\n",
        "print('Shape of train data',trainData.shape)"
      ],
      "execution_count": 74,
      "outputs": [
        {
          "output_type": "stream",
          "text": [
            "Shape of train data (278613, 8)\n",
            "Shape of train data (278323, 8)\n"
          ],
          "name": "stdout"
        }
      ]
    },
    {
      "cell_type": "code",
      "metadata": {
        "colab": {
          "base_uri": "https://localhost:8080/",
          "height": 35
        },
        "id": "Pbb4o24yR2aE",
        "outputId": "c8415289-bdc8-4bc1-866c-4114714dd52d"
      },
      "source": [
        "'''\n",
        "for i in np.arange(10,101,10):\n",
        "  p = np.percentile(trainData.UnitPrice, i)\n",
        "  print('Percentile ', str(i), \"is \", str(p))\n",
        "'''"
      ],
      "execution_count": 75,
      "outputs": [
        {
          "output_type": "execute_result",
          "data": {
            "application/vnd.google.colaboratory.intrinsic+json": {
              "type": "string"
            },
            "text/plain": [
              "'\\nfor i in np.arange(10,101,10):\\n  p = np.percentile(trainData.UnitPrice, i)\\n  print(\\'Percentile \\', str(i), \"is \", str(p))\\n'"
            ]
          },
          "metadata": {
            "tags": []
          },
          "execution_count": 75
        }
      ]
    },
    {
      "cell_type": "code",
      "metadata": {
        "id": "WbqDvmoQH_wO"
      },
      "source": [
        "#feature_cols = [\"StockCode\", \"Quantity\" ]\n",
        "feature_cols = [\"StockCode\",\"Description\", \t\"Quantity\",\t\"CustomerID\",\t\"Country\"]\n",
        "x = trainData[feature_cols]\n",
        "y = trainData[\"UnitPrice\"]"
      ],
      "execution_count": 76,
      "outputs": []
    },
    {
      "cell_type": "code",
      "metadata": {
        "id": "AvtqjfkWiFef"
      },
      "source": [
        "# Split data into train and test format\n",
        "#x_train, x_cv, y_train, y_cv = train_test_split(x, y, test_size=0.2, random_state=None)"
      ],
      "execution_count": 77,
      "outputs": []
    },
    {
      "cell_type": "markdown",
      "metadata": {
        "id": "fc_e8Efen18o"
      },
      "source": [
        "#Linear Regression"
      ]
    },
    {
      "cell_type": "code",
      "metadata": {
        "colab": {
          "base_uri": "https://localhost:8080/",
          "height": 102
        },
        "id": "Fn1-GzVqI7qO",
        "outputId": "2613fc85-bbe0-4b56-b2d7-bad9296f261e"
      },
      "source": [
        "'''\n",
        "# Creating the hyperparameter grid  \n",
        "param_grid = {\"fit_intercept\": [True, False]} \n",
        "  \n",
        "# Instantiating model \n",
        "model = LinearRegression()\n",
        "  \n",
        "# Instantiating RandomizedSearchCV object \n",
        "rand_search = RandomizedSearchCV(model, param_grid, cv = 5) \n",
        "  \n",
        "rand_search.fit(x, y)\n",
        "print(rand_search.best_estimator_.fit_intercept)\n",
        "model_best = LinearRegression(fit_intercept = rand_search.best_estimator_.fit_intercept)\n",
        "model_best.fit(x, y)\n",
        "\n",
        "y_pred_train_linReg = model_best.predict(x)\n",
        "print('RMSE:', np.sqrt(metrics.mean_squared_error(y,y_pred_train_linReg)))\n",
        "\n",
        "x_test = testData[feature_cols]\n",
        "y_pred_test_linReg = model_best.predict(x_test)\n",
        "print(y_pred_test_linReg)\n",
        "'''"
      ],
      "execution_count": 78,
      "outputs": [
        {
          "output_type": "execute_result",
          "data": {
            "application/vnd.google.colaboratory.intrinsic+json": {
              "type": "string"
            },
            "text/plain": [
              "'\\n# Creating the hyperparameter grid  \\nparam_grid = {\"fit_intercept\": [True, False]} \\n  \\n# Instantiating model \\nmodel = LinearRegression()\\n  \\n# Instantiating RandomizedSearchCV object \\nrand_search = RandomizedSearchCV(model, param_grid, cv = 5) \\n  \\nrand_search.fit(x, y)\\nprint(rand_search.best_estimator_.fit_intercept)\\nmodel_best = LinearRegression(fit_intercept = rand_search.best_estimator_.fit_intercept)\\nmodel_best.fit(x, y)\\n\\ny_pred_train_linReg = model_best.predict(x)\\nprint(\\'RMSE:\\', np.sqrt(metrics.mean_squared_error(y,y_pred_train_linReg)))\\n\\nx_test = testData[feature_cols]\\ny_pred_test_linReg = model_best.predict(x_test)\\nprint(y_pred_test_linReg)\\n'"
            ]
          },
          "metadata": {
            "tags": []
          },
          "execution_count": 78
        }
      ]
    },
    {
      "cell_type": "markdown",
      "metadata": {
        "id": "XgQTokZfoEfZ"
      },
      "source": [
        "#Logistic Regression"
      ]
    },
    {
      "cell_type": "code",
      "metadata": {
        "colab": {
          "base_uri": "https://localhost:8080/",
          "height": 136
        },
        "id": "xIb8Fo8boJV6",
        "outputId": "ffd16d00-730a-41bd-bbbc-4236a21dd466"
      },
      "source": [
        "'''\n",
        "from sklearn.linear_model import LogisticRegression\n",
        "\n",
        "# Creating the hyperparameter grid  \n",
        "param_grid = {'penalty' : ['l1', 'l2'],\n",
        "    'C' : np.logspace(-4, 4, 20),\n",
        "    'solver' : ['liblinear']} \n",
        "  \n",
        "# Instantiating model \n",
        "model = LogisticRegression()\n",
        "  \n",
        "# Instantiating RandomizedSearchCV object \n",
        "rand_search = RandomizedSearchCV(model, param_grid, cv = 5) \n",
        "  \n",
        "rand_search.fit(x, y)\n",
        "print(rand_search.best_estimator_)\n",
        "model_best = LogisticRegression(penalty = rand_search.best_estimator_.penalty,\n",
        "                                  C = rand_search.best_estimator_.C,\n",
        "                                solver = rand_search.best_estimator_.solver)\n",
        "model_best.fit(x, y)\n",
        "\n",
        "y_pred_train_logReg = model_best.predict(x)\n",
        "print('RMSE:', np.sqrt(metrics.mean_squared_error(y,y_pred_train_logReg)))\n",
        "\n",
        "y_pred_test_logReg = model_best.predict(x_test)\n",
        "print(y_pred_test_logReg)\n",
        "'''"
      ],
      "execution_count": 79,
      "outputs": [
        {
          "output_type": "execute_result",
          "data": {
            "application/vnd.google.colaboratory.intrinsic+json": {
              "type": "string"
            },
            "text/plain": [
              "\"\\nfrom sklearn.linear_model import LogisticRegression\\n\\n# Creating the hyperparameter grid  \\nparam_grid = {'penalty' : ['l1', 'l2'],\\n    'C' : np.logspace(-4, 4, 20),\\n    'solver' : ['liblinear']} \\n  \\n# Instantiating model \\nmodel = LogisticRegression()\\n  \\n# Instantiating RandomizedSearchCV object \\nrand_search = RandomizedSearchCV(model, param_grid, cv = 5) \\n  \\nrand_search.fit(x, y)\\nprint(rand_search.best_estimator_)\\nmodel_best = LogisticRegression(penalty = rand_search.best_estimator_.penalty,\\n                                  C = rand_search.best_estimator_.C,\\n                                solver = rand_search.best_estimator_.solver)\\nmodel_best.fit(x, y)\\n\\ny_pred_train_logReg = model_best.predict(x)\\nprint('RMSE:', np.sqrt(metrics.mean_squared_error(y,y_pred_train_logReg)))\\n\\ny_pred_test_logReg = model_best.predict(x_test)\\nprint(y_pred_test_logReg)\\n\""
            ]
          },
          "metadata": {
            "tags": []
          },
          "execution_count": 79
        }
      ]
    },
    {
      "cell_type": "markdown",
      "metadata": {
        "id": "4BzdkRdd5DbI"
      },
      "source": [
        "#All Models"
      ]
    },
    {
      "cell_type": "code",
      "metadata": {
        "id": "R9GGA56BtJ_N"
      },
      "source": [
        "from sklearn import linear_model\n",
        "from sklearn import svm\n",
        "\n",
        "classifiers = [\n",
        "    svm.SVR(),\n",
        "    linear_model.SGDRegressor(),\n",
        "    linear_model.BayesianRidge(),\n",
        "    linear_model.LassoLars(),\n",
        "    linear_model.ARDRegression(),\n",
        "    linear_model.PassiveAggressiveRegressor(),\n",
        "    linear_model.TheilSenRegressor(),\n",
        "    linear_model.LinearRegression()]\n",
        "\n",
        "x_test = testData[feature_cols]\n",
        "y_train_Pred = []\n",
        "y_test_Pred = []\n",
        "\n",
        "for item in classifiers:\n",
        "    clf = item\n",
        "    clf.fit(x, y)\n",
        "    pred_train_data = clf.predict(x)\n",
        "    y_train_Pred.append(pred_train_data)\n",
        "    print('RMSE ',item,' :', np.sqrt(metrics.mean_squared_error(y,pred_train_data)))\n",
        "    y_test_Pred.append(clf.predict(x_test))\n",
        "\n",
        "print(y_test_Pred)\n",
        "y_test_final = (y_test_Pred[0] + y_test_Pred[1])/2\n",
        "print(y_test_final)"
      ],
      "execution_count": null,
      "outputs": []
    },
    {
      "cell_type": "code",
      "metadata": {
        "id": "pG9_mjgUL5dH"
      },
      "source": [
        "prediction = pd.DataFrame(y_test_final, columns=['UnitPrice']).to_csv('UnitPricesPrediction.csv')\n"
      ],
      "execution_count": null,
      "outputs": []
    },
    {
      "cell_type": "code",
      "metadata": {
        "id": "XbfHOBsCM5NM"
      },
      "source": [
        "'''\n",
        "import numpy as np\n",
        "from sklearn import linear_model\n",
        "from sklearn import svm\n",
        "\n",
        "classifiers = [\n",
        "    svm.SVR(),\n",
        "    linear_model.SGDRegressor(),\n",
        "    linear_model.BayesianRidge(),\n",
        "    linear_model.LassoLars(),\n",
        "    linear_model.ARDRegression(),\n",
        "    linear_model.PassiveAggressiveRegressor(),\n",
        "    linear_model.TheilSenRegressor(),\n",
        "    linear_model.LinearRegression()]\n",
        "\n",
        "x_test = testData[feature_cols]\n",
        "\n",
        "for item in classifiers:\n",
        "    clf = item\n",
        "    clf.fit(x, y)\n",
        "    pred_data = clf.predict(x)\n",
        "    print('RMSE ',item,' :', np.sqrt(metrics.mean_squared_error(y,pred_data)))\n",
        "'''\n"
      ],
      "execution_count": null,
      "outputs": []
    },
    {
      "cell_type": "markdown",
      "metadata": {
        "id": "rIGwEF4_G8bL"
      },
      "source": [
        "Feature selection;\n",
        "\n",
        "Normalizing Features;\n",
        "\n",
        "Select Loss function and Hypothesis;\n",
        "\n",
        "Set Hypothesis Parameters;\n",
        "\n",
        "Minimize the Loss Function;\n",
        "\n",
        "Test the hypothesis function"
      ]
    },
    {
      "cell_type": "markdown",
      "metadata": {
        "id": "ObP0gWDuhJNU"
      },
      "source": [
        "Linear Regression\n",
        "Logistic Regression\n",
        "Polynomial Regression\n",
        "Stepwise Regression\n",
        "Ridge Regression\n",
        "Lasso Regression\n",
        "ElasticNet Regression\n",
        "\n",
        "https://www.listendata.com/2018/03/regression-analysis.html\n",
        "\n",
        "https://www.listendata.com/2018/03/regression-analysis.html\n",
        "\n",
        "https://stackoverflow.com/questions/41925157/logisticregression-unknown-label-type-continuous-using-sklearn-in-python\n",
        "\n",
        "https://stackoverflow.com/questions/33091376/python-what-is-exactly-sklearn-pipeline-pipeline"
      ]
    }
  ]
}