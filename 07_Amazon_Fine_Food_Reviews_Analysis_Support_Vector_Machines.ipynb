{
 "cells": [
  {
   "cell_type": "markdown",
   "metadata": {
    "colab_type": "text",
    "id": "kQSC_BoklhTj"
   },
   "source": [
    "# Amazon Fine Food Reviews Analysis\n",
    "\n",
    "\n",
    "Data Source: https://www.kaggle.com/snap/amazon-fine-food-reviews <br>\n",
    "\n",
    "EDA: https://nycdatascience.com/blog/student-works/amazon-fine-foods-visualization/\n",
    "\n",
    "\n",
    "The Amazon Fine Food Reviews dataset consists of reviews of fine foods from Amazon.<br>\n",
    "\n",
    "Number of reviews: 568,454<br>\n",
    "Number of users: 256,059<br>\n",
    "Number of products: 74,258<br>\n",
    "Timespan: Oct 1999 - Oct 2012<br>\n",
    "Number of Attributes/Columns in data: 10 \n",
    "\n",
    "Attribute Information:\n",
    "\n",
    "1. Id\n",
    "2. ProductId - unique identifier for the product\n",
    "3. UserId - unqiue identifier for the user\n",
    "4. ProfileName\n",
    "5. HelpfulnessNumerator - number of users who found the review helpful\n",
    "6. HelpfulnessDenominator - number of users who indicated whether they found the review helpful or not\n",
    "7. Score - rating between 1 and 5\n",
    "8. Time - timestamp for the review\n",
    "9. Summary - brief summary of the review\n",
    "10. Text - text of the review\n",
    "\n",
    "\n",
    "#### Objective:\n",
    "Given a review, determine whether the review is positive (rating of 4 or 5) or negative (rating of 1 or 2).\n",
    "\n",
    "<br>\n",
    "[Q] How to determine if a review is positive or negative?<br>\n",
    "<br> \n",
    "[Ans] We could use Score/Rating. A rating of 4 or 5 can be cosnidered as a positive review. A rating of 1 or 2 can be considered as negative one. A review of rating 3 is considered nuetral and such reviews are ignored from our analysis. This is an approximate and proxy way of determining the polarity (positivity/negativity) of a review.\n",
    "\n",
    "\n"
   ]
  },
  {
   "cell_type": "markdown",
   "metadata": {
    "colab_type": "text",
    "id": "JRFQqHQTlhTl"
   },
   "source": [
    "# [1]. Reading Data"
   ]
  },
  {
   "cell_type": "markdown",
   "metadata": {
    "colab_type": "text",
    "id": "Q4lXZupFlhTm"
   },
   "source": [
    "## [1.1] Loading the data\n",
    "\n",
    "The dataset is available in two forms\n",
    "1. .csv file\n",
    "2. SQLite Database\n",
    "\n",
    "In order to load the data, We have used the SQLITE dataset as it is easier to query the data and visualise the data efficiently.\n",
    "<br> \n",
    "\n",
    "Here as we only want to get the global sentiment of the recommendations (positive or negative), we will purposefully ignore all Scores equal to 3. If the score is above 3, then the recommendation wil be set to \"positive\". Otherwise, it will be set to \"negative\"."
   ]
  },
  {
   "cell_type": "code",
   "execution_count": 1,
   "metadata": {
    "colab": {},
    "colab_type": "code",
    "id": "L9smwg6DlhTn"
   },
   "outputs": [],
   "source": [
    "%matplotlib inline\n",
    "import warnings\n",
    "warnings.filterwarnings(\"ignore\")\n",
    "\n",
    "\n",
    "import sqlite3\n",
    "import pandas as pd\n",
    "import numpy as np\n",
    "import nltk\n",
    "import string\n",
    "import matplotlib.pyplot as plt\n",
    "import seaborn as sns\n",
    "from sklearn.feature_extraction.text import TfidfTransformer\n",
    "from sklearn.feature_extraction.text import TfidfVectorizer\n",
    "\n",
    "from sklearn.feature_extraction.text import CountVectorizer\n",
    "from sklearn.metrics import confusion_matrix\n",
    "from sklearn import metrics\n",
    "from sklearn.metrics import roc_curve, auc\n",
    "from nltk.stem.porter import PorterStemmer\n",
    "\n",
    "import re\n",
    "# Tutorial about Python regular expressions: https://pymotw.com/2/re/\n",
    "import string\n",
    "from nltk.corpus import stopwords\n",
    "from nltk.stem import PorterStemmer\n",
    "from nltk.stem.wordnet import WordNetLemmatizer\n",
    "\n",
    "from gensim.models import Word2Vec\n",
    "from gensim.models import KeyedVectors\n",
    "import pickle\n",
    "\n",
    "from tqdm import tqdm\n",
    "import os"
   ]
  },
  {
   "cell_type": "code",
   "execution_count": 2,
   "metadata": {
    "colab": {
     "base_uri": "https://localhost:8080/",
     "height": 35
    },
    "colab_type": "code",
    "id": "6HDxH8fbQyWI",
    "outputId": "f7d19559-2902-4bff-cae7-59c42a720533"
   },
   "outputs": [],
   "source": [
    "#Check whether GPU is being used - https://medium.com/deep-learning-turkey/google-colab-free-gpu-tutorial-e113627b9f5d\n",
    "#import tensorflow as tf\n",
    "#tf.test.gpu_device_name()"
   ]
  },
  {
   "cell_type": "code",
   "execution_count": 3,
   "metadata": {
    "colab": {
     "base_uri": "https://localhost:8080/",
     "height": 121
    },
    "colab_type": "code",
    "id": "12ydVAPQQ2Fn",
    "outputId": "da616b53-da7c-4c71-e694-ba49e70a492b"
   },
   "outputs": [],
   "source": [
    "#from google.colab import drive\n",
    "#drive.mount('/content/drive')"
   ]
  },
  {
   "cell_type": "code",
   "execution_count": 4,
   "metadata": {
    "colab": {
     "base_uri": "https://localhost:8080/",
     "height": 388
    },
    "colab_type": "code",
    "id": "iOm6mKb5lhTs",
    "outputId": "ff4e2f60-ea7d-4669-d28c-d6d143036fef"
   },
   "outputs": [
    {
     "name": "stdout",
     "output_type": "stream",
     "text": [
      "Number of data points in our data (50000, 10)\n"
     ]
    },
    {
     "data": {
      "text/html": [
       "<div>\n",
       "<style scoped>\n",
       "    .dataframe tbody tr th:only-of-type {\n",
       "        vertical-align: middle;\n",
       "    }\n",
       "\n",
       "    .dataframe tbody tr th {\n",
       "        vertical-align: top;\n",
       "    }\n",
       "\n",
       "    .dataframe thead th {\n",
       "        text-align: right;\n",
       "    }\n",
       "</style>\n",
       "<table border=\"1\" class=\"dataframe\">\n",
       "  <thead>\n",
       "    <tr style=\"text-align: right;\">\n",
       "      <th></th>\n",
       "      <th>Id</th>\n",
       "      <th>ProductId</th>\n",
       "      <th>UserId</th>\n",
       "      <th>ProfileName</th>\n",
       "      <th>HelpfulnessNumerator</th>\n",
       "      <th>HelpfulnessDenominator</th>\n",
       "      <th>Score</th>\n",
       "      <th>Time</th>\n",
       "      <th>Summary</th>\n",
       "      <th>Text</th>\n",
       "    </tr>\n",
       "  </thead>\n",
       "  <tbody>\n",
       "    <tr>\n",
       "      <th>0</th>\n",
       "      <td>1</td>\n",
       "      <td>B001E4KFG0</td>\n",
       "      <td>A3SGXH7AUHU8GW</td>\n",
       "      <td>delmartian</td>\n",
       "      <td>1</td>\n",
       "      <td>1</td>\n",
       "      <td>1</td>\n",
       "      <td>1303862400</td>\n",
       "      <td>Good Quality Dog Food</td>\n",
       "      <td>I have bought several of the Vitality canned d...</td>\n",
       "    </tr>\n",
       "    <tr>\n",
       "      <th>1</th>\n",
       "      <td>2</td>\n",
       "      <td>B00813GRG4</td>\n",
       "      <td>A1D87F6ZCVE5NK</td>\n",
       "      <td>dll pa</td>\n",
       "      <td>0</td>\n",
       "      <td>0</td>\n",
       "      <td>0</td>\n",
       "      <td>1346976000</td>\n",
       "      <td>Not as Advertised</td>\n",
       "      <td>Product arrived labeled as Jumbo Salted Peanut...</td>\n",
       "    </tr>\n",
       "    <tr>\n",
       "      <th>2</th>\n",
       "      <td>3</td>\n",
       "      <td>B000LQOCH0</td>\n",
       "      <td>ABXLMWJIXXAIN</td>\n",
       "      <td>Natalia Corres \"Natalia Corres\"</td>\n",
       "      <td>1</td>\n",
       "      <td>1</td>\n",
       "      <td>1</td>\n",
       "      <td>1219017600</td>\n",
       "      <td>\"Delight\" says it all</td>\n",
       "      <td>This is a confection that has been around a fe...</td>\n",
       "    </tr>\n",
       "  </tbody>\n",
       "</table>\n",
       "</div>"
      ],
      "text/plain": [
       "   Id   ProductId          UserId                      ProfileName  \\\n",
       "0   1  B001E4KFG0  A3SGXH7AUHU8GW                       delmartian   \n",
       "1   2  B00813GRG4  A1D87F6ZCVE5NK                           dll pa   \n",
       "2   3  B000LQOCH0   ABXLMWJIXXAIN  Natalia Corres \"Natalia Corres\"   \n",
       "\n",
       "   HelpfulnessNumerator  HelpfulnessDenominator  Score        Time  \\\n",
       "0                     1                       1      1  1303862400   \n",
       "1                     0                       0      0  1346976000   \n",
       "2                     1                       1      1  1219017600   \n",
       "\n",
       "                 Summary                                               Text  \n",
       "0  Good Quality Dog Food  I have bought several of the Vitality canned d...  \n",
       "1      Not as Advertised  Product arrived labeled as Jumbo Salted Peanut...  \n",
       "2  \"Delight\" says it all  This is a confection that has been around a fe...  "
      ]
     },
     "execution_count": 4,
     "metadata": {},
     "output_type": "execute_result"
    }
   ],
   "source": [
    "# using SQLite Table to read data.\n",
    "con = sqlite3.connect('./16 - Amazon Food Review/database.sqlite') \n",
    "\n",
    "# filtering only positive and negative reviews i.e. \n",
    "# not taking into consideration those reviews with Score=3\n",
    "# SELECT * FROM Reviews WHERE Score != 3 LIMIT 500000, will give top 500000 data points\n",
    "# you can change the number to any other number based on your computing power\n",
    "\n",
    "# filtered_data = pd.read_sql_query(\"\"\" SELECT * FROM Reviews WHERE Score != 3 LIMIT 500000\"\"\", con) \n",
    "# for tsne assignment you can take 5k data points\n",
    "\n",
    "filtered_data = pd.read_sql_query(\"\"\" SELECT * FROM Reviews WHERE Score != 3 LIMIT 50000\"\"\", con) \n",
    "\n",
    "# Give reviews with Score>3 a positive rating(1), and reviews with a score<3 a negative rating(0).\n",
    "def partition(x):\n",
    "    if x < 3:\n",
    "        return 0\n",
    "    return 1\n",
    "\n",
    "#changing reviews with score less than 3 to be positive and vice-versa\n",
    "actualScore = filtered_data['Score']\n",
    "positiveNegative = actualScore.map(partition) \n",
    "filtered_data['Score'] = positiveNegative\n",
    "print(\"Number of data points in our data\", filtered_data.shape)\n",
    "filtered_data.head(3)"
   ]
  },
  {
   "cell_type": "code",
   "execution_count": 5,
   "metadata": {
    "colab": {},
    "colab_type": "code",
    "id": "O9HNPq__lhTy"
   },
   "outputs": [],
   "source": [
    "display = pd.read_sql_query(\"\"\"\n",
    "SELECT UserId, ProductId, ProfileName, Time, Score, Text, COUNT(*)\n",
    "FROM Reviews\n",
    "GROUP BY UserId\n",
    "HAVING COUNT(*)>1\n",
    "\"\"\", con)"
   ]
  },
  {
   "cell_type": "code",
   "execution_count": 6,
   "metadata": {
    "colab": {
     "base_uri": "https://localhost:8080/",
     "height": 212
    },
    "colab_type": "code",
    "id": "P9aTJmeFlhT3",
    "outputId": "1cee6202-2b33-4ab3-d38c-e86ef7f8c3e5",
    "scrolled": true
   },
   "outputs": [
    {
     "name": "stdout",
     "output_type": "stream",
     "text": [
      "(80668, 7)\n"
     ]
    },
    {
     "data": {
      "text/html": [
       "<div>\n",
       "<style scoped>\n",
       "    .dataframe tbody tr th:only-of-type {\n",
       "        vertical-align: middle;\n",
       "    }\n",
       "\n",
       "    .dataframe tbody tr th {\n",
       "        vertical-align: top;\n",
       "    }\n",
       "\n",
       "    .dataframe thead th {\n",
       "        text-align: right;\n",
       "    }\n",
       "</style>\n",
       "<table border=\"1\" class=\"dataframe\">\n",
       "  <thead>\n",
       "    <tr style=\"text-align: right;\">\n",
       "      <th></th>\n",
       "      <th>UserId</th>\n",
       "      <th>ProductId</th>\n",
       "      <th>ProfileName</th>\n",
       "      <th>Time</th>\n",
       "      <th>Score</th>\n",
       "      <th>Text</th>\n",
       "      <th>COUNT(*)</th>\n",
       "    </tr>\n",
       "  </thead>\n",
       "  <tbody>\n",
       "    <tr>\n",
       "      <th>0</th>\n",
       "      <td>#oc-R115TNMSPFT9I7</td>\n",
       "      <td>B007Y59HVM</td>\n",
       "      <td>Breyton</td>\n",
       "      <td>1331510400</td>\n",
       "      <td>2</td>\n",
       "      <td>Overall its just OK when considering the price...</td>\n",
       "      <td>2</td>\n",
       "    </tr>\n",
       "    <tr>\n",
       "      <th>1</th>\n",
       "      <td>#oc-R11D9D7SHXIJB9</td>\n",
       "      <td>B005HG9ET0</td>\n",
       "      <td>Louis E. Emory \"hoppy\"</td>\n",
       "      <td>1342396800</td>\n",
       "      <td>5</td>\n",
       "      <td>My wife has recurring extreme muscle spasms, u...</td>\n",
       "      <td>3</td>\n",
       "    </tr>\n",
       "    <tr>\n",
       "      <th>2</th>\n",
       "      <td>#oc-R11DNU2NBKQ23Z</td>\n",
       "      <td>B007Y59HVM</td>\n",
       "      <td>Kim Cieszykowski</td>\n",
       "      <td>1348531200</td>\n",
       "      <td>1</td>\n",
       "      <td>This coffee is horrible and unfortunately not ...</td>\n",
       "      <td>2</td>\n",
       "    </tr>\n",
       "    <tr>\n",
       "      <th>3</th>\n",
       "      <td>#oc-R11O5J5ZVQE25C</td>\n",
       "      <td>B005HG9ET0</td>\n",
       "      <td>Penguin Chick</td>\n",
       "      <td>1346889600</td>\n",
       "      <td>5</td>\n",
       "      <td>This will be the bottle that you grab from the...</td>\n",
       "      <td>3</td>\n",
       "    </tr>\n",
       "    <tr>\n",
       "      <th>4</th>\n",
       "      <td>#oc-R12KPBODL2B5ZD</td>\n",
       "      <td>B007OSBE1U</td>\n",
       "      <td>Christopher P. Presta</td>\n",
       "      <td>1348617600</td>\n",
       "      <td>1</td>\n",
       "      <td>I didnt like this coffee. Instead of telling y...</td>\n",
       "      <td>2</td>\n",
       "    </tr>\n",
       "  </tbody>\n",
       "</table>\n",
       "</div>"
      ],
      "text/plain": [
       "               UserId   ProductId             ProfileName        Time  Score  \\\n",
       "0  #oc-R115TNMSPFT9I7  B007Y59HVM                 Breyton  1331510400      2   \n",
       "1  #oc-R11D9D7SHXIJB9  B005HG9ET0  Louis E. Emory \"hoppy\"  1342396800      5   \n",
       "2  #oc-R11DNU2NBKQ23Z  B007Y59HVM        Kim Cieszykowski  1348531200      1   \n",
       "3  #oc-R11O5J5ZVQE25C  B005HG9ET0           Penguin Chick  1346889600      5   \n",
       "4  #oc-R12KPBODL2B5ZD  B007OSBE1U   Christopher P. Presta  1348617600      1   \n",
       "\n",
       "                                                Text  COUNT(*)  \n",
       "0  Overall its just OK when considering the price...         2  \n",
       "1  My wife has recurring extreme muscle spasms, u...         3  \n",
       "2  This coffee is horrible and unfortunately not ...         2  \n",
       "3  This will be the bottle that you grab from the...         3  \n",
       "4  I didnt like this coffee. Instead of telling y...         2  "
      ]
     },
     "execution_count": 6,
     "metadata": {},
     "output_type": "execute_result"
    }
   ],
   "source": [
    "print(display.shape)\n",
    "display.head()"
   ]
  },
  {
   "cell_type": "code",
   "execution_count": 7,
   "metadata": {
    "colab": {
     "base_uri": "https://localhost:8080/",
     "height": 77
    },
    "colab_type": "code",
    "id": "J6jNF75vlhT9",
    "outputId": "6e633b0c-d6ba-44b8-d389-81ca7179a6fe"
   },
   "outputs": [
    {
     "data": {
      "text/html": [
       "<div>\n",
       "<style scoped>\n",
       "    .dataframe tbody tr th:only-of-type {\n",
       "        vertical-align: middle;\n",
       "    }\n",
       "\n",
       "    .dataframe tbody tr th {\n",
       "        vertical-align: top;\n",
       "    }\n",
       "\n",
       "    .dataframe thead th {\n",
       "        text-align: right;\n",
       "    }\n",
       "</style>\n",
       "<table border=\"1\" class=\"dataframe\">\n",
       "  <thead>\n",
       "    <tr style=\"text-align: right;\">\n",
       "      <th></th>\n",
       "      <th>UserId</th>\n",
       "      <th>ProductId</th>\n",
       "      <th>ProfileName</th>\n",
       "      <th>Time</th>\n",
       "      <th>Score</th>\n",
       "      <th>Text</th>\n",
       "      <th>COUNT(*)</th>\n",
       "    </tr>\n",
       "  </thead>\n",
       "  <tbody>\n",
       "    <tr>\n",
       "      <th>80638</th>\n",
       "      <td>AZY10LLTJ71NX</td>\n",
       "      <td>B006P7E5ZI</td>\n",
       "      <td>undertheshrine \"undertheshrine\"</td>\n",
       "      <td>1334707200</td>\n",
       "      <td>5</td>\n",
       "      <td>I was recommended to try green tea extract to ...</td>\n",
       "      <td>5</td>\n",
       "    </tr>\n",
       "  </tbody>\n",
       "</table>\n",
       "</div>"
      ],
      "text/plain": [
       "              UserId   ProductId                      ProfileName        Time  \\\n",
       "80638  AZY10LLTJ71NX  B006P7E5ZI  undertheshrine \"undertheshrine\"  1334707200   \n",
       "\n",
       "       Score                                               Text  COUNT(*)  \n",
       "80638      5  I was recommended to try green tea extract to ...         5  "
      ]
     },
     "execution_count": 7,
     "metadata": {},
     "output_type": "execute_result"
    }
   ],
   "source": [
    "display[display['UserId']=='AZY10LLTJ71NX']"
   ]
  },
  {
   "cell_type": "code",
   "execution_count": 8,
   "metadata": {
    "colab": {
     "base_uri": "https://localhost:8080/",
     "height": 34
    },
    "colab_type": "code",
    "id": "pOYRky5qlhUA",
    "outputId": "50cdf3c2-0c51-4238-a5cc-c8521573d85b"
   },
   "outputs": [
    {
     "data": {
      "text/plain": [
       "393063"
      ]
     },
     "execution_count": 8,
     "metadata": {},
     "output_type": "execute_result"
    }
   ],
   "source": [
    "display['COUNT(*)'].sum()"
   ]
  },
  {
   "cell_type": "markdown",
   "metadata": {
    "colab_type": "text",
    "id": "bSO3VcsalhUD"
   },
   "source": [
    "#  [2] Exploratory Data Analysis"
   ]
  },
  {
   "cell_type": "markdown",
   "metadata": {
    "colab_type": "text",
    "id": "aZsvq1fGlhUE"
   },
   "source": [
    "## [2.1] Data Cleaning: Deduplication\n",
    "\n",
    "It is observed (as shown in the table below) that the reviews data had many duplicate entries. Hence it was necessary to remove duplicates in order to get unbiased results for the analysis of the data.  Following is an example:"
   ]
  },
  {
   "cell_type": "code",
   "execution_count": 9,
   "metadata": {
    "colab": {
     "base_uri": "https://localhost:8080/",
     "height": 531
    },
    "colab_type": "code",
    "id": "60ksIw8ClhUF",
    "outputId": "6ca6a970-e481-4a8c-8370-c62400c1cd2d",
    "scrolled": false
   },
   "outputs": [
    {
     "data": {
      "text/html": [
       "<div>\n",
       "<style scoped>\n",
       "    .dataframe tbody tr th:only-of-type {\n",
       "        vertical-align: middle;\n",
       "    }\n",
       "\n",
       "    .dataframe tbody tr th {\n",
       "        vertical-align: top;\n",
       "    }\n",
       "\n",
       "    .dataframe thead th {\n",
       "        text-align: right;\n",
       "    }\n",
       "</style>\n",
       "<table border=\"1\" class=\"dataframe\">\n",
       "  <thead>\n",
       "    <tr style=\"text-align: right;\">\n",
       "      <th></th>\n",
       "      <th>Id</th>\n",
       "      <th>ProductId</th>\n",
       "      <th>UserId</th>\n",
       "      <th>ProfileName</th>\n",
       "      <th>HelpfulnessNumerator</th>\n",
       "      <th>HelpfulnessDenominator</th>\n",
       "      <th>Score</th>\n",
       "      <th>Time</th>\n",
       "      <th>Summary</th>\n",
       "      <th>Text</th>\n",
       "    </tr>\n",
       "  </thead>\n",
       "  <tbody>\n",
       "    <tr>\n",
       "      <th>0</th>\n",
       "      <td>78445</td>\n",
       "      <td>B000HDL1RQ</td>\n",
       "      <td>AR5J8UI46CURR</td>\n",
       "      <td>Geetha Krishnan</td>\n",
       "      <td>2</td>\n",
       "      <td>2</td>\n",
       "      <td>5</td>\n",
       "      <td>1199577600</td>\n",
       "      <td>LOACKER QUADRATINI VANILLA WAFERS</td>\n",
       "      <td>DELICIOUS WAFERS. I FIND THAT EUROPEAN WAFERS ...</td>\n",
       "    </tr>\n",
       "    <tr>\n",
       "      <th>1</th>\n",
       "      <td>138317</td>\n",
       "      <td>B000HDOPYC</td>\n",
       "      <td>AR5J8UI46CURR</td>\n",
       "      <td>Geetha Krishnan</td>\n",
       "      <td>2</td>\n",
       "      <td>2</td>\n",
       "      <td>5</td>\n",
       "      <td>1199577600</td>\n",
       "      <td>LOACKER QUADRATINI VANILLA WAFERS</td>\n",
       "      <td>DELICIOUS WAFERS. I FIND THAT EUROPEAN WAFERS ...</td>\n",
       "    </tr>\n",
       "    <tr>\n",
       "      <th>2</th>\n",
       "      <td>138277</td>\n",
       "      <td>B000HDOPYM</td>\n",
       "      <td>AR5J8UI46CURR</td>\n",
       "      <td>Geetha Krishnan</td>\n",
       "      <td>2</td>\n",
       "      <td>2</td>\n",
       "      <td>5</td>\n",
       "      <td>1199577600</td>\n",
       "      <td>LOACKER QUADRATINI VANILLA WAFERS</td>\n",
       "      <td>DELICIOUS WAFERS. I FIND THAT EUROPEAN WAFERS ...</td>\n",
       "    </tr>\n",
       "    <tr>\n",
       "      <th>3</th>\n",
       "      <td>73791</td>\n",
       "      <td>B000HDOPZG</td>\n",
       "      <td>AR5J8UI46CURR</td>\n",
       "      <td>Geetha Krishnan</td>\n",
       "      <td>2</td>\n",
       "      <td>2</td>\n",
       "      <td>5</td>\n",
       "      <td>1199577600</td>\n",
       "      <td>LOACKER QUADRATINI VANILLA WAFERS</td>\n",
       "      <td>DELICIOUS WAFERS. I FIND THAT EUROPEAN WAFERS ...</td>\n",
       "    </tr>\n",
       "    <tr>\n",
       "      <th>4</th>\n",
       "      <td>155049</td>\n",
       "      <td>B000PAQ75C</td>\n",
       "      <td>AR5J8UI46CURR</td>\n",
       "      <td>Geetha Krishnan</td>\n",
       "      <td>2</td>\n",
       "      <td>2</td>\n",
       "      <td>5</td>\n",
       "      <td>1199577600</td>\n",
       "      <td>LOACKER QUADRATINI VANILLA WAFERS</td>\n",
       "      <td>DELICIOUS WAFERS. I FIND THAT EUROPEAN WAFERS ...</td>\n",
       "    </tr>\n",
       "  </tbody>\n",
       "</table>\n",
       "</div>"
      ],
      "text/plain": [
       "       Id   ProductId         UserId      ProfileName  HelpfulnessNumerator  \\\n",
       "0   78445  B000HDL1RQ  AR5J8UI46CURR  Geetha Krishnan                     2   \n",
       "1  138317  B000HDOPYC  AR5J8UI46CURR  Geetha Krishnan                     2   \n",
       "2  138277  B000HDOPYM  AR5J8UI46CURR  Geetha Krishnan                     2   \n",
       "3   73791  B000HDOPZG  AR5J8UI46CURR  Geetha Krishnan                     2   \n",
       "4  155049  B000PAQ75C  AR5J8UI46CURR  Geetha Krishnan                     2   \n",
       "\n",
       "   HelpfulnessDenominator  Score        Time  \\\n",
       "0                       2      5  1199577600   \n",
       "1                       2      5  1199577600   \n",
       "2                       2      5  1199577600   \n",
       "3                       2      5  1199577600   \n",
       "4                       2      5  1199577600   \n",
       "\n",
       "                             Summary  \\\n",
       "0  LOACKER QUADRATINI VANILLA WAFERS   \n",
       "1  LOACKER QUADRATINI VANILLA WAFERS   \n",
       "2  LOACKER QUADRATINI VANILLA WAFERS   \n",
       "3  LOACKER QUADRATINI VANILLA WAFERS   \n",
       "4  LOACKER QUADRATINI VANILLA WAFERS   \n",
       "\n",
       "                                                Text  \n",
       "0  DELICIOUS WAFERS. I FIND THAT EUROPEAN WAFERS ...  \n",
       "1  DELICIOUS WAFERS. I FIND THAT EUROPEAN WAFERS ...  \n",
       "2  DELICIOUS WAFERS. I FIND THAT EUROPEAN WAFERS ...  \n",
       "3  DELICIOUS WAFERS. I FIND THAT EUROPEAN WAFERS ...  \n",
       "4  DELICIOUS WAFERS. I FIND THAT EUROPEAN WAFERS ...  "
      ]
     },
     "execution_count": 9,
     "metadata": {},
     "output_type": "execute_result"
    }
   ],
   "source": [
    "display= pd.read_sql_query(\"\"\"\n",
    "SELECT *\n",
    "FROM Reviews\n",
    "WHERE Score != 3 AND UserId=\"AR5J8UI46CURR\"\n",
    "ORDER BY ProductID\n",
    "\"\"\", con)\n",
    "display.head()"
   ]
  },
  {
   "cell_type": "markdown",
   "metadata": {
    "colab_type": "text",
    "id": "b0xqYVSelhUI"
   },
   "source": [
    "As it can be seen above that same user has multiple reviews with same values for HelpfulnessNumerator, HelpfulnessDenominator, Score, Time, Summary and Text and on doing analysis it was found that <br>\n",
    "<br> \n",
    "ProductId=B000HDOPZG was Loacker Quadratini Vanilla Wafer Cookies, 8.82-Ounce Packages (Pack of 8)<br>\n",
    "<br> \n",
    "ProductId=B000HDL1RQ was Loacker Quadratini Lemon Wafer Cookies, 8.82-Ounce Packages (Pack of 8) and so on<br>\n",
    "\n",
    "It was inferred after analysis that reviews with same parameters other than ProductId belonged to the same product just having different flavour or quantity. Hence in order to reduce redundancy it was decided to eliminate the rows having same parameters.<br>\n",
    "\n",
    "The method used for the same was that we first sort the data according to ProductId and then just keep the first similar product review and delelte the others. for eg. in the above just the review for ProductId=B000HDL1RQ remains. This method ensures that there is only one representative for each product and deduplication without sorting would lead to possibility of different representatives still existing for the same product."
   ]
  },
  {
   "cell_type": "code",
   "execution_count": 10,
   "metadata": {
    "colab": {},
    "colab_type": "code",
    "id": "dzJXnp8jlhUJ"
   },
   "outputs": [],
   "source": [
    "#Sorting data according to ProductId in ascending order\n",
    "sorted_data=filtered_data.sort_values('ProductId', axis=0, ascending=True, inplace=False, kind='quicksort', na_position='last')"
   ]
  },
  {
   "cell_type": "code",
   "execution_count": 11,
   "metadata": {
    "colab": {
     "base_uri": "https://localhost:8080/",
     "height": 34
    },
    "colab_type": "code",
    "id": "qCTUGQnwlhUL",
    "outputId": "cbf9bfc6-d6ad-46db-d173-d2c63699a8fe"
   },
   "outputs": [
    {
     "data": {
      "text/plain": [
       "(46072, 10)"
      ]
     },
     "execution_count": 11,
     "metadata": {},
     "output_type": "execute_result"
    }
   ],
   "source": [
    "#Deduplication of entries\n",
    "final=sorted_data.drop_duplicates(subset={\"UserId\",\"ProfileName\",\"Time\",\"Text\"}, keep='first', inplace=False)\n",
    "final.shape"
   ]
  },
  {
   "cell_type": "code",
   "execution_count": 12,
   "metadata": {
    "colab": {
     "base_uri": "https://localhost:8080/",
     "height": 34
    },
    "colab_type": "code",
    "id": "vIjhsteGlhUO",
    "outputId": "2d7d24ab-894f-4827-f77a-7f3ce3c8ceaf"
   },
   "outputs": [
    {
     "data": {
      "text/plain": [
       "92.144"
      ]
     },
     "execution_count": 12,
     "metadata": {},
     "output_type": "execute_result"
    }
   ],
   "source": [
    "#Checking to see how much % of data still remains\n",
    "(final['Id'].size*1.0)/(filtered_data['Id'].size*1.0)*100"
   ]
  },
  {
   "cell_type": "markdown",
   "metadata": {
    "colab_type": "text",
    "id": "To3GTVZwlhUR"
   },
   "source": [
    "<b>Observation:-</b> It was also seen that in two rows given below the value of HelpfulnessNumerator is greater than HelpfulnessDenominator which is not practically possible hence these two rows too are removed from calcualtions"
   ]
  },
  {
   "cell_type": "code",
   "execution_count": 13,
   "metadata": {
    "colab": {
     "base_uri": "https://localhost:8080/",
     "height": 224
    },
    "colab_type": "code",
    "id": "qDhlD8YWlhUS",
    "outputId": "b83c552c-081b-4f33-fea5-e5cb07fc5de7"
   },
   "outputs": [
    {
     "data": {
      "text/html": [
       "<div>\n",
       "<style scoped>\n",
       "    .dataframe tbody tr th:only-of-type {\n",
       "        vertical-align: middle;\n",
       "    }\n",
       "\n",
       "    .dataframe tbody tr th {\n",
       "        vertical-align: top;\n",
       "    }\n",
       "\n",
       "    .dataframe thead th {\n",
       "        text-align: right;\n",
       "    }\n",
       "</style>\n",
       "<table border=\"1\" class=\"dataframe\">\n",
       "  <thead>\n",
       "    <tr style=\"text-align: right;\">\n",
       "      <th></th>\n",
       "      <th>Id</th>\n",
       "      <th>ProductId</th>\n",
       "      <th>UserId</th>\n",
       "      <th>ProfileName</th>\n",
       "      <th>HelpfulnessNumerator</th>\n",
       "      <th>HelpfulnessDenominator</th>\n",
       "      <th>Score</th>\n",
       "      <th>Time</th>\n",
       "      <th>Summary</th>\n",
       "      <th>Text</th>\n",
       "    </tr>\n",
       "  </thead>\n",
       "  <tbody>\n",
       "    <tr>\n",
       "      <th>0</th>\n",
       "      <td>64422</td>\n",
       "      <td>B000MIDROQ</td>\n",
       "      <td>A161DK06JJMCYF</td>\n",
       "      <td>J. E. Stephens \"Jeanne\"</td>\n",
       "      <td>3</td>\n",
       "      <td>1</td>\n",
       "      <td>5</td>\n",
       "      <td>1224892800</td>\n",
       "      <td>Bought This for My Son at College</td>\n",
       "      <td>My son loves spaghetti so I didn't hesitate or...</td>\n",
       "    </tr>\n",
       "    <tr>\n",
       "      <th>1</th>\n",
       "      <td>44737</td>\n",
       "      <td>B001EQ55RW</td>\n",
       "      <td>A2V0I904FH7ABY</td>\n",
       "      <td>Ram</td>\n",
       "      <td>3</td>\n",
       "      <td>2</td>\n",
       "      <td>4</td>\n",
       "      <td>1212883200</td>\n",
       "      <td>Pure cocoa taste with crunchy almonds inside</td>\n",
       "      <td>It was almost a 'love at first bite' - the per...</td>\n",
       "    </tr>\n",
       "  </tbody>\n",
       "</table>\n",
       "</div>"
      ],
      "text/plain": [
       "      Id   ProductId          UserId              ProfileName  \\\n",
       "0  64422  B000MIDROQ  A161DK06JJMCYF  J. E. Stephens \"Jeanne\"   \n",
       "1  44737  B001EQ55RW  A2V0I904FH7ABY                      Ram   \n",
       "\n",
       "   HelpfulnessNumerator  HelpfulnessDenominator  Score        Time  \\\n",
       "0                     3                       1      5  1224892800   \n",
       "1                     3                       2      4  1212883200   \n",
       "\n",
       "                                        Summary  \\\n",
       "0             Bought This for My Son at College   \n",
       "1  Pure cocoa taste with crunchy almonds inside   \n",
       "\n",
       "                                                Text  \n",
       "0  My son loves spaghetti so I didn't hesitate or...  \n",
       "1  It was almost a 'love at first bite' - the per...  "
      ]
     },
     "execution_count": 13,
     "metadata": {},
     "output_type": "execute_result"
    }
   ],
   "source": [
    "display= pd.read_sql_query(\"\"\"\n",
    "SELECT *\n",
    "FROM Reviews\n",
    "WHERE Score != 3 AND Id=44737 OR Id=64422\n",
    "ORDER BY ProductID\n",
    "\"\"\", con)\n",
    "\n",
    "display.head()"
   ]
  },
  {
   "cell_type": "code",
   "execution_count": 14,
   "metadata": {
    "colab": {},
    "colab_type": "code",
    "id": "Yn1HooJmlhUV"
   },
   "outputs": [],
   "source": [
    "final=final[final.HelpfulnessNumerator<=final.HelpfulnessDenominator]"
   ]
  },
  {
   "cell_type": "code",
   "execution_count": 15,
   "metadata": {
    "colab": {
     "base_uri": "https://localhost:8080/",
     "height": 84
    },
    "colab_type": "code",
    "id": "8UmAuuqdlhUX",
    "outputId": "10d4fca1-100f-4ed7-e79d-051034b69194"
   },
   "outputs": [
    {
     "name": "stdout",
     "output_type": "stream",
     "text": [
      "(46071, 10)\n"
     ]
    },
    {
     "data": {
      "text/plain": [
       "1    38479\n",
       "0     7592\n",
       "Name: Score, dtype: int64"
      ]
     },
     "execution_count": 15,
     "metadata": {},
     "output_type": "execute_result"
    }
   ],
   "source": [
    "#Before starting the next phase of preprocessing lets see the number of entries left\n",
    "print(final.shape)\n",
    "\n",
    "#How many positive and negative reviews are present in our dataset?\n",
    "final['Score'].value_counts()"
   ]
  },
  {
   "cell_type": "markdown",
   "metadata": {
    "colab_type": "text",
    "id": "8r2ah2BhlhUa"
   },
   "source": [
    "#  [3] Preprocessing"
   ]
  },
  {
   "cell_type": "markdown",
   "metadata": {
    "colab_type": "text",
    "id": "K8dx6DrylhUb"
   },
   "source": [
    "## [3.1].  Preprocessing Review Text\n",
    "\n",
    "Now that we have finished deduplication our data requires some preprocessing before we go on further with analysis and making the prediction model.\n",
    "\n",
    "Hence in the Preprocessing phase we do the following in the order below:-\n",
    "\n",
    "1. Begin by removing the html tags\n",
    "2. Remove any punctuations or limited set of special characters like , or . or # etc.\n",
    "3. Check if the word is made up of english letters and is not alpha-numeric\n",
    "4. Check to see if the length of the word is greater than 2 (as it was researched that there is no adjective in 2-letters)\n",
    "5. Convert the word to lowercase\n",
    "6. Remove Stopwords\n",
    "7. Finally Snowball Stemming the word (it was obsereved to be better than Porter Stemming)<br>\n",
    "\n",
    "After which we collect the words used to describe positive and negative reviews"
   ]
  },
  {
   "cell_type": "code",
   "execution_count": 16,
   "metadata": {
    "colab": {
     "base_uri": "https://localhost:8080/",
     "height": 171
    },
    "colab_type": "code",
    "id": "MiaTnGWrlhUb",
    "outputId": "57197ff5-dc32-4ddd-849d-3823bda1d0ee"
   },
   "outputs": [
    {
     "name": "stdout",
     "output_type": "stream",
     "text": [
      "My dogs loves this chicken but its a product from China, so we wont be buying it anymore.  Its very hard to find any chicken products made in the USA but they are out there, but this one isnt.  Its too bad too because its a good product but I wont take any chances till they know what is going on with the china imports.\n",
      "==================================================\n",
      "this is yummy, easy and unusual. it makes a quick, delicous pie, crisp or cobbler. home made is better, but a heck of a lot more work. this is great to have on hand for last minute dessert needs where you really want to impress wih your creativity in cooking! recommended.\n",
      "==================================================\n",
      "Great flavor, low in calories, high in nutrients, high in protein! Usually protein powders are high priced and high in calories, this one is a great bargain and tastes great, I highly recommend for the lady gym rats, probably not \"macho\" enough for guys since it is soy based...\n",
      "==================================================\n",
      "For those of you wanting a high-quality, yet affordable green tea, you should definitely give this one a try. Let me first start by saying that everyone is looking for something different for their ideal tea, and I will attempt to briefly highlight what makes this tea attractive to a wide range of tea drinkers (whether you are a beginner or long-time tea enthusiast).  I have gone through over 12 boxes of this tea myself, and highly recommend it for the following reasons:<br /><br />-Quality:  First, this tea offers a smooth quality without any harsh or bitter after tones, which often turns people off from many green teas.  I've found my ideal brewing time to be between 3-5 minutes, giving you a light but flavorful cup of tea.  However, if you get distracted or forget about your tea and leave it brewing for 20+ minutes like I sometimes do, the quality of this tea is such that you still get a smooth but deeper flavor without the bad after taste.  The leaves themselves are whole leaves (not powdered stems, branches, etc commonly found in other brands), and the high-quality nylon bags also include chunks of tropical fruit and other discernible ingredients.  This isn't your standard cheap paper bag with a mix of unknown ingredients that have been ground down to a fine powder, leaving you to wonder what it is you are actually drinking.<br /><br />-Taste:  This tea offers notes of real pineapple and other hints of tropical fruits, yet isn't sweet or artificially flavored.  You have the foundation of a high-quality young hyson green tea for those true \"tea flavor\" lovers, yet the subtle hints of fruit make this a truly unique tea that I believe most will enjoy.  If you want it sweet, you can add sugar, splenda, etc but this really is not necessary as this tea offers an inherent warmth of flavor through it's ingredients.<br /><br />-Price:  This tea offers an excellent product at an exceptional price (especially when purchased at the prices Amazon offers).  Compared to other brands which I believe to be of similar quality (Mighty Leaf, Rishi, Two Leaves, etc.), Revolution offers a superior product at an outstanding price.  I have been purchasing this through Amazon for less per box than I would be paying at my local grocery store for Lipton, etc.<br /><br />Overall, this is a wonderful tea that is comparable, and even better than, other teas that are priced much higher.  It offers a well-balanced cup of green tea that I believe many will enjoy.  In terms of taste, quality, and price, I would argue you won't find a better combination that that offered by Revolution's Tropical Green Tea.\n",
      "==================================================\n"
     ]
    }
   ],
   "source": [
    "# printing some random reviews\n",
    "sent_0 = final['Text'].values[0]\n",
    "print(sent_0)\n",
    "print(\"=\"*50)\n",
    "\n",
    "sent_1000 = final['Text'].values[1000]\n",
    "print(sent_1000)\n",
    "print(\"=\"*50)\n",
    "\n",
    "sent_1500 = final['Text'].values[1500]\n",
    "print(sent_1500)\n",
    "print(\"=\"*50)\n",
    "\n",
    "sent_4900 = final['Text'].values[4900]\n",
    "print(sent_4900)\n",
    "print(\"=\"*50)"
   ]
  },
  {
   "cell_type": "code",
   "execution_count": 17,
   "metadata": {
    "colab": {
     "base_uri": "https://localhost:8080/",
     "height": 54
    },
    "colab_type": "code",
    "id": "HZ19ITO9lhUe",
    "outputId": "10ab321b-d3ba-4113-e9bf-50f7b71ecc82"
   },
   "outputs": [
    {
     "name": "stdout",
     "output_type": "stream",
     "text": [
      "My dogs loves this chicken but its a product from China, so we wont be buying it anymore.  Its very hard to find any chicken products made in the USA but they are out there, but this one isnt.  Its too bad too because its a good product but I wont take any chances till they know what is going on with the china imports.\n"
     ]
    }
   ],
   "source": [
    "# remove urls from text python: https://stackoverflow.com/a/40823105/4084039\n",
    "sent_0 = re.sub(r\"http\\S+\", \"\", sent_0)\n",
    "sent_1000 = re.sub(r\"http\\S+\", \"\", sent_1000)\n",
    "sent_150 = re.sub(r\"http\\S+\", \"\", sent_1500)\n",
    "sent_4900 = re.sub(r\"http\\S+\", \"\", sent_4900)\n",
    "\n",
    "print(sent_0)"
   ]
  },
  {
   "cell_type": "code",
   "execution_count": 18,
   "metadata": {
    "colab": {
     "base_uri": "https://localhost:8080/",
     "height": 154
    },
    "colab_type": "code",
    "id": "EdmejkvQlhUg",
    "outputId": "ee231ea9-d372-4e9c-b1c5-9108a48846fb"
   },
   "outputs": [
    {
     "name": "stdout",
     "output_type": "stream",
     "text": [
      "My dogs loves this chicken but its a product from China, so we wont be buying it anymore.  Its very hard to find any chicken products made in the USA but they are out there, but this one isnt.  Its too bad too because its a good product but I wont take any chances till they know what is going on with the china imports.\n",
      "==================================================\n",
      "this is yummy, easy and unusual. it makes a quick, delicous pie, crisp or cobbler. home made is better, but a heck of a lot more work. this is great to have on hand for last minute dessert needs where you really want to impress wih your creativity in cooking! recommended.\n",
      "==================================================\n",
      "Great flavor, low in calories, high in nutrients, high in protein! Usually protein powders are high priced and high in calories, this one is a great bargain and tastes great, I highly recommend for the lady gym rats, probably not \"macho\" enough for guys since it is soy based...\n",
      "==================================================\n",
      "For those of you wanting a high-quality, yet affordable green tea, you should definitely give this one a try. Let me first start by saying that everyone is looking for something different for their ideal tea, and I will attempt to briefly highlight what makes this tea attractive to a wide range of tea drinkers (whether you are a beginner or long-time tea enthusiast).  I have gone through over 12 boxes of this tea myself, and highly recommend it for the following reasons:-Quality:  First, this tea offers a smooth quality without any harsh or bitter after tones, which often turns people off from many green teas.  I've found my ideal brewing time to be between 3-5 minutes, giving you a light but flavorful cup of tea.  However, if you get distracted or forget about your tea and leave it brewing for 20+ minutes like I sometimes do, the quality of this tea is such that you still get a smooth but deeper flavor without the bad after taste.  The leaves themselves are whole leaves (not powdered stems, branches, etc commonly found in other brands), and the high-quality nylon bags also include chunks of tropical fruit and other discernible ingredients.  This isn't your standard cheap paper bag with a mix of unknown ingredients that have been ground down to a fine powder, leaving you to wonder what it is you are actually drinking.-Taste:  This tea offers notes of real pineapple and other hints of tropical fruits, yet isn't sweet or artificially flavored.  You have the foundation of a high-quality young hyson green tea for those true \"tea flavor\" lovers, yet the subtle hints of fruit make this a truly unique tea that I believe most will enjoy.  If you want it sweet, you can add sugar, splenda, etc but this really is not necessary as this tea offers an inherent warmth of flavor through it's ingredients.-Price:  This tea offers an excellent product at an exceptional price (especially when purchased at the prices Amazon offers).  Compared to other brands which I believe to be of similar quality (Mighty Leaf, Rishi, Two Leaves, etc.), Revolution offers a superior product at an outstanding price.  I have been purchasing this through Amazon for less per box than I would be paying at my local grocery store for Lipton, etc.Overall, this is a wonderful tea that is comparable, and even better than, other teas that are priced much higher.  It offers a well-balanced cup of green tea that I believe many will enjoy.  In terms of taste, quality, and price, I would argue you won't find a better combination that that offered by Revolution's Tropical Green Tea.\n"
     ]
    }
   ],
   "source": [
    "# https://stackoverflow.com/questions/16206380/python-beautifulsoup-how-to-remove-all-tags-from-an-element\n",
    "from bs4 import BeautifulSoup\n",
    "\n",
    "soup = BeautifulSoup(sent_0, 'lxml')\n",
    "text = soup.get_text()\n",
    "print(text)\n",
    "print(\"=\"*50)\n",
    "\n",
    "soup = BeautifulSoup(sent_1000, 'lxml')\n",
    "text = soup.get_text()\n",
    "print(text)\n",
    "print(\"=\"*50)\n",
    "\n",
    "soup = BeautifulSoup(sent_1500, 'lxml')\n",
    "text = soup.get_text()\n",
    "print(text)\n",
    "print(\"=\"*50)\n",
    "\n",
    "soup = BeautifulSoup(sent_4900, 'lxml')\n",
    "text = soup.get_text()\n",
    "print(text)"
   ]
  },
  {
   "cell_type": "code",
   "execution_count": 19,
   "metadata": {
    "colab": {},
    "colab_type": "code",
    "id": "AS0JRe7zlhUl"
   },
   "outputs": [],
   "source": [
    "# https://stackoverflow.com/a/47091490/4084039\n",
    "import re\n",
    "\n",
    "def decontracted(phrase):\n",
    "    # specific\n",
    "    phrase = re.sub(r\"won't\", \"will not\", phrase)\n",
    "    phrase = re.sub(r\"can\\'t\", \"can not\", phrase)\n",
    "\n",
    "    # general\n",
    "    phrase = re.sub(r\"n\\'t\", \" not\", phrase)\n",
    "    phrase = re.sub(r\"\\'re\", \" are\", phrase)\n",
    "    phrase = re.sub(r\"\\'s\", \" is\", phrase)\n",
    "    phrase = re.sub(r\"\\'d\", \" would\", phrase)\n",
    "    phrase = re.sub(r\"\\'ll\", \" will\", phrase)\n",
    "    phrase = re.sub(r\"\\'t\", \" not\", phrase)\n",
    "    phrase = re.sub(r\"\\'ve\", \" have\", phrase)\n",
    "    phrase = re.sub(r\"\\'m\", \" am\", phrase)\n",
    "    return phrase"
   ]
  },
  {
   "cell_type": "code",
   "execution_count": 20,
   "metadata": {
    "colab": {
     "base_uri": "https://localhost:8080/",
     "height": 70
    },
    "colab_type": "code",
    "id": "NgHCmF83lhUn",
    "outputId": "0ca964d8-f0bd-49bb-85dc-b33ed6996506"
   },
   "outputs": [
    {
     "name": "stdout",
     "output_type": "stream",
     "text": [
      "Great flavor, low in calories, high in nutrients, high in protein! Usually protein powders are high priced and high in calories, this one is a great bargain and tastes great, I highly recommend for the lady gym rats, probably not \"macho\" enough for guys since it is soy based...\n",
      "==================================================\n"
     ]
    }
   ],
   "source": [
    "sent_1500 = decontracted(sent_1500)\n",
    "print(sent_1500)\n",
    "print(\"=\"*50)"
   ]
  },
  {
   "cell_type": "code",
   "execution_count": 21,
   "metadata": {
    "colab": {
     "base_uri": "https://localhost:8080/",
     "height": 54
    },
    "colab_type": "code",
    "id": "A2NwagrclhUq",
    "outputId": "a28b6b46-032d-46a1-e11b-1b78b5f703dd"
   },
   "outputs": [
    {
     "name": "stdout",
     "output_type": "stream",
     "text": [
      "My dogs loves this chicken but its a product from China, so we wont be buying it anymore.  Its very hard to find any chicken products made in the USA but they are out there, but this one isnt.  Its too bad too because its a good product but I wont take any chances till they know what is going on with the china imports.\n"
     ]
    }
   ],
   "source": [
    "#remove words with numbers python: https://stackoverflow.com/a/18082370/4084039\n",
    "sent_0 = re.sub(\"\\S*\\d\\S*\", \"\", sent_0).strip()\n",
    "print(sent_0)"
   ]
  },
  {
   "cell_type": "code",
   "execution_count": 22,
   "metadata": {
    "colab": {
     "base_uri": "https://localhost:8080/",
     "height": 54
    },
    "colab_type": "code",
    "id": "Jg8id6-5lhUs",
    "outputId": "363f2515-c707-405b-f58c-a11a290330b7"
   },
   "outputs": [
    {
     "name": "stdout",
     "output_type": "stream",
     "text": [
      "Great flavor low in calories high in nutrients high in protein Usually protein powders are high priced and high in calories this one is a great bargain and tastes great I highly recommend for the lady gym rats probably not macho enough for guys since it is soy based \n"
     ]
    }
   ],
   "source": [
    "#remove spacial character: https://stackoverflow.com/a/5843547/4084039\n",
    "sent_1500 = re.sub('[^A-Za-z0-9]+', ' ', sent_1500)\n",
    "print(sent_1500)"
   ]
  },
  {
   "cell_type": "code",
   "execution_count": 23,
   "metadata": {
    "colab": {},
    "colab_type": "code",
    "id": "KiETpkRmlhUv"
   },
   "outputs": [],
   "source": [
    "# https://gist.github.com/sebleier/554280\n",
    "# we are removing the words from the stop words list: 'no', 'nor', 'not'\n",
    "# <br /><br /> ==> after the above steps, we are getting \"br br\"\n",
    "# we are including them into stop words list\n",
    "# instead of <br /> if we have <br/> these tags would have revmoved in the 1st step\n",
    "\n",
    "stopwords= set(['br', 'the', 'i', 'me', 'my', 'myself', 'we', 'our', 'ours', 'ourselves', 'you', \"you're\", \"you've\",\\\n",
    "            \"you'll\", \"you'd\", 'your', 'yours', 'yourself', 'yourselves', 'he', 'him', 'his', 'himself', \\\n",
    "            'she', \"she's\", 'her', 'hers', 'herself', 'it', \"it's\", 'its', 'itself', 'they', 'them', 'their',\\\n",
    "            'theirs', 'themselves', 'what', 'which', 'who', 'whom', 'this', 'that', \"that'll\", 'these', 'those', \\\n",
    "            'am', 'is', 'are', 'was', 'were', 'be', 'been', 'being', 'have', 'has', 'had', 'having', 'do', 'does', \\\n",
    "            'did', 'doing', 'a', 'an', 'the', 'and', 'but', 'if', 'or', 'because', 'as', 'until', 'while', 'of', \\\n",
    "            'at', 'by', 'for', 'with', 'about', 'against', 'between', 'into', 'through', 'during', 'before', 'after',\\\n",
    "            'above', 'below', 'to', 'from', 'up', 'down', 'in', 'out', 'on', 'off', 'over', 'under', 'again', 'further',\\\n",
    "            'then', 'once', 'here', 'there', 'when', 'where', 'why', 'how', 'all', 'any', 'both', 'each', 'few', 'more',\\\n",
    "            'most', 'other', 'some', 'such', 'only', 'own', 'same', 'so', 'than', 'too', 'very', \\\n",
    "            's', 't', 'can', 'will', 'just', 'don', \"don't\", 'should', \"should've\", 'now', 'd', 'll', 'm', 'o', 're', \\\n",
    "            've', 'y', 'ain', 'aren', \"aren't\", 'couldn', \"couldn't\", 'didn', \"didn't\", 'doesn', \"doesn't\", 'hadn',\\\n",
    "            \"hadn't\", 'hasn', \"hasn't\", 'haven', \"haven't\", 'isn', \"isn't\", 'ma', 'mightn', \"mightn't\", 'mustn',\\\n",
    "            \"mustn't\", 'needn', \"needn't\", 'shan', \"shan't\", 'shouldn', \"shouldn't\", 'wasn', \"wasn't\", 'weren', \"weren't\", \\\n",
    "            'won', \"won't\", 'wouldn', \"wouldn't\"])"
   ]
  },
  {
   "cell_type": "code",
   "execution_count": 24,
   "metadata": {
    "colab": {
     "base_uri": "https://localhost:8080/",
     "height": 34
    },
    "colab_type": "code",
    "id": "8sMEgOUXlhUx",
    "outputId": "d9184768-bdd5-49eb-b2d2-62b7bf81bca2"
   },
   "outputs": [
    {
     "name": "stderr",
     "output_type": "stream",
     "text": [
      "100%|██████████████████████████████████████████████████████████████████████████| 46071/46071 [00:17<00:00, 2660.04it/s]\n"
     ]
    }
   ],
   "source": [
    "# Combining all the above stundents \n",
    "from tqdm import tqdm\n",
    "preprocessed_reviews = []\n",
    "# tqdm is for printing the status bar\n",
    "for sentance in tqdm(final['Text'].values):\n",
    "    sentance = re.sub(r\"http\\S+\", \"\", sentance)\n",
    "    sentance = BeautifulSoup(sentance, 'lxml').get_text()\n",
    "    sentance = decontracted(sentance)\n",
    "    sentance = re.sub(\"\\S*\\d\\S*\", \"\", sentance).strip()\n",
    "    sentance = re.sub('[^A-Za-z]+', ' ', sentance)\n",
    "    # https://gist.github.com/sebleier/554280\n",
    "    sentance = ' '.join(e.lower() for e in sentance.split() if e.lower() not in stopwords)\n",
    "    preprocessed_reviews.append(sentance.strip())"
   ]
  },
  {
   "cell_type": "code",
   "execution_count": 25,
   "metadata": {
    "colab": {
     "base_uri": "https://localhost:8080/",
     "height": 52
    },
    "colab_type": "code",
    "id": "HfP5oiCNlhU0",
    "outputId": "f8e43fcc-749a-4886-97cd-ad42883bf83f"
   },
   "outputs": [
    {
     "data": {
      "text/plain": [
       "'great flavor low calories high nutrients high protein usually protein powders high priced high calories one great bargain tastes great highly recommend lady gym rats probably not macho enough guys since soy based'"
      ]
     },
     "execution_count": 25,
     "metadata": {},
     "output_type": "execute_result"
    }
   ],
   "source": [
    "preprocessed_reviews[1500]"
   ]
  },
  {
   "cell_type": "markdown",
   "metadata": {
    "colab_type": "text",
    "id": "XpZPDbwvlhU3"
   },
   "source": [
    "<h2><font color='red'>[3.2] Preprocessing Review Summary</font></h2>"
   ]
  },
  {
   "cell_type": "code",
   "execution_count": 26,
   "metadata": {
    "colab": {
     "base_uri": "https://localhost:8080/",
     "height": 50
    },
    "colab_type": "code",
    "id": "MT4giaoelhU4",
    "outputId": "c8be64b9-43e7-4b0b-c348-e68ada85d723"
   },
   "outputs": [
    {
     "name": "stderr",
     "output_type": "stream",
     "text": [
      "100%|██████████████████████████████████████████████████████████████████████████| 46071/46071 [00:22<00:00, 2045.53it/s]\n"
     ]
    },
    {
     "name": "stdout",
     "output_type": "stream",
     "text": [
      "gym rat bargain\n"
     ]
    }
   ],
   "source": [
    "\n",
    "## Similartly you can do preprocessing for review summary also.\n",
    "from tqdm import tqdm\n",
    "preprocessed_summary = []\n",
    "# tqdm is for printing the status bar\n",
    "for sentance in tqdm(final['Summary'].values):\n",
    "    sentance = re.sub(r\"http\\S+\", \"\", sentance)\n",
    "    sentance = BeautifulSoup(sentance, 'lxml').get_text()\n",
    "    sentance = decontracted(sentance)\n",
    "    sentance = re.sub(\"\\S*\\d\\S*\", \"\", sentance).strip()\n",
    "    sentance = re.sub('[^A-Za-z]+', ' ', sentance)\n",
    "    # https://gist.github.com/sebleier/554280\n",
    "    sentance = ' '.join(e.lower() for e in sentance.split() if e.lower() not in stopwords)\n",
    "    preprocessed_summary.append(sentance.strip())\n",
    "    \n",
    "print(preprocessed_summary[1500])"
   ]
  },
  {
   "cell_type": "markdown",
   "metadata": {
    "colab_type": "text",
    "id": "K3B1nU8VlhU6"
   },
   "source": [
    "# [4] Featurization"
   ]
  },
  {
   "cell_type": "markdown",
   "metadata": {
    "colab_type": "text",
    "id": "sJIHAJoXlhU7"
   },
   "source": [
    "## [4.1] BAG OF WORDS"
   ]
  },
  {
   "cell_type": "code",
   "execution_count": 27,
   "metadata": {
    "colab": {
     "base_uri": "https://localhost:8080/",
     "height": 86
    },
    "colab_type": "code",
    "id": "QSBkrFm7lhU7",
    "outputId": "4d99783f-095e-43e3-fb99-46e92f69cc27"
   },
   "outputs": [
    {
     "data": {
      "text/plain": [
       "'\\ncount_vect = CountVectorizer() #in scikit-learn\\ncount_vect.fit(preprocessed_reviews)\\nprint(\"some feature names \", count_vect.get_feature_names()[:10])\\nprint(\\'=\\'*50)\\n\\nfinal_counts = count_vect.transform(preprocessed_reviews)\\nprint(\"the type of count vectorizer \",type(final_counts))\\nprint(\"the shape of out text BOW vectorizer \",final_counts.get_shape())\\nprint(\"the number of unique words \", final_counts.get_shape()[1])\\n'"
      ]
     },
     "execution_count": 27,
     "metadata": {},
     "output_type": "execute_result"
    }
   ],
   "source": [
    "#BoW\n",
    "'''\n",
    "count_vect = CountVectorizer() #in scikit-learn\n",
    "count_vect.fit(preprocessed_reviews)\n",
    "print(\"some feature names \", count_vect.get_feature_names()[:10])\n",
    "print('='*50)\n",
    "\n",
    "final_counts = count_vect.transform(preprocessed_reviews)\n",
    "print(\"the type of count vectorizer \",type(final_counts))\n",
    "print(\"the shape of out text BOW vectorizer \",final_counts.get_shape())\n",
    "print(\"the number of unique words \", final_counts.get_shape()[1])\n",
    "'''"
   ]
  },
  {
   "cell_type": "markdown",
   "metadata": {
    "colab_type": "text",
    "id": "nmg2mp5jlhU-"
   },
   "source": [
    "## [4.2] Bi-Grams and n-Grams."
   ]
  },
  {
   "cell_type": "code",
   "execution_count": 28,
   "metadata": {
    "colab": {
     "base_uri": "https://localhost:8080/",
     "height": 0
    },
    "colab_type": "code",
    "id": "8_9CYIgJlhU-",
    "outputId": "8d57b0ac-3580-4f28-e233-907ce91a68bf"
   },
   "outputs": [
    {
     "data": {
      "text/plain": [
       "'\\n# you can choose these numebrs min_df=10, max_features=5000, of your choice\\ncount_vect = CountVectorizer(ngram_range=(1,2), min_df=10, max_features=5000)\\nfinal_bigram_counts = count_vect.fit_transform(preprocessed_reviews)\\nprint(\"the type of count vectorizer \",type(final_bigram_counts))\\nprint(\"the shape of out text BOW vectorizer \",final_bigram_counts.get_shape())\\nprint(\"the number of unique words including both unigrams and bigrams \", final_bigram_counts.get_shape()[1])\\n'"
      ]
     },
     "execution_count": 28,
     "metadata": {},
     "output_type": "execute_result"
    }
   ],
   "source": [
    "#bi-gram, tri-gram and n-gram\n",
    "\n",
    "#removing stop words like \"not\" should be avoided before building n-grams\n",
    "# count_vect = CountVectorizer(ngram_range=(1,2))\n",
    "# please do read the CountVectorizer documentation http://scikit-learn.org/stable/modules/generated/sklearn.feature_extraction.text.CountVectorizer.html\n",
    "'''\n",
    "# you can choose these numebrs min_df=10, max_features=5000, of your choice\n",
    "count_vect = CountVectorizer(ngram_range=(1,2), min_df=10, max_features=5000)\n",
    "final_bigram_counts = count_vect.fit_transform(preprocessed_reviews)\n",
    "print(\"the type of count vectorizer \",type(final_bigram_counts))\n",
    "print(\"the shape of out text BOW vectorizer \",final_bigram_counts.get_shape())\n",
    "print(\"the number of unique words including both unigrams and bigrams \", final_bigram_counts.get_shape()[1])\n",
    "'''"
   ]
  },
  {
   "cell_type": "markdown",
   "metadata": {
    "colab_type": "text",
    "id": "C5dYi__mlhVB"
   },
   "source": [
    "## [4.3] TF-IDF"
   ]
  },
  {
   "cell_type": "code",
   "execution_count": 29,
   "metadata": {
    "colab": {
     "base_uri": "https://localhost:8080/",
     "height": 0
    },
    "colab_type": "code",
    "id": "ZRZ6lEmAlhVB",
    "outputId": "e33dbf4a-2902-4a1b-86d7-00aaa8a11fa0"
   },
   "outputs": [
    {
     "data": {
      "text/plain": [
       "'\\ntf_idf_vect = TfidfVectorizer(ngram_range=(1,2), min_df=10)\\ntf_idf_vect.fit(preprocessed_reviews)\\nprint(\"some sample features(unique words in the corpus)\",tf_idf_vect.get_feature_names()[0:10])\\nprint(\\'=\\'*50)\\n\\nfinal_tf_idf = tf_idf_vect.transform(preprocessed_reviews)\\nprint(\"the type of count vectorizer \",type(final_tf_idf))\\nprint(\"the shape of out text TFIDF vectorizer \",final_tf_idf.get_shape())\\nprint(\"the number of unique words including both unigrams and bigrams \", final_tf_idf.get_shape()[1])\\n'"
      ]
     },
     "execution_count": 29,
     "metadata": {},
     "output_type": "execute_result"
    }
   ],
   "source": [
    "'''\n",
    "tf_idf_vect = TfidfVectorizer(ngram_range=(1,2), min_df=10)\n",
    "tf_idf_vect.fit(preprocessed_reviews)\n",
    "print(\"some sample features(unique words in the corpus)\",tf_idf_vect.get_feature_names()[0:10])\n",
    "print('='*50)\n",
    "\n",
    "final_tf_idf = tf_idf_vect.transform(preprocessed_reviews)\n",
    "print(\"the type of count vectorizer \",type(final_tf_idf))\n",
    "print(\"the shape of out text TFIDF vectorizer \",final_tf_idf.get_shape())\n",
    "print(\"the number of unique words including both unigrams and bigrams \", final_tf_idf.get_shape()[1])\n",
    "'''"
   ]
  },
  {
   "cell_type": "markdown",
   "metadata": {
    "colab_type": "text",
    "id": "CRc4jTMLlhVD"
   },
   "source": [
    "## [4.4] Word2Vec"
   ]
  },
  {
   "cell_type": "code",
   "execution_count": 30,
   "metadata": {
    "colab": {
     "base_uri": "https://localhost:8080/",
     "height": 0
    },
    "colab_type": "code",
    "id": "UQ08Gy2ZlhVE",
    "outputId": "f865ef73-fc4f-4bcc-ccd6-94c276bed65d"
   },
   "outputs": [
    {
     "data": {
      "text/plain": [
       "'\\ni=0\\nlist_of_sentance=[]\\nfor sentance in preprocessed_reviews:\\n    list_of_sentance.append(sentance.split())\\n    '"
      ]
     },
     "execution_count": 30,
     "metadata": {},
     "output_type": "execute_result"
    }
   ],
   "source": [
    "# Train your own Word2Vec model using your own text corpus\n",
    "'''\n",
    "i=0\n",
    "list_of_sentance=[]\n",
    "for sentance in preprocessed_reviews:\n",
    "    list_of_sentance.append(sentance.split())\n",
    "    '''"
   ]
  },
  {
   "cell_type": "code",
   "execution_count": 31,
   "metadata": {
    "colab": {
     "base_uri": "https://localhost:8080/",
     "height": 0
    },
    "colab_type": "code",
    "id": "T9TXiI0alhVH",
    "outputId": "7e7a70b9-5d17-4f7e-d1a4-15c0b3192de9",
    "scrolled": true
   },
   "outputs": [
    {
     "data": {
      "text/plain": [
       "'\\nis_your_ram_gt_16g=False\\nwant_to_use_google_w2v = False\\nwant_to_train_w2v = True\\n\\nif want_to_train_w2v:\\n    # min_count = 5 considers only words that occured atleast 5 times\\n    w2v_model=Word2Vec(list_of_sentance,min_count=5,size=50, workers=4)\\n    print(w2v_model.wv.most_similar(\\'great\\'))\\n    print(\\'=\\'*50)\\n    print(w2v_model.wv.most_similar(\\'worst\\'))\\n    \\nelif want_to_use_google_w2v and is_your_ram_gt_16g:\\n    if os.path.isfile(\\'GoogleNews-vectors-negative300.bin\\'):\\n        w2v_model=KeyedVectors.load_word2vec_format(\\'GoogleNews-vectors-negative300.bin\\', binary=True)\\n        print(w2v_model.wv.most_similar(\\'great\\'))\\n        print(w2v_model.wv.most_similar(\\'worst\\'))\\n    else:\\n        print(\"you don\\'t have gogole\\'s word2vec file, keep want_to_train_w2v = True, to train your own w2v \")\\n'"
      ]
     },
     "execution_count": 31,
     "metadata": {},
     "output_type": "execute_result"
    }
   ],
   "source": [
    "# Using Google News Word2Vectors\n",
    "\n",
    "# in this project we are using a pretrained model by google\n",
    "# its 3.3G file, once you load this into your memory \n",
    "# it occupies ~9Gb, so please do this step only if you have >12G of ram\n",
    "# we will provide a pickle file wich contains a dict , \n",
    "# and it contains all our courpus words as keys and  model[word] as values\n",
    "# To use this code-snippet, download \"GoogleNews-vectors-negative300.bin\" \n",
    "# from https://drive.google.com/file/d/0B7XkCwpI5KDYNlNUTTlSS21pQmM/edit\n",
    "# it's 1.9GB in size.\n",
    "\n",
    "\n",
    "# http://kavita-ganesan.com/gensim-word2vec-tutorial-starter-code/#.W17SRFAzZPY\n",
    "# you can comment this whole cell\n",
    "# or change these varible according to your need\n",
    "'''\n",
    "is_your_ram_gt_16g=False\n",
    "want_to_use_google_w2v = False\n",
    "want_to_train_w2v = True\n",
    "\n",
    "if want_to_train_w2v:\n",
    "    # min_count = 5 considers only words that occured atleast 5 times\n",
    "    w2v_model=Word2Vec(list_of_sentance,min_count=5,size=50, workers=4)\n",
    "    print(w2v_model.wv.most_similar('great'))\n",
    "    print('='*50)\n",
    "    print(w2v_model.wv.most_similar('worst'))\n",
    "    \n",
    "elif want_to_use_google_w2v and is_your_ram_gt_16g:\n",
    "    if os.path.isfile('GoogleNews-vectors-negative300.bin'):\n",
    "        w2v_model=KeyedVectors.load_word2vec_format('GoogleNews-vectors-negative300.bin', binary=True)\n",
    "        print(w2v_model.wv.most_similar('great'))\n",
    "        print(w2v_model.wv.most_similar('worst'))\n",
    "    else:\n",
    "        print(\"you don't have gogole's word2vec file, keep want_to_train_w2v = True, to train your own w2v \")\n",
    "'''"
   ]
  },
  {
   "cell_type": "code",
   "execution_count": 32,
   "metadata": {
    "colab": {
     "base_uri": "https://localhost:8080/",
     "height": 0
    },
    "colab_type": "code",
    "id": "NdprIOkVlhVJ",
    "outputId": "c4ddcf2a-fc07-43cf-c049-73fcd9871cd2"
   },
   "outputs": [
    {
     "data": {
      "text/plain": [
       "'w2v_words = list(w2v_model.wv.vocab)\\nprint(\"number of words that occured minimum 5 times \",len(w2v_words))\\nprint(\"sample words \", w2v_words[0:50])'"
      ]
     },
     "execution_count": 32,
     "metadata": {},
     "output_type": "execute_result"
    }
   ],
   "source": [
    "'''w2v_words = list(w2v_model.wv.vocab)\n",
    "print(\"number of words that occured minimum 5 times \",len(w2v_words))\n",
    "print(\"sample words \", w2v_words[0:50])'''"
   ]
  },
  {
   "cell_type": "markdown",
   "metadata": {
    "colab_type": "text",
    "id": "qv4eVpNilhVM"
   },
   "source": [
    "## [4.4.1] Converting text into vectors using Avg W2V, TFIDF-W2V"
   ]
  },
  {
   "cell_type": "markdown",
   "metadata": {
    "colab_type": "text",
    "id": "5CXOtpK_lhVM"
   },
   "source": [
    "#### [4.4.1.1] Avg W2v"
   ]
  },
  {
   "cell_type": "code",
   "execution_count": 33,
   "metadata": {
    "colab": {
     "base_uri": "https://localhost:8080/",
     "height": 0
    },
    "colab_type": "code",
    "id": "hCv6lEc0lhVN",
    "outputId": "deea53db-5b96-4616-8a82-600ba0aec8ce"
   },
   "outputs": [
    {
     "data": {
      "text/plain": [
       "\"# average Word2Vec\\n# compute average word2vec for each review.\\nsent_vectors = []; # the avg-w2v for each sentence/review is stored in this list\\nfor sent in tqdm(list_of_sentance): # for each review/sentence\\n    sent_vec = np.zeros(50) # as word vectors are of zero length 50, you might need to change this to 300 if you use google's w2v\\n    cnt_words =0; # num of words with a valid vector in the sentence/review\\n    for word in sent: # for each word in a review/sentence\\n        if word in w2v_words:\\n            vec = w2v_model.wv[word]\\n            sent_vec += vec\\n            cnt_words += 1\\n    if cnt_words != 0:\\n        sent_vec /= cnt_words\\n    sent_vectors.append(sent_vec)\\nprint(len(sent_vectors))\\nprint(len(sent_vectors[0]))\\n\""
      ]
     },
     "execution_count": 33,
     "metadata": {},
     "output_type": "execute_result"
    }
   ],
   "source": [
    "'''# average Word2Vec\n",
    "# compute average word2vec for each review.\n",
    "sent_vectors = []; # the avg-w2v for each sentence/review is stored in this list\n",
    "for sent in tqdm(list_of_sentance): # for each review/sentence\n",
    "    sent_vec = np.zeros(50) # as word vectors are of zero length 50, you might need to change this to 300 if you use google's w2v\n",
    "    cnt_words =0; # num of words with a valid vector in the sentence/review\n",
    "    for word in sent: # for each word in a review/sentence\n",
    "        if word in w2v_words:\n",
    "            vec = w2v_model.wv[word]\n",
    "            sent_vec += vec\n",
    "            cnt_words += 1\n",
    "    if cnt_words != 0:\n",
    "        sent_vec /= cnt_words\n",
    "    sent_vectors.append(sent_vec)\n",
    "print(len(sent_vectors))\n",
    "print(len(sent_vectors[0]))\n",
    "'''"
   ]
  },
  {
   "cell_type": "markdown",
   "metadata": {
    "colab_type": "text",
    "id": "S8AZBciLlhVP"
   },
   "source": [
    "#### [4.4.1.2] TFIDF weighted W2v"
   ]
  },
  {
   "cell_type": "code",
   "execution_count": 34,
   "metadata": {
    "colab": {
     "base_uri": "https://localhost:8080/",
     "height": 69
    },
    "colab_type": "code",
    "id": "G2wqA37KlhVP",
    "outputId": "8ac07bc2-0e72-4f18-afeb-8018bfca0cb6"
   },
   "outputs": [
    {
     "data": {
      "text/plain": [
       "'# S = [\"abc def pqr\", \"def def def abc\", \"pqr pqr def\"]\\nmodel = TfidfVectorizer()\\ntf_idf_matrix = model.fit_transform(preprocessed_reviews)\\n# we are converting a dictionary with word as a key, and the idf as a value\\ndictionary = dict(zip(model.get_feature_names(), list(model.idf_)))'"
      ]
     },
     "execution_count": 34,
     "metadata": {},
     "output_type": "execute_result"
    }
   ],
   "source": [
    "'''# S = [\"abc def pqr\", \"def def def abc\", \"pqr pqr def\"]\n",
    "model = TfidfVectorizer()\n",
    "tf_idf_matrix = model.fit_transform(preprocessed_reviews)\n",
    "# we are converting a dictionary with word as a key, and the idf as a value\n",
    "dictionary = dict(zip(model.get_feature_names(), list(model.idf_)))'''"
   ]
  },
  {
   "cell_type": "code",
   "execution_count": 35,
   "metadata": {
    "colab": {
     "base_uri": "https://localhost:8080/",
     "height": 137
    },
    "colab_type": "code",
    "id": "BvDZpYOplhVS",
    "outputId": "1cdb389a-17b8-44cf-e753-ce17f99fba4f",
    "scrolled": true
   },
   "outputs": [
    {
     "data": {
      "text/plain": [
       "'# TF-IDF weighted Word2Vec\\ntfidf_feat = model.get_feature_names() # tfidf words/col-names\\n# final_tf_idf is the sparse matrix with row= sentence, col=word and cell_val = tfidf\\n\\ntfidf_sent_vectors = []; # the tfidf-w2v for each sentence/review is stored in this list\\nrow=0;\\nfor sent in tqdm(list_of_sentance): # for each review/sentence \\n    sent_vec = np.zeros(50) # as word vectors are of zero length\\n    weight_sum =0; # num of words with a valid vector in the sentence/review\\n    for word in sent: # for each word in a review/sentence\\n        if word in w2v_words and word in tfidf_feat:\\n            vec = w2v_model.wv[word]\\n#             tf_idf = tf_idf_matrix[row, tfidf_feat.index(word)]\\n            # to reduce the computation we are \\n            # dictionary[word] = idf value of word in whole courpus\\n            # sent.count(word) = tf valeus of word in this review\\n            tf_idf = dictionary[word]*(sent.count(word)/len(sent))\\n            sent_vec += (vec * tf_idf)\\n            weight_sum += tf_idf\\n    if weight_sum != 0:\\n        sent_vec /= weight_sum\\n    tfidf_sent_vectors.append(sent_vec)\\n    row += 1\\n    '"
      ]
     },
     "execution_count": 35,
     "metadata": {},
     "output_type": "execute_result"
    }
   ],
   "source": [
    "'''# TF-IDF weighted Word2Vec\n",
    "tfidf_feat = model.get_feature_names() # tfidf words/col-names\n",
    "# final_tf_idf is the sparse matrix with row= sentence, col=word and cell_val = tfidf\n",
    "\n",
    "tfidf_sent_vectors = []; # the tfidf-w2v for each sentence/review is stored in this list\n",
    "row=0;\n",
    "for sent in tqdm(list_of_sentance): # for each review/sentence \n",
    "    sent_vec = np.zeros(50) # as word vectors are of zero length\n",
    "    weight_sum =0; # num of words with a valid vector in the sentence/review\n",
    "    for word in sent: # for each word in a review/sentence\n",
    "        if word in w2v_words and word in tfidf_feat:\n",
    "            vec = w2v_model.wv[word]\n",
    "#             tf_idf = tf_idf_matrix[row, tfidf_feat.index(word)]\n",
    "            # to reduce the computation we are \n",
    "            # dictionary[word] = idf value of word in whole courpus\n",
    "            # sent.count(word) = tf valeus of word in this review\n",
    "            tf_idf = dictionary[word]*(sent.count(word)/len(sent))\n",
    "            sent_vec += (vec * tf_idf)\n",
    "            weight_sum += tf_idf\n",
    "    if weight_sum != 0:\n",
    "        sent_vec /= weight_sum\n",
    "    tfidf_sent_vectors.append(sent_vec)\n",
    "    row += 1\n",
    "    '''"
   ]
  },
  {
   "cell_type": "markdown",
   "metadata": {
    "colab_type": "text",
    "id": "W965z3KUlhVU"
   },
   "source": [
    "# [5] Assignment 7: SVM"
   ]
  },
  {
   "cell_type": "markdown",
   "metadata": {
    "colab_type": "text",
    "id": "CGYNUzaAlhVU"
   },
   "source": [
    "<ol>\n",
    "    <li><strong>Apply SVM on these feature sets</strong>\n",
    "        <ul>\n",
    "            <li><font color='red'>SET 1:</font>Review text, preprocessed one converted into vectors using (BOW)</li>\n",
    "            <li><font color='red'>SET 2:</font>Review text, preprocessed one converted into vectors using (TFIDF)</li>\n",
    "            <li><font color='red'>SET 3:</font>Review text, preprocessed one converted into vectors using (AVG W2v)</li>\n",
    "            <li><font color='red'>SET 4:</font>Review text, preprocessed one converted into vectors using (TFIDF W2v)</li>\n",
    "        </ul>\n",
    "    </li>\n",
    "    <br>\n",
    "    <li><strong>Procedure</strong>\n",
    "        <ul>\n",
    "    <li>You need to work with 2 versions of SVM\n",
    "        <ul><li>Linear kernel</li>\n",
    "            <li>RBF kernel</li></ul>\n",
    "    <li>When you are working with linear kernel, use SGDClassifier’ with hinge loss because it is computationally less expensive.</li>\n",
    "    <li>When you are working with ‘SGDClassifier’ with hinge loss and trying to find the AUC\n",
    "        score, you would have to use <a href='https://scikit-learn.org/stable/modules/generated/sklearn.calibration.CalibratedClassifierCV.html'>CalibratedClassifierCV</a></li>\n",
    "    <li>Similarly, like kdtree of knn, when you are working with RBF kernel it's better to reduce\n",
    "the number of dimensions. You can put min_df = 10, max_features = 500 and consider a sample size of 40k points.</li>                \n",
    "        </ul>\n",
    "    </li>\n",
    "    <br>\n",
    "    <li><strong>Hyper paramter tuning (find best alpha in range [10^-4 to 10^4], and the best penalty among 'l1', 'l2')</strong>\n",
    "        <ul>\n",
    "    <li>Find the best hyper parameter which will give the maximum <a href='https://www.appliedaicourse.com/course/applied-ai-course-online/lessons/receiver-operating-characteristic-curve-roc-curve-and-auc-1/'>AUC</a> value</li>\n",
    "    <li>Find the best hyper paramter using k-fold cross validation or simple cross validation data</li>\n",
    "    <li>Use gridsearch cv or randomsearch cv or you can also write your own for loops to do this task of hyperparameter tuning</li>          \n",
    "        </ul>\n",
    "    </li>\n",
    "    <br>\n",
    "    <li><strong>Feature importance</strong>\n",
    "        <ul>\n",
    "    <li>When you are working on the linear kernel with BOW or TFIDF please print the top 10 best\n",
    "features for each of the positive and negative classes.</li>\n",
    "        </ul>\n",
    "    </li>\n",
    "    <br>\n",
    "    <li><strong>Feature engineering</strong>\n",
    "        <ul>\n",
    "    <li>To increase the performance of your model, you can also experiment with with feature engineering like :</li>\n",
    "            <ul>\n",
    "            <li>Taking length of reviews as another feature.</li>\n",
    "            <li>Considering some features from review summary as well.</li>\n",
    "        </ul>\n",
    "        </ul>\n",
    "    </li>\n",
    "    <br>\n",
    "    <li><strong>Representation of results</strong>\n",
    "        <ul>\n",
    "    <li>You need to plot the performance of model both on train data and cross validation data for each hyper parameter, like shown in the figure.\n",
    "    <img src='train_cv_auc.JPG' width=300px></li>\n",
    "    <li>Once after you found the best hyper parameter, you need to train your model with it, and find the AUC on test data and plot the ROC curve on both train and test.\n",
    "    <img src='train_test_auc.JPG' width=300px></li>\n",
    "    <li>Along with plotting ROC curve, you need to print the <a href='https://www.appliedaicourse.com/course/applied-ai-course-online/lessons/confusion-matrix-tpr-fpr-fnr-tnr-1/'>confusion matrix</a> with predicted and original labels of test data points. Please visualize your confusion matrices using <a href='https://seaborn.pydata.org/generated/seaborn.heatmap.html'>seaborn heatmaps.\n",
    "    <img src='confusion_matrix.png' width=300px></li>\n",
    "        </ul>\n",
    "    </li>\n",
    "    <br>\n",
    "    <li><strong>Conclusion</strong>\n",
    "        <ul>\n",
    "    <li>You need to summarize the results at the end of the notebook, summarize it in the table format. To print out a table please refer to this prettytable library<a href='http://zetcode.com/python/prettytable/'>  link</a> \n",
    "        <img src='summary.JPG' width=400px>\n",
    "    </li>\n",
    "        </ul>\n",
    "</ol>"
   ]
  },
  {
   "cell_type": "markdown",
   "metadata": {
    "colab_type": "text",
    "id": "hDRmJtiVlhVV"
   },
   "source": [
    "<h4><font color='red'>Note: Data Leakage</font></h4>\n",
    "\n",
    "1. There will be an issue of data-leakage if you vectorize the entire data and then split it into train/cv/test.\n",
    "2. To avoid the issue of data-leakag, make sure to split your data first and then vectorize it. \n",
    "3. While vectorizing your data, apply the method fit_transform() on you train data, and apply the method transform() on cv/test data.\n",
    "4. For more details please go through this <a href='https://soundcloud.com/applied-ai-course/leakage-bow-and-tfidf'>link.</a>"
   ]
  },
  {
   "cell_type": "markdown",
   "metadata": {
    "colab_type": "text",
    "id": "Ic9iy_2FlhVW"
   },
   "source": [
    "# Applying SVM"
   ]
  },
  {
   "cell_type": "markdown",
   "metadata": {
    "colab_type": "text",
    "id": "P8rh9wEVlhVW"
   },
   "source": [
    "## [5.1] Linear SVM"
   ]
  },
  {
   "cell_type": "markdown",
   "metadata": {
    "colab_type": "text",
    "id": "KV7SjsqflhVW"
   },
   "source": [
    "### [5.1.1] Applying Linear SVM on BOW,<font color='red'> SET 1</font>"
   ]
  },
  {
   "cell_type": "code",
   "execution_count": 36,
   "metadata": {
    "colab": {
     "base_uri": "https://localhost:8080/",
     "height": 1000
    },
    "colab_type": "code",
    "id": "L32cRB8elhVX",
    "outputId": "3b3a18ad-aea1-4819-f8c0-fe56b34e506f"
   },
   "outputs": [
    {
     "data": {
      "image/png": "[encoded data removed]",
      "text/plain": [
       "<Figure size 432x288 with 1 Axes>"
      ]
     },
     "metadata": {},
     "output_type": "display_data"
    },
    {
     "data": {
      "image/png": "[encoded data removed]",
      "text/plain": [
       "<Figure size 432x288 with 1 Axes>"
      ]
     },
     "metadata": {},
     "output_type": "display_data"
    },
    {
     "name": "stdout",
     "output_type": "stream",
     "text": [
      "\n",
      "****Best parameters  {'base_estimator__alpha': 0.001, 'base_estimator__penalty': 'l2'}\n"
     ]
    },
    {
     "data": {
      "image/png": "[encoded data removed]",
      "text/plain": [
       "<Figure size 432x288 with 1 Axes>"
      ]
     },
     "metadata": {},
     "output_type": "display_data"
    },
    {
     "name": "stdout",
     "output_type": "stream",
     "text": [
      "====================================================================================================\n",
      "Train confusion matrix\n",
      "[[ 3695  1430]\n",
      " [  255 25487]]\n",
      "Test confusion matrix\n",
      "[[ 1494   973]\n",
      " [  317 12420]]\n",
      "[(-1.0161034407019283, 'disappointing'), (-0.9643274692011936, 'worst'), (-0.867247522637313, 'disappointed'), (-0.8607755261997241, 'horrible'), (-0.8543035297621322, 'awful')]\n",
      "Top 10 important features of positive class\n",
      "['amazing', 'delicious', 'perfect', 'wonderful', 'excellent', 'best', 'smooth', 'yummy', 'pleased']\n",
      "Top 10 important features of Negative class\n",
      "['disappointing', 'worst', 'disappointed', 'horrible', 'awful', 'terrible', 'threw', 'return', 'disappointment', 'waste']\n"
     ]
    },
    {
     "data": {
      "image/png": "[encoded data removed]",
      "text/plain": [
       "<Figure size 432x288 with 2 Axes>"
      ]
     },
     "metadata": {},
     "output_type": "display_data"
    }
   ],
   "source": [
    "from sklearn.calibration import CalibratedClassifierCV\n",
    "from sklearn.linear_model import SGDClassifier\n",
    "from sklearn.model_selection import GridSearchCV, train_test_split\n",
    "\n",
    "X = preprocessed_reviews; Y = final['Score']\n",
    "\n",
    "# https://scikit-learn.org/stable/modules/generated/sklearn.model_selection.train_test_split.html\n",
    "from sklearn.model_selection import train_test_split\n",
    "x_train, x_test, y_train, y_test = train_test_split(X, Y, test_size=0.33) # this is random splitting\n",
    "\n",
    "from sklearn.feature_extraction.text import CountVectorizer\n",
    "vectorizer = CountVectorizer()\n",
    "vectorizer.fit(x_train) # fit has to happen only on train data\n",
    "\n",
    "# we use the fitted CountVectorizer to convert the text to vector\n",
    "x_train = vectorizer.transform(x_train)\n",
    "x_test = vectorizer.transform(x_test)\n",
    "\n",
    "clf = SGDClassifier(loss='hinge')\n",
    "calibrated_clf = CalibratedClassifierCV(base_estimator=clf, method='sigmoid', cv=10)  # set the SGD classifier as the base estimator\n",
    "\n",
    "grid_params = {    \n",
    "    'base_estimator__penalty':['l1','l2'],\n",
    "    'base_estimator__alpha': [10**-4, 10**-3, 10**-2, 10**-1, 10**0, 10**1, 10**2, 10**3, 10**4]\n",
    "}\n",
    "\n",
    "#code taken from link: https://stackoverflow.com/questions/55893734/how-can-i-use-sgdclassifier-hinge-loss-with-gridsearchcv-using-log-loss-metric\n",
    "grid_search = GridSearchCV(estimator=calibrated_clf, param_grid=grid_params, cv=10, scoring='roc_auc',return_train_score=True)\n",
    "grid_search.fit(x_train, y_train)\n",
    "\n",
    "#print(grid_search.cv_results_)\n",
    "\n",
    "train_auc= grid_search.cv_results_['mean_train_score']\n",
    "train_auc_std= grid_search.cv_results_['std_train_score']\n",
    "cv_auc = grid_search.cv_results_['mean_test_score'] \n",
    "cv_auc_std= grid_search.cv_results_['std_test_score']\n",
    "\n",
    "plt.plot(grid_params['base_estimator__alpha'], train_auc[::2], label='Train AUC')\n",
    "plt.plot(grid_params['base_estimator__alpha'], cv_auc[::2], label='CV AUC')\n",
    "\n",
    "plt.legend()\n",
    "plt.xlabel(\"Alpha: hyperparameter\")\n",
    "plt.ylabel(\"AUC\")\n",
    "plt.title(\"ERROR PLOTS  - L1 Penalty\")\n",
    "plt.show()\n",
    "\n",
    "plt.plot(grid_params['base_estimator__alpha'], train_auc[1::2], label='Train AUC')\n",
    "plt.plot(grid_params['base_estimator__alpha'], cv_auc[1::2], label='CV AUC')\n",
    "\n",
    "plt.legend()\n",
    "plt.xlabel(\"Alpha: hyperparameter\")\n",
    "plt.ylabel(\"AUC\")\n",
    "plt.title(\"ERROR PLOTS - L2 Penalty\")\n",
    "plt.show()\n",
    "\n",
    "print('\\n****Best parameters ', grid_search.best_params_)\n",
    "\n",
    "#calibrated_clf.set_params(**grid_search.best_params_)\n",
    "clf = SGDClassifier(loss='hinge', alpha=grid_search.best_params_['base_estimator__alpha'], penalty=grid_search.best_params_['base_estimator__penalty'])\n",
    "#To get the coef_ followed this url : https://stackoverflow.com/questions/54832246/how-to-get-the-feature-weight-if-we-use-calibrated-cv-for-linear-kernal-on-sgd-c\n",
    "clf.fit(x_train, y_train)\n",
    "\n",
    "calibrated_clf = CalibratedClassifierCV(base_estimator=clf, method='sigmoid', cv=10)  # set the SGD classifier as the base estimator\n",
    "\n",
    "calibrated_clf.fit(x_train, y_train)\n",
    "\n",
    "# roc_auc_score(y_true, y_score) the 2nd parameter should be probability estimates of the positive class\n",
    "# not the predicted outputs\n",
    "train_fpr, train_tpr, thresholds = roc_curve(y_train, calibrated_clf.predict_proba(x_train)[:,1])\n",
    "test_fpr, test_tpr, thresholds = roc_curve(y_test, calibrated_clf.predict_proba(x_test)[:,1])\n",
    "\n",
    "plt.plot(train_fpr, train_tpr, label=\"train AUC =\"+str(auc(train_fpr, train_tpr)))\n",
    "plt.plot(test_fpr, test_tpr, label=\"test AUC =\"+str(auc(test_fpr, test_tpr)))\n",
    "plt.legend()\n",
    "plt.xlabel(\"Alpha: hyperparameter\")\n",
    "plt.ylabel(\"AUC\")\n",
    "plt.title(\"ROC Curve\")\n",
    "plt.show()\n",
    "\n",
    "print(\"=\"*100)\n",
    "\n",
    "import seaborn as sns;\n",
    "print(\"Train confusion matrix\")\n",
    "print(confusion_matrix(y_train, calibrated_clf.predict(x_train)))\n",
    "print(\"Test confusion matrix\")\n",
    "test_CM = confusion_matrix(y_test, calibrated_clf.predict(x_test))\n",
    "test_CM_DF = pd.DataFrame(test_CM, index=['Negative', 'Postive'], columns=['Negative', 'Postive'])\n",
    "print(test_CM)\n",
    "ax = sns.heatmap(test_CM_DF, annot=True,fmt = \"d\")\n",
    "\n",
    "feature_names = vectorizer.get_feature_names()\n",
    "coeffs_feature_name = sorted(zip(calibrated_clf.base_estimator.coef_[0],feature_names))\n",
    "print(coeffs_feature_name[:5])\n",
    "\n",
    "print('Top 10 important features of positive class')\n",
    "top_pos_feat = coeffs_feature_name[:-10:-1]\n",
    "top_pos_feat_values = [ ele[1] for ele in top_pos_feat ]\n",
    "print(top_pos_feat_values)\n",
    "\n",
    "print('Top 10 important features of Negative class')\n",
    "top_neg_feat = coeffs_feature_name[:10]\n",
    "top_neg_feat_values = [ ele[1] for ele in top_neg_feat ]\n",
    "print(top_neg_feat_values)"
   ]
  },
  {
   "cell_type": "markdown",
   "metadata": {
    "colab_type": "text",
    "id": "8AqBDfHxlhVZ"
   },
   "source": [
    "### [5.1.2] Applying Linear SVM on TFIDF,<font color='red'> SET 2</font>"
   ]
  },
  {
   "cell_type": "code",
   "execution_count": 37,
   "metadata": {
    "colab": {
     "base_uri": "https://localhost:8080/",
     "height": 1000
    },
    "colab_type": "code",
    "id": "5BFzotj-lhVa",
    "outputId": "c9569595-37eb-4a37-faf9-5155f18bca9a"
   },
   "outputs": [
    {
     "data": {
      "image/png": "[encoded data removed]",
      "text/plain": [
       "<Figure size 432x288 with 1 Axes>"
      ]
     },
     "metadata": {},
     "output_type": "display_data"
    },
    {
     "data": {
      "image/png": "[encoded data removed]",
      "text/plain": [
       "<Figure size 432x288 with 1 Axes>"
      ]
     },
     "metadata": {},
     "output_type": "display_data"
    },
    {
     "name": "stdout",
     "output_type": "stream",
     "text": [
      "\n",
      "****Best parameters  {'base_estimator__alpha': 0.0001, 'base_estimator__penalty': 'l1'}\n"
     ]
    },
    {
     "data": {
      "image/png": "[encoded data removed]",
      "text/plain": [
       "<Figure size 432x288 with 1 Axes>"
      ]
     },
     "metadata": {},
     "output_type": "display_data"
    },
    {
     "name": "stdout",
     "output_type": "stream",
     "text": [
      "====================================================================================================\n",
      "Train confusion matrix\n",
      "[[ 2683  2444]\n",
      " [  812 24928]]\n",
      "Test confusion matrix\n",
      "[[ 1206  1259]\n",
      " [  470 12269]]\n",
      "[(-3.590285392379746, 'disappointed'), (-3.062045635635494, 'money'), (-2.8066483597416365, 'not'), (-2.7484693663910993, 'away'), (-2.5363293324632767, 'would not')]\n",
      "Top 10 important features of positive class\n",
      "['delicious', 'great', 'perfect', 'best', 'amazing', 'pleased', 'excellent', 'loves', 'nice']\n",
      "Top 10 important features of Negative class\n",
      "['disappointed', 'money', 'not', 'away', 'would not', 'thought', 'opened', 'bad', 'maybe', 'artificial']\n"
     ]
    },
    {
     "data": {
      "image/png": "[encoded data removed]",
      "text/plain": [
       "<Figure size 432x288 with 2 Axes>"
      ]
     },
     "metadata": {},
     "output_type": "display_data"
    }
   ],
   "source": [
    "X = preprocessed_reviews; Y = final['Score']\n",
    "\n",
    "# https://scikit-learn.org/stable/modules/generated/sklearn.model_selection.train_test_split.html\n",
    "from sklearn.model_selection import train_test_split\n",
    "x_train, x_test, y_train, y_test = train_test_split(X, Y, test_size=0.33) # this is random splitting\n",
    "\n",
    "from sklearn.feature_extraction.text import CountVectorizer\n",
    "vectorizer = TfidfVectorizer(ngram_range=(1,2), min_df=10, max_features=500)\n",
    "vectorizer.fit(x_train) # fit has to happen only on train data\n",
    "\n",
    "# we use the fitted CountVectorizer to convert the text to vector\n",
    "x_train = vectorizer.transform(x_train)\n",
    "x_test = vectorizer.transform(x_test)\n",
    "\n",
    "clf = SGDClassifier(loss='hinge')\n",
    "calibrated_clf = CalibratedClassifierCV(base_estimator=clf, method='sigmoid', cv=10)  # set the SGD classifier as the base estimator\n",
    "\n",
    "grid_params = {    \n",
    "    'base_estimator__penalty':['l1','l2'],\n",
    "    'base_estimator__alpha': [10**-4, 10**-3, 10**-2, 10**-1, 10**0, 10**1, 10**2, 10**3, 10**4]\n",
    "}\n",
    "\n",
    "#code taken from link: https://stackoverflow.com/questions/55893734/how-can-i-use-sgdclassifier-hinge-loss-with-gridsearchcv-using-log-loss-metric\n",
    "grid_search = GridSearchCV(estimator=calibrated_clf, param_grid=grid_params, cv=10, scoring='roc_auc',return_train_score=True)\n",
    "grid_search.fit(x_train, y_train)\n",
    "\n",
    "#print(grid_search.cv_results_)\n",
    "\n",
    "train_auc= grid_search.cv_results_['mean_train_score']\n",
    "train_auc_std= grid_search.cv_results_['std_train_score']\n",
    "cv_auc = grid_search.cv_results_['mean_test_score'] \n",
    "cv_auc_std= grid_search.cv_results_['std_test_score']\n",
    "\n",
    "plt.plot(grid_params['base_estimator__alpha'], train_auc[::2], label='Train AUC')\n",
    "plt.plot(grid_params['base_estimator__alpha'], cv_auc[::2], label='CV AUC')\n",
    "\n",
    "plt.legend()\n",
    "plt.xlabel(\"Alpha: hyperparameter\")\n",
    "plt.ylabel(\"AUC\")\n",
    "plt.title(\"ERROR PLOTS  - L1 Penalty\")\n",
    "plt.show()\n",
    "\n",
    "plt.plot(grid_params['base_estimator__alpha'], train_auc[1::2], label='Train AUC')\n",
    "plt.plot(grid_params['base_estimator__alpha'], cv_auc[1::2], label='CV AUC')\n",
    "\n",
    "plt.legend()\n",
    "plt.xlabel(\"Alpha: hyperparameter\")\n",
    "plt.ylabel(\"AUC\")\n",
    "plt.title(\"ERROR PLOTS - L2 Penalty\")\n",
    "plt.show()\n",
    "\n",
    "print('\\n****Best parameters ', grid_search.best_params_)\n",
    "\n",
    "#calibrated_clf.set_params(**grid_search.best_params_)\n",
    "clf = SGDClassifier(loss='hinge', alpha=grid_search.best_params_['base_estimator__alpha'], penalty=grid_search.best_params_['base_estimator__penalty'])\n",
    "#To get the coef_ followed this url : https://stackoverflow.com/questions/54832246/how-to-get-the-feature-weight-if-we-use-calibrated-cv-for-linear-kernal-on-sgd-c\n",
    "clf.fit(x_train, y_train)\n",
    "calibrated_clf = CalibratedClassifierCV(base_estimator=clf, method='sigmoid', cv=10)  # set the SGD classifier as the base estimator\n",
    "\n",
    "calibrated_clf.fit(x_train, y_train)\n",
    "\n",
    "# roc_auc_score(y_true, y_score) the 2nd parameter should be probability estimates of the positive class\n",
    "# not the predicted outputs\n",
    "train_fpr, train_tpr, thresholds = roc_curve(y_train, calibrated_clf.predict_proba(x_train)[:,1])\n",
    "test_fpr, test_tpr, thresholds = roc_curve(y_test, calibrated_clf.predict_proba(x_test)[:,1])\n",
    "\n",
    "plt.plot(train_fpr, train_tpr, label=\"train AUC =\"+str(auc(train_fpr, train_tpr)))\n",
    "plt.plot(test_fpr, test_tpr, label=\"test AUC =\"+str(auc(test_fpr, test_tpr)))\n",
    "plt.legend()\n",
    "plt.xlabel(\"Alpha: hyperparameter\")\n",
    "plt.ylabel(\"AUC\")\n",
    "plt.title(\"ROC Curve\")\n",
    "plt.show()\n",
    "\n",
    "print(\"=\"*100)\n",
    "\n",
    "import seaborn as sns;\n",
    "print(\"Train confusion matrix\")\n",
    "print(confusion_matrix(y_train, calibrated_clf.predict(x_train)))\n",
    "print(\"Test confusion matrix\")\n",
    "test_CM = confusion_matrix(y_test, calibrated_clf.predict(x_test))\n",
    "test_CM_DF = pd.DataFrame(test_CM, index=['Negative', 'Postive'], columns=['Negative', 'Postive'])\n",
    "print(test_CM)\n",
    "ax = sns.heatmap(test_CM_DF, annot=True,fmt = \"d\")\n",
    "\n",
    "feature_names = vectorizer.get_feature_names()\n",
    "coeffs_feature_name = sorted(zip(clf.coef_[0],feature_names))\n",
    "print(coeffs_feature_name[:5])\n",
    "\n",
    "print('Top 10 important features of positive class')\n",
    "top_pos_feat = coeffs_feature_name[:-10:-1]\n",
    "top_pos_feat_values = [ ele[1] for ele in top_pos_feat ]\n",
    "print(top_pos_feat_values)\n",
    "\n",
    "print('Top 10 important features of Negative class')\n",
    "top_neg_feat = coeffs_feature_name[:10]\n",
    "top_neg_feat_values = [ ele[1] for ele in top_neg_feat ]\n",
    "print(top_neg_feat_values)"
   ]
  },
  {
   "cell_type": "markdown",
   "metadata": {
    "colab_type": "text",
    "id": "mllWe1BGlhVc"
   },
   "source": [
    "### [5.1.3]  Applying Linear SVM on AVG W2V,<font color='red'> SET 3</font>"
   ]
  },
  {
   "cell_type": "code",
   "execution_count": 38,
   "metadata": {
    "colab": {
     "base_uri": "https://localhost:8080/",
     "height": 1000
    },
    "colab_type": "code",
    "id": "rCj9F7NwlhVc",
    "outputId": "8c00e1a6-6cde-4786-9f80-128b6e92f746"
   },
   "outputs": [
    {
     "name": "stderr",
     "output_type": "stream",
     "text": [
      "100%|███████████████████████████████████████████████████████████████████████████| 30867/30867 [00:51<00:00, 605.08it/s]\n",
      "100%|███████████████████████████████████████████████████████████████████████████| 15204/15204 [00:28<00:00, 533.93it/s]\n"
     ]
    },
    {
     "data": {
      "image/png": "[encoded data removed]",
      "text/plain": [
       "<Figure size 432x288 with 1 Axes>"
      ]
     },
     "metadata": {},
     "output_type": "display_data"
    },
    {
     "data": {
      "image/png": "[encoded data removed]",
      "text/plain": [
       "<Figure size 432x288 with 1 Axes>"
      ]
     },
     "metadata": {},
     "output_type": "display_data"
    },
    {
     "name": "stdout",
     "output_type": "stream",
     "text": [
      "\n",
      "****Best parameters  {'base_estimator__alpha': 0.001, 'base_estimator__penalty': 'l2'}\n"
     ]
    },
    {
     "data": {
      "image/png": "[encoded data removed]",
      "text/plain": [
       "<Figure size 432x288 with 1 Axes>"
      ]
     },
     "metadata": {},
     "output_type": "display_data"
    },
    {
     "name": "stdout",
     "output_type": "stream",
     "text": [
      "====================================================================================================\n",
      "Train confusion matrix\n",
      "[[ 2251  2882]\n",
      " [  913 24821]]\n",
      "Test confusion matrix\n",
      "[[ 1074  1385]\n",
      " [  488 12257]]\n"
     ]
    },
    {
     "data": {
      "image/png": "[encoded data removed]",
      "text/plain": [
       "<Figure size 432x288 with 2 Axes>"
      ]
     },
     "metadata": {},
     "output_type": "display_data"
    }
   ],
   "source": [
    "from sklearn.calibration import CalibratedClassifierCV\n",
    "from sklearn.linear_model import SGDClassifier\n",
    "from sklearn.model_selection import GridSearchCV, train_test_split\n",
    "\n",
    "X = preprocessed_reviews; Y = final['Score']\n",
    "\n",
    "# https://scikit-learn.org/stable/modules/generated/sklearn.model_selection.train_test_split.html\n",
    "from sklearn.model_selection import train_test_split\n",
    "x_train, x_test, y_train, y_test = train_test_split(X, Y, test_size=0.33) # this is random splitting\n",
    "\n",
    "#word to vector training data set\n",
    "list_of_sentance=[]\n",
    "for sentance in x_train:\n",
    "  list_of_sentance.append(sentance.split())\n",
    "# this line of code trains your w2v model on the give list of sentances\n",
    "w2v_model=Word2Vec(list_of_sentance,min_count=5,size=50, workers=4)\n",
    "w2v_words = list(w2v_model.wv.vocab)\n",
    "\n",
    "sent_vectors = []; # the avg-w2v for each sentence/review is stored in this list\n",
    "for sent in tqdm(list_of_sentance): # for each review/sentence\n",
    "  sent_vec = np.zeros(50) # as word vectors are of zero length 50, you might need to change this to 300 if you use google's w2v\n",
    "  cnt_words =0; # num of words with a valid vector in the sentence/review\n",
    "  for word in sent: # for each word in a review/sentence\n",
    "      if word in w2v_words:\n",
    "          vec = w2v_model.wv[word]\n",
    "          sent_vec += vec\n",
    "          cnt_words += 1\n",
    "  if cnt_words != 0:\n",
    "      sent_vec /= cnt_words\n",
    "  sent_vectors.append(sent_vec)\n",
    "\n",
    "x_train = sent_vectors\n",
    "\n",
    "#word to vector test data set\n",
    "list_of_sentance=[]\n",
    "for sentance in x_test:\n",
    "  list_of_sentance.append(sentance.split())\n",
    "# this line of code trains your w2v model on the give list of sentances\n",
    "\n",
    "sent_vectors = []; # the avg-w2v for each sentence/review is stored in this list\n",
    "for sent in tqdm(list_of_sentance): # for each review/sentence\n",
    "  sent_vec = np.zeros(50) # as word vectors are of zero length 50, you might need to change this to 300 if you use google's w2v\n",
    "  cnt_words =0; # num of words with a valid vector in the sentence/review\n",
    "  for word in sent: # for each word in a review/sentence\n",
    "      if word in w2v_words:\n",
    "          vec = w2v_model.wv[word]\n",
    "          sent_vec += vec\n",
    "          cnt_words += 1\n",
    "  if cnt_words != 0:\n",
    "      sent_vec /= cnt_words\n",
    "  sent_vectors.append(sent_vec)\n",
    "\n",
    "x_test = sent_vectors\n",
    "\n",
    "clf = SGDClassifier(loss='hinge')\n",
    "calibrated_clf = CalibratedClassifierCV(base_estimator=clf, method='sigmoid', cv=10)  # set the SGD classifier as the base estimator\n",
    "\n",
    "grid_params = {    \n",
    "    'base_estimator__penalty':['l1','l2'],\n",
    "    'base_estimator__alpha': [10**-4, 10**-3, 10**-2, 10**-1, 10**0, 10**1, 10**2, 10**3, 10**4]\n",
    "}\n",
    "\n",
    "#code taken from link: https://stackoverflow.com/questions/55893734/how-can-i-use-sgdclassifier-hinge-loss-with-gridsearchcv-using-log-loss-metric\n",
    "grid_search = GridSearchCV(estimator=calibrated_clf, param_grid=grid_params, cv=10, scoring='roc_auc',return_train_score=True)\n",
    "grid_search.fit(x_train, y_train)\n",
    "\n",
    "#print(grid_search.cv_results_)\n",
    "\n",
    "train_auc= grid_search.cv_results_['mean_train_score']\n",
    "train_auc_std= grid_search.cv_results_['std_train_score']\n",
    "cv_auc = grid_search.cv_results_['mean_test_score'] \n",
    "cv_auc_std= grid_search.cv_results_['std_test_score']\n",
    "\n",
    "plt.plot(grid_params['base_estimator__alpha'], train_auc[::2], label='Train AUC')\n",
    "plt.plot(grid_params['base_estimator__alpha'], cv_auc[::2], label='CV AUC')\n",
    "\n",
    "plt.legend()\n",
    "plt.xlabel(\"Alpha: hyperparameter\")\n",
    "plt.ylabel(\"AUC\")\n",
    "plt.title(\"ERROR PLOTS  - L1 Penalty\")\n",
    "plt.show()\n",
    "\n",
    "plt.plot(grid_params['base_estimator__alpha'], train_auc[1::2], label='Train AUC')\n",
    "plt.plot(grid_params['base_estimator__alpha'], cv_auc[1::2], label='CV AUC')\n",
    "\n",
    "plt.legend()\n",
    "plt.xlabel(\"Alpha: hyperparameter\")\n",
    "plt.ylabel(\"AUC\")\n",
    "plt.title(\"ERROR PLOTS - L2 Penalty\")\n",
    "plt.show()\n",
    "\n",
    "print('\\n****Best parameters ', grid_search.best_params_)\n",
    "\n",
    "#calibrated_clf.set_params(**grid_search.best_params_)\n",
    "clf = SGDClassifier(loss='hinge', alpha=grid_search.best_params_['base_estimator__alpha'], penalty=grid_search.best_params_['base_estimator__penalty'])\n",
    "calibrated_clf = CalibratedClassifierCV(base_estimator=clf, method='sigmoid', cv=10)  # set the SGD classifier as the base estimator\n",
    "\n",
    "calibrated_clf.fit(x_train, y_train)\n",
    "\n",
    "# roc_auc_score(y_true, y_score) the 2nd parameter should be probability estimates of the positive class\n",
    "# not the predicted outputs\n",
    "train_fpr, train_tpr, thresholds = roc_curve(y_train, calibrated_clf.predict_proba(x_train)[:,1])\n",
    "test_fpr, test_tpr, thresholds = roc_curve(y_test, calibrated_clf.predict_proba(x_test)[:,1])\n",
    "\n",
    "plt.plot(train_fpr, train_tpr, label=\"train AUC =\"+str(auc(train_fpr, train_tpr)))\n",
    "plt.plot(test_fpr, test_tpr, label=\"test AUC =\"+str(auc(test_fpr, test_tpr)))\n",
    "plt.legend()\n",
    "plt.xlabel(\"Alpha: hyperparameter\")\n",
    "plt.ylabel(\"AUC\")\n",
    "plt.title(\"ROC Curve\")\n",
    "plt.show()\n",
    "\n",
    "print(\"=\"*100)\n",
    "\n",
    "import seaborn as sns;\n",
    "print(\"Train confusion matrix\")\n",
    "print(confusion_matrix(y_train, calibrated_clf.predict(x_train)))\n",
    "print(\"Test confusion matrix\")\n",
    "test_CM = confusion_matrix(y_test, calibrated_clf.predict(x_test))\n",
    "test_CM_DF = pd.DataFrame(test_CM, index=['Negative', 'Postive'], columns=['Negative', 'Postive'])\n",
    "print(test_CM)\n",
    "ax = sns.heatmap(test_CM_DF, annot=True,fmt = \"d\")"
   ]
  },
  {
   "cell_type": "markdown",
   "metadata": {
    "colab_type": "text",
    "id": "AFEbqOMDlhVf"
   },
   "source": [
    "### [5.1.4]  Applying Linear SVM on TFIDF W2V,<font color='red'> SET 4</font>"
   ]
  },
  {
   "cell_type": "code",
   "execution_count": 39,
   "metadata": {
    "colab": {
     "base_uri": "https://localhost:8080/",
     "height": 1000
    },
    "colab_type": "code",
    "id": "TuyXDPWxlhVg",
    "outputId": "4a104a2f-8c06-4441-b509-67385d1c3ee0"
   },
   "outputs": [
    {
     "name": "stderr",
     "output_type": "stream",
     "text": [
      "100%|████████████████████████████████████████████████████████████████████████████| 30867/30867 [06:58<00:00, 73.84it/s]\n",
      "100%|████████████████████████████████████████████████████████████████████████████| 15204/15204 [04:19<00:00, 58.63it/s]\n"
     ]
    },
    {
     "data": {
      "image/png": "[encoded data removed]",
      "text/plain": [
       "<Figure size 432x288 with 1 Axes>"
      ]
     },
     "metadata": {},
     "output_type": "display_data"
    },
    {
     "data": {
      "image/png": "[encoded data removed]",
      "text/plain": [
       "<Figure size 432x288 with 1 Axes>"
      ]
     },
     "metadata": {},
     "output_type": "display_data"
    },
    {
     "name": "stdout",
     "output_type": "stream",
     "text": [
      "\n",
      "****Best parameters  {'base_estimator__alpha': 0.001, 'base_estimator__penalty': 'l2'}\n"
     ]
    },
    {
     "data": {
      "image/png": "[encoded data removed]",
      "text/plain": [
       "<Figure size 432x288 with 1 Axes>"
      ]
     },
     "metadata": {},
     "output_type": "display_data"
    },
    {
     "name": "stdout",
     "output_type": "stream",
     "text": [
      "====================================================================================================\n",
      "Train confusion matrix\n",
      "[[ 1871  3226]\n",
      " [  825 24945]]\n",
      "Test confusion matrix\n",
      "[[  845  1650]\n",
      " [  422 12287]]\n"
     ]
    },
    {
     "data": {
      "image/png": "[encoded data removed]",
      "text/plain": [
       "<Figure size 432x288 with 2 Axes>"
      ]
     },
     "metadata": {},
     "output_type": "display_data"
    }
   ],
   "source": [
    "from sklearn.calibration import CalibratedClassifierCV\n",
    "from sklearn.linear_model import SGDClassifier\n",
    "from sklearn.model_selection import GridSearchCV, train_test_split\n",
    "\n",
    "X = preprocessed_reviews; Y = final['Score']\n",
    "\n",
    "# https://scikit-learn.org/stable/modules/generated/sklearn.model_selection.train_test_split.html\n",
    "from sklearn.model_selection import train_test_split\n",
    "x_train, x_test, y_train, y_test = train_test_split(X, Y, test_size=0.33) # this is random splitting\n",
    "\n",
    "list_of_sentance=[]\n",
    "for sentance in x_train:\n",
    "  list_of_sentance.append(sentance.split())\n",
    "  \n",
    "model = TfidfVectorizer()\n",
    "model.fit(x_train)\n",
    "# we are converting a dictionary with word as a key, and the idf as a value\n",
    "dictionary = dict(zip(model.get_feature_names(), list(model.idf_)))\n",
    "tfidf_feat = model.get_feature_names()\n",
    "\n",
    "# this line of code trains your w2v model on the give list of sentances\n",
    "w2v_model=Word2Vec(list_of_sentance,min_count=5,size=50, workers=4)\n",
    "w2v_words = list(w2v_model.wv.vocab)\n",
    "\n",
    "tfidf_sent_vectors = []; # the tfidf-w2v for each sentence/review is stored in this list\n",
    "for sent in tqdm(list_of_sentance): # for each review/sentence \n",
    "    sent_vec = np.zeros(50) # as word vectors are of zero length\n",
    "    weight_sum =0; # num of words with a valid vector in the sentence/review\n",
    "    for word in sent: # for each word in a review/sentence\n",
    "        if word in w2v_words and word in tfidf_feat:\n",
    "            vec = w2v_model.wv[word]\n",
    "#             tf_idf = tf_idf_matrix[row, tfidf_feat.index(word)]\n",
    "            # to reduce the computation we are \n",
    "            # dictionary[word] = idf value of word in whole courpus\n",
    "            # sent.count(word) = tf valeus of word in this review\n",
    "            tf_idf = dictionary[word]*(sent.count(word)/len(sent))\n",
    "            sent_vec += (vec * tf_idf)\n",
    "            weight_sum += tf_idf\n",
    "    if weight_sum != 0:\n",
    "        sent_vec /= weight_sum\n",
    "    tfidf_sent_vectors.append(sent_vec)\n",
    "\n",
    "x_train = tfidf_sent_vectors\n",
    "\n",
    "list_of_sentance=[]\n",
    "for sentance in x_test:\n",
    "  list_of_sentance.append(sentance.split())\n",
    "  \n",
    "tfidf_sent_vectors = []; # the tfidf-w2v for each sentence/review is stored in this list\n",
    "for sent in tqdm(list_of_sentance): # for each review/sentence \n",
    "    sent_vec = np.zeros(50) # as word vectors are of zero length\n",
    "    weight_sum =0; # num of words with a valid vector in the sentence/review\n",
    "    for word in sent: # for each word in a review/sentence\n",
    "        if word in w2v_words and word in tfidf_feat:\n",
    "            vec = w2v_model.wv[word]\n",
    "#             tf_idf = tf_idf_matrix[row, tfidf_feat.index(word)]\n",
    "            # to reduce the computation we are \n",
    "            # dictionary[word] = idf value of word in whole courpus\n",
    "            # sent.count(word) = tf valeus of word in this review\n",
    "            tf_idf = dictionary[word]*(sent.count(word)/len(sent))\n",
    "            sent_vec += (vec * tf_idf)\n",
    "            weight_sum += tf_idf\n",
    "    if weight_sum != 0:\n",
    "        sent_vec /= weight_sum\n",
    "    tfidf_sent_vectors.append(sent_vec)\n",
    "\n",
    "x_test = tfidf_sent_vectors\n",
    "\n",
    "clf = SGDClassifier(loss='hinge')\n",
    "calibrated_clf = CalibratedClassifierCV(base_estimator=clf, method='sigmoid', cv=10)  # set the SGD classifier as the base estimator\n",
    "\n",
    "grid_params = {    \n",
    "    'base_estimator__penalty':['l1','l2'],\n",
    "    'base_estimator__alpha': [10**-4, 10**-3, 10**-2, 10**-1, 10**0, 10**1, 10**2, 10**3, 10**4]\n",
    "}\n",
    "\n",
    "#code taken from link: https://stackoverflow.com/questions/55893734/how-can-i-use-sgdclassifier-hinge-loss-with-gridsearchcv-using-log-loss-metric\n",
    "grid_search = GridSearchCV(estimator=calibrated_clf, param_grid=grid_params, cv=10, scoring='roc_auc',return_train_score=True)\n",
    "grid_search.fit(x_train, y_train)\n",
    "\n",
    "#print(grid_search.cv_results_)\n",
    "\n",
    "train_auc= grid_search.cv_results_['mean_train_score']\n",
    "train_auc_std= grid_search.cv_results_['std_train_score']\n",
    "cv_auc = grid_search.cv_results_['mean_test_score'] \n",
    "cv_auc_std= grid_search.cv_results_['std_test_score']\n",
    "\n",
    "plt.plot(grid_params['base_estimator__alpha'], train_auc[::2], label='Train AUC')\n",
    "plt.plot(grid_params['base_estimator__alpha'], cv_auc[::2], label='CV AUC')\n",
    "\n",
    "plt.legend()\n",
    "plt.xlabel(\"Alpha: hyperparameter\")\n",
    "plt.ylabel(\"AUC\")\n",
    "plt.title(\"ERROR PLOTS  - L1 Penalty\")\n",
    "plt.show()\n",
    "\n",
    "plt.plot(grid_params['base_estimator__alpha'], train_auc[1::2], label='Train AUC')\n",
    "plt.plot(grid_params['base_estimator__alpha'], cv_auc[1::2], label='CV AUC')\n",
    "\n",
    "plt.legend()\n",
    "plt.xlabel(\"Alpha: hyperparameter\")\n",
    "plt.ylabel(\"AUC\")\n",
    "plt.title(\"ERROR PLOTS - L2 Penalty\")\n",
    "plt.show()\n",
    "\n",
    "print('\\n****Best parameters ', grid_search.best_params_)\n",
    "\n",
    "#calibrated_clf.set_params(**grid_search.best_params_)\n",
    "clf = SGDClassifier(loss='hinge', alpha=grid_search.best_params_['base_estimator__alpha'], penalty=grid_search.best_params_['base_estimator__penalty'])\n",
    "calibrated_clf = CalibratedClassifierCV(base_estimator=clf, method='sigmoid', cv=10)  # set the SGD classifier as the base estimator\n",
    "\n",
    "calibrated_clf.fit(x_train, y_train)\n",
    "\n",
    "# roc_auc_score(y_true, y_score) the 2nd parameter should be probability estimates of the positive class\n",
    "# not the predicted outputs\n",
    "train_fpr, train_tpr, thresholds = roc_curve(y_train, calibrated_clf.predict_proba(x_train)[:,1])\n",
    "test_fpr, test_tpr, thresholds = roc_curve(y_test, calibrated_clf.predict_proba(x_test)[:,1])\n",
    "\n",
    "plt.plot(train_fpr, train_tpr, label=\"train AUC =\"+str(auc(train_fpr, train_tpr)))\n",
    "plt.plot(test_fpr, test_tpr, label=\"test AUC =\"+str(auc(test_fpr, test_tpr)))\n",
    "plt.legend()\n",
    "plt.xlabel(\"Alpha: hyperparameter\")\n",
    "plt.ylabel(\"AUC\")\n",
    "plt.title(\"ROC Curve\")\n",
    "plt.show()\n",
    "\n",
    "print(\"=\"*100)\n",
    "\n",
    "import seaborn as sns;\n",
    "print(\"Train confusion matrix\")\n",
    "print(confusion_matrix(y_train, calibrated_clf.predict(x_train)))\n",
    "print(\"Test confusion matrix\")\n",
    "test_CM = confusion_matrix(y_test, calibrated_clf.predict(x_test))\n",
    "test_CM_DF = pd.DataFrame(test_CM, index=['Negative', 'Postive'], columns=['Negative', 'Postive'])\n",
    "print(test_CM)\n",
    "ax = sns.heatmap(test_CM_DF, annot=True,fmt = \"d\")"
   ]
  },
  {
   "cell_type": "markdown",
   "metadata": {
    "colab_type": "text",
    "id": "8e1gG9cRlhVi"
   },
   "source": [
    "## [5.2] RBF SVM"
   ]
  },
  {
   "cell_type": "markdown",
   "metadata": {
    "colab_type": "text",
    "id": "DkZ5E_IrlhVj"
   },
   "source": [
    "### [5.2.1] Applying RBF SVM on BOW,<font color='red'> SET 1</font>"
   ]
  },
  {
   "cell_type": "code",
   "execution_count": 42,
   "metadata": {
    "colab": {
     "base_uri": "https://localhost:8080/",
     "height": 972
    },
    "colab_type": "code",
    "id": "kuoRNom6lhVl",
    "outputId": "1d3c75bf-6b45-4e82-98b0-6dba6518a5cb"
   },
   "outputs": [
    {
     "data": {
      "image/png": "[encoded data removed]",
      "text/plain": [
       "<Figure size 432x288 with 1 Axes>"
      ]
     },
     "metadata": {},
     "output_type": "display_data"
    },
    {
     "data": {
      "image/png": "[encoded data removed]",
      "text/plain": [
       "<Figure size 432x288 with 1 Axes>"
      ]
     },
     "metadata": {},
     "output_type": "display_data"
    },
    {
     "name": "stdout",
     "output_type": "stream",
     "text": [
      "\n",
      "****Best parameters  {'C': 1, 'gamma': 0.01}\n"
     ]
    },
    {
     "data": {
      "image/png": "[encoded data removed]",
      "text/plain": [
       "<Figure size 432x288 with 1 Axes>"
      ]
     },
     "metadata": {},
     "output_type": "display_data"
    },
    {
     "name": "stdout",
     "output_type": "stream",
     "text": [
      "====================================================================================================\n",
      "Train confusion matrix\n",
      "[[  899  1232]\n",
      " [   69 11200]]\n",
      "Test confusion matrix\n",
      "[[ 312  793]\n",
      " [  72 5423]]\n"
     ]
    },
    {
     "data": {
      "image/png": "[encoded data removed]",
      "text/plain": [
       "<Figure size 432x288 with 2 Axes>"
      ]
     },
     "metadata": {},
     "output_type": "display_data"
    }
   ],
   "source": [
    "# Please write all the code with proper documentation\n",
    "from sklearn.svm import SVC\n",
    "from sklearn.model_selection import GridSearchCV, train_test_split\n",
    "\n",
    "X = preprocessed_reviews[:20000]; Y = final['Score'][:20000] # Took 20k datapoints as running the cell took so much time\n",
    "\n",
    "# https://scikit-learn.org/stable/modules/generated/sklearn.model_selection.train_test_split.html\n",
    "from sklearn.model_selection import train_test_split\n",
    "x_train, x_test, y_train, y_test = train_test_split(X, Y, test_size=0.33) # this is random splitting\n",
    "\n",
    "from sklearn.feature_extraction.text import CountVectorizer\n",
    "vectorizer = CountVectorizer(min_df=10, max_features=500)\n",
    "vectorizer.fit(x_train) # fit has to happen only on train data\n",
    "\n",
    "# we use the fitted CountVectorizer to convert the text to vector\n",
    "x_train = vectorizer.transform(x_train)\n",
    "x_test = vectorizer.transform(x_test)\n",
    "\n",
    "clf = SVC( kernel='rbf', probability=True)\n",
    "\n",
    "grid_params = {    \n",
    "    'gamma': [10**-4,  10**-2, 10**0, 10**2, 10**4],\n",
    "    'C': [10**-4,  10**-2, 10**0, 10**2, 10**4]\n",
    "}\n",
    "\n",
    "#code taken from link: https://stackoverflow.com/questions/55893734/how-can-i-use-sgdclassifier-hinge-loss-with-gridsearchcv-using-log-loss-metric\n",
    "grid_search = GridSearchCV(estimator=clf, param_grid=grid_params, scoring='roc_auc',return_train_score=True, n_jobs=-1)\n",
    "grid_search.fit(x_train, y_train)\n",
    "#https://www.geeksforgeeks.org/svm-hyperparameter-tuning-using-gridsearchcv-ml/\n",
    "#print(grid_search.cv_results_)\n",
    "\n",
    "train_auc= grid_search.cv_results_['mean_train_score']\n",
    "train_auc_std= grid_search.cv_results_['std_train_score']\n",
    "cv_auc = grid_search.cv_results_['mean_test_score'] \n",
    "cv_auc_std= grid_search.cv_results_['std_test_score']\n",
    "\n",
    "plt.plot(grid_params['gamma'], train_auc[::5], label='Train AUC')\n",
    "plt.plot(grid_params['gamma'], cv_auc[::5], label='CV AUC')\n",
    "\n",
    "plt.legend()\n",
    "plt.xlabel(\"Gamma: hyperparameter\")\n",
    "plt.ylabel(\"AUC\")\n",
    "plt.title(\"ERROR PLOTS\")\n",
    "plt.show()\n",
    "\n",
    "plt.plot(grid_params['C'], train_auc[1::5], label='Train AUC')\n",
    "plt.plot(grid_params['C'], cv_auc[1::5], label='CV AUC')\n",
    "\n",
    "plt.legend()\n",
    "plt.xlabel(\"C: hyperparameter\")\n",
    "plt.ylabel(\"AUC\")\n",
    "plt.title(\"ERROR PLOTS\")\n",
    "plt.show()\n",
    "\n",
    "print('\\n****Best parameters ', grid_search.best_params_)\n",
    "\n",
    "clf = SVC( C=grid_search.best_params_['C'], gamma=grid_search.best_params_['gamma'], kernel='rbf', probability=True)\n",
    "\n",
    "clf.fit(x_train, y_train)\n",
    "\n",
    "# roc_auc_score(y_true, y_score) the 2nd parameter should be probability estimates of the positive class\n",
    "# not the predicted outputs\n",
    "train_fpr, train_tpr, thresholds = roc_curve(y_train, clf.predict_proba(x_train)[:,1])\n",
    "test_fpr, test_tpr, thresholds = roc_curve(y_test, clf.predict_proba(x_test)[:,1])\n",
    "\n",
    "plt.plot(train_fpr, train_tpr, label=\"train AUC =\"+str(auc(train_fpr, train_tpr)))\n",
    "plt.plot(test_fpr, test_tpr, label=\"test AUC =\"+str(auc(test_fpr, test_tpr)))\n",
    "plt.legend()\n",
    "plt.xlabel(\"C & Gamma: hyperparameter\")\n",
    "plt.ylabel(\"AUC\")\n",
    "plt.title(\"ROC Curve\")\n",
    "plt.show()\n",
    "\n",
    "print(\"=\"*100)\n",
    "\n",
    "import seaborn as sns;\n",
    "print(\"Train confusion matrix\")\n",
    "print(confusion_matrix(y_train, clf.predict(x_train)))\n",
    "print(\"Test confusion matrix\")\n",
    "test_CM = confusion_matrix(y_test, clf.predict(x_test))\n",
    "test_CM_DF = pd.DataFrame(test_CM, index=['Negative', 'Postive'], columns=['Negative', 'Postive'])\n",
    "print(test_CM)\n",
    "ax = sns.heatmap(test_CM_DF, annot=True,fmt = \"d\")\n"
   ]
  },
  {
   "cell_type": "markdown",
   "metadata": {
    "colab_type": "text",
    "id": "PB--8vt3lhVp"
   },
   "source": [
    "### [5.2.2] Applying RBF SVM on TFIDF,<font color='red'> SET 2</font>"
   ]
  },
  {
   "cell_type": "code",
   "execution_count": 43,
   "metadata": {
    "colab": {},
    "colab_type": "code",
    "id": "kdGumTmTlhVp"
   },
   "outputs": [
    {
     "data": {
      "image/png": "[encoded data removed]",
      "text/plain": [
       "<Figure size 432x288 with 1 Axes>"
      ]
     },
     "metadata": {},
     "output_type": "display_data"
    },
    {
     "data": {
      "image/png": "[encoded data removed]",
      "text/plain": [
       "<Figure size 432x288 with 1 Axes>"
      ]
     },
     "metadata": {},
     "output_type": "display_data"
    },
    {
     "name": "stdout",
     "output_type": "stream",
     "text": [
      "\n",
      "****Best parameters  {'C': 100, 'gamma': 1}\n"
     ]
    },
    {
     "data": {
      "image/png": "[encoded data removed]",
      "text/plain": [
       "<Figure size 432x288 with 1 Axes>"
      ]
     },
     "metadata": {},
     "output_type": "display_data"
    },
    {
     "name": "stdout",
     "output_type": "stream",
     "text": [
      "====================================================================================================\n",
      "Train confusion matrix\n",
      "[[ 2135     8]\n",
      " [    0 11257]]\n",
      "Test confusion matrix\n",
      "[[ 536  557]\n",
      " [ 205 5302]]\n"
     ]
    },
    {
     "data": {
      "image/png": "[encoded data removed]",
      "text/plain": [
       "<Figure size 432x288 with 2 Axes>"
      ]
     },
     "metadata": {},
     "output_type": "display_data"
    }
   ],
   "source": [
    "from sklearn.svm import SVC\n",
    "from sklearn.model_selection import GridSearchCV, train_test_split\n",
    "\n",
    "X = preprocessed_reviews[:20000]; Y = final['Score'][:20000]  # Took 20k datapoints as running the cell took so much time\n",
    "\n",
    "# https://scikit-learn.org/stable/modules/generated/sklearn.model_selection.train_test_split.html\n",
    "from sklearn.model_selection import train_test_split\n",
    "x_train, x_test, y_train, y_test = train_test_split(X, Y, test_size=0.33) # this is random splitting\n",
    "\n",
    "vectorizer = TfidfVectorizer(ngram_range=(1,2), min_df=10, max_features=500)\n",
    "vectorizer.fit(x_train) # fit has to happen only on train data\n",
    "\n",
    "# we use the fitted CountVectorizer to convert the text to vector\n",
    "x_train = vectorizer.transform(x_train)\n",
    "x_test = vectorizer.transform(x_test)\n",
    "\n",
    "clf = SVC( kernel='rbf', probability=True)\n",
    "\n",
    "grid_params = {    \n",
    "    'gamma': [10**-4,  10**-2, 10**0, 10**2, 10**4],\n",
    "    'C': [10**-4,  10**-2, 10**0, 10**2, 10**4]\n",
    "}\n",
    "\n",
    "#code taken from link: https://stackoverflow.com/questions/55893734/how-can-i-use-sgdclassifier-hinge-loss-with-gridsearchcv-using-log-loss-metric\n",
    "grid_search = GridSearchCV(estimator=clf, param_grid=grid_params, scoring='roc_auc',return_train_score=True, n_jobs=-1)\n",
    "grid_search.fit(x_train, y_train)\n",
    "#https://www.geeksforgeeks.org/svm-hyperparameter-tuning-using-gridsearchcv-ml/\n",
    "#print(grid_search.cv_results_)\n",
    "\n",
    "train_auc= grid_search.cv_results_['mean_train_score']\n",
    "train_auc_std= grid_search.cv_results_['std_train_score']\n",
    "cv_auc = grid_search.cv_results_['mean_test_score'] \n",
    "cv_auc_std= grid_search.cv_results_['std_test_score']\n",
    "\n",
    "plt.plot(grid_params['gamma'], train_auc[::5], label='Train AUC')\n",
    "plt.plot(grid_params['gamma'], cv_auc[::5], label='CV AUC')\n",
    "\n",
    "plt.legend()\n",
    "plt.xlabel(\"Gamma: hyperparameter\")\n",
    "plt.ylabel(\"AUC\")\n",
    "plt.title(\"ERROR PLOTS\")\n",
    "plt.show()\n",
    "\n",
    "plt.plot(grid_params['C'], train_auc[1::5], label='Train AUC')\n",
    "plt.plot(grid_params['C'], cv_auc[1::5], label='CV AUC')\n",
    "\n",
    "plt.legend()\n",
    "plt.xlabel(\"C: hyperparameter\")\n",
    "plt.ylabel(\"AUC\")\n",
    "plt.title(\"ERROR PLOTS\")\n",
    "plt.show()\n",
    "\n",
    "print('\\n****Best parameters ', grid_search.best_params_)\n",
    "\n",
    "clf = SVC( C=grid_search.best_params_['C'], gamma=grid_search.best_params_['gamma'], kernel='rbf', probability=True)\n",
    "clf.fit(x_train, y_train)\n",
    "\n",
    "\n",
    "# roc_auc_score(y_true, y_score) the 2nd parameter should be probability estimates of the positive class\n",
    "# not the predicted outputs\n",
    "train_fpr, train_tpr, thresholds = roc_curve(y_train, clf.predict_proba(x_train)[:,1])\n",
    "test_fpr, test_tpr, thresholds = roc_curve(y_test, clf.predict_proba(x_test)[:,1])\n",
    "\n",
    "plt.plot(train_fpr, train_tpr, label=\"train AUC =\"+str(auc(train_fpr, train_tpr)))\n",
    "plt.plot(test_fpr, test_tpr, label=\"test AUC =\"+str(auc(test_fpr, test_tpr)))\n",
    "plt.legend()\n",
    "plt.xlabel(\"C & Gamma: hyperparameter\")\n",
    "plt.ylabel(\"AUC\")\n",
    "plt.title(\"ROC Curve\")\n",
    "plt.show()\n",
    "\n",
    "print(\"=\"*100)\n",
    "\n",
    "import seaborn as sns;\n",
    "print(\"Train confusion matrix\")\n",
    "print(confusion_matrix(y_train, clf.predict(x_train)))\n",
    "print(\"Test confusion matrix\")\n",
    "test_CM = confusion_matrix(y_test, clf.predict(x_test))\n",
    "test_CM_DF = pd.DataFrame(test_CM, index=['Negative', 'Postive'], columns=['Negative', 'Postive'])\n",
    "print(test_CM)\n",
    "ax = sns.heatmap(test_CM_DF, annot=True,fmt = \"d\")"
   ]
  },
  {
   "cell_type": "markdown",
   "metadata": {
    "colab_type": "text",
    "id": "1W0ahhcXlhVs"
   },
   "source": [
    "### [5.2.3]  Applying RBF SVM on AVG W2V,<font color='red'> SET 3</font>"
   ]
  },
  {
   "cell_type": "code",
   "execution_count": 44,
   "metadata": {
    "colab": {},
    "colab_type": "code",
    "id": "pkP6vaZLlhVt"
   },
   "outputs": [
    {
     "name": "stderr",
     "output_type": "stream",
     "text": [
      "100%|███████████████████████████████████████████████████████████████████████████| 13400/13400 [00:24<00:00, 545.78it/s]\n",
      "100%|█████████████████████████████████████████████████████████████████████████████| 6600/6600 [00:11<00:00, 554.37it/s]\n"
     ]
    },
    {
     "data": {
      "image/png": "[encoded data removed]",
      "text/plain": [
       "<Figure size 432x288 with 1 Axes>"
      ]
     },
     "metadata": {},
     "output_type": "display_data"
    },
    {
     "data": {
      "image/png": "[encoded data removed]",
      "text/plain": [
       "<Figure size 432x288 with 1 Axes>"
      ]
     },
     "metadata": {},
     "output_type": "display_data"
    },
    {
     "name": "stdout",
     "output_type": "stream",
     "text": [
      "\n",
      "****Best parameters  {'C': 10000, 'gamma': 0.01}\n"
     ]
    },
    {
     "data": {
      "image/png": "[encoded data removed]",
      "text/plain": [
       "<Figure size 432x288 with 1 Axes>"
      ]
     },
     "metadata": {},
     "output_type": "display_data"
    },
    {
     "name": "stdout",
     "output_type": "stream",
     "text": [
      "====================================================================================================\n",
      "Train confusion matrix\n",
      "[[  873  1249]\n",
      " [  234 11044]]\n",
      "Test confusion matrix\n",
      "[[ 441  673]\n",
      " [ 168 5318]]\n"
     ]
    },
    {
     "data": {
      "image/png": "[encoded data removed]",
      "text/plain": [
       "<Figure size 432x288 with 2 Axes>"
      ]
     },
     "metadata": {},
     "output_type": "display_data"
    }
   ],
   "source": [
    "# Please write all the code with proper documentation\n",
    "from sklearn.svm import SVC\n",
    "\n",
    "X = preprocessed_reviews[:20000]; Y = final['Score'][:20000]  # Took 20k datapoints as running the cell took so much time\n",
    "\n",
    "# https://scikit-learn.org/stable/modules/generated/sklearn.model_selection.train_test_split.html\n",
    "from sklearn.model_selection import train_test_split\n",
    "x_train, x_test, y_train, y_test = train_test_split(X, Y, test_size=0.33) # this is random splitting\n",
    "\n",
    "#word to vector training data set\n",
    "list_of_sentance=[]\n",
    "for sentance in x_train:\n",
    "  list_of_sentance.append(sentance.split())\n",
    "# this line of code trains your w2v model on the give list of sentances\n",
    "w2v_model=Word2Vec(list_of_sentance,min_count=5,size=50, workers=4)\n",
    "w2v_words = list(w2v_model.wv.vocab)\n",
    "\n",
    "sent_vectors = []; # the avg-w2v for each sentence/review is stored in this list\n",
    "for sent in tqdm(list_of_sentance): # for each review/sentence\n",
    "  sent_vec = np.zeros(50) # as word vectors are of zero length 50, you might need to change this to 300 if you use google's w2v\n",
    "  cnt_words =0; # num of words with a valid vector in the sentence/review\n",
    "  for word in sent: # for each word in a review/sentence\n",
    "      if word in w2v_words:\n",
    "          vec = w2v_model.wv[word]\n",
    "          sent_vec += vec\n",
    "          cnt_words += 1\n",
    "  if cnt_words != 0:\n",
    "      sent_vec /= cnt_words\n",
    "  sent_vectors.append(sent_vec)\n",
    "\n",
    "x_train = sent_vectors\n",
    "\n",
    "#word to vector test data set\n",
    "list_of_sentance=[]\n",
    "for sentance in x_test:\n",
    "  list_of_sentance.append(sentance.split())\n",
    "# this line of code trains your w2v model on the give list of sentances\n",
    "\n",
    "sent_vectors = []; # the avg-w2v for each sentence/review is stored in this list\n",
    "for sent in tqdm(list_of_sentance): # for each review/sentence\n",
    "  sent_vec = np.zeros(50) # as word vectors are of zero length 50, you might need to change this to 300 if you use google's w2v\n",
    "  cnt_words =0; # num of words with a valid vector in the sentence/review\n",
    "  for word in sent: # for each word in a review/sentence\n",
    "      if word in w2v_words:\n",
    "          vec = w2v_model.wv[word]\n",
    "          sent_vec += vec\n",
    "          cnt_words += 1\n",
    "  if cnt_words != 0:\n",
    "      sent_vec /= cnt_words\n",
    "  sent_vectors.append(sent_vec)\n",
    "\n",
    "x_test = sent_vectors\n",
    "\n",
    "clf = SVC( kernel='rbf', probability=True)\n",
    "\n",
    "grid_params = {    \n",
    "    'gamma': [10**-4,  10**-2, 10**0, 10**2, 10**4],\n",
    "    'C': [10**-4,  10**-2, 10**0, 10**2, 10**4]\n",
    "}\n",
    "\n",
    "#code taken from link: https://stackoverflow.com/questions/55893734/how-can-i-use-sgdclassifier-hinge-loss-with-gridsearchcv-using-log-loss-metric\n",
    "grid_search = GridSearchCV(estimator=clf, param_grid=grid_params, scoring='roc_auc',return_train_score=True, n_jobs=-1)\n",
    "grid_search.fit(x_train, y_train)\n",
    "#https://www.geeksforgeeks.org/svm-hyperparameter-tuning-using-gridsearchcv-ml/\n",
    "#print(grid_search.cv_results_)\n",
    "\n",
    "train_auc= grid_search.cv_results_['mean_train_score']\n",
    "train_auc_std= grid_search.cv_results_['std_train_score']\n",
    "cv_auc = grid_search.cv_results_['mean_test_score'] \n",
    "cv_auc_std= grid_search.cv_results_['std_test_score']\n",
    "\n",
    "plt.plot(grid_params['gamma'], train_auc[::5], label='Train AUC')\n",
    "plt.plot(grid_params['gamma'], cv_auc[::5], label='CV AUC')\n",
    "\n",
    "plt.legend()\n",
    "plt.xlabel(\"Gamma: hyperparameter\")\n",
    "plt.ylabel(\"AUC\")\n",
    "plt.title(\"ERROR PLOTS\")\n",
    "plt.show()\n",
    "\n",
    "plt.plot(grid_params['C'], train_auc[1::5], label='Train AUC')\n",
    "plt.plot(grid_params['C'], cv_auc[1::5], label='CV AUC')\n",
    "\n",
    "plt.legend()\n",
    "plt.xlabel(\"C: hyperparameter\")\n",
    "plt.ylabel(\"AUC\")\n",
    "plt.title(\"ERROR PLOTS\")\n",
    "plt.show()\n",
    "\n",
    "print('\\n****Best parameters ', grid_search.best_params_)\n",
    "\n",
    "clf = SVC( C=grid_search.best_params_['C'], gamma=grid_search.best_params_['gamma'], kernel='rbf', probability=True)\n",
    "clf.fit(x_train, y_train)\n",
    "\n",
    "\n",
    "# roc_auc_score(y_true, y_score) the 2nd parameter should be probability estimates of the positive class\n",
    "# not the predicted outputs\n",
    "train_fpr, train_tpr, thresholds = roc_curve(y_train, clf.predict_proba(x_train)[:,1])\n",
    "test_fpr, test_tpr, thresholds = roc_curve(y_test, clf.predict_proba(x_test)[:,1])\n",
    "\n",
    "plt.plot(train_fpr, train_tpr, label=\"train AUC =\"+str(auc(train_fpr, train_tpr)))\n",
    "plt.plot(test_fpr, test_tpr, label=\"test AUC =\"+str(auc(test_fpr, test_tpr)))\n",
    "plt.legend()\n",
    "plt.xlabel(\"C & Gamma: hyperparameter\")\n",
    "plt.ylabel(\"AUC\")\n",
    "plt.title(\"ROC Curve\")\n",
    "plt.show()\n",
    "\n",
    "print(\"=\"*100)\n",
    "\n",
    "import seaborn as sns;\n",
    "print(\"Train confusion matrix\")\n",
    "print(confusion_matrix(y_train, clf.predict(x_train)))\n",
    "print(\"Test confusion matrix\")\n",
    "test_CM = confusion_matrix(y_test, clf.predict(x_test))\n",
    "test_CM_DF = pd.DataFrame(test_CM, index=['Negative', 'Postive'], columns=['Negative', 'Postive'])\n",
    "print(test_CM)\n",
    "ax = sns.heatmap(test_CM_DF, annot=True,fmt = \"d\")\n"
   ]
  },
  {
   "cell_type": "markdown",
   "metadata": {
    "colab_type": "text",
    "id": "PvzZSM7IlhVv"
   },
   "source": [
    "### [5.2.4]  Applying RBF SVM on TFIDF W2V,<font color='red'> SET 4</font>"
   ]
  },
  {
   "cell_type": "code",
   "execution_count": 45,
   "metadata": {
    "colab": {},
    "colab_type": "code",
    "id": "rpwN64dUlhVw"
   },
   "outputs": [
    {
     "name": "stderr",
     "output_type": "stream",
     "text": [
      "100%|███████████████████████████████████████████████████████████████████████████| 13400/13400 [02:06<00:00, 105.63it/s]\n",
      "100%|█████████████████████████████████████████████████████████████████████████████| 6600/6600 [01:02<00:00, 106.27it/s]\n"
     ]
    },
    {
     "data": {
      "image/png": "[encoded data removed]",
      "text/plain": [
       "<Figure size 432x288 with 1 Axes>"
      ]
     },
     "metadata": {},
     "output_type": "display_data"
    },
    {
     "data": {
      "image/png": "[encoded data removed]",
      "text/plain": [
       "<Figure size 432x288 with 1 Axes>"
      ]
     },
     "metadata": {},
     "output_type": "display_data"
    },
    {
     "name": "stdout",
     "output_type": "stream",
     "text": [
      "\n",
      "****Best parameters  {'C': 100, 'gamma': 0.01}\n"
     ]
    },
    {
     "data": {
      "image/png": "[encoded data removed]",
      "text/plain": [
       "<Figure size 432x288 with 1 Axes>"
      ]
     },
     "metadata": {},
     "output_type": "display_data"
    },
    {
     "name": "stdout",
     "output_type": "stream",
     "text": [
      "====================================================================================================\n",
      "Train confusion matrix\n",
      "[[  163  1985]\n",
      " [   35 11217]]\n",
      "Test confusion matrix\n",
      "[[  67 1021]\n",
      " [  19 5493]]\n"
     ]
    },
    {
     "data": {
      "image/png": "[encoded data removed]",
      "text/plain": [
       "<Figure size 432x288 with 2 Axes>"
      ]
     },
     "metadata": {},
     "output_type": "display_data"
    }
   ],
   "source": [
    "# Please write all the code with proper documentation\n",
    "from sklearn.svm import SVC\n",
    "\n",
    "X = preprocessed_reviews[:20000]; Y = final['Score'][:20000]  # Took 20k datapoints as running the cell took so much time\n",
    "\n",
    "# https://scikit-learn.org/stable/modules/generated/sklearn.model_selection.train_test_split.html\n",
    "from sklearn.model_selection import train_test_split\n",
    "x_train, x_test, y_train, y_test = train_test_split(X, Y, test_size=0.33) # this is random splitting\n",
    "\n",
    "list_of_sentance=[]\n",
    "for sentance in x_train:\n",
    "  list_of_sentance.append(sentance.split())\n",
    "  \n",
    "model = TfidfVectorizer()\n",
    "model.fit(x_train)\n",
    "# we are converting a dictionary with word as a key, and the idf as a value\n",
    "dictionary = dict(zip(model.get_feature_names(), list(model.idf_)))\n",
    "tfidf_feat = model.get_feature_names()\n",
    "\n",
    "# this line of code trains your w2v model on the give list of sentances\n",
    "w2v_model=Word2Vec(list_of_sentance,min_count=5,size=50, workers=4)\n",
    "w2v_words = list(w2v_model.wv.vocab)\n",
    "\n",
    "tfidf_sent_vectors = []; # the tfidf-w2v for each sentence/review is stored in this list\n",
    "for sent in tqdm(list_of_sentance): # for each review/sentence \n",
    "    sent_vec = np.zeros(50) # as word vectors are of zero length\n",
    "    weight_sum =0; # num of words with a valid vector in the sentence/review\n",
    "    for word in sent: # for each word in a review/sentence\n",
    "        if word in w2v_words and word in tfidf_feat:\n",
    "            vec = w2v_model.wv[word]\n",
    "#             tf_idf = tf_idf_matrix[row, tfidf_feat.index(word)]\n",
    "            # to reduce the computation we are \n",
    "            # dictionary[word] = idf value of word in whole courpus\n",
    "            # sent.count(word) = tf valeus of word in this review\n",
    "            tf_idf = dictionary[word]*(sent.count(word)/len(sent))\n",
    "            sent_vec += (vec * tf_idf)\n",
    "            weight_sum += tf_idf\n",
    "    if weight_sum != 0:\n",
    "        sent_vec /= weight_sum\n",
    "    tfidf_sent_vectors.append(sent_vec)\n",
    "\n",
    "x_train = tfidf_sent_vectors\n",
    "\n",
    "list_of_sentance=[]\n",
    "for sentance in x_test:\n",
    "  list_of_sentance.append(sentance.split())\n",
    "  \n",
    "tfidf_sent_vectors = []; # the tfidf-w2v for each sentence/review is stored in this list\n",
    "for sent in tqdm(list_of_sentance): # for each review/sentence \n",
    "    sent_vec = np.zeros(50) # as word vectors are of zero length\n",
    "    weight_sum =0; # num of words with a valid vector in the sentence/review\n",
    "    for word in sent: # for each word in a review/sentence\n",
    "        if word in w2v_words and word in tfidf_feat:\n",
    "            vec = w2v_model.wv[word]\n",
    "#             tf_idf = tf_idf_matrix[row, tfidf_feat.index(word)]\n",
    "            # to reduce the computation we are \n",
    "            # dictionary[word] = idf value of word in whole courpus\n",
    "            # sent.count(word) = tf valeus of word in this review\n",
    "            tf_idf = dictionary[word]*(sent.count(word)/len(sent))\n",
    "            sent_vec += (vec * tf_idf)\n",
    "            weight_sum += tf_idf\n",
    "    if weight_sum != 0:\n",
    "        sent_vec /= weight_sum\n",
    "    tfidf_sent_vectors.append(sent_vec)\n",
    "\n",
    "x_test = tfidf_sent_vectors\n",
    "\n",
    "clf = SVC( kernel='rbf', probability=True)\n",
    "\n",
    "grid_params = {    \n",
    "    'gamma': [10**-4,  10**-2, 10**0, 10**2, 10**4],\n",
    "    'C': [10**-4,  10**-2, 10**0, 10**2, 10**4]\n",
    "}\n",
    "\n",
    "#code taken from link: https://stackoverflow.com/questions/55893734/how-can-i-use-sgdclassifier-hinge-loss-with-gridsearchcv-using-log-loss-metric\n",
    "grid_search = GridSearchCV(estimator=clf, param_grid=grid_params, scoring='roc_auc',return_train_score=True, n_jobs=-1)\n",
    "grid_search.fit(x_train, y_train)\n",
    "#https://www.geeksforgeeks.org/svm-hyperparameter-tuning-using-gridsearchcv-ml/\n",
    "#print(grid_search.cv_results_)\n",
    "\n",
    "train_auc= grid_search.cv_results_['mean_train_score']\n",
    "train_auc_std= grid_search.cv_results_['std_train_score']\n",
    "cv_auc = grid_search.cv_results_['mean_test_score'] \n",
    "cv_auc_std= grid_search.cv_results_['std_test_score']\n",
    "\n",
    "plt.plot(grid_params['gamma'], train_auc[::5], label='Train AUC')\n",
    "plt.plot(grid_params['gamma'], cv_auc[::5], label='CV AUC')\n",
    "\n",
    "plt.legend()\n",
    "plt.xlabel(\"Gamma: hyperparameter\")\n",
    "plt.ylabel(\"AUC\")\n",
    "plt.title(\"ERROR PLOTS\")\n",
    "plt.show()\n",
    "\n",
    "plt.plot(grid_params['C'], train_auc[1::5], label='Train AUC')\n",
    "plt.plot(grid_params['C'], cv_auc[1::5], label='CV AUC')\n",
    "\n",
    "plt.legend()\n",
    "plt.xlabel(\"C: hyperparameter\")\n",
    "plt.ylabel(\"AUC\")\n",
    "plt.title(\"ERROR PLOTS\")\n",
    "plt.show()\n",
    "\n",
    "print('\\n****Best parameters ', grid_search.best_params_)\n",
    "\n",
    "clf = SVC( C=grid_search.best_params_['C'], gamma=grid_search.best_params_['gamma'], kernel='rbf', probability=True)\n",
    "clf.fit(x_train, y_train)\n",
    "\n",
    "\n",
    "# roc_auc_score(y_true, y_score) the 2nd parameter should be probability estimates of the positive class\n",
    "# not the predicted outputs\n",
    "train_fpr, train_tpr, thresholds = roc_curve(y_train, clf.predict_proba(x_train)[:,1])\n",
    "test_fpr, test_tpr, thresholds = roc_curve(y_test, clf.predict_proba(x_test)[:,1])\n",
    "\n",
    "plt.plot(train_fpr, train_tpr, label=\"train AUC =\"+str(auc(train_fpr, train_tpr)))\n",
    "plt.plot(test_fpr, test_tpr, label=\"test AUC =\"+str(auc(test_fpr, test_tpr)))\n",
    "plt.legend()\n",
    "plt.xlabel(\"C & Gamma: hyperparameter\")\n",
    "plt.ylabel(\"AUC\")\n",
    "plt.title(\"ROC Curve\")\n",
    "plt.show()\n",
    "\n",
    "print(\"=\"*100)\n",
    "\n",
    "import seaborn as sns;\n",
    "print(\"Train confusion matrix\")\n",
    "print(confusion_matrix(y_train, clf.predict(x_train)))\n",
    "print(\"Test confusion matrix\")\n",
    "test_CM = confusion_matrix(y_test, clf.predict(x_test))\n",
    "test_CM_DF = pd.DataFrame(test_CM, index=['Negative', 'Postive'], columns=['Negative', 'Postive'])\n",
    "print(test_CM)\n",
    "ax = sns.heatmap(test_CM_DF, annot=True,fmt = \"d\")\n"
   ]
  },
  {
   "cell_type": "markdown",
   "metadata": {
    "colab_type": "text",
    "id": "s8Hkax_vlhVy"
   },
   "source": [
    "# [6] Conclusions"
   ]
  },
  {
   "cell_type": "code",
   "execution_count": 51,
   "metadata": {
    "colab": {},
    "colab_type": "code",
    "id": "Uj-yiHGylhVy"
   },
   "outputs": [
    {
     "name": "stdout",
     "output_type": "stream",
     "text": [
      "Requirement already satisfied: PTable in c:\\users\\pkyedidi\\appdata\\local\\continuum\\anaconda3\\lib\\site-packages (0.9.2)\n"
     ]
    },
    {
     "name": "stderr",
     "output_type": "stream",
     "text": [
      "You are using pip version 18.0, however version 20.2.2 is available.\n",
      "You should consider upgrading via the 'python -m pip install --upgrade pip' command.\n"
     ]
    },
    {
     "name": "stdout",
     "output_type": "stream",
     "text": [
      "+------------+------------+--------+---------+-----------+----------+\n",
      "| Vectorizer |   Model    | Alpha  | Penalty | Train AUC | Test AUC |\n",
      "+------------+------------+--------+---------+-----------+----------+\n",
      "|    BOW     | Linear SVM | 0.001  |    L2   |   0.9759  |  0.9406  |\n",
      "|   TFIDF    | Linear SVM | 0.0001 |    L1   |   0.9164  |  0.9049  |\n",
      "|  AVG W2V   | Linear SVM | 0.001  |    L2   |   0.894   |  0.8878  |\n",
      "| TFIDF W2V  | Linear SVM | 0.001  |    L2   |   0.8732  |  0.8649  |\n",
      "+------------+------------+--------+---------+-----------+----------+\n",
      "+------------+---------+-------+-------+-----------+----------+\n",
      "| Vectorizer |  Model  |   C   | Gamma | Train AUC | Test AUC |\n",
      "+------------+---------+-------+-------+-----------+----------+\n",
      "|    BOW     | RBF SVM |   1   |  0.01 |   0.9419  |  0.894   |\n",
      "|   TFIDF    | RBF SVM |  100  |   1   |   0.9987  |  0.9065  |\n",
      "|  AVG W2V   | RBF SVM | 10000 |  0.01 |   0.9099  |  0.874   |\n",
      "| TFIDF W2V  | RBF SVM |  100  |  0.01 |   0.8655  |  0.8525  |\n",
      "+------------+---------+-------+-------+-----------+----------+\n"
     ]
    }
   ],
   "source": [
    "# Please compare all your models using Prettytable library\n",
    "!pip install PTable\n",
    "\n",
    "from prettytable import PrettyTable\n",
    "    \n",
    "x = PrettyTable()\n",
    "\n",
    "x.field_names = [\"Vectorizer\", \"Model\",\"Alpha\",'Penalty' ,\"Train AUC\",\"Test AUC\"]\n",
    "\n",
    "\n",
    "x.add_row([\"BOW\", \"Linear SVM\",0.001,'L2',0.9759,0.9406])\n",
    "x.add_row([\"TFIDF\", \"Linear SVM\",0.0001,'L1',0.9164,0.9049])\n",
    "x.add_row([\"AVG W2V\", \"Linear SVM\",0.001,'L2',0.8940,0.8878])\n",
    "x.add_row([\"TFIDF W2V\", \"Linear SVM\",0.001,'L2',0.8732,0.8649])\n",
    "print(x)\n",
    "\n",
    "y = PrettyTable()\n",
    "y.field_names = [\"Vectorizer\", \"Model\",\"C\",'Gamma' ,\"Train AUC\",\"Test AUC\"]\n",
    "\n",
    "y.add_row([\"BOW\", \"RBF SVM\",1,0.01,0.9419,0.8940])\n",
    "y.add_row([\"TFIDF\", \"RBF SVM\",100,1,0.9987,0.9065])\n",
    "y.add_row([\"AVG W2V\", \"RBF SVM\",10000,0.01,0.9099,0.8740])\n",
    "y.add_row([\"TFIDF W2V\", \"RBF SVM\",100,0.01,0.8655,0.8525])\n",
    "\n",
    "print(y)\n"
   ]
  },
  {
   "cell_type": "markdown",
   "metadata": {},
   "source": [
    "#Conclusion:\n",
    "\n",
    "* Linear SVM with BOW has highest Train and Test AUC. It is also faster than RBF SVM\n",
    "* Rest all Linear SVM's have good Train and Test AUC. They have slight difference between Train and Test AUC\n",
    "* RBF SVM models are also having good Train and Test AUC. Here drawback is run time."
   ]
  },
  {
   "cell_type": "code",
   "execution_count": 48,
   "metadata": {
    "colab": {},
    "colab_type": "code",
    "id": "FVCDwA4p3z3B"
   },
   "outputs": [
    {
     "data": {
      "image/png": "[encoded data removed]",
      "text/plain": [
       "<Figure size 432x288 with 1 Axes>"
      ]
     },
     "metadata": {},
     "output_type": "display_data"
    },
    {
     "data": {
      "image/png": "[encoded data removed]",
      "text/plain": [
       "<Figure size 432x288 with 1 Axes>"
      ]
     },
     "metadata": {},
     "output_type": "display_data"
    },
    {
     "name": "stdout",
     "output_type": "stream",
     "text": [
      "\n",
      "****Best parameters  {'base_estimator__alpha': 0.001, 'base_estimator__penalty': 'l2'}\n"
     ]
    },
    {
     "data": {
      "image/png": "[encoded data removed]",
      "text/plain": [
       "<Figure size 432x288 with 1 Axes>"
      ]
     },
     "metadata": {},
     "output_type": "display_data"
    },
    {
     "name": "stdout",
     "output_type": "stream",
     "text": [
      "====================================================================================================\n",
      "Train confusion matrix\n",
      "[[ 4086   985]\n",
      " [  233 25563]]\n",
      "Test confusion matrix\n",
      "[[ 1775   746]\n",
      " [  282 12401]]\n"
     ]
    },
    {
     "data": {
      "image/png": "[encoded data removed]",
      "text/plain": [
       "<Figure size 432x288 with 2 Axes>"
      ]
     },
     "metadata": {},
     "output_type": "display_data"
    }
   ],
   "source": [
    "#Feature engineering\n",
    "X1 = preprocessed_reviews; Y = final['Score']\n",
    "X2 = preprocessed_summary;\n",
    "X = X = list(map(lambda x, y: x + ' ' +  y, X2, X1))\n",
    "\n",
    "# https://scikit-learn.org/stable/modules/generated/sklearn.model_selection.train_test_split.html\n",
    "from sklearn.model_selection import train_test_split\n",
    "x_train, x_test, y_train, y_test = train_test_split(X, Y, test_size=0.33) # this is random splitting\n",
    "\n",
    "from sklearn.feature_extraction.text import CountVectorizer\n",
    "vectorizer = CountVectorizer()\n",
    "vectorizer.fit(x_train) # fit has to happen only on train data\n",
    "\n",
    "# we use the fitted CountVectorizer to convert the text to vector\n",
    "x_train = vectorizer.transform(x_train)\n",
    "x_test = vectorizer.transform(x_test)\n",
    "\n",
    "clf = SGDClassifier(loss='hinge')\n",
    "calibrated_clf = CalibratedClassifierCV(base_estimator=clf, method='sigmoid', cv=10)  # set the SGD classifier as the base estimator\n",
    "\n",
    "grid_params = {    \n",
    "    'base_estimator__penalty':['l1','l2'],\n",
    "    'base_estimator__alpha': [10**-4, 10**-3, 10**-2, 10**-1, 10**0, 10**1, 10**2, 10**3, 10**4]\n",
    "}\n",
    "\n",
    "#code taken from link: https://stackoverflow.com/questions/55893734/how-can-i-use-sgdclassifier-hinge-loss-with-gridsearchcv-using-log-loss-metric\n",
    "grid_search = GridSearchCV(estimator=calibrated_clf, param_grid=grid_params, scoring='roc_auc',return_train_score=True)\n",
    "grid_search.fit(x_train, y_train)\n",
    "\n",
    "#print(grid_search.cv_results_)\n",
    "\n",
    "train_auc= grid_search.cv_results_['mean_train_score']\n",
    "train_auc_std= grid_search.cv_results_['std_train_score']\n",
    "cv_auc = grid_search.cv_results_['mean_test_score'] \n",
    "cv_auc_std= grid_search.cv_results_['std_test_score']\n",
    "\n",
    "plt.plot(grid_params['base_estimator__alpha'], train_auc[::2], label='Train AUC')\n",
    "plt.plot(grid_params['base_estimator__alpha'], cv_auc[::2], label='CV AUC')\n",
    "\n",
    "plt.legend()\n",
    "plt.xlabel(\"Alpha: hyperparameter\")\n",
    "plt.ylabel(\"AUC\")\n",
    "plt.title(\"ERROR PLOTS  - L1 Penalty\")\n",
    "plt.show()\n",
    "\n",
    "plt.plot(grid_params['base_estimator__alpha'], train_auc[1::2], label='Train AUC')\n",
    "plt.plot(grid_params['base_estimator__alpha'], cv_auc[1::2], label='CV AUC')\n",
    "\n",
    "plt.legend()\n",
    "plt.xlabel(\"Alpha: hyperparameter\")\n",
    "plt.ylabel(\"AUC\")\n",
    "plt.title(\"ERROR PLOTS - L2 Penalty\")\n",
    "plt.show()\n",
    "\n",
    "print('\\n****Best parameters ', grid_search.best_params_)\n",
    "\n",
    "#calibrated_clf.set_params(**grid_search.best_params_)\n",
    "clf = SGDClassifier(loss='hinge', alpha=grid_search.best_params_['base_estimator__alpha'], penalty=grid_search.best_params_['base_estimator__penalty'])\n",
    "calibrated_clf = CalibratedClassifierCV(base_estimator=clf, method='sigmoid', cv=10)  # set the SGD classifier as the base estimator\n",
    "\n",
    "calibrated_clf.fit(x_train, y_train)\n",
    "\n",
    "# roc_auc_score(y_true, y_score) the 2nd parameter should be probability estimates of the positive class\n",
    "# not the predicted outputs\n",
    "train_fpr, train_tpr, thresholds = roc_curve(y_train, calibrated_clf.predict_proba(x_train)[:,1])\n",
    "test_fpr, test_tpr, thresholds = roc_curve(y_test, calibrated_clf.predict_proba(x_test)[:,1])\n",
    "\n",
    "plt.plot(train_fpr, train_tpr, label=\"train AUC =\"+str(auc(train_fpr, train_tpr)))\n",
    "plt.plot(test_fpr, test_tpr, label=\"test AUC =\"+str(auc(test_fpr, test_tpr)))\n",
    "plt.legend()\n",
    "plt.xlabel(\"Alpha: hyperparameter\")\n",
    "plt.ylabel(\"AUC\")\n",
    "plt.title(\"ROC Curve\")\n",
    "plt.show()\n",
    "\n",
    "print(\"=\"*100)\n",
    "\n",
    "import seaborn as sns;\n",
    "print(\"Train confusion matrix\")\n",
    "print(confusion_matrix(y_train, calibrated_clf.predict(x_train)))\n",
    "print(\"Test confusion matrix\")\n",
    "test_CM = confusion_matrix(y_test, calibrated_clf.predict(x_test))\n",
    "test_CM_DF = pd.DataFrame(test_CM, index=['Negative', 'Postive'], columns=['Negative', 'Postive'])\n",
    "print(test_CM)\n",
    "ax = sns.heatmap(test_CM_DF, annot=True,fmt = \"d\")\n"
   ]
  },
  {
   "cell_type": "code",
   "execution_count": 52,
   "metadata": {
    "colab": {},
    "colab_type": "code",
    "id": "vNGyUR2v4KqH"
   },
   "outputs": [
    {
     "name": "stdout",
     "output_type": "stream",
     "text": [
      "+-----------------------+------------+-------+---------+-----------+----------+\n",
      "|       Vectorizer      |   Model    | Alpha | Penalty | Train AUC | Test AUC |\n",
      "+-----------------------+------------+-------+---------+-----------+----------+\n",
      "|          BOW          | Linear SVM | 0.001 |    L2   |   0.9759  |  0.9406  |\n",
      "| BOW with feature Engg | Linear SVM | 0.001 |    L2   |   0.9853  |  0.9607  |\n",
      "+-----------------------+------------+-------+---------+-----------+----------+\n"
     ]
    }
   ],
   "source": [
    "x = PrettyTable()\n",
    "\n",
    "x.field_names = [\"Vectorizer\", \"Model\",\"Alpha\",'Penalty' ,\"Train AUC\",\"Test AUC\"]\n",
    "\n",
    "\n",
    "x.add_row([\"BOW\", \"Linear SVM\",0.001,'L2',0.9759,0.9406])\n",
    "x.add_row([\"BOW with feature Engg\", \"Linear SVM\",0.001,'L2',0.9853,0.9607])\n",
    "\n",
    "print(x)"
   ]
  },
  {
   "cell_type": "markdown",
   "metadata": {},
   "source": [
    "#Conclusion:\n",
    "\n",
    "Linear SVM with BOW - Feature Engg has improved Train and Test AUC compared to BOW without Feature Engg"
   ]
  },
  {
   "cell_type": "code",
   "execution_count": null,
   "metadata": {},
   "outputs": [],
   "source": []
  }
 ],
 "metadata": {
  "accelerator": "GPU",
  "colab": {
   "collapsed_sections": [
    "K8dx6DrylhUb",
    "sJIHAJoXlhU7",
    "nmg2mp5jlhU-",
    "C5dYi__mlhVB",
    "CRc4jTMLlhVD",
    "qv4eVpNilhVM",
    "5CXOtpK_lhVM",
    "S8AZBciLlhVP",
    "8e1gG9cRlhVi",
    "DkZ5E_IrlhVj",
    "PB--8vt3lhVp",
    "1W0ahhcXlhVs",
    "PvzZSM7IlhVv"
   ],
   "name": "07 Amazon Fine Food Reviews Analysis_Support Vector Machines.ipynb",
   "provenance": [],
   "toc_visible": true
  },
  "kernelspec": {
   "display_name": "Python 3",
   "language": "python",
   "name": "python3"
  },
  "language_info": {
   "codemirror_mode": {
    "name": "ipython",
    "version": 3
   },
   "file_extension": ".py",
   "mimetype": "text/x-python",
   "name": "python",
   "nbconvert_exporter": "python",
   "pygments_lexer": "ipython3",
   "version": "3.6.4"
  }
 },
 "nbformat": 4,
 "nbformat_minor": 1
}
