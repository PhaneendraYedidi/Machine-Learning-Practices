{
  "nbformat": 4,
  "nbformat_minor": 0,
  "metadata": {
    "colab": {
      "name": "pandas_basics_practice.ipynb",
      "version": "0.3.2",
      "provenance": [],
      "include_colab_link": true
    },
    "kernelspec": {
      "display_name": "Python 3",
      "language": "python",
      "name": "python3"
    }
  },
  "cells": [
    {
      "cell_type": "markdown",
      "metadata": {
        "id": "view-in-github",
        "colab_type": "text"
      },
      "source": [
        "<a href=\"https://colab.research.google.com/github/PhaneendraYedidi/Machine-Learning-Practices/blob/master/pandas_basics_practice.ipynb\" target=\"_parent\"><img src=\"https://colab.research.google.com/assets/colab-badge.svg\" alt=\"Open In Colab\"/></a>"
      ]
    },
    {
      "metadata": {
        "id": "GV7V7k5CBXzj",
        "colab_type": "text"
      },
      "cell_type": "markdown",
      "source": [
        "**Consider the following Python dictionary data and Python list labels:**\n",
        "\n",
        "data = {'birds': ['Cranes', 'Cranes', 'plovers', 'spoonbills', 'spoonbills', 'Cranes', 'plovers', 'Cranes', 'spoonbills', 'spoonbills'],\n",
        "        'age': [3.5, 4, 1.5, np.nan, 6, 3, 5.5, np.nan, 8, 4],\n",
        "        'visits': [2, 4, 3, 4, 3, 4, 2, 2, 3, 2],\n",
        "        'priority': ['yes', 'yes', 'no', 'yes', 'no', 'no', 'no', 'yes', 'no', 'no']}\n",
        "\n",
        "labels = ['a', 'b', 'c', 'd', 'e', 'f', 'g', 'h', 'i', 'j']\n"
      ]
    },
    {
      "metadata": {
        "id": "gCcAvTYIBXzn",
        "colab_type": "text"
      },
      "cell_type": "markdown",
      "source": [
        "**1. Create a DataFrame birds from this dictionary data which has the index labels.**"
      ]
    },
    {
      "metadata": {
        "collapsed": true,
        "id": "LjEQITbEBXzp",
        "colab_type": "code",
        "colab": {}
      },
      "cell_type": "code",
      "source": [
        ""
      ],
      "execution_count": 0,
      "outputs": []
    },
    {
      "metadata": {
        "id": "Bp1W7adFBXzy",
        "colab_type": "text"
      },
      "cell_type": "markdown",
      "source": [
        "**2. Display a summary of the basic information about birds DataFrame and its data.**"
      ]
    },
    {
      "metadata": {
        "collapsed": true,
        "id": "ibt5up9oBXz0",
        "colab_type": "code",
        "colab": {}
      },
      "cell_type": "code",
      "source": [
        ""
      ],
      "execution_count": 0,
      "outputs": []
    },
    {
      "metadata": {
        "id": "JnHwO8rRBXz4",
        "colab_type": "text"
      },
      "cell_type": "markdown",
      "source": [
        "**3. Print the first 2 rows of the birds dataframe **"
      ]
    },
    {
      "metadata": {
        "collapsed": true,
        "id": "RwTBnSLwBXz6",
        "colab_type": "code",
        "colab": {}
      },
      "cell_type": "code",
      "source": [
        ""
      ],
      "execution_count": 0,
      "outputs": []
    },
    {
      "metadata": {
        "id": "YtHVZryOBXz-",
        "colab_type": "text"
      },
      "cell_type": "markdown",
      "source": [
        "**4. Print all the rows with only 'birds' and 'age' columns from the dataframe**"
      ]
    },
    {
      "metadata": {
        "collapsed": true,
        "id": "rgSLvi_OBXz_",
        "colab_type": "code",
        "colab": {}
      },
      "cell_type": "code",
      "source": [
        ""
      ],
      "execution_count": 0,
      "outputs": []
    },
    {
      "metadata": {
        "id": "aXrBVVUEBX0D",
        "colab_type": "text"
      },
      "cell_type": "markdown",
      "source": [
        "**5. select [2, 3, 7] rows and in columns ['birds', 'age', 'visits']**"
      ]
    },
    {
      "metadata": {
        "collapsed": true,
        "id": "r8zExawDBX0F",
        "colab_type": "code",
        "colab": {}
      },
      "cell_type": "code",
      "source": [
        ""
      ],
      "execution_count": 0,
      "outputs": []
    },
    {
      "metadata": {
        "id": "s80gkyCgBX0L",
        "colab_type": "text"
      },
      "cell_type": "markdown",
      "source": [
        "**6. select the rows where the number of visits is less than 4**"
      ]
    },
    {
      "metadata": {
        "collapsed": true,
        "id": "du030p5JBX0M",
        "colab_type": "code",
        "colab": {}
      },
      "cell_type": "code",
      "source": [
        ""
      ],
      "execution_count": 0,
      "outputs": []
    },
    {
      "metadata": {
        "id": "eCxb3OuqBX0Q",
        "colab_type": "text"
      },
      "cell_type": "markdown",
      "source": [
        "**7. select the rows with columns ['birds', 'visits'] where the age is missing i.e NaN**"
      ]
    },
    {
      "metadata": {
        "collapsed": true,
        "id": "x-st7N7sBX0S",
        "colab_type": "code",
        "colab": {}
      },
      "cell_type": "code",
      "source": [
        ""
      ],
      "execution_count": 0,
      "outputs": []
    },
    {
      "metadata": {
        "id": "21ULmP9yBX0V",
        "colab_type": "text"
      },
      "cell_type": "markdown",
      "source": [
        "**8. Select the rows where the birds is a Cranes and the age is less than 4**"
      ]
    },
    {
      "metadata": {
        "collapsed": true,
        "id": "tVkNa8chBX0W",
        "colab_type": "code",
        "colab": {}
      },
      "cell_type": "code",
      "source": [
        ""
      ],
      "execution_count": 0,
      "outputs": []
    },
    {
      "metadata": {
        "id": "ZZW62AMZBX0Z",
        "colab_type": "text"
      },
      "cell_type": "markdown",
      "source": [
        "**9. Select the rows the age is between 2 and 4(inclusive)**"
      ]
    },
    {
      "metadata": {
        "collapsed": true,
        "id": "vC9G44jJBX0a",
        "colab_type": "code",
        "colab": {}
      },
      "cell_type": "code",
      "source": [
        ""
      ],
      "execution_count": 0,
      "outputs": []
    },
    {
      "metadata": {
        "id": "_rAa4owcBX0c",
        "colab_type": "text"
      },
      "cell_type": "markdown",
      "source": [
        "**10. Find the total number of visits of the bird Cranes**"
      ]
    },
    {
      "metadata": {
        "collapsed": true,
        "id": "nfnaoWzTBX0d",
        "colab_type": "code",
        "colab": {}
      },
      "cell_type": "code",
      "source": [
        ""
      ],
      "execution_count": 0,
      "outputs": []
    },
    {
      "metadata": {
        "id": "EWMYBuqBBX0g",
        "colab_type": "text"
      },
      "cell_type": "markdown",
      "source": [
        "**11. Calculate the mean age for each different birds in dataframe.**"
      ]
    },
    {
      "metadata": {
        "collapsed": true,
        "id": "DtCeTh18BX0h",
        "colab_type": "code",
        "colab": {}
      },
      "cell_type": "code",
      "source": [
        ""
      ],
      "execution_count": 0,
      "outputs": []
    },
    {
      "metadata": {
        "id": "Jq3lZsybBX0k",
        "colab_type": "text"
      },
      "cell_type": "markdown",
      "source": [
        "**12. Append a new row 'k' to dataframe with your choice of values for each column. Then delete that row to return the original DataFrame.**"
      ]
    },
    {
      "metadata": {
        "collapsed": true,
        "id": "kpW0eyr6BX0l",
        "colab_type": "code",
        "colab": {}
      },
      "cell_type": "code",
      "source": [
        ""
      ],
      "execution_count": 0,
      "outputs": []
    },
    {
      "metadata": {
        "id": "LtcPhO0yBX0o",
        "colab_type": "text"
      },
      "cell_type": "markdown",
      "source": [
        "**13. Find the number of each type of birds in dataframe (Counts)**"
      ]
    },
    {
      "metadata": {
        "collapsed": true,
        "id": "nFsBPDlnBX0p",
        "colab_type": "code",
        "colab": {}
      },
      "cell_type": "code",
      "source": [
        ""
      ],
      "execution_count": 0,
      "outputs": []
    },
    {
      "metadata": {
        "id": "cLDYDlEJBX0s",
        "colab_type": "text"
      },
      "cell_type": "markdown",
      "source": [
        "**14. Sort dataframe (birds) first by the values in the 'age' in decending order, then by the value in the 'visits' column in ascending order.**"
      ]
    },
    {
      "metadata": {
        "collapsed": true,
        "id": "eCavQ-tOBX0t",
        "colab_type": "code",
        "colab": {}
      },
      "cell_type": "code",
      "source": [
        ""
      ],
      "execution_count": 0,
      "outputs": []
    },
    {
      "metadata": {
        "id": "LUefO6jkBX0x",
        "colab_type": "text"
      },
      "cell_type": "markdown",
      "source": [
        "**15. Replace the priority column values with'yes' should be 1 and 'no' should be 0**"
      ]
    },
    {
      "metadata": {
        "collapsed": true,
        "id": "Uzr3WjD6BX0y",
        "colab_type": "code",
        "colab": {}
      },
      "cell_type": "code",
      "source": [
        ""
      ],
      "execution_count": 0,
      "outputs": []
    },
    {
      "metadata": {
        "id": "2ILgevdeBX00",
        "colab_type": "text"
      },
      "cell_type": "markdown",
      "source": [
        "**16. In the 'birds' column, change the 'Cranes' entries to 'trumpeters'.**"
      ]
    },
    {
      "metadata": {
        "collapsed": true,
        "id": "9PBjX2S9BX01",
        "colab_type": "code",
        "colab": {}
      },
      "cell_type": "code",
      "source": [
        ""
      ],
      "execution_count": 0,
      "outputs": []
    }
  ]
}