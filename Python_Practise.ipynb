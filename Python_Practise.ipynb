{
  "nbformat": 4,
  "nbformat_minor": 0,
  "metadata": {
    "colab": {
      "name": "Python_Practise.ipynb",
      "version": "0.3.2",
      "provenance": [],
      "collapsed_sections": [],
      "include_colab_link": true
    },
    "kernelspec": {
      "name": "python3",
      "display_name": "Python 3"
    }
  },
  "cells": [
    {
      "cell_type": "markdown",
      "metadata": {
        "id": "view-in-github",
        "colab_type": "text"
      },
      "source": [
        "<a href=\"https://colab.research.google.com/github/PhaneendraYedidi/Machine-Learning-Practices/blob/master/Python_Practise.ipynb\" target=\"_parent\"><img src=\"https://colab.research.google.com/assets/colab-badge.svg\" alt=\"Open In Colab\"/></a>"
      ]
    },
    {
      "metadata": {
        "id": "mlQuwrSJTHJi",
        "colab_type": "text"
      },
      "cell_type": "markdown",
      "source": [
        "**1: Function that inputs a number and prints the multiplication table of that number**"
      ]
    },
    {
      "metadata": {
        "id": "H9l-rZY6Sjdg",
        "colab_type": "code",
        "outputId": "a1636c79-59ab-4ecb-8dd7-b124789f3c11",
        "colab": {
          "base_uri": "https://localhost:8080/",
          "height": 228
        }
      },
      "cell_type": "code",
      "source": [
        "num = input('Enter a number to print the table: ')\n",
        "\n",
        "def printTable(num):  \n",
        "  for i in range(1,11,1): #rnage(start,stop,step)\n",
        "    print(str(i)+ ' * ' + str(num) + ' = ' + str(num*i))\n",
        "\n",
        "print('The table for the number : ' + num)\n",
        "printTable(int(num))"
      ],
      "execution_count": 0,
      "outputs": [
        {
          "output_type": "stream",
          "text": [
            "Enter a number to print the table: 13\n",
            "The table for the number : 13\n",
            "1 * 13 = 13\n",
            "2 * 13 = 26\n",
            "3 * 13 = 39\n",
            "4 * 13 = 52\n",
            "5 * 13 = 65\n",
            "6 * 13 = 78\n",
            "7 * 13 = 91\n",
            "8 * 13 = 104\n",
            "9 * 13 = 117\n",
            "10 * 13 = 130\n"
          ],
          "name": "stdout"
        }
      ]
    },
    {
      "metadata": {
        "id": "uuAAxE8jWof4",
        "colab_type": "text"
      },
      "cell_type": "markdown",
      "source": [
        "**2: Write a program to print twin primes less than 1000. If two consecutive odd numbers are\n",
        "both prime then they are known as twin primes **"
      ]
    },
    {
      "metadata": {
        "id": "sWXwLBIzXBQw",
        "colab_type": "code",
        "outputId": "ba8bc8a7-5184-415b-c4a4-ffd872ff0b0c",
        "colab": {
          "base_uri": "https://localhost:8080/",
          "height": 668
        }
      },
      "cell_type": "code",
      "source": [
        "import math\n",
        "\n",
        "def IsPrime(num):\n",
        "  #Prime number is identified by dividing number with (2 to num/2). Here num/2 is taken to improve the performance  \n",
        "  for i in range(2,math.floor(num/2) + 1,1):  \n",
        "    if num%i == 0:\n",
        "      return False\n",
        "  return True\n",
        "\n",
        "count = 0\n",
        "print('List of Twin Primes')\n",
        "for i in range(2,998,1): #Iteration till 998 as we are taking twin primes that too less than 100\n",
        "  if(IsPrime(i) and IsPrime(i+2)):\n",
        "    print(i,i+1)\n",
        "    count = count + 1\n",
        "\n",
        "print('Total Twin Primes less than 1000', str(count))\n",
        "    "
      ],
      "execution_count": 0,
      "outputs": [
        {
          "output_type": "stream",
          "text": [
            "List of Twin Primes\n",
            "3 4\n",
            "5 6\n",
            "11 12\n",
            "17 18\n",
            "29 30\n",
            "41 42\n",
            "59 60\n",
            "71 72\n",
            "101 102\n",
            "107 108\n",
            "137 138\n",
            "149 150\n",
            "179 180\n",
            "191 192\n",
            "197 198\n",
            "227 228\n",
            "239 240\n",
            "269 270\n",
            "281 282\n",
            "311 312\n",
            "347 348\n",
            "419 420\n",
            "431 432\n",
            "461 462\n",
            "521 522\n",
            "569 570\n",
            "599 600\n",
            "617 618\n",
            "641 642\n",
            "659 660\n",
            "809 810\n",
            "821 822\n",
            "827 828\n",
            "857 858\n",
            "881 882\n",
            "Total Twin Primes less than 1000 35\n"
          ],
          "name": "stdout"
        }
      ]
    },
    {
      "metadata": {
        "id": "_CmC0TXUdHBG",
        "colab_type": "text"
      },
      "cell_type": "markdown",
      "source": [
        "**3. Write a program to find out the prime factors of a number. Example: prime factors of 56 -\n",
        "2, 2, 2, 7 **"
      ]
    },
    {
      "metadata": {
        "id": "H2jHaKWMdPoZ",
        "colab_type": "code",
        "outputId": "31180a9f-4125-4d65-b9d3-5d11dcecd93f",
        "colab": {
          "base_uri": "https://localhost:8080/",
          "height": 70
        }
      },
      "cell_type": "code",
      "source": [
        "inputNumber = int(input('Enter the number: '))\n",
        "\n",
        "def IsPrime(num):\n",
        "  #Prime number is identified by dividing number with (2 to num/2). Here num/2 is taken to improve the performance  \n",
        "  for i in range(2,math.floor(num/2) + 1,1):  \n",
        "    if num%i == 0:\n",
        "      return False\n",
        "  return True\n",
        "\n",
        "def FindNextPrime(prevPrime):\n",
        "    nextPrime = prevPrime + 1\n",
        "    if IsPrime(nextPrime):\n",
        "        return nextPrime\n",
        "    else:\n",
        "        return FindNextPrime(nextPrime)\n",
        "\n",
        "primeNumber =2\n",
        "primeFactors = []\n",
        "        \n",
        "while inputNumber>0 and inputNumber>=primeNumber:\n",
        "  if(inputNumber % primeNumber == 0):\n",
        "      primeFactors.append(primeNumber)\n",
        "      inputNumber= math.floor(inputNumber/primeNumber)\n",
        "  else:\n",
        "      primeNumber = FindNextPrime(primeNumber)\n",
        "\n",
        "print('Prime factors of' + str(num))\n",
        "print(primeFactors)\n",
        "\n"
      ],
      "execution_count": 0,
      "outputs": [
        {
          "output_type": "stream",
          "text": [
            "Enter the number: 56\n",
            "Prime factors of13\n",
            "[2, 2, 2, 7]\n"
          ],
          "name": "stdout"
        }
      ]
    },
    {
      "metadata": {
        "id": "Hwg6mFk3_627",
        "colab_type": "text"
      },
      "cell_type": "markdown",
      "source": [
        " **4. Write a program to implement these formulae of permutations and combinations.\n",
        "Number of permutations of n objects taken r at a time: p(n, r) = n! / (n-r)!. Number of\n",
        "combinations of n objects taken r at a time is: c(n, r) = n! / (r!*(n-r)!) = p(n,r) / r! **"
      ]
    },
    {
      "metadata": {
        "id": "LYNGWM6KB_ku",
        "colab_type": "code",
        "outputId": "088128a4-addf-4365-cab2-1e812f7faa26",
        "colab": {
          "base_uri": "https://localhost:8080/",
          "height": 87
        }
      },
      "cell_type": "code",
      "source": [
        "n = int(input('Enter the number of objects: '))\n",
        "r = int(input('Enter the rate: '))\n",
        "\n",
        "def factorial(x):\n",
        "  if(x==1):\n",
        "    return 1\n",
        "  else:\n",
        "    return x * factorial(x-1)\n",
        "\n",
        "permutations = factorial(n)/factorial(n-r)\n",
        "print('Number of permutations', permutations)\n",
        "\n",
        "print('Number of combinations', permutations/factorial(r))"
      ],
      "execution_count": 0,
      "outputs": [
        {
          "output_type": "stream",
          "text": [
            "Enter the number of objects: 5\n",
            "Enter the rate: 2\n",
            "Number of permutations 20.0\n",
            "Number of combinations 10.0\n"
          ],
          "name": "stdout"
        }
      ]
    },
    {
      "metadata": {
        "id": "08mPtOKZAaJo",
        "colab_type": "text"
      },
      "cell_type": "markdown",
      "source": [
        "**5. Write a function that converts a decimal number to binary number**"
      ]
    },
    {
      "metadata": {
        "id": "QNYYlQdKHGPT",
        "colab_type": "code",
        "outputId": "9c3af243-3529-4cd4-d95a-f3b0d1f1187b",
        "colab": {
          "base_uri": "https://localhost:8080/",
          "height": 52
        }
      },
      "cell_type": "code",
      "source": [
        "number = float(input('Enter the number for decimal conversion'))\n",
        "\n",
        "\n",
        "def ConvertToBinary(number):\n",
        "  intergerPart = math.floor(number)\n",
        "  fractionalPart = number - math.floor(number)\n",
        "\n",
        "  binary = ''\n",
        "\n",
        "  if(intergerPart > 0): #find decimal equivalent for interger part\n",
        "    while(intergerPart > 0):\n",
        "      d = intergerPart % 2\n",
        "      binary = binary + str(d)\n",
        "      intergerPart = math.floor(intergerPart/2)\n",
        "    binary = binary[::-1]\n",
        "  \n",
        "  if(binary.count ==0):\n",
        "    binary = '0'\n",
        "  \n",
        "  fracDecimal = '.'\n",
        "  if(fractionalPart < 1):\n",
        "    while(fractionalPart < 1):\n",
        "      d = math.floor(fractionalPart *2)\n",
        "      fracDecimal = fracDecimal + str(d)\n",
        "      fractionalPart = fractionalPart * 2\n",
        "  binary = binary + fracDecimal\n",
        "\n",
        "  return binary\n",
        "    \n",
        "print('Decimal to binary for ' + str(number) + ' is ' + ConvertToBinary(number))"
      ],
      "execution_count": 0,
      "outputs": [
        {
          "output_type": "stream",
          "text": [
            "Enter the number for decimal conversion28.125\n",
            "Decimal to binary for 28.125 is 11100.001\n"
          ],
          "name": "stdout"
        }
      ]
    },
    {
      "metadata": {
        "id": "BRLrrBGYAp2P",
        "colab_type": "text"
      },
      "cell_type": "markdown",
      "source": [
        "**6. Write a function cubesum() that accepts an integer and returns the sum of the cubes of\n",
        "individual digits of that number. Use this function to make functions PrintArmstrong() and\n",
        "isArmstrong() to print Armstrong numbers and to find whether is an Armstrong number. **"
      ]
    },
    {
      "metadata": {
        "id": "MboYapsb7Pk9",
        "colab_type": "code",
        "colab": {
          "base_uri": "https://localhost:8080/",
          "height": 100
        },
        "outputId": "b952d20a-a812-4ecb-b74d-c37151f6aba3"
      },
      "cell_type": "code",
      "source": [
        "import math\n",
        "\n",
        "def cubesum(num):\n",
        "  sum = 0\n",
        "  while True:   \n",
        "    sum = sum + (num%10) **3\n",
        "    num = math.floor(num / 10)\n",
        "    if num < 1:\n",
        "      break\n",
        "  return sum\n",
        "\n",
        "def isArmstrong(num):\n",
        "  if(num == cubesum(num)):\n",
        "    return True\n",
        "  else:\n",
        "    return False\n",
        "  \n",
        "def PrintArmstrong():\n",
        "  print('List of 3 digit Armstrong numbers:')\n",
        "  for i in range(100,1000,1):\n",
        "    if(isArmstrong(i)):\n",
        "      print(i)\n",
        "      \n",
        "PrintArmstrong()"
      ],
      "execution_count": 12,
      "outputs": [
        {
          "output_type": "stream",
          "text": [
            "List of 3 digit Armstrong numbers:\n",
            "153\n",
            "370\n",
            "371\n",
            "407\n"
          ],
          "name": "stdout"
        }
      ]
    },
    {
      "metadata": {
        "id": "7PTdZwPuA19a",
        "colab_type": "text"
      },
      "cell_type": "markdown",
      "source": [
        "**7. Write a function prodDigits() that inputs a number and returns the product of digits of that\n",
        "number.**"
      ]
    },
    {
      "metadata": {
        "id": "9zYWfXoICHKF",
        "colab_type": "code",
        "colab": {
          "base_uri": "https://localhost:8080/",
          "height": 33
        },
        "outputId": "45a30c40-ee16-4644-a72f-8cc33ce65092"
      },
      "cell_type": "code",
      "source": [
        "def prodDigits(num):\n",
        "  mul = 1\n",
        "  while True:   \n",
        "    mul = mul * (num%10)\n",
        "    num = math.floor(num / 10)\n",
        "    if num <= 1:\n",
        "      break\n",
        "  return mul\n",
        "\n",
        "print(prodDigits(123))"
      ],
      "execution_count": 13,
      "outputs": [
        {
          "output_type": "stream",
          "text": [
            "6\n"
          ],
          "name": "stdout"
        }
      ]
    },
    {
      "metadata": {
        "id": "ZpboOQEmA6Lr",
        "colab_type": "text"
      },
      "cell_type": "markdown",
      "source": [
        "**8. If all digits of a number n are multiplied by each other repeating with the product, the one\n",
        "digit number obtained at last is called the multiplicative digital root of n. The number of\n",
        "times digits need to be multiplied to reach one digit is called the multiplicative\n",
        "persistance of n.\n",
        "Example: 86 -> 48 -> 32 -> 6 (MDR 6, MPersistence 3)\n",
        "341 -> 12->2 (MDR 2, MPersistence 2)\n",
        "Using the function prodDigits() of previous exercise write functions MDR() and\n",
        "MPersistence() that input a number and return its multiplicative digital root and\n",
        "multiplicative persistence respectively**"
      ]
    },
    {
      "metadata": {
        "id": "GfYT4aLNDFbC",
        "colab_type": "code",
        "colab": {
          "base_uri": "https://localhost:8080/",
          "height": 50
        },
        "outputId": "6023f966-4792-49b6-e99e-e8e21cef7acb"
      },
      "cell_type": "code",
      "source": [
        "def MDR(num):\n",
        "  while True:\n",
        "    num = prodDigits(num)\n",
        "    if(num<10 and num >= 0):\n",
        "      return num\n",
        "    \n",
        "def MPersistence(num):\n",
        "  count = 0\n",
        "  while True:\n",
        "    num = prodDigits(num)\n",
        "    count = count + 1\n",
        "    if(num<10 and num >= 0):\n",
        "      return count\n",
        "    \n",
        "print('MDR '+ str(MDR(86)))\n",
        "print('MPersistence ' + str(MPersistence(86)))\n"
      ],
      "execution_count": 19,
      "outputs": [
        {
          "output_type": "stream",
          "text": [
            "MDR 6\n",
            "MPersistence 3\n"
          ],
          "name": "stdout"
        }
      ]
    },
    {
      "metadata": {
        "id": "JB9TcwJaBB1o",
        "colab_type": "text"
      },
      "cell_type": "markdown",
      "source": [
        "**9. Write a function sumPdivisors() that finds the sum of proper divisors of a number. Proper\n",
        "divisors of a number are those numbers by which the number is divisible, except the\n",
        "number itself. For example proper divisors of 36 are 1, 2, 3, 4, 6, 9, 18**"
      ]
    },
    {
      "metadata": {
        "id": "IFwqbaEFGL5S",
        "colab_type": "code",
        "colab": {
          "base_uri": "https://localhost:8080/",
          "height": 167
        },
        "outputId": "979a7a00-bdce-419b-bd9c-22cb0be935ae"
      },
      "cell_type": "code",
      "source": [
        "def sumPdivisors(num):\n",
        "  print('Proper divisor of ' + str(num) + \" are\")\n",
        "  for i in range(1,num,1):\n",
        "    if(num % i == 0):\n",
        "      print(i)\n",
        "      \n",
        "sumPdivisors(36)"
      ],
      "execution_count": 21,
      "outputs": [
        {
          "output_type": "stream",
          "text": [
            "Proper divisor of 36 are\n",
            "1\n",
            "2\n",
            "3\n",
            "4\n",
            "6\n",
            "9\n",
            "12\n",
            "18\n"
          ],
          "name": "stdout"
        }
      ]
    },
    {
      "metadata": {
        "id": "0azgKly2BH-C",
        "colab_type": "text"
      },
      "cell_type": "markdown",
      "source": [
        "**10. A number is called perfect if the sum of proper divisors of that number is equal to the\n",
        "number. For example 28 is perfect number, since 1+2+4+7+14=28. Write a program to\n",
        "print all the perfect numbers in a given range**"
      ]
    },
    {
      "metadata": {
        "id": "Ueq_-UOjHSna",
        "colab_type": "code",
        "colab": {
          "base_uri": "https://localhost:8080/",
          "height": 67
        },
        "outputId": "5502fb7e-357f-44a9-aceb-c85e84b6939e"
      },
      "cell_type": "code",
      "source": [
        "def perfectNumbers(num1,num2):\n",
        "  print('All perfect numbers in given range ' + str(num1) + \" and \" + str(num2))\n",
        "  for i in range(num1,num2 +1,1): #loop through given range\n",
        "    sum = 0\n",
        "    for j in range(1,i,1): #find perfect divisor sum \n",
        "      if(i % j == 0):\n",
        "        sum = sum + j\n",
        "    if(i == sum):\n",
        "      print(i)\n",
        "\n",
        "perfectNumbers(1,100)"
      ],
      "execution_count": 22,
      "outputs": [
        {
          "output_type": "stream",
          "text": [
            "All perfect numbers in given range 1 and 100\n",
            "6\n",
            "28\n"
          ],
          "name": "stdout"
        }
      ]
    },
    {
      "metadata": {
        "id": "P9VQtEU2BNQs",
        "colab_type": "text"
      },
      "cell_type": "markdown",
      "source": [
        "**11. Two different numbers are called amicable numbers if the sum of the proper divisors of\n",
        "each is equal to the other number. For example 220 and 284 are amicable numbers.\n",
        "Sum of proper divisors of 220 = 1+2+4+5+10+11+20+22+44+55+110 = 284\n",
        "Sum of proper divisors of 284 = 1+2+4+71+142 = 220\n",
        "Write a function to print pairs of amicable numbers in a range**"
      ]
    },
    {
      "metadata": {
        "id": "v2T-3qjPKqy7",
        "colab_type": "code",
        "colab": {
          "base_uri": "https://localhost:8080/",
          "height": 100
        },
        "outputId": "22693ced-4f14-4631-c49f-ced96ddb35b2"
      },
      "cell_type": "code",
      "source": [
        "def findNumber(arr, num):\n",
        "  for i in arr:\n",
        "    if(i == num):\n",
        "      return True\n",
        "  return False\n",
        "\n",
        "def sumPdivisor(num):\n",
        "  sum = 0\n",
        "  for i in range(1,num,1):\n",
        "    if(num % i == 0):\n",
        "      sum =sum + i\n",
        "  return sum\n",
        "\n",
        "def amicableRange(num1,num2):\n",
        "  print('List of amicable numbers in given range ' + str(num1) + \" and \" + str(num2))\n",
        "  amicableList = []\n",
        "  for i in range(num1,num2+1,1):\n",
        "    j = sumPdivisor(i)\n",
        "    if(i == sumPdivisor(j) and i != j):\n",
        "      #code to remove duplicates in amicable List\n",
        "      if(len(amicableList) == 0):\n",
        "        amicableList.extend([i,j])\n",
        "      elif (findNumber(amicableList,i) or findNumber(amicableList,j)):\n",
        "        continue\n",
        "      else:\n",
        "        amicableList.extend([i,j])\n",
        "        print(str(i) + \" , \" + str(j))\n",
        "  \n",
        "amicableRange(1,10000)"
      ],
      "execution_count": 38,
      "outputs": [
        {
          "output_type": "stream",
          "text": [
            "List of amicable numbers in given range 1 and 10000\n",
            "1184 , 1210\n",
            "2620 , 2924\n",
            "5020 , 5564\n",
            "6232 , 6368\n"
          ],
          "name": "stdout"
        }
      ]
    },
    {
      "metadata": {
        "id": "bPW6REPSBZ_n",
        "colab_type": "text"
      },
      "cell_type": "markdown",
      "source": [
        "**12. Write a program which can filter odd numbers in a list by using filter function**"
      ]
    },
    {
      "metadata": {
        "id": "avKaPSXgUYHp",
        "colab_type": "code",
        "colab": {
          "base_uri": "https://localhost:8080/",
          "height": 117
        },
        "outputId": "ba978c61-8b93-4039-dabb-56245ae2b426"
      },
      "cell_type": "code",
      "source": [
        "def filter(lst):\n",
        "  print('List of odd numbers in given list')\n",
        "  for i in lst:\n",
        "    if(i % 2 == 1):\n",
        "      print(i)\n",
        "      \n",
        "filter(range(1,10,1))"
      ],
      "execution_count": 40,
      "outputs": [
        {
          "output_type": "stream",
          "text": [
            "List of odd numbers in given list\n",
            "1\n",
            "3\n",
            "5\n",
            "7\n",
            "9\n"
          ],
          "name": "stdout"
        }
      ]
    },
    {
      "metadata": {
        "id": "z7wXmGVDBk_A",
        "colab_type": "text"
      },
      "cell_type": "markdown",
      "source": [
        "**13. Write a program which can map() to make a list whose elements are cube of elements in\n",
        "a given list**"
      ]
    },
    {
      "metadata": {
        "id": "WqXa676OVPD2",
        "colab_type": "code",
        "colab": {
          "base_uri": "https://localhost:8080/",
          "height": 50
        },
        "outputId": "e77b0332-8e70-4dc8-aba1-b05d31c36ea1"
      },
      "cell_type": "code",
      "source": [
        "def cubeMap(lst):\n",
        "  cubeList = []\n",
        "  print('List whose elements are cube ofelements in a given list')\n",
        "  for i in lst:\n",
        "    cubeList.append(i**3)\n",
        "  print(cubeList)\n",
        "\n",
        "cubeMap(range(1,10,1))"
      ],
      "execution_count": 44,
      "outputs": [
        {
          "output_type": "stream",
          "text": [
            "List whose elements are cube ofelements in a given list\n",
            "[1, 8, 27, 64, 125, 216, 343, 512, 729]\n"
          ],
          "name": "stdout"
        }
      ]
    },
    {
      "metadata": {
        "id": "JgbNPEYgjBGV",
        "colab_type": "text"
      },
      "cell_type": "markdown",
      "source": [
        "**14. Write a program which can map() and filter() to make a list whose elements are cube of\n",
        "even number in a given list**"
      ]
    },
    {
      "metadata": {
        "id": "0_YqASERWSln",
        "colab_type": "code",
        "colab": {
          "base_uri": "https://localhost:8080/",
          "height": 50
        },
        "outputId": "08c3f67b-8741-4e1e-f857-9503963f91ad"
      },
      "cell_type": "code",
      "source": [
        "def evenCubeMap(lst):\n",
        "  cubeList = []\n",
        "  print('List whose elements are cube of even numbers in a given list')\n",
        "  for i in lst:\n",
        "    if(i % 2 == 0):\n",
        "      cubeList.append(i**3)\n",
        "  print(cubeList)\n",
        "\n",
        "evenCubeMap(range(1,10,1))"
      ],
      "execution_count": 45,
      "outputs": [
        {
          "output_type": "stream",
          "text": [
            "List whose elements are cube of even numbers in a given list\n",
            "[8, 64, 216, 512]\n"
          ],
          "name": "stdout"
        }
      ]
    },
    {
      "metadata": {
        "id": "7q_AgnPkW3qO",
        "colab_type": "code",
        "colab": {}
      },
      "cell_type": "code",
      "source": [
        ""
      ],
      "execution_count": 0,
      "outputs": []
    }
  ]
}