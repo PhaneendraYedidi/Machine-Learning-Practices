{
  "nbformat": 4,
  "nbformat_minor": 0,
  "metadata": {
    "colab": {
      "name": "Python_Practise.ipynb",
      "version": "0.3.2",
      "provenance": [],
      "collapsed_sections": [],
      "include_colab_link": true
    },
    "kernelspec": {
      "name": "python3",
      "display_name": "Python 3"
    }
  },
  "cells": [
    {
      "cell_type": "markdown",
      "metadata": {
        "id": "view-in-github",
        "colab_type": "text"
      },
      "source": [
        "<a href=\"https://colab.research.google.com/github/PhaneendraYedidi/Machine-Learning-Practices/blob/master/Python_Practise.ipynb\" target=\"_parent\"><img src=\"https://colab.research.google.com/assets/colab-badge.svg\" alt=\"Open In Colab\"/></a>"
      ]
    },
    {
      "metadata": {
        "id": "mlQuwrSJTHJi",
        "colab_type": "text"
      },
      "cell_type": "markdown",
      "source": [
        "**Task: Function that inputs a number and prints the multiplication table of that number**"
      ]
    },
    {
      "metadata": {
        "id": "H9l-rZY6Sjdg",
        "colab_type": "code",
        "colab": {
          "base_uri": "https://localhost:8080/",
          "height": 228
        },
        "outputId": "3d8b3308-583b-4b82-c4b2-230086c7ccfb"
      },
      "cell_type": "code",
      "source": [
        "num = input('Enter a number to print the table: ')\n",
        "\n",
        "def printTable(num):  \n",
        "  for i in range(1,11,1): #rnage(start,stop,step)\n",
        "    print(str(i)+ ' * ' + str(num) + ' = ' + str(num*i))\n",
        "\n",
        "print('The table for the number : ' + num)\n",
        "printTable(int(num))"
      ],
      "execution_count": 11,
      "outputs": [
        {
          "output_type": "stream",
          "text": [
            "Enter a number to print the table: 14\n",
            "The table for the number : 14\n",
            "1 * 14 = 14\n",
            "2 * 14 = 28\n",
            "3 * 14 = 42\n",
            "4 * 14 = 56\n",
            "5 * 14 = 70\n",
            "6 * 14 = 84\n",
            "7 * 14 = 98\n",
            "8 * 14 = 112\n",
            "9 * 14 = 126\n",
            "10 * 14 = 140\n"
          ],
          "name": "stdout"
        }
      ]
    }
  ]
}