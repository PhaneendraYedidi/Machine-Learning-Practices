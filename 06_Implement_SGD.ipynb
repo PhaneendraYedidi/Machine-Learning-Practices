{
  "nbformat": 4,
  "nbformat_minor": 0,
  "metadata": {
    "colab": {
      "name": "Copy of 06 Implement SGD.ipynb",
      "provenance": [],
      "collapsed_sections": [],
      "include_colab_link": true
    },
    "kernelspec": {
      "name": "python3",
      "display_name": "Python 3"
    }
  },
  "cells": [
    {
      "cell_type": "markdown",
      "metadata": {
        "id": "view-in-github",
        "colab_type": "text"
      },
      "source": [
        "<a href=\"https://colab.research.google.com/github/PhaneendraYedidi/Machine-Learning-Practices/blob/master/06_Implement_SGD.ipynb\" target=\"_parent\"><img src=\"https://colab.research.google.com/assets/colab-badge.svg\" alt=\"Open In Colab\"/></a>"
      ]
    },
    {
      "cell_type": "code",
      "metadata": {
        "id": "REYPoTJ1Af7u",
        "colab_type": "code",
        "colab": {}
      },
      "source": [
        "import warnings\n",
        "warnings.filterwarnings(\"ignore\")\n",
        "from sklearn.datasets import load_boston\n",
        "from random import seed\n",
        "from random import randrange\n",
        "from csv import reader\n",
        "from math import sqrt\n",
        "from sklearn import preprocessing\n",
        "import pandas as pd\n",
        "import numpy as np\n",
        "import matplotlib.pyplot as plt\n",
        "from prettytable import PrettyTable\n",
        "from sklearn.linear_model import SGDRegressor\n",
        "from sklearn import preprocessing\n",
        "from sklearn.metrics import mean_squared_error\n",
        "from numpy.random import seed\n",
        "from numpy.random import rand\n",
        "from random import shuffle"
      ],
      "execution_count": 1,
      "outputs": []
    },
    {
      "cell_type": "code",
      "metadata": {
        "id": "NTQ2iH-kAwbo",
        "colab_type": "code",
        "colab": {}
      },
      "source": [
        "X = load_boston().data\n",
        "Y = load_boston().target"
      ],
      "execution_count": 2,
      "outputs": []
    },
    {
      "cell_type": "code",
      "metadata": {
        "id": "FgUW39s6Be0U",
        "colab_type": "code",
        "colab": {}
      },
      "source": [
        "scaler = preprocessing.StandardScaler().fit(X)\n",
        "X = scaler.transform(X)"
      ],
      "execution_count": 3,
      "outputs": []
    },
    {
      "cell_type": "code",
      "metadata": {
        "id": "HNu1sXtEBBS2",
        "colab_type": "code",
        "colab": {
          "base_uri": "https://localhost:8080/",
          "height": 101
        },
        "outputId": "5eb2560a-a6dc-4e8e-b493-3e4f0e25448e"
      },
      "source": [
        "clf = SGDRegressor()\n",
        "clf.fit(X, Y)\n",
        "print(mean_squared_error(Y, clf.predict(X)))\n",
        "print(clf.coef_)\n",
        "print(clf.intercept_)"
      ],
      "execution_count": 4,
      "outputs": [
        {
          "output_type": "stream",
          "text": [
            "21.986673453917373\n",
            "[-0.89572277  1.02081251 -0.10622269  0.70165576 -1.99329378  2.73808305\n",
            " -0.04909799 -3.04160531  2.06609016 -1.48526136 -2.04190204  0.85682768\n",
            " -3.74370123]\n",
            "[22.53926406]\n"
          ],
          "name": "stdout"
        }
      ]
    },
    {
      "cell_type": "code",
      "metadata": {
        "id": "SwC9zel3xl3I",
        "colab_type": "code",
        "colab": {
          "base_uri": "https://localhost:8080/",
          "height": 674
        },
        "outputId": "358d12aa-7c0a-4e39-fe86-8d38eb3e6b3e"
      },
      "source": [
        "class SGDImplementation:\n",
        "  def __init__(self):\n",
        "    seed(13)\n",
        "    self.lambda_Value = 1\n",
        "    self.wOld = rand(13) # X is 13 dimensional\n",
        "    #print(self.wOld)\n",
        "    self.bOld = rand()\n",
        "    #print(self.bOld)\n",
        "    \n",
        "  def fit(self,X, Y):\n",
        "    #Shuffle the data\n",
        "    X,Y = self.randomShuffle(X,Y)\n",
        "\n",
        "    #Set hyperparameters\n",
        "    l = 0.5 # As per live video, \n",
        "    #l = 0.0001 # As per sklearn doc\n",
        "\n",
        "    loss_List = [0]\n",
        "    loss_Per_List = [0]\n",
        "    l_list = []\n",
        "\n",
        "    for i in range(100):\n",
        "      l_list.append(l)\n",
        "      X_Sam, Y_Sam = self.getBatchSamples(X,Y,10,i)\n",
        "      wNew = self.wOld - (l*self.dldw(X_Sam,Y_Sam,self.wOld,self.bOld))\n",
        "      bNew = self.bOld - (l*self.dldb(X_Sam,Y_Sam,self.wOld,self.bOld))\n",
        "      lNew = self.lNew(X_Sam,Y_Sam,wNew,bNew)\n",
        "      loss_Per = ((loss_List[-1] - lNew + 0.00001)/(loss_List[-1] + 0.00001)) * 100\n",
        "      loss_List.append(lNew)\n",
        "      loss_Per_List.append(loss_Per)\n",
        "      #print('wNew')\n",
        "      #print(wNew)\n",
        "      #print('bNew')\n",
        "      #print(bNew)\n",
        "      self.wOld = wNew # useful for next iteration\n",
        "      self.bOld = bNew\n",
        "\n",
        "      # update learning rate\n",
        "      l = self.updateL(l,i)\n",
        "      #if loss_Per < 0.1:\n",
        "      #  print('i',str(i))\n",
        "      #  break\n",
        "    \n",
        "    plt.plot(loss_List)\n",
        "    plt.xlabel('No of Iterations')\n",
        "    plt.ylabel('Loss')\n",
        "    plt.title('Loss per Iteration')\n",
        "    plt.show()\n",
        "\n",
        "    plt.plot(l_list)\n",
        "    plt.xlabel('No of Iterations')\n",
        "    plt.ylabel('Learning Rate')\n",
        "    plt.title('Learning Rate per Iteration')\n",
        "    plt.show()\n",
        "\n",
        "  def predict(self,X):\n",
        "    return X.dot(self.wOld) + self.bOld\n",
        "\n",
        "  def randomShuffle(self,X,Y):\n",
        "    #https://pynative.com/python-random-shuffle/\n",
        "    dTrain = list(zip(X,Y))\n",
        "    shuffle(dTrain)\n",
        "    X_New, Y_New = zip(*dTrain)\n",
        "    return X_New, Y_New\n",
        "  \n",
        "  def getBatchSamples(self,X,Y,k,i):\n",
        "    #k - number of items to select\n",
        "    #i - iteration number\n",
        "    if i >= len(Y)/k: #if i*k is more than list of elements then modulus of  \"i %= int(len(Y)/k)\"\" is used to select already selected values\n",
        "      i %= int(len(Y)/k)\n",
        "    dTrain = list(zip(X,Y))\n",
        "    sample = dTrain[i*k: i*k+k]\n",
        "    X_New, Y_New = zip(*sample)\n",
        "    return np.array(X_New), np.array(Y_New)\n",
        "\n",
        "  #Calculating the learning rate\n",
        "  def updateL(self,l,i):\n",
        "    #return (1/i) if i != 0 else 1  #As per live session video\n",
        "    return l/2 # As per assignment video\n",
        "\n",
        "   #Calculating the new loss\n",
        "  def lNew(self,X, Y, wNew, bNew):\n",
        "    n = X.shape[0]\n",
        "    LSum = 0\n",
        "    for i in range(n):\n",
        "      z = pow((Y[i]-(wNew.dot(X[i]) + bNew)),2) \n",
        "      LSum += z\n",
        "    wSum = 0\n",
        "    return LSum\n",
        "\n",
        "  #Calculating the derivatives dldw and dldb\n",
        "  def dldw(self,X, Y, wOld, bOld):\n",
        "    n = X.shape[0]\n",
        "    dldwSum = 0\n",
        "    for i in range(n):\n",
        "      z = 2*(Y[i]-(wOld.dot(X[i]) + bOld))*(-X[i]) + self.lambda_Value*(2*wOld)\n",
        "      dldwSum += z\n",
        "    return dldwSum\n",
        "\n",
        "  def dldb(self,X, Y, wOld, bOld):\n",
        "    n = X.shape[0]\n",
        "    dldwSum = 0\n",
        "    for i in range(n):\n",
        "      z = 2*(Y[i]-(wOld.dot(X[i]) + bOld))*(-1)\n",
        "      dldwSum += z\n",
        "    return dldwSum\n",
        "\n",
        "X = load_boston().data\n",
        "Y = load_boston().target\n",
        "clf_Own = SGDImplementation()\n",
        "clf_Own.fit(X, Y)\n",
        "print(mean_squared_error(Y, clf_Own.predict(X)))\n",
        "\n",
        "print(clf_Own.wOld)\n",
        "print(clf_Own.bOld)"
      ],
      "execution_count": 7,
      "outputs": [
        {
          "output_type": "display_data",
          "data": {
            "image/png": "[encoded data removed]",
            "text/plain": [
              "<Figure size 432x288 with 1 Axes>"
            ]
          },
          "metadata": {
            "tags": [],
            "needs_background": "light"
          }
        },
        {
          "output_type": "display_data",
          "data": {
            "image/png": "[encoded data removed]",
            "text/plain": [
              "<Figure size 432x288 with 1 Axes>"
            ]
          },
          "metadata": {
            "tags": [],
            "needs_background": "light"
          }
        },
        {
          "output_type": "stream",
          "text": [
            "1.242760368345373e+149\n",
            "[ 3.66652690e+70  1.77067488e+71 -6.19656682e+70  4.82556398e+68\n",
            " -1.28462781e+68  1.86943324e+70  1.17226846e+71  2.53925297e+70\n",
            " -1.05780380e+71 -1.12791910e+72  4.21572309e+70  1.78159233e+72\n",
            "  8.25573393e+70]\n",
            "3.030802597198879e+69\n"
          ],
          "name": "stdout"
        }
      ]
    },
    {
      "cell_type": "code",
      "metadata": {
        "id": "p4Lhf7SLRcXU",
        "colab_type": "code",
        "colab": {}
      },
      "source": [
        "'''\n",
        "Implement your own version of sklearn SGDRegresser (http://scikit-learn.org/stable/modules/generated/sklearn.linear_model.SGDRegressor.html)\n",
        "Plot a chart of predicted values Vs actual values of your own SGD Implementation\n",
        "Now try out the SGDRegresser of sklearn and plot the chart of predicted values Vs actual values\n",
        "In a tabular format, compare the weights obtained from your own implementation with the weights obtained after applying sklearn's SGDRegresser.\n",
        "Also compare the MSE obtained from your custom implementation of SGDRegressor and that of sklearns implementation.\n",
        "Try to get the weights & MSE of your custom implementation, similar to the weights and MSE of sklearns implementation.\n",
        "'''"
      ],
      "execution_count": null,
      "outputs": []
    },
    {
      "cell_type": "markdown",
      "metadata": {
        "id": "s_V9ygghROSW",
        "colab_type": "text"
      },
      "source": [
        "Individual Methods"
      ]
    },
    {
      "cell_type": "code",
      "metadata": {
        "id": "tFAAsocpDo51",
        "colab_type": "code",
        "cellView": "code",
        "colab": {}
      },
      "source": [
        "#Calculating the derivatives dldw and dldb\n",
        "lambda_Value = 1\n",
        "def dldw(X, Y, wOld, bOld):\n",
        "  #X = dTrain['X'], Y= dTrain['Y']\n",
        "  n = X.shape[0]\n",
        "  dldwSum = 0\n",
        "  for i in range(n):\n",
        "    wOldT = (np.array([wOld])).T\n",
        "    z = 2*(Y[i]-(wOld.dot(X[i]) + bOld))(-X[i]) # + lambda_Value*(2*wOld)\n",
        "    dldwSum += z\n",
        "  return dldwSum\n",
        "\n",
        "def dldb(X, Y, wOld, bOld):\n",
        "  #X = dTrain['X'], Y= dTrain['Y']\n",
        "  n = X.shape[0]\n",
        "  dldwSum = 0\n",
        "  for i in range(n):\n",
        "    wOldT = (np.array([wOld])).T\n",
        "    z = 2*(Y[i]-(wOld.dot(X[i]) + bOld))(-1)\n",
        "    dldwSum += z\n",
        "  return dldwSum"
      ],
      "execution_count": null,
      "outputs": []
    },
    {
      "cell_type": "code",
      "metadata": {
        "id": "z3GJpnHR4fst",
        "colab_type": "code",
        "colab": {}
      },
      "source": [
        "#Calculating the new loss\n",
        "def lNew(X, Y, wOld, bOld):\n",
        "  #X = dTrain['X'], Y= dTrain['Y']\n",
        "  n = X.shape[0]\n",
        "  LSum = 0\n",
        "  for i in range(n):\n",
        "    wOldT = (np.array([wOld])).T\n",
        "    z = pow((Y[i]-(wOld.dot(X[i]) + bOld)),2) \n",
        "    LSum += z\n",
        "  wSum = 0\n",
        "  #for j in range(wOld.shape):\n",
        "  #  wSum += pow(wOld[i],2)\n",
        "  #LSum += wSum\n",
        "  return LSum"
      ],
      "execution_count": null,
      "outputs": []
    },
    {
      "cell_type": "code",
      "metadata": {
        "id": "bf1CPUtBI3c7",
        "colab_type": "code",
        "colab": {}
      },
      "source": [
        "#Calculating the learning rate\n",
        "def updateL(l,i):\n",
        "  #return 1/i #As per live session video\n",
        "  return l/2 # As per assignment video"
      ],
      "execution_count": null,
      "outputs": []
    },
    {
      "cell_type": "code",
      "metadata": {
        "id": "KDDlzfzRMAzg",
        "colab_type": "code",
        "colab": {}
      },
      "source": [
        "def randomShuffle(X,Y):\n",
        "  #https://pynative.com/python-random-shuffle/\n",
        "  dTrain = list(zip(X,Y))\n",
        "  shuffle(dTrain)\n",
        "  X_New, Y_New = zip(*dTrain)\n",
        "  return X_New, Y_New\n",
        "  \n",
        "def getBatchSamples(X,Y,k,i):\n",
        "  #k - number of items to select\n",
        "  #i - iteration number\n",
        "  if i >= len(lis)/k: #if i*k is more than list of elements then modulus of  \"i %= int(len(lis)/k)\"\" is used to select already selected values\n",
        "    i %= int(len(lis)/k)\n",
        "  dTrain = list(zip(X,Y))\n",
        "  sample = dTrain[i*k: i*k+k]\n",
        "  X_New, Y_New = zip(*dTrain)\n",
        "  return X_New, Y_New"
      ],
      "execution_count": null,
      "outputs": []
    },
    {
      "cell_type": "code",
      "metadata": {
        "id": "omVpnWbn1uPl",
        "colab_type": "code",
        "colab": {}
      },
      "source": [
        "def computeSGD(X, Y):\n",
        "  #Normalize the data\n",
        "  scaler = preprocessing.StandardScaler().fit(X)\n",
        "  X = scaler.transform(X)\n",
        "\n",
        "  #Shuffle the data\n",
        "  X,Y = randomShuffle(X,Y)\n",
        "\n",
        "  #Set hyperparameters\n",
        "  l = 0.5 # As per live video, \n",
        "  #l = 0.0001 # As per sklearn doc\n",
        "\n",
        "  #initializing the w and b\n",
        "  seed(13)\n",
        "  wOld = rand(13) # X is 13 dimensional\n",
        "  bOld = rand()\n",
        "  loss_List = []\n",
        "  loss_Per_List = []\n",
        "  l_list = []\n",
        "\n",
        "  for i in range(100):\n",
        "    l_list.append(l)\n",
        "    X_Sam, Y_Sam = getBatchSamples(X,Y,10,i):\n",
        "    wNew = wOld - (l*dldw(X_Sam,Y_Sam,wOld,bOld))\n",
        "    bNew = bNew - (b*dldb(X_Sam,Y_Sam,wOld,bOld))\n",
        "    lNew = lNew(X_Sam,Y_Sam,wNew,bNew)\n",
        "    loss_Per = ((loss_List[-1] - lNew)/loss_List[-1]) * 100\n",
        "    loss_List.append(lNew)\n",
        "    loss_Per_List.append(loss_Per)\n",
        "    wOld = wNew # useful for next iteration\n",
        "    bOld = BNew\n",
        "    # update learning rate\n",
        "    l = updateL(l,i)\n",
        "    if loss_Per < 0.1:\n",
        "      break\n",
        "  \n",
        "  plt.plot(loss_List)\n",
        "  plt.xlabel('No of Iterations')\n",
        "  plt.ylabel('Loss')\n",
        "  plt.title('Loss per Iteration')\n",
        "  plt.show()\n",
        "\n",
        "  plt.plot(l_list)\n",
        "  plt.xlabel('No of Iterations')\n",
        "  plt.ylabel('Learning Rate')\n",
        "  plt.title('Learning Rate per Iteration')\n",
        "  plt.show()\n",
        "\n",
        "  return wOld, bOld"
      ],
      "execution_count": null,
      "outputs": []
    },
    {
      "cell_type": "code",
      "metadata": {
        "id": "_4IiPopBp4w2",
        "colab_type": "code",
        "colab": {}
      },
      "source": [
        "def predict(X, wOld, bOld):\n",
        "  wOldT = (np.array([wOld])).T\n",
        "  return wOldT.dot(X[i]) + bOld)"
      ],
      "execution_count": null,
      "outputs": []
    },
    {
      "cell_type": "code",
      "metadata": {
        "id": "gf_4_zUPCC-6",
        "colab_type": "code",
        "colab": {}
      },
      "source": [
        ""
      ],
      "execution_count": null,
      "outputs": []
    }
  ]
}