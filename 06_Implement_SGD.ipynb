{
  "nbformat": 4,
  "nbformat_minor": 0,
  "metadata": {
    "colab": {
      "name": "06 Implement SGD.ipynb",
      "provenance": [],
      "collapsed_sections": [],
      "include_colab_link": true
    },
    "kernelspec": {
      "name": "python3",
      "display_name": "Python 3"
    }
  },
  "cells": [
    {
      "cell_type": "markdown",
      "metadata": {
        "id": "view-in-github",
        "colab_type": "text"
      },
      "source": [
        "<a href=\"https://colab.research.google.com/github/PhaneendraYedidi/Machine-Learning-Practices/blob/master/06_Implement_SGD.ipynb\" target=\"_parent\"><img src=\"https://colab.research.google.com/assets/colab-badge.svg\" alt=\"Open In Colab\"/></a>"
      ]
    },
    {
      "cell_type": "code",
      "metadata": {
        "id": "REYPoTJ1Af7u",
        "colab_type": "code",
        "colab": {}
      },
      "source": [
        "import warnings\n",
        "warnings.filterwarnings(\"ignore\")\n",
        "from sklearn.datasets import load_boston\n",
        "from random import seed\n",
        "from random import randrange\n",
        "from csv import reader\n",
        "from math import sqrt\n",
        "from sklearn import preprocessing\n",
        "import pandas as pd\n",
        "import numpy as np\n",
        "import matplotlib.pyplot as plt\n",
        "from prettytable import PrettyTable\n",
        "from sklearn.linear_model import SGDRegressor\n",
        "from sklearn import preprocessing\n",
        "from sklearn.metrics import mean_squared_error\n",
        "from numpy.random import seed\n",
        "from numpy.random import rand"
      ],
      "execution_count": 0,
      "outputs": []
    },
    {
      "cell_type": "code",
      "metadata": {
        "id": "NTQ2iH-kAwbo",
        "colab_type": "code",
        "colab": {}
      },
      "source": [
        "X = load_boston().data\n",
        "Y = load_boston().target"
      ],
      "execution_count": 0,
      "outputs": []
    },
    {
      "cell_type": "code",
      "metadata": {
        "id": "FgUW39s6Be0U",
        "colab_type": "code",
        "colab": {}
      },
      "source": [
        "scaler = preprocessing.StandardScaler().fit(X)\n",
        "X = scaler.transform(X)"
      ],
      "execution_count": 0,
      "outputs": []
    },
    {
      "cell_type": "code",
      "metadata": {
        "id": "HNu1sXtEBBS2",
        "colab_type": "code",
        "outputId": "a8d69113-e7fa-43d0-ef83-c7435f2c9d70",
        "colab": {
          "base_uri": "https://localhost:8080/",
          "height": 34
        }
      },
      "source": [
        "clf = SGDRegressor()\n",
        "clf.fit(X, Y)\n",
        "print(mean_squared_error(Y, clf.predict(X)))"
      ],
      "execution_count": 4,
      "outputs": [
        {
          "output_type": "stream",
          "text": [
            "21.978045366154493\n"
          ],
          "name": "stdout"
        }
      ]
    },
    {
      "cell_type": "code",
      "metadata": {
        "id": "tFAAsocpDo51",
        "colab_type": "code",
        "colab": {}
      },
      "source": [
        "#Calculating the derivatives dldw and dldb\n",
        "lambda_Value = 1\n",
        "def dldw(X, Y, wOld, bOld):\n",
        "  #X = dTrain['X'], Y= dTrain['Y']\n",
        "  n = X.shape[0]\n",
        "  dldwSum = 0\n",
        "  for i in range(n):\n",
        "    wOldT = (np.array([wOld])).T\n",
        "    z = 2*(Y[i]-(wOld.dot(X[i]) + bOld))(-X[i]) # + lambda_Value*(2*wOld)\n",
        "    dldwSum += z\n",
        "  return dldwSum\n",
        "\n",
        "def dldb(X, Y, wOld, bOld):\n",
        "  #X = dTrain['X'], Y= dTrain['Y']\n",
        "  n = X.shape[0]\n",
        "  dldwSum = 0\n",
        "  for i in range(n):\n",
        "    wOldT = (np.array([wOld])).T\n",
        "    z = 2*(Y[i]-(wOld.dot(X[i]) + bOld))(-1)\n",
        "    dldwSum += z\n",
        "  return dldwSum"
      ],
      "execution_count": 0,
      "outputs": []
    },
    {
      "cell_type": "code",
      "metadata": {
        "id": "z3GJpnHR4fst",
        "colab_type": "code",
        "colab": {}
      },
      "source": [
        "#Calculating the new loss\n",
        "def lNew(X, Y, wOld, bOld):\n",
        "  #X = dTrain['X'], Y= dTrain['Y']\n",
        "  n = X.shape[0]\n",
        "  LSum = 0\n",
        "  for i in range(n):\n",
        "    wOldT = (np.array([wOld])).T\n",
        "    z = pow((Y[i]-(wOld.dot(X[i]) + bOld)),2) \n",
        "    LSum += z\n",
        "  wSum = 0\n",
        "  #for j in range(wOld.shape):\n",
        "  #  wSum += pow(wOld[i],2)\n",
        "  #LSum += wSum\n",
        "  return LSum"
      ],
      "execution_count": 0,
      "outputs": []
    },
    {
      "cell_type": "code",
      "metadata": {
        "id": "bf1CPUtBI3c7",
        "colab_type": "code",
        "colab": {}
      },
      "source": [
        "#Calculating the learning rate\n",
        "def updateL(l,i):\n",
        "  #return 1/i #As per live session video\n",
        "  return l/2 # As per assignment video"
      ],
      "execution_count": 0,
      "outputs": []
    },
    {
      "cell_type": "code",
      "metadata": {
        "id": "omVpnWbn1uPl",
        "colab_type": "code",
        "colab": {}
      },
      "source": [
        "def computeSGD(X, Y):\n",
        "  #Normalize the data\n",
        "  scaler = preprocessing.StandardScaler().fit(X)\n",
        "  X = scaler.transform(X)\n",
        "  #Set hyperparameters\n",
        "  l = 0.5 # As per live video, \n",
        "  #l = 0.0001 # As per sklearn doc\n",
        "  #initializing the w and b\n",
        "  seed(13)\n",
        "  wOld = rand(13) # X is 13 dimensional\n",
        "  bOld = rand()\n",
        "  loss_List = []\n",
        "  loss_Per_List = []\n",
        "  l_list = []\n",
        "  #TODO: random picking of data\n",
        "\n",
        "  for i in range(100):\n",
        "    l_list.append(l)\n",
        "\n",
        "    wNew = wOld - (l*dldw(X,Y,wOld,bOld))\n",
        "    bNew = bNew - (b*dldb(X,Y,wOld,bOld))\n",
        "    lNew = lNew(X,Y,wNew,bNew)\n",
        "    loss_Per = ((loss_List[-1] - lNew)/loss_List[-1]) * 100\n",
        "    loss_List.append(lNew)\n",
        "    loss_Per_List.append(loss_Per)\n",
        "    wOld = wNew # useful for next iteration\n",
        "    bOld = BNew\n",
        "    # update learning rate\n",
        "    l = updateL(l,i)\n",
        "    if loss_Per < 0.1:\n",
        "      break\n",
        "  \n",
        "  plt.plot(loss_List)\n",
        "  plt.xlabel('No of Iterations')\n",
        "  plt.ylabel('Loss')\n",
        "  plt.title('Loss per Iteration')\n",
        "  plt.show()\n",
        "\n",
        "  plt.plot(l_list)\n",
        "  plt.xlabel('No of Iterations')\n",
        "  plt.ylabel('Learning Rate')\n",
        "  plt.title('Learning Rate per Iteration')\n",
        "  plt.show()\n",
        "\n",
        "  return wOld, bOld"
      ],
      "execution_count": 0,
      "outputs": []
    },
    {
      "cell_type": "code",
      "metadata": {
        "id": "Pj0MaAG5JxEd",
        "colab_type": "code",
        "colab": {
          "base_uri": "https://localhost:8080/",
          "height": 70
        },
        "outputId": "a00bfb57-5c8c-4eef-d7cb-f48c250c73be"
      },
      "source": [
        "\n",
        "print(rand())\n",
        "'''\n",
        "from random import shuffle\n",
        "shuffle(values)\n",
        "\n",
        "\n",
        "# seed the pseudorandom number generator\n",
        "from numpy.random import seed\n",
        "from numpy.random import rand\n",
        "# seed random number generator\n",
        "seed(1)\n",
        "# generate some random numbers\n",
        "print(rand(3))\n",
        "# reset the seed\n",
        "seed(1)\n",
        "'''\n"
      ],
      "execution_count": 16,
      "outputs": [
        {
          "output_type": "stream",
          "text": [
            "0.10837689046425514\n"
          ],
          "name": "stdout"
        },
        {
          "output_type": "execute_result",
          "data": {
            "text/plain": [
              "'\\nfrom random import shuffle\\nshuffle(values)\\n\\n\\n# seed the pseudorandom number generator\\nfrom numpy.random import seed\\nfrom numpy.random import rand\\n# seed random number generator\\nseed(1)\\n# generate some random numbers\\nprint(rand(3))\\n# reset the seed\\nseed(1)\\n'"
            ]
          },
          "metadata": {
            "tags": []
          },
          "execution_count": 16
        }
      ]
    }
  ]
}