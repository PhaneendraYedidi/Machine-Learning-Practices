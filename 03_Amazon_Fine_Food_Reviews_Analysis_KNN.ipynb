{
  "nbformat": 4,
  "nbformat_minor": 0,
  "metadata": {
    "colab": {
      "name": "03 Amazon Fine Food Reviews Analysis_KNN.ipynb",
      "version": "0.3.2",
      "provenance": [],
      "collapsed_sections": [
        "_pcNUauJDYLr"
      ],
      "include_colab_link": true
    },
    "language_info": {
      "codemirror_mode": {
        "name": "ipython",
        "version": 3
      },
      "file_extension": ".py",
      "mimetype": "text/x-python",
      "name": "python",
      "nbconvert_exporter": "python",
      "pygments_lexer": "ipython3",
      "version": "3.6.6"
    },
    "kernelspec": {
      "name": "python3",
      "display_name": "Python 3"
    },
    "accelerator": "GPU"
  },
  "cells": [
    {
      "cell_type": "markdown",
      "metadata": {
        "id": "view-in-github",
        "colab_type": "text"
      },
      "source": [
        "<a href=\"https://colab.research.google.com/github/PhaneendraYedidi/Machine-Learning-Practices/blob/master/03_Amazon_Fine_Food_Reviews_Analysis_KNN.ipynb\" target=\"_parent\"><img src=\"https://colab.research.google.com/assets/colab-badge.svg\" alt=\"Open In Colab\"/></a>"
      ]
    },
    {
      "cell_type": "markdown",
      "metadata": {
        "id": "4UPJU7FIDYHb",
        "colab_type": "text"
      },
      "source": [
        "# Amazon Fine Food Reviews Analysis\n",
        "\n",
        "\n",
        "Data Source: https://www.kaggle.com/snap/amazon-fine-food-reviews <br>\n",
        "\n",
        "EDA: https://nycdatascience.com/blog/student-works/amazon-fine-foods-visualization/\n",
        "\n",
        "\n",
        "The Amazon Fine Food Reviews dataset consists of reviews of fine foods from Amazon.<br>\n",
        "\n",
        "Number of reviews: 568,454<br>\n",
        "Number of users: 256,059<br>\n",
        "Number of products: 74,258<br>\n",
        "Timespan: Oct 1999 - Oct 2012<br>\n",
        "Number of Attributes/Columns in data: 10 \n",
        "\n",
        "Attribute Information:\n",
        "\n",
        "1. Id\n",
        "2. ProductId - unique identifier for the product\n",
        "3. UserId - unqiue identifier for the user\n",
        "4. ProfileName\n",
        "5. HelpfulnessNumerator - number of users who found the review helpful\n",
        "6. HelpfulnessDenominator - number of users who indicated whether they found the review helpful or not\n",
        "7. Score - rating between 1 and 5\n",
        "8. Time - timestamp for the review\n",
        "9. Summary - brief summary of the review\n",
        "10. Text - text of the review\n",
        "\n",
        "\n",
        "#### Objective:\n",
        "Given a review, determine whether the review is positive (rating of 4 or 5) or negative (rating of 1 or 2).\n",
        "\n",
        "<br>\n",
        "[Q] How to determine if a review is positive or negative?<br>\n",
        "<br> \n",
        "[Ans] We could use Score/Rating. A rating of 4 or 5 can be cosnidered as a positive review. A rating of 1 or 2 can be considered as negative one. A review of rating 3 is considered nuetral and such reviews are ignored from our analysis. This is an approximate and proxy way of determining the polarity (positivity/negativity) of a review.\n",
        "\n",
        "\n"
      ]
    },
    {
      "cell_type": "markdown",
      "metadata": {
        "id": "Iac3VjZcDYHf",
        "colab_type": "text"
      },
      "source": [
        "# [1]. Reading Data"
      ]
    },
    {
      "cell_type": "markdown",
      "metadata": {
        "id": "wEsMRzNDDYHi",
        "colab_type": "text"
      },
      "source": [
        "## [1.1] Loading the data\n",
        "\n",
        "The dataset is available in two forms\n",
        "1. .csv file\n",
        "2. SQLite Database\n",
        "\n",
        "In order to load the data, We have used the SQLITE dataset as it is easier to query the data and visualise the data efficiently.\n",
        "<br> \n",
        "\n",
        "Here as we only want to get the global sentiment of the recommendations (positive or negative), we will purposefully ignore all Scores equal to 3. If the score is above 3, then the recommendation wil be set to \"positive\". Otherwise, it will be set to \"negative\"."
      ]
    },
    {
      "cell_type": "code",
      "metadata": {
        "id": "ADl9geUvDYHl",
        "colab_type": "code",
        "colab": {}
      },
      "source": [
        "%matplotlib inline\n",
        "import warnings\n",
        "warnings.filterwarnings(\"ignore\")\n",
        "\n",
        "\n",
        "import sqlite3\n",
        "import pandas as pd\n",
        "import numpy as np\n",
        "import nltk\n",
        "import string\n",
        "import matplotlib.pyplot as plt\n",
        "import seaborn as sns\n",
        "from sklearn.feature_extraction.text import TfidfTransformer\n",
        "from sklearn.feature_extraction.text import TfidfVectorizer\n",
        "\n",
        "from sklearn.feature_extraction.text import CountVectorizer\n",
        "from sklearn.metrics import confusion_matrix\n",
        "from sklearn import metrics\n",
        "from sklearn.metrics import roc_curve, auc\n",
        "from nltk.stem.porter import PorterStemmer\n",
        "\n",
        "import re\n",
        "# Tutorial about Python regular expressions: https://pymotw.com/2/re/\n",
        "import string\n",
        "from nltk.corpus import stopwords\n",
        "from nltk.stem import PorterStemmer\n",
        "from nltk.stem.wordnet import WordNetLemmatizer\n",
        "\n",
        "from gensim.models import Word2Vec\n",
        "from gensim.models import KeyedVectors\n",
        "import pickle\n",
        "\n",
        "from tqdm import tqdm\n",
        "import os\n",
        "\n",
        "from sklearn.metrics import accuracy_score,roc_auc_score\n",
        "from sklearn.neighbors import KNeighborsClassifier\n",
        "from sklearn.model_selection import cross_val_score\n",
        "from sklearn.model_selection import GridSearchCV\n",
        "from sklearn.model_selection import train_test_split"
      ],
      "execution_count": 0,
      "outputs": []
    },
    {
      "cell_type": "code",
      "metadata": {
        "id": "WURMWzBMhxvm",
        "colab_type": "code",
        "outputId": "f2aec578-1f1c-4ab7-b474-698d7ef394f2",
        "colab": {
          "base_uri": "https://localhost:8080/",
          "height": 34
        }
      },
      "source": [
        "#Check whether GPU is being used - https://medium.com/deep-learning-turkey/google-colab-free-gpu-tutorial-e113627b9f5d\n",
        "import tensorflow as tf\n",
        "tf.test.gpu_device_name()"
      ],
      "execution_count": 69,
      "outputs": [
        {
          "output_type": "execute_result",
          "data": {
            "text/plain": [
              "'/device:GPU:0'"
            ]
          },
          "metadata": {
            "tags": []
          },
          "execution_count": 69
        }
      ]
    },
    {
      "cell_type": "code",
      "metadata": {
        "id": "SjKkPN3UhzIr",
        "colab_type": "code",
        "outputId": "64391299-9d2f-4f22-ece8-02fa0251bccf",
        "colab": {
          "base_uri": "https://localhost:8080/",
          "height": 34
        }
      },
      "source": [
        "from google.colab import drive\n",
        "drive.mount('/content/drive')"
      ],
      "execution_count": 70,
      "outputs": [
        {
          "output_type": "stream",
          "text": [
            "Drive already mounted at /content/drive; to attempt to forcibly remount, call drive.mount(\"/content/drive\", force_remount=True).\n"
          ],
          "name": "stdout"
        }
      ]
    },
    {
      "cell_type": "code",
      "metadata": {
        "id": "9pO69buUDYHz",
        "colab_type": "code",
        "outputId": "1b987235-dc0e-4865-91b2-8cbb37d1c39d",
        "colab": {
          "base_uri": "https://localhost:8080/",
          "height": 203
        }
      },
      "source": [
        "# using SQLite Table to read data.\n",
        "con = sqlite3.connect('drive/My Drive/Classroom/AML/16 - Amazon Food Review/database.sqlite') \n",
        "\n",
        "# filtering only positive and negative reviews i.e. \n",
        "# not taking into consideration those reviews with Score=3\n",
        "# SELECT * FROM Reviews WHERE Score != 3 LIMIT 500000, will give top 500000 data points\n",
        "# you can change the number to any other number based on your computing power\n",
        "\n",
        "# filtered_data = pd.read_sql_query(\"\"\" SELECT * FROM Reviews WHERE Score != 3 LIMIT 500000\"\"\", con) \n",
        "# for tsne assignment you can take 5k data points\n",
        "\n",
        "filtered_data = pd.read_sql_query(\"\"\" SELECT * FROM Reviews WHERE Score != 3 LIMIT 5000\"\"\", con) \n",
        "\n",
        "# Give reviews with Score>3 a positive rating(1), and reviews with a score<3 a negative rating(0).\n",
        "def partition(x):\n",
        "    if x < 3:\n",
        "        return 0\n",
        "    return 1\n",
        "\n",
        "#changing reviews with score less than 3 to be positive and vice-versa\n",
        "actualScore = filtered_data['Score']\n",
        "positiveNegative = actualScore.map(partition) \n",
        "filtered_data['Score'] = positiveNegative\n",
        "print(\"Number of data points in our data\", filtered_data.shape)\n",
        "filtered_data.head(3)"
      ],
      "execution_count": 71,
      "outputs": [
        {
          "output_type": "stream",
          "text": [
            "Number of data points in our data (5000, 10)\n"
          ],
          "name": "stdout"
        },
        {
          "output_type": "execute_result",
          "data": {
            "text/html": [
              "<div>\n",
              "<style scoped>\n",
              "    .dataframe tbody tr th:only-of-type {\n",
              "        vertical-align: middle;\n",
              "    }\n",
              "\n",
              "    .dataframe tbody tr th {\n",
              "        vertical-align: top;\n",
              "    }\n",
              "\n",
              "    .dataframe thead th {\n",
              "        text-align: right;\n",
              "    }\n",
              "</style>\n",
              "<table border=\"1\" class=\"dataframe\">\n",
              "  <thead>\n",
              "    <tr style=\"text-align: right;\">\n",
              "      <th></th>\n",
              "      <th>Id</th>\n",
              "      <th>ProductId</th>\n",
              "      <th>UserId</th>\n",
              "      <th>ProfileName</th>\n",
              "      <th>HelpfulnessNumerator</th>\n",
              "      <th>HelpfulnessDenominator</th>\n",
              "      <th>Score</th>\n",
              "      <th>Time</th>\n",
              "      <th>Summary</th>\n",
              "      <th>Text</th>\n",
              "    </tr>\n",
              "  </thead>\n",
              "  <tbody>\n",
              "    <tr>\n",
              "      <th>0</th>\n",
              "      <td>1</td>\n",
              "      <td>B001E4KFG0</td>\n",
              "      <td>A3SGXH7AUHU8GW</td>\n",
              "      <td>delmartian</td>\n",
              "      <td>1</td>\n",
              "      <td>1</td>\n",
              "      <td>1</td>\n",
              "      <td>1303862400</td>\n",
              "      <td>Good Quality Dog Food</td>\n",
              "      <td>I have bought several of the Vitality canned d...</td>\n",
              "    </tr>\n",
              "    <tr>\n",
              "      <th>1</th>\n",
              "      <td>2</td>\n",
              "      <td>B00813GRG4</td>\n",
              "      <td>A1D87F6ZCVE5NK</td>\n",
              "      <td>dll pa</td>\n",
              "      <td>0</td>\n",
              "      <td>0</td>\n",
              "      <td>0</td>\n",
              "      <td>1346976000</td>\n",
              "      <td>Not as Advertised</td>\n",
              "      <td>Product arrived labeled as Jumbo Salted Peanut...</td>\n",
              "    </tr>\n",
              "    <tr>\n",
              "      <th>2</th>\n",
              "      <td>3</td>\n",
              "      <td>B000LQOCH0</td>\n",
              "      <td>ABXLMWJIXXAIN</td>\n",
              "      <td>Natalia Corres \"Natalia Corres\"</td>\n",
              "      <td>1</td>\n",
              "      <td>1</td>\n",
              "      <td>1</td>\n",
              "      <td>1219017600</td>\n",
              "      <td>\"Delight\" says it all</td>\n",
              "      <td>This is a confection that has been around a fe...</td>\n",
              "    </tr>\n",
              "  </tbody>\n",
              "</table>\n",
              "</div>"
            ],
            "text/plain": [
              "   Id  ...                                               Text\n",
              "0   1  ...  I have bought several of the Vitality canned d...\n",
              "1   2  ...  Product arrived labeled as Jumbo Salted Peanut...\n",
              "2   3  ...  This is a confection that has been around a fe...\n",
              "\n",
              "[3 rows x 10 columns]"
            ]
          },
          "metadata": {
            "tags": []
          },
          "execution_count": 71
        }
      ]
    },
    {
      "cell_type": "code",
      "metadata": {
        "id": "bDrGXaolDYIH",
        "colab_type": "code",
        "colab": {}
      },
      "source": [
        "display = pd.read_sql_query(\"\"\"\n",
        "SELECT UserId, ProductId, ProfileName, Time, Score, Text, COUNT(*)\n",
        "FROM Reviews\n",
        "GROUP BY UserId\n",
        "HAVING COUNT(*)>1\n",
        "\"\"\", con)"
      ],
      "execution_count": 0,
      "outputs": []
    },
    {
      "cell_type": "code",
      "metadata": {
        "scrolled": true,
        "id": "Jj-M3g0FDYIj",
        "colab_type": "code",
        "outputId": "85b122ae-6df0-47d1-9f84-cbe99a72fdfb",
        "colab": {
          "base_uri": "https://localhost:8080/",
          "height": 212
        }
      },
      "source": [
        "print(display.shape)\n",
        "display.head()"
      ],
      "execution_count": 73,
      "outputs": [
        {
          "output_type": "stream",
          "text": [
            "(80668, 7)\n"
          ],
          "name": "stdout"
        },
        {
          "output_type": "execute_result",
          "data": {
            "text/html": [
              "<div>\n",
              "<style scoped>\n",
              "    .dataframe tbody tr th:only-of-type {\n",
              "        vertical-align: middle;\n",
              "    }\n",
              "\n",
              "    .dataframe tbody tr th {\n",
              "        vertical-align: top;\n",
              "    }\n",
              "\n",
              "    .dataframe thead th {\n",
              "        text-align: right;\n",
              "    }\n",
              "</style>\n",
              "<table border=\"1\" class=\"dataframe\">\n",
              "  <thead>\n",
              "    <tr style=\"text-align: right;\">\n",
              "      <th></th>\n",
              "      <th>UserId</th>\n",
              "      <th>ProductId</th>\n",
              "      <th>ProfileName</th>\n",
              "      <th>Time</th>\n",
              "      <th>Score</th>\n",
              "      <th>Text</th>\n",
              "      <th>COUNT(*)</th>\n",
              "    </tr>\n",
              "  </thead>\n",
              "  <tbody>\n",
              "    <tr>\n",
              "      <th>0</th>\n",
              "      <td>#oc-R115TNMSPFT9I7</td>\n",
              "      <td>B007Y59HVM</td>\n",
              "      <td>Breyton</td>\n",
              "      <td>1331510400</td>\n",
              "      <td>2</td>\n",
              "      <td>Overall its just OK when considering the price...</td>\n",
              "      <td>2</td>\n",
              "    </tr>\n",
              "    <tr>\n",
              "      <th>1</th>\n",
              "      <td>#oc-R11D9D7SHXIJB9</td>\n",
              "      <td>B005HG9ET0</td>\n",
              "      <td>Louis E. Emory \"hoppy\"</td>\n",
              "      <td>1342396800</td>\n",
              "      <td>5</td>\n",
              "      <td>My wife has recurring extreme muscle spasms, u...</td>\n",
              "      <td>3</td>\n",
              "    </tr>\n",
              "    <tr>\n",
              "      <th>2</th>\n",
              "      <td>#oc-R11DNU2NBKQ23Z</td>\n",
              "      <td>B007Y59HVM</td>\n",
              "      <td>Kim Cieszykowski</td>\n",
              "      <td>1348531200</td>\n",
              "      <td>1</td>\n",
              "      <td>This coffee is horrible and unfortunately not ...</td>\n",
              "      <td>2</td>\n",
              "    </tr>\n",
              "    <tr>\n",
              "      <th>3</th>\n",
              "      <td>#oc-R11O5J5ZVQE25C</td>\n",
              "      <td>B005HG9ET0</td>\n",
              "      <td>Penguin Chick</td>\n",
              "      <td>1346889600</td>\n",
              "      <td>5</td>\n",
              "      <td>This will be the bottle that you grab from the...</td>\n",
              "      <td>3</td>\n",
              "    </tr>\n",
              "    <tr>\n",
              "      <th>4</th>\n",
              "      <td>#oc-R12KPBODL2B5ZD</td>\n",
              "      <td>B007OSBE1U</td>\n",
              "      <td>Christopher P. Presta</td>\n",
              "      <td>1348617600</td>\n",
              "      <td>1</td>\n",
              "      <td>I didnt like this coffee. Instead of telling y...</td>\n",
              "      <td>2</td>\n",
              "    </tr>\n",
              "  </tbody>\n",
              "</table>\n",
              "</div>"
            ],
            "text/plain": [
              "               UserId  ... COUNT(*)\n",
              "0  #oc-R115TNMSPFT9I7  ...        2\n",
              "1  #oc-R11D9D7SHXIJB9  ...        3\n",
              "2  #oc-R11DNU2NBKQ23Z  ...        2\n",
              "3  #oc-R11O5J5ZVQE25C  ...        3\n",
              "4  #oc-R12KPBODL2B5ZD  ...        2\n",
              "\n",
              "[5 rows x 7 columns]"
            ]
          },
          "metadata": {
            "tags": []
          },
          "execution_count": 73
        }
      ]
    },
    {
      "cell_type": "code",
      "metadata": {
        "id": "eAG-AQpWDYIx",
        "colab_type": "code",
        "outputId": "e711f17f-c50e-4b42-9301-bbddddaf6754",
        "colab": {
          "base_uri": "https://localhost:8080/",
          "height": 77
        }
      },
      "source": [
        "display[display['UserId']=='AZY10LLTJ71NX']"
      ],
      "execution_count": 74,
      "outputs": [
        {
          "output_type": "execute_result",
          "data": {
            "text/html": [
              "<div>\n",
              "<style scoped>\n",
              "    .dataframe tbody tr th:only-of-type {\n",
              "        vertical-align: middle;\n",
              "    }\n",
              "\n",
              "    .dataframe tbody tr th {\n",
              "        vertical-align: top;\n",
              "    }\n",
              "\n",
              "    .dataframe thead th {\n",
              "        text-align: right;\n",
              "    }\n",
              "</style>\n",
              "<table border=\"1\" class=\"dataframe\">\n",
              "  <thead>\n",
              "    <tr style=\"text-align: right;\">\n",
              "      <th></th>\n",
              "      <th>UserId</th>\n",
              "      <th>ProductId</th>\n",
              "      <th>ProfileName</th>\n",
              "      <th>Time</th>\n",
              "      <th>Score</th>\n",
              "      <th>Text</th>\n",
              "      <th>COUNT(*)</th>\n",
              "    </tr>\n",
              "  </thead>\n",
              "  <tbody>\n",
              "    <tr>\n",
              "      <th>80638</th>\n",
              "      <td>AZY10LLTJ71NX</td>\n",
              "      <td>B006P7E5ZI</td>\n",
              "      <td>undertheshrine \"undertheshrine\"</td>\n",
              "      <td>1334707200</td>\n",
              "      <td>5</td>\n",
              "      <td>I was recommended to try green tea extract to ...</td>\n",
              "      <td>5</td>\n",
              "    </tr>\n",
              "  </tbody>\n",
              "</table>\n",
              "</div>"
            ],
            "text/plain": [
              "              UserId  ... COUNT(*)\n",
              "80638  AZY10LLTJ71NX  ...        5\n",
              "\n",
              "[1 rows x 7 columns]"
            ]
          },
          "metadata": {
            "tags": []
          },
          "execution_count": 74
        }
      ]
    },
    {
      "cell_type": "code",
      "metadata": {
        "id": "3qBpPZKaDYI7",
        "colab_type": "code",
        "outputId": "332355b1-dfd0-413c-c6ba-6792b9908d7d",
        "colab": {
          "base_uri": "https://localhost:8080/",
          "height": 34
        }
      },
      "source": [
        "display['COUNT(*)'].sum()"
      ],
      "execution_count": 75,
      "outputs": [
        {
          "output_type": "execute_result",
          "data": {
            "text/plain": [
              "393063"
            ]
          },
          "metadata": {
            "tags": []
          },
          "execution_count": 75
        }
      ]
    },
    {
      "cell_type": "markdown",
      "metadata": {
        "id": "G1rTdPsqDYJI",
        "colab_type": "text"
      },
      "source": [
        "#  [2] Exploratory Data Analysis"
      ]
    },
    {
      "cell_type": "markdown",
      "metadata": {
        "id": "Wh5RH-NsDYJJ",
        "colab_type": "text"
      },
      "source": [
        "## [2.1] Data Cleaning: Deduplication\n",
        "\n",
        "It is observed (as shown in the table below) that the reviews data had many duplicate entries. Hence it was necessary to remove duplicates in order to get unbiased results for the analysis of the data.  Following is an example:"
      ]
    },
    {
      "cell_type": "code",
      "metadata": {
        "scrolled": false,
        "id": "EUF69tvsDYJO",
        "colab_type": "code",
        "outputId": "5ced0954-3288-4310-e1a5-070d286bea26",
        "colab": {
          "base_uri": "https://localhost:8080/",
          "height": 279
        }
      },
      "source": [
        "display= pd.read_sql_query(\"\"\"\n",
        "SELECT *\n",
        "FROM Reviews\n",
        "WHERE Score != 3 AND UserId=\"AR5J8UI46CURR\"\n",
        "ORDER BY ProductID\n",
        "\"\"\", con)\n",
        "display.head()"
      ],
      "execution_count": 76,
      "outputs": [
        {
          "output_type": "execute_result",
          "data": {
            "text/html": [
              "<div>\n",
              "<style scoped>\n",
              "    .dataframe tbody tr th:only-of-type {\n",
              "        vertical-align: middle;\n",
              "    }\n",
              "\n",
              "    .dataframe tbody tr th {\n",
              "        vertical-align: top;\n",
              "    }\n",
              "\n",
              "    .dataframe thead th {\n",
              "        text-align: right;\n",
              "    }\n",
              "</style>\n",
              "<table border=\"1\" class=\"dataframe\">\n",
              "  <thead>\n",
              "    <tr style=\"text-align: right;\">\n",
              "      <th></th>\n",
              "      <th>Id</th>\n",
              "      <th>ProductId</th>\n",
              "      <th>UserId</th>\n",
              "      <th>ProfileName</th>\n",
              "      <th>HelpfulnessNumerator</th>\n",
              "      <th>HelpfulnessDenominator</th>\n",
              "      <th>Score</th>\n",
              "      <th>Time</th>\n",
              "      <th>Summary</th>\n",
              "      <th>Text</th>\n",
              "    </tr>\n",
              "  </thead>\n",
              "  <tbody>\n",
              "    <tr>\n",
              "      <th>0</th>\n",
              "      <td>78445</td>\n",
              "      <td>B000HDL1RQ</td>\n",
              "      <td>AR5J8UI46CURR</td>\n",
              "      <td>Geetha Krishnan</td>\n",
              "      <td>2</td>\n",
              "      <td>2</td>\n",
              "      <td>5</td>\n",
              "      <td>1199577600</td>\n",
              "      <td>LOACKER QUADRATINI VANILLA WAFERS</td>\n",
              "      <td>DELICIOUS WAFERS. I FIND THAT EUROPEAN WAFERS ...</td>\n",
              "    </tr>\n",
              "    <tr>\n",
              "      <th>1</th>\n",
              "      <td>138317</td>\n",
              "      <td>B000HDOPYC</td>\n",
              "      <td>AR5J8UI46CURR</td>\n",
              "      <td>Geetha Krishnan</td>\n",
              "      <td>2</td>\n",
              "      <td>2</td>\n",
              "      <td>5</td>\n",
              "      <td>1199577600</td>\n",
              "      <td>LOACKER QUADRATINI VANILLA WAFERS</td>\n",
              "      <td>DELICIOUS WAFERS. I FIND THAT EUROPEAN WAFERS ...</td>\n",
              "    </tr>\n",
              "    <tr>\n",
              "      <th>2</th>\n",
              "      <td>138277</td>\n",
              "      <td>B000HDOPYM</td>\n",
              "      <td>AR5J8UI46CURR</td>\n",
              "      <td>Geetha Krishnan</td>\n",
              "      <td>2</td>\n",
              "      <td>2</td>\n",
              "      <td>5</td>\n",
              "      <td>1199577600</td>\n",
              "      <td>LOACKER QUADRATINI VANILLA WAFERS</td>\n",
              "      <td>DELICIOUS WAFERS. I FIND THAT EUROPEAN WAFERS ...</td>\n",
              "    </tr>\n",
              "    <tr>\n",
              "      <th>3</th>\n",
              "      <td>73791</td>\n",
              "      <td>B000HDOPZG</td>\n",
              "      <td>AR5J8UI46CURR</td>\n",
              "      <td>Geetha Krishnan</td>\n",
              "      <td>2</td>\n",
              "      <td>2</td>\n",
              "      <td>5</td>\n",
              "      <td>1199577600</td>\n",
              "      <td>LOACKER QUADRATINI VANILLA WAFERS</td>\n",
              "      <td>DELICIOUS WAFERS. I FIND THAT EUROPEAN WAFERS ...</td>\n",
              "    </tr>\n",
              "    <tr>\n",
              "      <th>4</th>\n",
              "      <td>155049</td>\n",
              "      <td>B000PAQ75C</td>\n",
              "      <td>AR5J8UI46CURR</td>\n",
              "      <td>Geetha Krishnan</td>\n",
              "      <td>2</td>\n",
              "      <td>2</td>\n",
              "      <td>5</td>\n",
              "      <td>1199577600</td>\n",
              "      <td>LOACKER QUADRATINI VANILLA WAFERS</td>\n",
              "      <td>DELICIOUS WAFERS. I FIND THAT EUROPEAN WAFERS ...</td>\n",
              "    </tr>\n",
              "  </tbody>\n",
              "</table>\n",
              "</div>"
            ],
            "text/plain": [
              "       Id  ...                                               Text\n",
              "0   78445  ...  DELICIOUS WAFERS. I FIND THAT EUROPEAN WAFERS ...\n",
              "1  138317  ...  DELICIOUS WAFERS. I FIND THAT EUROPEAN WAFERS ...\n",
              "2  138277  ...  DELICIOUS WAFERS. I FIND THAT EUROPEAN WAFERS ...\n",
              "3   73791  ...  DELICIOUS WAFERS. I FIND THAT EUROPEAN WAFERS ...\n",
              "4  155049  ...  DELICIOUS WAFERS. I FIND THAT EUROPEAN WAFERS ...\n",
              "\n",
              "[5 rows x 10 columns]"
            ]
          },
          "metadata": {
            "tags": []
          },
          "execution_count": 76
        }
      ]
    },
    {
      "cell_type": "markdown",
      "metadata": {
        "id": "cKrGPQEfDYJW",
        "colab_type": "text"
      },
      "source": [
        "As it can be seen above that same user has multiple reviews with same values for HelpfulnessNumerator, HelpfulnessDenominator, Score, Time, Summary and Text and on doing analysis it was found that <br>\n",
        "<br> \n",
        "ProductId=B000HDOPZG was Loacker Quadratini Vanilla Wafer Cookies, 8.82-Ounce Packages (Pack of 8)<br>\n",
        "<br> \n",
        "ProductId=B000HDL1RQ was Loacker Quadratini Lemon Wafer Cookies, 8.82-Ounce Packages (Pack of 8) and so on<br>\n",
        "\n",
        "It was inferred after analysis that reviews with same parameters other than ProductId belonged to the same product just having different flavour or quantity. Hence in order to reduce redundancy it was decided to eliminate the rows having same parameters.<br>\n",
        "\n",
        "The method used for the same was that we first sort the data according to ProductId and then just keep the first similar product review and delelte the others. for eg. in the above just the review for ProductId=B000HDL1RQ remains. This method ensures that there is only one representative for each product and deduplication without sorting would lead to possibility of different representatives still existing for the same product."
      ]
    },
    {
      "cell_type": "code",
      "metadata": {
        "id": "eQWrz1nFDYJX",
        "colab_type": "code",
        "colab": {}
      },
      "source": [
        "#Sorting data according to ProductId in ascending order\n",
        "sorted_data=filtered_data.sort_values('ProductId', axis=0, ascending=True, inplace=False, kind='quicksort', na_position='last')"
      ],
      "execution_count": 0,
      "outputs": []
    },
    {
      "cell_type": "code",
      "metadata": {
        "id": "4CS7fUdLDYJd",
        "colab_type": "code",
        "outputId": "9f3a8349-6ba3-4cb2-8020-73230ac7666c",
        "colab": {
          "base_uri": "https://localhost:8080/",
          "height": 34
        }
      },
      "source": [
        "#Deduplication of entries\n",
        "final=sorted_data.drop_duplicates(subset={\"UserId\",\"ProfileName\",\"Time\",\"Text\"}, keep='first', inplace=False)\n",
        "final.shape"
      ],
      "execution_count": 78,
      "outputs": [
        {
          "output_type": "execute_result",
          "data": {
            "text/plain": [
              "(4986, 10)"
            ]
          },
          "metadata": {
            "tags": []
          },
          "execution_count": 78
        }
      ]
    },
    {
      "cell_type": "code",
      "metadata": {
        "id": "Hcc_-CJMDYJk",
        "colab_type": "code",
        "outputId": "7fe8c0f9-c38b-4f57-f6d2-11c85d427ac1",
        "colab": {
          "base_uri": "https://localhost:8080/",
          "height": 34
        }
      },
      "source": [
        "#Checking to see how much % of data still remains\n",
        "(final['Id'].size*1.0)/(filtered_data['Id'].size*1.0)*100"
      ],
      "execution_count": 79,
      "outputs": [
        {
          "output_type": "execute_result",
          "data": {
            "text/plain": [
              "99.72"
            ]
          },
          "metadata": {
            "tags": []
          },
          "execution_count": 79
        }
      ]
    },
    {
      "cell_type": "markdown",
      "metadata": {
        "id": "engwR6VNDYJq",
        "colab_type": "text"
      },
      "source": [
        "<b>Observation:-</b> It was also seen that in two rows given below the value of HelpfulnessNumerator is greater than HelpfulnessDenominator which is not practically possible hence these two rows too are removed from calcualtions"
      ]
    },
    {
      "cell_type": "code",
      "metadata": {
        "id": "hjN7-OL_DYJt",
        "colab_type": "code",
        "outputId": "9a71ba79-75a6-4d5d-b482-0a1846b6aa0f",
        "colab": {
          "base_uri": "https://localhost:8080/",
          "height": 140
        }
      },
      "source": [
        "display= pd.read_sql_query(\"\"\"\n",
        "SELECT *\n",
        "FROM Reviews\n",
        "WHERE Score != 3 AND Id=44737 OR Id=64422\n",
        "ORDER BY ProductID\n",
        "\"\"\", con)\n",
        "\n",
        "display.head()"
      ],
      "execution_count": 80,
      "outputs": [
        {
          "output_type": "execute_result",
          "data": {
            "text/html": [
              "<div>\n",
              "<style scoped>\n",
              "    .dataframe tbody tr th:only-of-type {\n",
              "        vertical-align: middle;\n",
              "    }\n",
              "\n",
              "    .dataframe tbody tr th {\n",
              "        vertical-align: top;\n",
              "    }\n",
              "\n",
              "    .dataframe thead th {\n",
              "        text-align: right;\n",
              "    }\n",
              "</style>\n",
              "<table border=\"1\" class=\"dataframe\">\n",
              "  <thead>\n",
              "    <tr style=\"text-align: right;\">\n",
              "      <th></th>\n",
              "      <th>Id</th>\n",
              "      <th>ProductId</th>\n",
              "      <th>UserId</th>\n",
              "      <th>ProfileName</th>\n",
              "      <th>HelpfulnessNumerator</th>\n",
              "      <th>HelpfulnessDenominator</th>\n",
              "      <th>Score</th>\n",
              "      <th>Time</th>\n",
              "      <th>Summary</th>\n",
              "      <th>Text</th>\n",
              "    </tr>\n",
              "  </thead>\n",
              "  <tbody>\n",
              "    <tr>\n",
              "      <th>0</th>\n",
              "      <td>64422</td>\n",
              "      <td>B000MIDROQ</td>\n",
              "      <td>A161DK06JJMCYF</td>\n",
              "      <td>J. E. Stephens \"Jeanne\"</td>\n",
              "      <td>3</td>\n",
              "      <td>1</td>\n",
              "      <td>5</td>\n",
              "      <td>1224892800</td>\n",
              "      <td>Bought This for My Son at College</td>\n",
              "      <td>My son loves spaghetti so I didn't hesitate or...</td>\n",
              "    </tr>\n",
              "    <tr>\n",
              "      <th>1</th>\n",
              "      <td>44737</td>\n",
              "      <td>B001EQ55RW</td>\n",
              "      <td>A2V0I904FH7ABY</td>\n",
              "      <td>Ram</td>\n",
              "      <td>3</td>\n",
              "      <td>2</td>\n",
              "      <td>4</td>\n",
              "      <td>1212883200</td>\n",
              "      <td>Pure cocoa taste with crunchy almonds inside</td>\n",
              "      <td>It was almost a 'love at first bite' - the per...</td>\n",
              "    </tr>\n",
              "  </tbody>\n",
              "</table>\n",
              "</div>"
            ],
            "text/plain": [
              "      Id  ...                                               Text\n",
              "0  64422  ...  My son loves spaghetti so I didn't hesitate or...\n",
              "1  44737  ...  It was almost a 'love at first bite' - the per...\n",
              "\n",
              "[2 rows x 10 columns]"
            ]
          },
          "metadata": {
            "tags": []
          },
          "execution_count": 80
        }
      ]
    },
    {
      "cell_type": "code",
      "metadata": {
        "id": "Ezix6kJ_DYJ3",
        "colab_type": "code",
        "colab": {}
      },
      "source": [
        "final=final[final.HelpfulnessNumerator<=final.HelpfulnessDenominator]"
      ],
      "execution_count": 0,
      "outputs": []
    },
    {
      "cell_type": "code",
      "metadata": {
        "id": "yWsVhvArDYJ9",
        "colab_type": "code",
        "outputId": "ae349571-8107-489a-d696-8bd2d1a3ac16",
        "colab": {
          "base_uri": "https://localhost:8080/",
          "height": 84
        }
      },
      "source": [
        "#Before starting the next phase of preprocessing lets see the number of entries left\n",
        "print(final.shape)\n",
        "\n",
        "#How many positive and negative reviews are present in our dataset?\n",
        "final['Score'].value_counts()"
      ],
      "execution_count": 82,
      "outputs": [
        {
          "output_type": "stream",
          "text": [
            "(4986, 10)\n"
          ],
          "name": "stdout"
        },
        {
          "output_type": "execute_result",
          "data": {
            "text/plain": [
              "1    4178\n",
              "0     808\n",
              "Name: Score, dtype: int64"
            ]
          },
          "metadata": {
            "tags": []
          },
          "execution_count": 82
        }
      ]
    },
    {
      "cell_type": "markdown",
      "metadata": {
        "id": "AoLxCQ-VDYKI",
        "colab_type": "text"
      },
      "source": [
        "#  [3] Preprocessing"
      ]
    },
    {
      "cell_type": "markdown",
      "metadata": {
        "id": "P7Zq_ToqDYKJ",
        "colab_type": "text"
      },
      "source": [
        "## [3.1].  Preprocessing Review Text\n",
        "\n",
        "Now that we have finished deduplication our data requires some preprocessing before we go on further with analysis and making the prediction model.\n",
        "\n",
        "Hence in the Preprocessing phase we do the following in the order below:-\n",
        "\n",
        "1. Begin by removing the html tags\n",
        "2. Remove any punctuations or limited set of special characters like , or . or # etc.\n",
        "3. Check if the word is made up of english letters and is not alpha-numeric\n",
        "4. Check to see if the length of the word is greater than 2 (as it was researched that there is no adjective in 2-letters)\n",
        "5. Convert the word to lowercase\n",
        "6. Remove Stopwords\n",
        "7. Finally Snowball Stemming the word (it was obsereved to be better than Porter Stemming)<br>\n",
        "\n",
        "After which we collect the words used to describe positive and negative reviews"
      ]
    },
    {
      "cell_type": "code",
      "metadata": {
        "id": "3jw5g5yEDYKL",
        "colab_type": "code",
        "outputId": "440d19e4-ab7a-4dfe-8021-478071c0f581",
        "colab": {
          "base_uri": "https://localhost:8080/",
          "height": 171
        }
      },
      "source": [
        "# printing some random reviews\n",
        "sent_0 = final['Text'].values[0]\n",
        "print(sent_0)\n",
        "print(\"=\"*50)\n",
        "\n",
        "sent_1000 = final['Text'].values[1000]\n",
        "print(sent_1000)\n",
        "print(\"=\"*50)\n",
        "\n",
        "sent_1500 = final['Text'].values[1500]\n",
        "print(sent_1500)\n",
        "print(\"=\"*50)\n",
        "\n",
        "sent_4900 = final['Text'].values[4900]\n",
        "print(sent_4900)\n",
        "print(\"=\"*50)"
      ],
      "execution_count": 83,
      "outputs": [
        {
          "output_type": "stream",
          "text": [
            "Why is this $[...] when the same product is available for $[...] here?<br />http://www.amazon.com/VICTOR-FLY-MAGNET-BAIT-REFILL/dp/B00004RBDY<br /><br />The Victor M380 and M502 traps are unreal, of course -- total fly genocide. Pretty stinky, but only right nearby.\n",
            "==================================================\n",
            "I recently tried this flavor/brand and was surprised at how delicious these chips are.  The best thing was that there were a lot of \"brown\" chips in the bsg (my favorite), so I bought some more through amazon and shared with family and friends.  I am a little disappointed that there are not, so far, very many brown chips in these bags, but the flavor is still very good.  I like them better than the yogurt and green onion flavor because they do not seem to be as salty, and the onion flavor is better.  If you haven't eaten Kettle chips before, I recommend that you try a bag before buying bulk.  They are thicker and crunchier than Lays but just as fresh out of the bag.\n",
            "==================================================\n",
            "Wow.  So far, two two-star reviews.  One obviously had no idea what they were ordering; the other wants crispy cookies.  Hey, I'm sorry; but these reviews do nobody any good beyond reminding us to look  before ordering.<br /><br />These are chocolate-oatmeal cookies.  If you don't like that combination, don't order this type of cookie.  I find the combo quite nice, really.  The oatmeal sort of \"calms\" the rich chocolate flavor and gives the cookie sort of a coconut-type consistency.  Now let's also remember that tastes differ; so, I've given my opinion.<br /><br />Then, these are soft, chewy cookies -- as advertised.  They are not \"crispy\" cookies, or the blurb would say \"crispy,\" rather than \"chewy.\"  I happen to like raw cookie dough; however, I don't see where these taste like raw cookie dough.  Both are soft, however, so is this the confusion?  And, yes, they stick together.  Soft cookies tend to do that.  They aren't individually wrapped, which would add to the cost.  Oh yeah, chocolate chip cookies tend to be somewhat sweet.<br /><br />So, if you want something hard and crisp, I suggest Nabiso's Ginger Snaps.  If you want a cookie that's soft, chewy and tastes like a combination of chocolate and oatmeal, give these a try.  I'm here to place my second order.\n",
            "==================================================\n",
            "love to order my coffee on amazon.  easy and shows up quickly.<br />This k cup is great coffee.  dcaf is very good as well\n",
            "==================================================\n"
          ],
          "name": "stdout"
        }
      ]
    },
    {
      "cell_type": "code",
      "metadata": {
        "id": "WloiOvL3DYKT",
        "colab_type": "code",
        "outputId": "23599061-98d8-40e5-d5bd-9413b43435b6",
        "colab": {
          "base_uri": "https://localhost:8080/",
          "height": 54
        }
      },
      "source": [
        "# remove urls from text python: https://stackoverflow.com/a/40823105/4084039\n",
        "sent_0 = re.sub(r\"http\\S+\", \"\", sent_0)\n",
        "sent_1000 = re.sub(r\"http\\S+\", \"\", sent_1000)\n",
        "sent_150 = re.sub(r\"http\\S+\", \"\", sent_1500)\n",
        "sent_4900 = re.sub(r\"http\\S+\", \"\", sent_4900)\n",
        "\n",
        "print(sent_0)"
      ],
      "execution_count": 84,
      "outputs": [
        {
          "output_type": "stream",
          "text": [
            "Why is this $[...] when the same product is available for $[...] here?<br /> /><br />The Victor M380 and M502 traps are unreal, of course -- total fly genocide. Pretty stinky, but only right nearby.\n"
          ],
          "name": "stdout"
        }
      ]
    },
    {
      "cell_type": "code",
      "metadata": {
        "id": "SzCCi9tPDYKf",
        "colab_type": "code",
        "outputId": "a2c6f252-40f6-4731-fb50-b709ccbb2b1c",
        "colab": {
          "base_uri": "https://localhost:8080/",
          "height": 154
        }
      },
      "source": [
        "# https://stackoverflow.com/questions/16206380/python-beautifulsoup-how-to-remove-all-tags-from-an-element\n",
        "from bs4 import BeautifulSoup\n",
        "\n",
        "soup = BeautifulSoup(sent_0, 'lxml')\n",
        "text = soup.get_text()\n",
        "print(text)\n",
        "print(\"=\"*50)\n",
        "\n",
        "soup = BeautifulSoup(sent_1000, 'lxml')\n",
        "text = soup.get_text()\n",
        "print(text)\n",
        "print(\"=\"*50)\n",
        "\n",
        "soup = BeautifulSoup(sent_1500, 'lxml')\n",
        "text = soup.get_text()\n",
        "print(text)\n",
        "print(\"=\"*50)\n",
        "\n",
        "soup = BeautifulSoup(sent_4900, 'lxml')\n",
        "text = soup.get_text()\n",
        "print(text)"
      ],
      "execution_count": 85,
      "outputs": [
        {
          "output_type": "stream",
          "text": [
            "Why is this $[...] when the same product is available for $[...] here? />The Victor M380 and M502 traps are unreal, of course -- total fly genocide. Pretty stinky, but only right nearby.\n",
            "==================================================\n",
            "I recently tried this flavor/brand and was surprised at how delicious these chips are.  The best thing was that there were a lot of \"brown\" chips in the bsg (my favorite), so I bought some more through amazon and shared with family and friends.  I am a little disappointed that there are not, so far, very many brown chips in these bags, but the flavor is still very good.  I like them better than the yogurt and green onion flavor because they do not seem to be as salty, and the onion flavor is better.  If you haven't eaten Kettle chips before, I recommend that you try a bag before buying bulk.  They are thicker and crunchier than Lays but just as fresh out of the bag.\n",
            "==================================================\n",
            "Wow.  So far, two two-star reviews.  One obviously had no idea what they were ordering; the other wants crispy cookies.  Hey, I'm sorry; but these reviews do nobody any good beyond reminding us to look  before ordering.These are chocolate-oatmeal cookies.  If you don't like that combination, don't order this type of cookie.  I find the combo quite nice, really.  The oatmeal sort of \"calms\" the rich chocolate flavor and gives the cookie sort of a coconut-type consistency.  Now let's also remember that tastes differ; so, I've given my opinion.Then, these are soft, chewy cookies -- as advertised.  They are not \"crispy\" cookies, or the blurb would say \"crispy,\" rather than \"chewy.\"  I happen to like raw cookie dough; however, I don't see where these taste like raw cookie dough.  Both are soft, however, so is this the confusion?  And, yes, they stick together.  Soft cookies tend to do that.  They aren't individually wrapped, which would add to the cost.  Oh yeah, chocolate chip cookies tend to be somewhat sweet.So, if you want something hard and crisp, I suggest Nabiso's Ginger Snaps.  If you want a cookie that's soft, chewy and tastes like a combination of chocolate and oatmeal, give these a try.  I'm here to place my second order.\n",
            "==================================================\n",
            "love to order my coffee on amazon.  easy and shows up quickly.This k cup is great coffee.  dcaf is very good as well\n"
          ],
          "name": "stdout"
        }
      ]
    },
    {
      "cell_type": "code",
      "metadata": {
        "id": "vQ2mdt2jDYKo",
        "colab_type": "code",
        "colab": {}
      },
      "source": [
        "# https://stackoverflow.com/a/47091490/4084039\n",
        "import re\n",
        "\n",
        "def decontracted(phrase):\n",
        "    # specific\n",
        "    phrase = re.sub(r\"won't\", \"will not\", phrase)\n",
        "    phrase = re.sub(r\"can\\'t\", \"can not\", phrase)\n",
        "\n",
        "    # general\n",
        "    phrase = re.sub(r\"n\\'t\", \" not\", phrase)\n",
        "    phrase = re.sub(r\"\\'re\", \" are\", phrase)\n",
        "    phrase = re.sub(r\"\\'s\", \" is\", phrase)\n",
        "    phrase = re.sub(r\"\\'d\", \" would\", phrase)\n",
        "    phrase = re.sub(r\"\\'ll\", \" will\", phrase)\n",
        "    phrase = re.sub(r\"\\'t\", \" not\", phrase)\n",
        "    phrase = re.sub(r\"\\'ve\", \" have\", phrase)\n",
        "    phrase = re.sub(r\"\\'m\", \" am\", phrase)\n",
        "    return phrase"
      ],
      "execution_count": 0,
      "outputs": []
    },
    {
      "cell_type": "code",
      "metadata": {
        "id": "GD5_8P5jDYKr",
        "colab_type": "code",
        "outputId": "516a9996-dc11-4ac7-98e0-9a28c956cdae",
        "colab": {
          "base_uri": "https://localhost:8080/",
          "height": 70
        }
      },
      "source": [
        "sent_1500 = decontracted(sent_1500)\n",
        "print(sent_1500)\n",
        "print(\"=\"*50)"
      ],
      "execution_count": 87,
      "outputs": [
        {
          "output_type": "stream",
          "text": [
            "Wow.  So far, two two-star reviews.  One obviously had no idea what they were ordering; the other wants crispy cookies.  Hey, I am sorry; but these reviews do nobody any good beyond reminding us to look  before ordering.<br /><br />These are chocolate-oatmeal cookies.  If you do not like that combination, do not order this type of cookie.  I find the combo quite nice, really.  The oatmeal sort of \"calms\" the rich chocolate flavor and gives the cookie sort of a coconut-type consistency.  Now let is also remember that tastes differ; so, I have given my opinion.<br /><br />Then, these are soft, chewy cookies -- as advertised.  They are not \"crispy\" cookies, or the blurb would say \"crispy,\" rather than \"chewy.\"  I happen to like raw cookie dough; however, I do not see where these taste like raw cookie dough.  Both are soft, however, so is this the confusion?  And, yes, they stick together.  Soft cookies tend to do that.  They are not individually wrapped, which would add to the cost.  Oh yeah, chocolate chip cookies tend to be somewhat sweet.<br /><br />So, if you want something hard and crisp, I suggest Nabiso is Ginger Snaps.  If you want a cookie that is soft, chewy and tastes like a combination of chocolate and oatmeal, give these a try.  I am here to place my second order.\n",
            "==================================================\n"
          ],
          "name": "stdout"
        }
      ]
    },
    {
      "cell_type": "code",
      "metadata": {
        "id": "qTHM_mDnDYKx",
        "colab_type": "code",
        "outputId": "47898e4c-5978-43c9-9a5a-2ae8d1d3c975",
        "colab": {
          "base_uri": "https://localhost:8080/",
          "height": 54
        }
      },
      "source": [
        "#remove words with numbers python: https://stackoverflow.com/a/18082370/4084039\n",
        "sent_0 = re.sub(\"\\S*\\d\\S*\", \"\", sent_0).strip()\n",
        "print(sent_0)"
      ],
      "execution_count": 88,
      "outputs": [
        {
          "output_type": "stream",
          "text": [
            "Why is this $[...] when the same product is available for $[...] here?<br /> /><br />The Victor  and  traps are unreal, of course -- total fly genocide. Pretty stinky, but only right nearby.\n"
          ],
          "name": "stdout"
        }
      ]
    },
    {
      "cell_type": "code",
      "metadata": {
        "id": "pXhZUMDzDYK6",
        "colab_type": "code",
        "outputId": "26c1bdb8-2283-41cb-dc38-375fbb89de09",
        "colab": {
          "base_uri": "https://localhost:8080/",
          "height": 54
        }
      },
      "source": [
        "#remove spacial character: https://stackoverflow.com/a/5843547/4084039\n",
        "sent_1500 = re.sub('[^A-Za-z0-9]+', ' ', sent_1500)\n",
        "print(sent_1500)"
      ],
      "execution_count": 89,
      "outputs": [
        {
          "output_type": "stream",
          "text": [
            "Wow So far two two star reviews One obviously had no idea what they were ordering the other wants crispy cookies Hey I am sorry but these reviews do nobody any good beyond reminding us to look before ordering br br These are chocolate oatmeal cookies If you do not like that combination do not order this type of cookie I find the combo quite nice really The oatmeal sort of calms the rich chocolate flavor and gives the cookie sort of a coconut type consistency Now let is also remember that tastes differ so I have given my opinion br br Then these are soft chewy cookies as advertised They are not crispy cookies or the blurb would say crispy rather than chewy I happen to like raw cookie dough however I do not see where these taste like raw cookie dough Both are soft however so is this the confusion And yes they stick together Soft cookies tend to do that They are not individually wrapped which would add to the cost Oh yeah chocolate chip cookies tend to be somewhat sweet br br So if you want something hard and crisp I suggest Nabiso is Ginger Snaps If you want a cookie that is soft chewy and tastes like a combination of chocolate and oatmeal give these a try I am here to place my second order \n"
          ],
          "name": "stdout"
        }
      ]
    },
    {
      "cell_type": "code",
      "metadata": {
        "id": "vZJNhKvKDYLA",
        "colab_type": "code",
        "colab": {}
      },
      "source": [
        "# https://gist.github.com/sebleier/554280\n",
        "# we are removing the words from the stop words list: 'no', 'nor', 'not'\n",
        "# <br /><br /> ==> after the above steps, we are getting \"br br\"\n",
        "# we are including them into stop words list\n",
        "# instead of <br /> if we have <br/> these tags would have revmoved in the 1st step\n",
        "\n",
        "stopwords= set(['br', 'the', 'i', 'me', 'my', 'myself', 'we', 'our', 'ours', 'ourselves', 'you', \"you're\", \"you've\",\\\n",
        "            \"you'll\", \"you'd\", 'your', 'yours', 'yourself', 'yourselves', 'he', 'him', 'his', 'himself', \\\n",
        "            'she', \"she's\", 'her', 'hers', 'herself', 'it', \"it's\", 'its', 'itself', 'they', 'them', 'their',\\\n",
        "            'theirs', 'themselves', 'what', 'which', 'who', 'whom', 'this', 'that', \"that'll\", 'these', 'those', \\\n",
        "            'am', 'is', 'are', 'was', 'were', 'be', 'been', 'being', 'have', 'has', 'had', 'having', 'do', 'does', \\\n",
        "            'did', 'doing', 'a', 'an', 'the', 'and', 'but', 'if', 'or', 'because', 'as', 'until', 'while', 'of', \\\n",
        "            'at', 'by', 'for', 'with', 'about', 'against', 'between', 'into', 'through', 'during', 'before', 'after',\\\n",
        "            'above', 'below', 'to', 'from', 'up', 'down', 'in', 'out', 'on', 'off', 'over', 'under', 'again', 'further',\\\n",
        "            'then', 'once', 'here', 'there', 'when', 'where', 'why', 'how', 'all', 'any', 'both', 'each', 'few', 'more',\\\n",
        "            'most', 'other', 'some', 'such', 'only', 'own', 'same', 'so', 'than', 'too', 'very', \\\n",
        "            's', 't', 'can', 'will', 'just', 'don', \"don't\", 'should', \"should've\", 'now', 'd', 'll', 'm', 'o', 're', \\\n",
        "            've', 'y', 'ain', 'aren', \"aren't\", 'couldn', \"couldn't\", 'didn', \"didn't\", 'doesn', \"doesn't\", 'hadn',\\\n",
        "            \"hadn't\", 'hasn', \"hasn't\", 'haven', \"haven't\", 'isn', \"isn't\", 'ma', 'mightn', \"mightn't\", 'mustn',\\\n",
        "            \"mustn't\", 'needn', \"needn't\", 'shan', \"shan't\", 'shouldn', \"shouldn't\", 'wasn', \"wasn't\", 'weren', \"weren't\", \\\n",
        "            'won', \"won't\", 'wouldn', \"wouldn't\"])"
      ],
      "execution_count": 0,
      "outputs": []
    },
    {
      "cell_type": "code",
      "metadata": {
        "id": "1Rd8zIc8DYLF",
        "colab_type": "code",
        "outputId": "1851dcb8-eec4-4fb8-b7f2-ef0cf880a9c6",
        "colab": {
          "base_uri": "https://localhost:8080/",
          "height": 34
        }
      },
      "source": [
        "# Combining all the above stundents \n",
        "from tqdm import tqdm\n",
        "preprocessed_reviews = []\n",
        "# tqdm is for printing the status bar\n",
        "for sentance in tqdm(final['Text'].values):\n",
        "    sentance = re.sub(r\"http\\S+\", \"\", sentance)\n",
        "    sentance = BeautifulSoup(sentance, 'lxml').get_text()\n",
        "    sentance = decontracted(sentance)\n",
        "    sentance = re.sub(\"\\S*\\d\\S*\", \"\", sentance).strip()\n",
        "    sentance = re.sub('[^A-Za-z]+', ' ', sentance)\n",
        "    # https://gist.github.com/sebleier/554280\n",
        "    sentance = ' '.join(e.lower() for e in sentance.split() if e.lower() not in stopwords)\n",
        "    preprocessed_reviews.append(sentance.strip())"
      ],
      "execution_count": 91,
      "outputs": [
        {
          "output_type": "stream",
          "text": [
            "100%|██████████| 4986/4986 [00:02<00:00, 2302.18it/s]\n"
          ],
          "name": "stderr"
        }
      ]
    },
    {
      "cell_type": "code",
      "metadata": {
        "id": "YBWzfi2NDYLL",
        "colab_type": "code",
        "outputId": "4f52f5b0-af88-4a77-c838-eee77474b45e",
        "colab": {
          "base_uri": "https://localhost:8080/",
          "height": 54
        }
      },
      "source": [
        "preprocessed_reviews[1500]"
      ],
      "execution_count": 92,
      "outputs": [
        {
          "output_type": "execute_result",
          "data": {
            "text/plain": [
              "'wow far two two star reviews one obviously no idea ordering wants crispy cookies hey sorry reviews nobody good beyond reminding us look ordering chocolate oatmeal cookies not like combination not order type cookie find combo quite nice really oatmeal sort calms rich chocolate flavor gives cookie sort coconut type consistency let also remember tastes differ given opinion soft chewy cookies advertised not crispy cookies blurb would say crispy rather chewy happen like raw cookie dough however not see taste like raw cookie dough soft however confusion yes stick together soft cookies tend not individually wrapped would add cost oh yeah chocolate chip cookies tend somewhat sweet want something hard crisp suggest nabiso ginger snaps want cookie soft chewy tastes like combination chocolate oatmeal give try place second order'"
            ]
          },
          "metadata": {
            "tags": []
          },
          "execution_count": 92
        }
      ]
    },
    {
      "cell_type": "markdown",
      "metadata": {
        "id": "jDp9oUXaDYLZ",
        "colab_type": "text"
      },
      "source": [
        "<h2><font color='red'>[3.2] Preprocessing Review Summary</font></h2>"
      ]
    },
    {
      "cell_type": "code",
      "metadata": {
        "id": "G9NmSQw9DYLa",
        "colab_type": "code",
        "colab": {}
      },
      "source": [
        "## Similartly you can do preprocessing for review summary also."
      ],
      "execution_count": 0,
      "outputs": []
    },
    {
      "cell_type": "markdown",
      "metadata": {
        "id": "vSmZvNNZDYLi",
        "colab_type": "text"
      },
      "source": [
        "# [4] Featurization"
      ]
    },
    {
      "cell_type": "markdown",
      "metadata": {
        "id": "zZs1QbloDYLk",
        "colab_type": "text"
      },
      "source": [
        "## [4.1] BAG OF WORDS"
      ]
    },
    {
      "cell_type": "code",
      "metadata": {
        "id": "KGkxITLpDYLl",
        "colab_type": "code",
        "outputId": "37f93bdd-e004-45e1-f389-437791b5675a",
        "colab": {
          "base_uri": "https://localhost:8080/",
          "height": 101
        }
      },
      "source": [
        "#BoW\n",
        "count_vect = CountVectorizer() #in scikit-learn\n",
        "count_vect.fit(preprocessed_reviews)\n",
        "print(\"some feature names \", count_vect.get_feature_names()[:10])\n",
        "print('='*50)\n",
        "\n",
        "final_counts = count_vect.transform(preprocessed_reviews)\n",
        "print(\"the type of count vectorizer \",type(final_counts))\n",
        "print(\"the shape of out text BOW vectorizer \",final_counts.get_shape())\n",
        "print(\"the number of unique words \", final_counts.get_shape()[1])"
      ],
      "execution_count": 94,
      "outputs": [
        {
          "output_type": "stream",
          "text": [
            "some feature names  ['aa', 'aahhhs', 'aback', 'abandon', 'abates', 'abbott', 'abby', 'abdominal', 'abiding', 'ability']\n",
            "==================================================\n",
            "the type of count vectorizer  <class 'scipy.sparse.csr.csr_matrix'>\n",
            "the shape of out text BOW vectorizer  (4986, 12997)\n",
            "the number of unique words  12997\n"
          ],
          "name": "stdout"
        }
      ]
    },
    {
      "cell_type": "markdown",
      "metadata": {
        "id": "_pcNUauJDYLr",
        "colab_type": "text"
      },
      "source": [
        "## [4.2] Bi-Grams and n-Grams."
      ]
    },
    {
      "cell_type": "code",
      "metadata": {
        "id": "cM2SIgUvDYLt",
        "colab_type": "code",
        "outputId": "e99c7ca7-97a6-48cb-efa8-fa7403b9d25c",
        "colab": {
          "base_uri": "https://localhost:8080/",
          "height": 0
        }
      },
      "source": [
        "#bi-gram, tri-gram and n-gram\n",
        "\n",
        "#removing stop words like \"not\" should be avoided before building n-grams\n",
        "# count_vect = CountVectorizer(ngram_range=(1,2))\n",
        "# please do read the CountVectorizer documentation http://scikit-learn.org/stable/modules/generated/sklearn.feature_extraction.text.CountVectorizer.html\n",
        "\n",
        "# you can choose these numebrs min_df=10, max_features=5000, of your choice\n",
        "count_vect = CountVectorizer(ngram_range=(1,2), min_df=10, max_features=5000)\n",
        "final_bigram_counts = count_vect.fit_transform(preprocessed_reviews)\n",
        "print(\"the type of count vectorizer \",type(final_bigram_counts))\n",
        "print(\"the shape of out text BOW vectorizer \",final_bigram_counts.get_shape())\n",
        "print(\"the number of unique words including both unigrams and bigrams \", final_bigram_counts.get_shape()[1])"
      ],
      "execution_count": 95,
      "outputs": [
        {
          "output_type": "stream",
          "text": [
            "the type of count vectorizer  <class 'scipy.sparse.csr.csr_matrix'>\n",
            "the shape of out text BOW vectorizer  (4986, 3144)\n",
            "the number of unique words including both unigrams and bigrams  3144\n"
          ],
          "name": "stdout"
        }
      ]
    },
    {
      "cell_type": "markdown",
      "metadata": {
        "id": "6bReCy__DYLx",
        "colab_type": "text"
      },
      "source": [
        "## [4.3] TF-IDF"
      ]
    },
    {
      "cell_type": "code",
      "metadata": {
        "id": "hfpsAqaXDYLy",
        "colab_type": "code",
        "outputId": "25d8ca28-d71d-4ec9-e941-9f6b1c059595",
        "colab": {
          "base_uri": "https://localhost:8080/",
          "height": 121
        }
      },
      "source": [
        "tf_idf_vect = TfidfVectorizer(ngram_range=(1,2), min_df=10)\n",
        "tf_idf_vect.fit(preprocessed_reviews)\n",
        "print(\"some sample features(unique words in the corpus)\",tf_idf_vect.get_feature_names()[0:10])\n",
        "print('='*50)\n",
        "\n",
        "final_tf_idf = tf_idf_vect.transform(preprocessed_reviews)\n",
        "print(\"the type of count vectorizer \",type(final_tf_idf))\n",
        "print(\"the shape of out text TFIDF vectorizer \",final_tf_idf.get_shape())\n",
        "print(\"the number of unique words including both unigrams and bigrams \", final_tf_idf.get_shape()[1])"
      ],
      "execution_count": 96,
      "outputs": [
        {
          "output_type": "stream",
          "text": [
            "some sample features(unique words in the corpus) ['ability', 'able', 'able find', 'able get', 'absolute', 'absolutely', 'absolutely delicious', 'absolutely love', 'absolutely no', 'according']\n",
            "==================================================\n",
            "the type of count vectorizer  <class 'scipy.sparse.csr.csr_matrix'>\n",
            "the shape of out text TFIDF vectorizer  (4986, 3144)\n",
            "the number of unique words including both unigrams and bigrams  3144\n"
          ],
          "name": "stdout"
        }
      ]
    },
    {
      "cell_type": "markdown",
      "metadata": {
        "id": "9kpriSSvDYL8",
        "colab_type": "text"
      },
      "source": [
        "## [4.4] Word2Vec"
      ]
    },
    {
      "cell_type": "code",
      "metadata": {
        "id": "zm7QLZ2jDYL-",
        "colab_type": "code",
        "colab": {}
      },
      "source": [
        "# Train your own Word2Vec model using your own text corpus\n",
        "i=0\n",
        "list_of_sentance=[]\n",
        "for sentance in preprocessed_reviews:\n",
        "    list_of_sentance.append(sentance.split())"
      ],
      "execution_count": 0,
      "outputs": []
    },
    {
      "cell_type": "code",
      "metadata": {
        "scrolled": true,
        "id": "mLAtDE_UDYMF",
        "colab_type": "code",
        "outputId": "b9bad1b1-8105-4879-9787-01fbc1487ae2",
        "colab": {
          "base_uri": "https://localhost:8080/",
          "height": 104
        }
      },
      "source": [
        "# Using Google News Word2Vectors\n",
        "\n",
        "# in this project we are using a pretrained model by google\n",
        "# its 3.3G file, once you load this into your memory \n",
        "# it occupies ~9Gb, so please do this step only if you have >12G of ram\n",
        "# we will provide a pickle file wich contains a dict , \n",
        "# and it contains all our courpus words as keys and  model[word] as values\n",
        "# To use this code-snippet, download \"GoogleNews-vectors-negative300.bin\" \n",
        "# from https://drive.google.com/file/d/0B7XkCwpI5KDYNlNUTTlSS21pQmM/edit\n",
        "# it's 1.9GB in size.\n",
        "\n",
        "\n",
        "# http://kavita-ganesan.com/gensim-word2vec-tutorial-starter-code/#.W17SRFAzZPY\n",
        "# you can comment this whole cell\n",
        "# or change these varible according to your need\n",
        "\n",
        "is_your_ram_gt_16g=False\n",
        "want_to_use_google_w2v = False\n",
        "want_to_train_w2v = True\n",
        "\n",
        "if want_to_train_w2v:\n",
        "    # min_count = 5 considers only words that occured atleast 5 times\n",
        "    w2v_model=Word2Vec(list_of_sentance,min_count=5,size=50, workers=4)\n",
        "    print(w2v_model.wv.most_similar('great'))\n",
        "    print('='*50)\n",
        "    print(w2v_model.wv.most_similar('worst'))\n",
        "    \n",
        "elif want_to_use_google_w2v and is_your_ram_gt_16g:\n",
        "    if os.path.isfile('GoogleNews-vectors-negative300.bin'):\n",
        "        w2v_model=KeyedVectors.load_word2vec_format('GoogleNews-vectors-negative300.bin', binary=True)\n",
        "        print(w2v_model.wv.most_similar('great'))\n",
        "        print(w2v_model.wv.most_similar('worst'))\n",
        "    else:\n",
        "        print(\"you don't have gogole's word2vec file, keep want_to_train_w2v = True, to train your own w2v \")"
      ],
      "execution_count": 98,
      "outputs": [
        {
          "output_type": "stream",
          "text": [
            "W0809 18:11:07.652222 140370858743680 base_any2vec.py:723] consider setting layer size to a multiple of 4 for greater performance\n"
          ],
          "name": "stderr"
        },
        {
          "output_type": "stream",
          "text": [
            "[('right', 0.9949283599853516), ('alternative', 0.9948379397392273), ('wonderful', 0.9947406053543091), ('tasty', 0.9944503307342529), ('amazing', 0.9942730069160461), ('excellent', 0.9941893815994263), ('snack', 0.9940519332885742), ('satisfying', 0.9940183162689209), ('crispy', 0.9939375519752502), ('especially', 0.9938978552818298)]\n",
            "==================================================\n",
            "[('become', 0.9993997812271118), ('style', 0.9993962049484253), ('part', 0.9993727207183838), ('de', 0.9993236064910889), ('stand', 0.99930739402771), ('banana', 0.9993046522140503), ('level', 0.9993045926094055), ('pleasantly', 0.9992957711219788), ('bars', 0.999295175075531), ('oh', 0.9992811679840088)]\n"
          ],
          "name": "stdout"
        }
      ]
    },
    {
      "cell_type": "code",
      "metadata": {
        "id": "hTiK-q0NDYMN",
        "colab_type": "code",
        "outputId": "4bb9f46c-9f57-4cba-b989-406164ec0c38",
        "colab": {
          "base_uri": "https://localhost:8080/",
          "height": 70
        }
      },
      "source": [
        "w2v_words = list(w2v_model.wv.vocab)\n",
        "print(\"number of words that occured minimum 5 times \",len(w2v_words))\n",
        "print(\"sample words \", w2v_words[0:50])"
      ],
      "execution_count": 99,
      "outputs": [
        {
          "output_type": "stream",
          "text": [
            "number of words that occured minimum 5 times  3817\n",
            "sample words  ['product', 'available', 'course', 'total', 'pretty', 'stinky', 'right', 'nearby', 'used', 'ca', 'not', 'beat', 'great', 'received', 'shipment', 'could', 'hardly', 'wait', 'try', 'love', 'call', 'instead', 'removed', 'easily', 'daughter', 'designed', 'printed', 'use', 'car', 'windows', 'beautifully', 'shop', 'program', 'going', 'lot', 'fun', 'everywhere', 'like', 'tv', 'computer', 'really', 'good', 'idea', 'final', 'outstanding', 'window', 'everybody', 'asks', 'bought', 'made']\n"
          ],
          "name": "stdout"
        }
      ]
    },
    {
      "cell_type": "markdown",
      "metadata": {
        "id": "cse_ZlapDYMX",
        "colab_type": "text"
      },
      "source": [
        "## [4.4.1] Converting text into vectors using Avg W2V, TFIDF-W2V"
      ]
    },
    {
      "cell_type": "markdown",
      "metadata": {
        "id": "3H0BUlYEDYMY",
        "colab_type": "text"
      },
      "source": [
        "#### [4.4.1.1] Avg W2v"
      ]
    },
    {
      "cell_type": "code",
      "metadata": {
        "id": "czBD_JcEDYMY",
        "colab_type": "code",
        "outputId": "4aa5f9e4-3baa-4383-d8d7-a0be77066207",
        "colab": {
          "base_uri": "https://localhost:8080/",
          "height": 67
        }
      },
      "source": [
        "# average Word2Vec\n",
        "# compute average word2vec for each review.\n",
        "sent_vectors = []; # the avg-w2v for each sentence/review is stored in this list\n",
        "for sent in tqdm(list_of_sentance): # for each review/sentence\n",
        "    sent_vec = np.zeros(50) # as word vectors are of zero length 50, you might need to change this to 300 if you use google's w2v\n",
        "    cnt_words =0; # num of words with a valid vector in the sentence/review\n",
        "    for word in sent: # for each word in a review/sentence\n",
        "        if word in w2v_words:\n",
        "            vec = w2v_model.wv[word]\n",
        "            sent_vec += vec\n",
        "            cnt_words += 1\n",
        "    if cnt_words != 0:\n",
        "        sent_vec /= cnt_words\n",
        "    sent_vectors.append(sent_vec)\n",
        "print(len(sent_vectors))\n",
        "print(len(sent_vectors[0]))"
      ],
      "execution_count": 100,
      "outputs": [
        {
          "output_type": "stream",
          "text": [
            "100%|██████████| 4986/4986 [00:05<00:00, 847.85it/s]"
          ],
          "name": "stderr"
        },
        {
          "output_type": "stream",
          "text": [
            "4986\n",
            "50\n"
          ],
          "name": "stdout"
        },
        {
          "output_type": "stream",
          "text": [
            "\n"
          ],
          "name": "stderr"
        }
      ]
    },
    {
      "cell_type": "markdown",
      "metadata": {
        "id": "ZKhyFyhmDYMd",
        "colab_type": "text"
      },
      "source": [
        "#### [4.4.1.2] TFIDF weighted W2v"
      ]
    },
    {
      "cell_type": "code",
      "metadata": {
        "id": "2UmpXW92DYMe",
        "colab_type": "code",
        "colab": {}
      },
      "source": [
        "# S = [\"abc def pqr\", \"def def def abc\", \"pqr pqr def\"]\n",
        "model = TfidfVectorizer()\n",
        "tf_idf_matrix = model.fit_transform(preprocessed_reviews)\n",
        "# we are converting a dictionary with word as a key, and the idf as a value\n",
        "dictionary = dict(zip(model.get_feature_names(), list(model.idf_)))"
      ],
      "execution_count": 0,
      "outputs": []
    },
    {
      "cell_type": "code",
      "metadata": {
        "scrolled": true,
        "id": "yJgfDSnUDYMk",
        "colab_type": "code",
        "outputId": "b96c6bca-8dfd-4251-c8ef-15b547d5887e",
        "colab": {
          "base_uri": "https://localhost:8080/",
          "height": 34
        }
      },
      "source": [
        "# TF-IDF weighted Word2Vec\n",
        "tfidf_feat = model.get_feature_names() # tfidf words/col-names\n",
        "# final_tf_idf is the sparse matrix with row= sentence, col=word and cell_val = tfidf\n",
        "\n",
        "tfidf_sent_vectors = []; # the tfidf-w2v for each sentence/review is stored in this list\n",
        "row=0;\n",
        "for sent in tqdm(list_of_sentance): # for each review/sentence \n",
        "    sent_vec = np.zeros(50) # as word vectors are of zero length\n",
        "    weight_sum =0; # num of words with a valid vector in the sentence/review\n",
        "    for word in sent: # for each word in a review/sentence\n",
        "        if word in w2v_words and word in tfidf_feat:\n",
        "            vec = w2v_model.wv[word]\n",
        "#             tf_idf = tf_idf_matrix[row, tfidf_feat.index(word)]\n",
        "            # to reduce the computation we are \n",
        "            # dictionary[word] = idf value of word in whole courpus\n",
        "            # sent.count(word) = tf valeus of word in this review\n",
        "            tf_idf = dictionary[word]*(sent.count(word)/len(sent))\n",
        "            sent_vec += (vec * tf_idf)\n",
        "            weight_sum += tf_idf\n",
        "    if weight_sum != 0:\n",
        "        sent_vec /= weight_sum\n",
        "    tfidf_sent_vectors.append(sent_vec)\n",
        "    row += 1"
      ],
      "execution_count": 102,
      "outputs": [
        {
          "output_type": "stream",
          "text": [
            "100%|██████████| 4986/4986 [00:39<00:00, 126.05it/s]\n"
          ],
          "name": "stderr"
        }
      ]
    },
    {
      "cell_type": "markdown",
      "metadata": {
        "id": "grP7WVsuDYMp",
        "colab_type": "text"
      },
      "source": [
        "# [5] Assignment 3: KNN"
      ]
    },
    {
      "cell_type": "markdown",
      "metadata": {
        "id": "ysQgMV4SDYMq",
        "colab_type": "text"
      },
      "source": [
        "<ol>\n",
        "    <li><strong>Apply Knn(brute force version) on these feature sets</strong>\n",
        "        <ul>\n",
        "            <li><font color='red'>SET 1:</font>Review text, preprocessed one converted into vectors using (BOW)</li>\n",
        "            <li><font color='red'>SET 2:</font>Review text, preprocessed one converted into vectors using (TFIDF)</li>\n",
        "            <li><font color='red'>SET 3:</font>Review text, preprocessed one converted into vectors using (AVG W2v)</li>\n",
        "            <li><font color='red'>SET 4:</font>Review text, preprocessed one converted into vectors using (TFIDF W2v)</li>\n",
        "        </ul>\n",
        "    </li>\n",
        "    <br>\n",
        "    <li><strong>Apply Knn(kd tree version) on these feature sets</strong>\n",
        "        <br><font color='red'>NOTE: </font>sklearn implementation of kd-tree accepts only dense matrices, you need to convert the sparse matrices of CountVectorizer/TfidfVectorizer into dense matices. You can convert sparse matrices to dense using .toarray() attribute. For more information please visit this <a href='https://docs.scipy.org/doc/scipy-0.18.1/reference/generated/scipy.sparse.csr_matrix.toarray.html'>link</a>\n",
        "        <ul>\n",
        "            <li><font color='red'>SET 5:</font>Review text, preprocessed one converted into vectors using (BOW) but with restriction on maximum features generated.\n",
        "            <pre>\n",
        "            count_vect = CountVectorizer(min_df=10, max_features=500) \n",
        "            count_vect.fit(preprocessed_reviews)\n",
        "            </pre>\n",
        "            </li>\n",
        "            <li><font color='red'>SET 6:</font>Review text, preprocessed one converted into vectors using (TFIDF) but with restriction on maximum features generated.\n",
        "            <pre>\n",
        "                tf_idf_vect = TfidfVectorizer(min_df=10, max_features=500)\n",
        "                tf_idf_vect.fit(preprocessed_reviews)\n",
        "            </pre>\n",
        "            </li>\n",
        "            <li><font color='red'>SET 3:</font>Review text, preprocessed one converted into vectors using (AVG W2v)</li>\n",
        "            <li><font color='red'>SET 4:</font>Review text, preprocessed one converted into vectors using (TFIDF W2v)</li>\n",
        "        </ul>\n",
        "    </li>\n",
        "    <br>\n",
        "    <li><strong>The hyper paramter tuning(find best K)</strong>\n",
        "        <ul>\n",
        "    <li>Find the best hyper parameter which will give the maximum <a href='https://www.appliedaicourse.com/course/applied-ai-course-online/lessons/receiver-operating-characteristic-curve-roc-curve-and-auc-1/'>AUC</a> value</li>\n",
        "    <li>Find the best hyper paramter using k-fold cross validation or simple cross validation data</li>\n",
        "    <li>Use gridsearch cv or randomsearch cv or you can also write your own for loops to do this task of hyperparameter tuning</li>\n",
        "        </ul>\n",
        "    </li>\n",
        "    <br>\n",
        "    <li>\n",
        "    <strong>Representation of results</strong>\n",
        "        <ul>\n",
        "    <li>You need to plot the performance of model both on train data and cross validation data for each hyper parameter, like shown in the figure\n",
        "    <img src='train_cv_auc.JPG' width=300px></li>\n",
        "    <li>Once after you found the best hyper parameter, you need to train your model with it, and find the AUC on test data and plot the ROC curve on both train and test.\n",
        "    <img src='train_test_auc.JPG' width=300px></li>\n",
        "    <li>Along with plotting ROC curve, you need to print the <a href='https://www.appliedaicourse.com/course/applied-ai-course-online/lessons/confusion-matrix-tpr-fpr-fnr-tnr-1/'>confusion matrix</a> with predicted and original labels of test data points\n",
        "    <img src='confusion_matrix.png' width=300px></li>\n",
        "        </ul>\n",
        "    </li>\n",
        "    <br>\n",
        "    <li><strong>Conclusion</strong>\n",
        "        <ul>\n",
        "    <li>You need to summarize the results at the end of the notebook, summarize it in the table format. To print out a table please refer to this prettytable library<a href='http://zetcode.com/python/prettytable/'> link</a> \n",
        "        <img src='summary.JPG' width=400px>\n",
        "    </li>\n",
        "        </ul>\n",
        "</ol>"
      ]
    },
    {
      "cell_type": "markdown",
      "metadata": {
        "id": "juYtRIKQDYMr",
        "colab_type": "text"
      },
      "source": [
        "<h4><font color='red'>Note: Data Leakage</font></h4>\n",
        "\n",
        "1. There will be an issue of data-leakage if you vectorize the entire data and then split it into train/cv/test.\n",
        "2. To avoid the issue of data-leakag, make sure to split your data first and then vectorize it. \n",
        "3. While vectorizing your data, apply the method fit_transform() on you train data, and apply the method transform() on cv/test data.\n",
        "4. For more details please go through this <a href='https://soundcloud.com/applied-ai-course/leakage-bow-and-tfidf'>link.</a>"
      ]
    },
    {
      "cell_type": "markdown",
      "metadata": {
        "id": "WEbTAOWHDYMu",
        "colab_type": "text"
      },
      "source": [
        "## [5.1] Applying KNN brute force"
      ]
    },
    {
      "cell_type": "markdown",
      "metadata": {
        "id": "ArO5fI7kDYMv",
        "colab_type": "text"
      },
      "source": [
        "### [5.1.1] Applying KNN brute force on BOW,<font color='red'> SET 1</font>"
      ]
    },
    {
      "cell_type": "code",
      "metadata": {
        "id": "Rw_A_9pfDYMw",
        "colab_type": "code",
        "outputId": "70715737-39d8-4994-a980-bed09e5745c3",
        "colab": {
          "base_uri": "https://localhost:8080/",
          "height": 792
        }
      },
      "source": [
        "#Input data\n",
        "X = preprocessed_reviews; Y = final['Score']\n",
        "\n",
        "# https://scikit-learn.org/stable/modules/generated/sklearn.model_selection.train_test_split.html\n",
        "from sklearn.model_selection import train_test_split\n",
        "x_train, x_test, y_train, y_test = train_test_split(X, Y, test_size=0.33) # this is random splitting\n",
        "x_train, x_cv, y_train, y_cv = train_test_split(x_train, y_train, test_size=0.33) # this is random splitting\n",
        "\n",
        "from sklearn.feature_extraction.text import CountVectorizer\n",
        "vectorizer = CountVectorizer()\n",
        "vectorizer.fit(x_train) # fit has to happen only on train data\n",
        "\n",
        "# we use the fitted CountVectorizer to convert the text to vector\n",
        "x_train_bow = vectorizer.transform(x_train)\n",
        "x_cv_bow = vectorizer.transform(x_cv)\n",
        "x_test_bow = vectorizer.transform(x_test)\n",
        "\n",
        "\n",
        "#Simple Cross validation\n",
        "train_auc = [] ; cv_auc = []\n",
        "k = [1, 5, 10, 15, 21, 31,35, 41,45, 51]\n",
        "for i in k:\n",
        "    # instantiate learning model \n",
        "    knn = KNeighborsClassifier(n_neighbors=i,algorithm='brute')\n",
        "\n",
        "    # fitting the model on crossvalidation train\n",
        "    knn.fit(x_train_bow, y_train)\n",
        "\n",
        "    # predict the response on the crossvalidation & train data \n",
        "    y_train_pred =  knn.predict_proba(x_train_bow)[:,1]\n",
        "    y_cv_pred =  knn.predict_proba(x_cv_bow)[:,1]\n",
        "    \n",
        "    train_auc.append(roc_auc_score(y_train,y_train_pred))\n",
        "    cv_auc.append(roc_auc_score(y_cv, y_cv_pred))\n",
        "  \n",
        "#Plotting the Error plot\n",
        "plt.plot(k, train_auc, label='Train AUC')\n",
        "plt.plot(k, cv_auc, label='CV AUC')\n",
        "plt.legend()\n",
        "plt.xlabel(\"K: hyperparameter\")\n",
        "plt.ylabel(\"AUC\")\n",
        "plt.title(\"ERROR PLOTS\")\n",
        "plt.show()\n",
        "\n",
        "def displayAUCInfo(k,train_auc,cv_auc):\n",
        "  print('K values',k)\n",
        "  print('Train AUC',[round(x,3) for x in train_auc])\n",
        "  print('CV AUC',[round(x,3) for x in cv_auc])\n",
        "  diff = np.array(train_auc) - np.array(cv_auc)\n",
        "  print('Difference in AUC',[round(x,3) for x in diff])\n",
        "  \n",
        "displayAUCInfo(k,train_auc,cv_auc)\n",
        "optimal_k = 31\n",
        "print('\\n****Optimal value of k = %d' %(optimal_k))\n",
        "\n",
        "knn = KNeighborsClassifier(n_neighbors=optimal_k,algorithm='brute')\n",
        "knn.fit(x_train_bow,y_train)\n",
        "pred = knn.predict(x_test_bow)\n",
        "acc = accuracy_score(y_test, pred, normalize=True) * float(100)\n",
        "#print('\\n****Optimal value of k = %d' %(optimal_k))\n",
        "#print('\\n****Accuracy value for k = %d' %(acc))\n",
        "\n",
        "\n",
        "# roc_auc_score(y_true, y_score) the 2nd parameter should be probability estimates of the positive class\n",
        "# not the predicted outputs\n",
        "train_fpr, train_tpr, thresholds = roc_curve(y_train, knn.predict_proba(x_train_bow)[:,1])\n",
        "test_fpr, test_tpr, thresholds = roc_curve(y_test, knn.predict_proba(x_test_bow)[:,1])\n",
        "\n",
        "plt.plot(train_fpr, train_tpr, label=\"train AUC =\"+str(auc(train_fpr, train_tpr)))\n",
        "plt.plot(test_fpr, test_tpr, label=\"test AUC =\"+str(auc(test_fpr, test_tpr)))\n",
        "plt.legend()\n",
        "plt.xlabel(\"K: hyperparameter\")\n",
        "plt.ylabel(\"AUC\")\n",
        "plt.title(\"ROC Curve\")\n",
        "plt.show()\n",
        "\n",
        "print(\"=\"*100)\n",
        "\n",
        "print(\"Train confusion matrix\")\n",
        "print(confusion_matrix(y_train, knn.predict(x_train_bow)))\n",
        "print(\"Test confusion matrix\")\n",
        "print(confusion_matrix(y_test, knn.predict(x_test_bow)))"
      ],
      "execution_count": 103,
      "outputs": [
        {
          "output_type": "display_data",
          "data": {
            "image/png": "[encoded data removed]",
            "text/plain": [
              "<Figure size 432x288 with 1 Axes>"
            ]
          },
          "metadata": {
            "tags": []
          }
        },
        {
          "output_type": "stream",
          "text": [
            "K values [1, 5, 10, 15, 21, 31, 35, 41, 45, 51]\n",
            "Train AUC [1.0, 0.909, 0.863, 0.858, 0.858, 0.845, 0.839, 0.835, 0.831, 0.827]\n",
            "CV AUC [0.558, 0.57, 0.609, 0.67, 0.699, 0.715, 0.726, 0.742, 0.747, 0.748]\n",
            "Difference in AUC [0.442, 0.34, 0.254, 0.188, 0.159, 0.13, 0.113, 0.093, 0.084, 0.079]\n",
            "\n",
            "****Optimal value of k = 31\n"
          ],
          "name": "stdout"
        },
        {
          "output_type": "display_data",
          "data": {
            "image/png": "[encoded data removed]",
            "text/plain": [
              "<Figure size 432x288 with 1 Axes>"
            ]
          },
          "metadata": {
            "tags": []
          }
        },
        {
          "output_type": "stream",
          "text": [
            "====================================================================================================\n",
            "Train confusion matrix\n",
            "[[   7  365]\n",
            " [   1 1864]]\n",
            "Test confusion matrix\n",
            "[[   5  257]\n",
            " [   3 1381]]\n"
          ],
          "name": "stdout"
        }
      ]
    },
    {
      "cell_type": "markdown",
      "metadata": {
        "id": "m0UxvEKBDYM8",
        "colab_type": "text"
      },
      "source": [
        "### [5.1.2] Applying KNN brute force on TFIDF,<font color='red'> SET 2</font>"
      ]
    },
    {
      "cell_type": "code",
      "metadata": {
        "id": "5ffXQxa7DYM9",
        "colab_type": "code",
        "outputId": "86c84b71-9167-4b0f-d0c1-3288d6546ff3",
        "colab": {
          "base_uri": "https://localhost:8080/",
          "height": 792
        }
      },
      "source": [
        "#Input data\n",
        "X = preprocessed_reviews; Y = final['Score']\n",
        "\n",
        "# https://scikit-learn.org/stable/modules/generated/sklearn.model_selection.train_test_split.html\n",
        "from sklearn.model_selection import train_test_split\n",
        "x_train, x_test, y_train, y_test = train_test_split(X, Y, test_size=0.33) # this is random splitting\n",
        "x_train, x_cv, y_train, y_cv = train_test_split(x_train, y_train, test_size=0.33) # this is random splitting\n",
        "\n",
        "vectorizer = TfidfVectorizer(ngram_range=(1,2), min_df=10)\n",
        "vectorizer.fit(x_train) # fit has to happen only on train data\n",
        "\n",
        "# we use the fitted TfidfVectorizer to convert the text to vector\n",
        "x_train = vectorizer.transform(x_train)\n",
        "x_cv = vectorizer.transform(x_cv)\n",
        "x_test = vectorizer.transform(x_test)\n",
        "\n",
        "#10 fold cross validation\n",
        "train_auc = [] ; cv_auc = []; cv_scores= [];\n",
        "k = [1, 5, 10, 15, 21, 31,35, 41,45, 51]\n",
        "for i in k:\n",
        "    # instantiate learning model \n",
        "    knn = KNeighborsClassifier(n_neighbors=i,algorithm='brute')\n",
        "    scores = cross_val_score(knn, x_train, y_train, cv=10, scoring='accuracy')\n",
        "    cv_scores.append(scores.mean())\n",
        "\n",
        "    # fitting the model on crossvalidation train\n",
        "    knn.fit(x_train, y_train)\n",
        "\n",
        "    # predict the response on the crossvalidation & train data \n",
        "    y_train_pred =  knn.predict_proba(x_train)[:,1]\n",
        "    y_cv_pred =  knn.predict_proba(x_cv)[:,1]\n",
        "    \n",
        "    train_auc.append(roc_auc_score(y_train,y_train_pred))\n",
        "    cv_auc.append(roc_auc_score(y_cv, y_cv_pred))\n",
        "\n",
        "  \n",
        "#Plotting the Error plot\n",
        "plt.plot(k, train_auc, label='Train AUC')\n",
        "plt.plot(k, cv_auc, label='CV AUC')\n",
        "plt.legend()\n",
        "plt.xlabel(\"K: hyperparameter\")\n",
        "plt.ylabel(\"AUC\")\n",
        "plt.title(\"ERROR PLOTS\")\n",
        "plt.show()\n",
        "\n",
        "displayAUCInfo(k,train_auc,cv_auc)\n",
        "optimal_k = 41\n",
        "print('\\n****Optimal value of k = %d' %(optimal_k))\n",
        "    \n",
        "knn = KNeighborsClassifier(n_neighbors=optimal_k,algorithm='brute')\n",
        "knn.fit(x_train,y_train)\n",
        "pred = knn.predict(x_test)\n",
        "#acc = accuracy_score(y_test, pred, normalize=True) * float(100)\n",
        "#print('\\n****Test accuracy for k = %d is %d%%' %(optimal_k,acc))\n",
        "\n",
        "# roc_auc_score(y_true, y_score) the 2nd parameter should be probability estimates of the positive class\n",
        "# not the predicted outputs\n",
        "train_fpr, train_tpr, thresholds = roc_curve(y_train, knn.predict_proba(x_train)[:,1])\n",
        "test_fpr, test_tpr, thresholds = roc_curve(y_test, knn.predict_proba(x_test)[:,1])\n",
        "\n",
        "plt.plot(train_fpr, train_tpr, label=\"train AUC =\"+str(auc(train_fpr, train_tpr)))\n",
        "plt.plot(test_fpr, test_tpr, label=\"test AUC =\"+str(auc(test_fpr, test_tpr)))\n",
        "plt.legend()\n",
        "plt.xlabel(\"K: hyperparameter\")\n",
        "plt.ylabel(\"AUC\")\n",
        "plt.title(\"ROC Curve\")\n",
        "plt.show()\n",
        "\n",
        "print(\"=\"*100)\n",
        "\n",
        "print(\"Train confusion matrix\")\n",
        "print(confusion_matrix(y_train, knn.predict(x_train)))\n",
        "print(\"Test confusion matrix\")\n",
        "print(confusion_matrix(y_test, knn.predict(x_test)))"
      ],
      "execution_count": 104,
      "outputs": [
        {
          "output_type": "display_data",
          "data": {
            "image/png": "[encoded data removed]",
            "text/plain": [
              "<Figure size 432x288 with 1 Axes>"
            ]
          },
          "metadata": {
            "tags": []
          }
        },
        {
          "output_type": "stream",
          "text": [
            "K values [1, 5, 10, 15, 21, 31, 35, 41, 45, 51]\n",
            "Train AUC [1.0, 0.989, 0.913, 0.881, 0.863, 0.857, 0.855, 0.851, 0.85, 0.854]\n",
            "CV AUC [0.507, 0.502, 0.673, 0.739, 0.776, 0.782, 0.802, 0.811, 0.808, 0.813]\n",
            "Difference in AUC [0.493, 0.487, 0.24, 0.142, 0.088, 0.075, 0.053, 0.04, 0.042, 0.04]\n",
            "\n",
            "****Optimal value of k = 41\n"
          ],
          "name": "stdout"
        },
        {
          "output_type": "display_data",
          "data": {
            "image/png": "[encoded data removed]",
            "text/plain": [
              "<Figure size 432x288 with 1 Axes>"
            ]
          },
          "metadata": {
            "tags": []
          }
        },
        {
          "output_type": "stream",
          "text": [
            "====================================================================================================\n",
            "Train confusion matrix\n",
            "[[   2  348]\n",
            " [   0 1887]]\n",
            "Test confusion matrix\n",
            "[[   1  266]\n",
            " [   0 1379]]\n"
          ],
          "name": "stdout"
        }
      ]
    },
    {
      "cell_type": "markdown",
      "metadata": {
        "id": "sgcPCRG8DYNC",
        "colab_type": "text"
      },
      "source": [
        "### [5.1.3] Applying KNN brute force on AVG W2V,<font color='red'> SET 3</font>"
      ]
    },
    {
      "cell_type": "code",
      "metadata": {
        "id": "bT4Dm8fiDYNL",
        "colab_type": "code",
        "outputId": "cd93f5c3-cda4-4f09-e904-d479785bfafe",
        "colab": {
          "base_uri": "https://localhost:8080/",
          "height": 876
        }
      },
      "source": [
        "#Method to convert text to vectors using Avg W2V\n",
        "def textToVectorConvertor(preprocessed_reviews):\n",
        "  list_of_sentance=[]\n",
        "  for sentance in preprocessed_reviews:\n",
        "    list_of_sentance.append(sentance.split())\n",
        "  # this line of code trains your w2v model on the give list of sentances\n",
        "  w2v_model=Word2Vec(list_of_sentance,min_count=5,size=50, workers=4)\n",
        "  w2v_words = list(w2v_model.wv.vocab)\n",
        "\n",
        "  sent_vectors = []; # the avg-w2v for each sentence/review is stored in this list\n",
        "  for sent in tqdm(list_of_sentance): # for each review/sentence\n",
        "    sent_vec = np.zeros(50) # as word vectors are of zero length 50, you might need to change this to 300 if you use google's w2v\n",
        "    cnt_words =0; # num of words with a valid vector in the sentence/review\n",
        "    for word in sent: # for each word in a review/sentence\n",
        "        if word in w2v_words:\n",
        "            vec = w2v_model.wv[word]\n",
        "            sent_vec += vec\n",
        "            cnt_words += 1\n",
        "    if cnt_words != 0:\n",
        "        sent_vec /= cnt_words\n",
        "    sent_vectors.append(sent_vec)\n",
        "  return sent_vectors\n",
        "\n",
        "#Input data\n",
        "X = preprocessed_reviews; Y = final['Score']\n",
        "\n",
        "# https://scikit-learn.org/stable/modules/generated/sklearn.model_selection.train_test_split.html\n",
        "x_train, x_test, y_train, y_test = train_test_split(X, Y, test_size=0.33) # this is random splitting\n",
        "\n",
        "x_train_vect = textToVectorConvertor(x_train)\n",
        "x_test_vect = textToVectorConvertor(x_test)\n",
        "\n",
        "neigh = KNeighborsClassifier()\n",
        "parameters = {'n_neighbors':[1, 5, 10, 15, 21, 31,35, 41,45, 51]}\n",
        "clf = GridSearchCV(neigh, parameters, cv=3, scoring='roc_auc',return_train_score=True)\n",
        "clf.fit(x_train_vect, y_train)\n",
        "\n",
        "train_auc= clf.cv_results_['mean_train_score']\n",
        "train_auc_std= clf.cv_results_['std_train_score']\n",
        "cv_auc = clf.cv_results_['mean_test_score'] \n",
        "cv_auc_std= clf.cv_results_['std_test_score']\n",
        "\n",
        "plt.plot(parameters['n_neighbors'], train_auc, label='Train AUC')\n",
        "# this code is copied from here: https://stackoverflow.com/a/48803361/4084039\n",
        "plt.gca().fill_between(parameters['n_neighbors'],train_auc - train_auc_std,train_auc + train_auc_std,alpha=0.2,color='darkblue')\n",
        "\n",
        "plt.plot(parameters['n_neighbors'], cv_auc, label='CV AUC')\n",
        "# this code is copied from here: https://stackoverflow.com/a/48803361/4084039\n",
        "plt.gca().fill_between(parameters['n_neighbors'],cv_auc - cv_auc_std,cv_auc + cv_auc_std,alpha=0.2,color='darkorange')\n",
        "plt.legend()\n",
        "plt.xlabel(\"K: hyperparameter\")\n",
        "plt.ylabel(\"AUC\")\n",
        "plt.title(\"ERROR PLOTS\")\n",
        "plt.show()\n",
        "\n",
        "displayAUCInfo(k,train_auc,cv_auc)\n",
        "optimal_k = 45\n",
        "print('\\n****Optimal value of k = %d' %(optimal_k))\n",
        "\n",
        "knn = KNeighborsClassifier(n_neighbors=optimal_k,algorithm='brute')\n",
        "knn.fit(x_train_vect,y_train)\n",
        "pred = knn.predict(x_test_vect)\n",
        "#acc = accuracy_score(y_test, pred, normalize=True) * float(100)\n",
        "#print('\\n****Test accuracy for k = %d is %d%%' %(optimal_k,acc))\n",
        "\n",
        "# roc_auc_score(y_true, y_score) the 2nd parameter should be probability estimates of the positive class\n",
        "# not the predicted outputs\n",
        "train_fpr, train_tpr, thresholds = roc_curve(y_train, knn.predict_proba(x_train_vect)[:,1])\n",
        "test_fpr, test_tpr, thresholds = roc_curve(y_test, knn.predict_proba(x_test_vect)[:,1])\n",
        "\n",
        "plt.plot(train_fpr, train_tpr, label=\"train AUC =\"+str(auc(train_fpr, train_tpr)))\n",
        "plt.plot(test_fpr, test_tpr, label=\"test AUC =\"+str(auc(test_fpr, test_tpr)))\n",
        "plt.legend()\n",
        "plt.xlabel(\"K: hyperparameter\")\n",
        "plt.ylabel(\"AUC\")\n",
        "plt.title(\"ROC Curve\")\n",
        "plt.show()\n",
        "\n",
        "print(\"=\"*100)\n",
        "\n",
        "print(\"Train confusion matrix\")\n",
        "print(confusion_matrix(y_train, knn.predict(x_train_vect)))\n",
        "print(\"Test confusion matrix\")\n",
        "print(confusion_matrix(y_test, knn.predict(x_test_vect)))"
      ],
      "execution_count": 105,
      "outputs": [
        {
          "output_type": "stream",
          "text": [
            "W0809 18:12:08.902982 140370858743680 base_any2vec.py:723] consider setting layer size to a multiple of 4 for greater performance\n",
            "100%|██████████| 3340/3340 [00:03<00:00, 1072.71it/s]\n",
            "W0809 18:12:12.927743 140370858743680 base_any2vec.py:723] consider setting layer size to a multiple of 4 for greater performance\n",
            "W0809 18:12:13.349201 140370858743680 base_any2vec.py:1386] under 10 jobs per worker: consider setting a smaller `batch_words' for smoother alpha decay\n",
            "100%|██████████| 1646/1646 [00:01<00:00, 1370.29it/s]\n"
          ],
          "name": "stderr"
        },
        {
          "output_type": "display_data",
          "data": {
            "image/png": "[encoded data removed]",
            "text/plain": [
              "<Figure size 432x288 with 1 Axes>"
            ]
          },
          "metadata": {
            "tags": []
          }
        },
        {
          "output_type": "stream",
          "text": [
            "K values [1, 5, 10, 15, 21, 31, 35, 41, 45, 51]\n",
            "Train AUC [1.0, 0.84, 0.781, 0.745, 0.726, 0.701, 0.693, 0.679, 0.673, 0.667]\n",
            "CV AUC [0.523, 0.565, 0.583, 0.591, 0.59, 0.601, 0.61, 0.611, 0.611, 0.611]\n",
            "Difference in AUC [0.477, 0.276, 0.198, 0.154, 0.136, 0.1, 0.084, 0.068, 0.062, 0.057]\n",
            "\n",
            "****Optimal value of k = 45\n"
          ],
          "name": "stdout"
        },
        {
          "output_type": "display_data",
          "data": {
            "image/png": "[encoded data removed]",
            "text/plain": [
              "<Figure size 432x288 with 1 Axes>"
            ]
          },
          "metadata": {
            "tags": []
          }
        },
        {
          "output_type": "stream",
          "text": [
            "====================================================================================================\n",
            "Train confusion matrix\n",
            "[[   0  528]\n",
            " [   0 2812]]\n",
            "Test confusion matrix\n",
            "[[   0  280]\n",
            " [   0 1366]]\n"
          ],
          "name": "stdout"
        }
      ]
    },
    {
      "cell_type": "markdown",
      "metadata": {
        "id": "L-xcoDmADYNP",
        "colab_type": "text"
      },
      "source": [
        "### [5.1.4] Applying KNN brute force on TFIDF W2V,<font color='red'> SET 4</font>"
      ]
    },
    {
      "cell_type": "code",
      "metadata": {
        "id": "Z9tFDe5_DYNQ",
        "colab_type": "code",
        "outputId": "683f1a99-ecdb-4d1a-949c-d48bbd231a4d",
        "colab": {
          "base_uri": "https://localhost:8080/",
          "height": 876
        }
      },
      "source": [
        "#Method to convert text to vectors using tfidf w2v\n",
        "def textToVectorConvertor(preprocessed_reviews):\n",
        "  list_of_sentance=[]\n",
        "  for sentance in preprocessed_reviews:\n",
        "    list_of_sentance.append(sentance.split())\n",
        "    \n",
        "  model = TfidfVectorizer()\n",
        "  model.fit(preprocessed_reviews)\n",
        "  # we are converting a dictionary with word as a key, and the idf as a value\n",
        "  dictionary = dict(zip(model.get_feature_names(), list(model.idf_)))\n",
        "  tfidf_feat = model.get_feature_names()\n",
        "\n",
        "  # this line of code trains your w2v model on the give list of sentances\n",
        "  w2v_model=Word2Vec(list_of_sentance,min_count=5,size=50, workers=4)\n",
        "  w2v_words = list(w2v_model.wv.vocab)\n",
        "  \n",
        "  tfidf_sent_vectors = []; # the tfidf-w2v for each sentence/review is stored in this list\n",
        "  for sent in tqdm(list_of_sentance): # for each review/sentence \n",
        "      sent_vec = np.zeros(50) # as word vectors are of zero length\n",
        "      weight_sum =0; # num of words with a valid vector in the sentence/review\n",
        "      for word in sent: # for each word in a review/sentence\n",
        "          if word in w2v_words and word in tfidf_feat:\n",
        "              vec = w2v_model.wv[word]\n",
        "  #             tf_idf = tf_idf_matrix[row, tfidf_feat.index(word)]\n",
        "              # to reduce the computation we are \n",
        "              # dictionary[word] = idf value of word in whole courpus\n",
        "              # sent.count(word) = tf valeus of word in this review\n",
        "              tf_idf = dictionary[word]*(sent.count(word)/len(sent))\n",
        "              sent_vec += (vec * tf_idf)\n",
        "              weight_sum += tf_idf\n",
        "      if weight_sum != 0:\n",
        "          sent_vec /= weight_sum\n",
        "      tfidf_sent_vectors.append(sent_vec)\n",
        "  return tfidf_sent_vectors\n",
        "\n",
        "#Input data\n",
        "X = preprocessed_reviews; Y = final['Score']\n",
        "\n",
        "# https://scikit-learn.org/stable/modules/generated/sklearn.model_selection.train_test_split.html\n",
        "x_train, x_test, y_train, y_test = train_test_split(X, Y, test_size=0.33) # this is random splitting\n",
        "\n",
        "x_train_vect = textToVectorConvertor(x_train)\n",
        "x_test_vect = textToVectorConvertor(x_test)\n",
        "\n",
        "neigh = KNeighborsClassifier()\n",
        "parameters = {'n_neighbors':[1, 5, 10, 15, 21, 31,35, 41,45, 51]}\n",
        "clf = GridSearchCV(neigh, parameters, cv=3, scoring='roc_auc',return_train_score=True)\n",
        "clf.fit(x_train_vect, y_train)\n",
        "\n",
        "train_auc= clf.cv_results_['mean_train_score']\n",
        "train_auc_std= clf.cv_results_['std_train_score']\n",
        "cv_auc = clf.cv_results_['mean_test_score'] \n",
        "cv_auc_std= clf.cv_results_['std_test_score']\n",
        "\n",
        "plt.plot(parameters['n_neighbors'], train_auc, label='Train AUC')\n",
        "# this code is copied from here: https://stackoverflow.com/a/48803361/4084039\n",
        "plt.gca().fill_between(parameters['n_neighbors'],train_auc - train_auc_std,train_auc + train_auc_std,alpha=0.2,color='darkblue')\n",
        "\n",
        "plt.plot(parameters['n_neighbors'], cv_auc, label='CV AUC')\n",
        "# this code is copied from here: https://stackoverflow.com/a/48803361/4084039\n",
        "plt.gca().fill_between(parameters['n_neighbors'],cv_auc - cv_auc_std,cv_auc + cv_auc_std,alpha=0.2,color='darkorange')\n",
        "plt.legend()\n",
        "plt.xlabel(\"K: hyperparameter\")\n",
        "plt.ylabel(\"AUC\")\n",
        "plt.title(\"ERROR PLOTS\")\n",
        "plt.show()\n",
        "\n",
        "displayAUCInfo(k,train_auc,cv_auc)\n",
        "optimal_k = 45\n",
        "print('\\n****Optimal value of k = %d' %(optimal_k))\n",
        "    \n",
        "knn = KNeighborsClassifier(n_neighbors=optimal_k,algorithm='brute')\n",
        "knn.fit(x_train_vect,y_train)\n",
        "pred = knn.predict(x_test_vect)\n",
        "#acc = accuracy_score(y_test, pred, normalize=True) * float(100)\n",
        "#print('\\n****Test accuracy for k = %d is %d%%' %(optimal_k,acc))\n",
        "\n",
        "# roc_auc_score(y_true, y_score) the 2nd parameter should be probability estimates of the positive class\n",
        "# not the predicted outputs\n",
        "train_fpr, train_tpr, thresholds = roc_curve(y_train, knn.predict_proba(x_train_vect)[:,1])\n",
        "test_fpr, test_tpr, thresholds = roc_curve(y_test, knn.predict_proba(x_test_vect)[:,1])\n",
        "\n",
        "plt.plot(train_fpr, train_tpr, label=\"train AUC =\"+str(auc(train_fpr, train_tpr)))\n",
        "plt.plot(test_fpr, test_tpr, label=\"test AUC =\"+str(auc(test_fpr, test_tpr)))\n",
        "plt.legend()\n",
        "plt.xlabel(\"K: hyperparameter\")\n",
        "plt.ylabel(\"AUC\")\n",
        "plt.title(\"ROC Curve\")\n",
        "plt.show()\n",
        "\n",
        "print(\"=\"*100)\n",
        "\n",
        "print(\"Train confusion matrix\")\n",
        "print(confusion_matrix(y_train, knn.predict(x_train_vect)))\n",
        "print(\"Test confusion matrix\")\n",
        "print(confusion_matrix(y_test, knn.predict(x_test_vect)))"
      ],
      "execution_count": 106,
      "outputs": [
        {
          "output_type": "stream",
          "text": [
            "W0809 18:12:23.416427 140370858743680 base_any2vec.py:723] consider setting layer size to a multiple of 4 for greater performance\n",
            "100%|██████████| 3340/3340 [00:19<00:00, 167.02it/s]\n",
            "W0809 18:12:44.414541 140370858743680 base_any2vec.py:723] consider setting layer size to a multiple of 4 for greater performance\n",
            "W0809 18:12:44.819823 140370858743680 base_any2vec.py:1386] under 10 jobs per worker: consider setting a smaller `batch_words' for smoother alpha decay\n",
            "100%|██████████| 1646/1646 [00:06<00:00, 204.39it/s]\n"
          ],
          "name": "stderr"
        },
        {
          "output_type": "display_data",
          "data": {
            "image/png": "[encoded data removed]",
            "text/plain": [
              "<Figure size 432x288 with 1 Axes>"
            ]
          },
          "metadata": {
            "tags": []
          }
        },
        {
          "output_type": "stream",
          "text": [
            "K values [1, 5, 10, 15, 21, 31, 35, 41, 45, 51]\n",
            "Train AUC [1.0, 0.837, 0.759, 0.718, 0.685, 0.661, 0.651, 0.644, 0.634, 0.623]\n",
            "CV AUC [0.524, 0.53, 0.536, 0.546, 0.549, 0.556, 0.558, 0.552, 0.556, 0.553]\n",
            "Difference in AUC [0.476, 0.308, 0.222, 0.171, 0.137, 0.105, 0.093, 0.092, 0.078, 0.07]\n",
            "\n",
            "****Optimal value of k = 45\n"
          ],
          "name": "stdout"
        },
        {
          "output_type": "display_data",
          "data": {
            "image/png": "[encoded data removed]",
            "text/plain": [
              "<Figure size 432x288 with 1 Axes>"
            ]
          },
          "metadata": {
            "tags": []
          }
        },
        {
          "output_type": "stream",
          "text": [
            "====================================================================================================\n",
            "Train confusion matrix\n",
            "[[   0  531]\n",
            " [   0 2809]]\n",
            "Test confusion matrix\n",
            "[[   0  277]\n",
            " [   0 1369]]\n"
          ],
          "name": "stdout"
        }
      ]
    },
    {
      "cell_type": "markdown",
      "metadata": {
        "id": "v2x7vWX-DYNT",
        "colab_type": "text"
      },
      "source": [
        "## [5.2] Applying KNN kd-tree"
      ]
    },
    {
      "cell_type": "markdown",
      "metadata": {
        "id": "jfY8wT02DYNU",
        "colab_type": "text"
      },
      "source": [
        "### [5.2.1] Applying KNN kd-tree on BOW,<font color='red'> SET 5</font>"
      ]
    },
    {
      "cell_type": "code",
      "metadata": {
        "id": "kiIQYuA2DYNV",
        "colab_type": "code",
        "outputId": "c9cf14f6-1416-45fe-aa7e-d30f669af6ba",
        "colab": {
          "base_uri": "https://localhost:8080/",
          "height": 792
        }
      },
      "source": [
        "#Input data\n",
        "X = preprocessed_reviews; Y = final['Score']\n",
        "\n",
        "# https://scikit-learn.org/stable/modules/generated/sklearn.model_selection.train_test_split.html\n",
        "from sklearn.model_selection import train_test_split\n",
        "x_train, x_test, y_train, y_test = train_test_split(X, Y, test_size=0.33) # this is random splitting\n",
        "x_train, x_cv, y_train, y_cv = train_test_split(x_train, y_train, test_size=0.33) # this is random splitting\n",
        "\n",
        "from sklearn.feature_extraction.text import CountVectorizer\n",
        "vectorizer = CountVectorizer(min_df=10, max_features=500)\n",
        "vectorizer.fit(x_train) # fit has to happen only on train data\n",
        "\n",
        "# we use the fitted CountVectorizer to convert the text to vector\n",
        "x_train_bow = vectorizer.transform(x_train)\n",
        "x_cv_bow = vectorizer.transform(x_cv)\n",
        "x_test_bow = vectorizer.transform(x_test)\n",
        "\n",
        "\n",
        "#Simple Cross validation\n",
        "train_auc = [] ; cv_auc = []\n",
        "k = [1, 5, 10, 15, 21, 31,35, 41,45, 51]\n",
        "for i in k:\n",
        "    # instantiate learning model \n",
        "    knn = KNeighborsClassifier(n_neighbors=i,algorithm='kd_tree')\n",
        "    # fitting the model on crossvalidation train\n",
        "    knn.fit(x_train_bow.toarray(), y_train)\n",
        "\n",
        "    # predict the response on the crossvalidation & train data \n",
        "    y_train_pred =  knn.predict_proba(x_train_bow.toarray())[:,1]\n",
        "    y_cv_pred =  knn.predict_proba(x_cv_bow.toarray())[:,1]\n",
        "    \n",
        "    train_auc.append(roc_auc_score(y_train,y_train_pred))\n",
        "    cv_auc.append(roc_auc_score(y_cv, y_cv_pred))\n",
        "\n",
        "  \n",
        "#Plotting the Error plot\n",
        "plt.plot(k, train_auc, label='Train AUC')\n",
        "plt.plot(k, cv_auc, label='CV AUC')\n",
        "plt.legend()\n",
        "plt.xlabel(\"K: hyperparameter\")\n",
        "plt.ylabel(\"AUC\")\n",
        "plt.title(\"ERROR PLOTS\")\n",
        "plt.show()\n",
        "\n",
        "displayAUCInfo(k,train_auc,cv_auc)\n",
        "optimal_k = 31\n",
        "print('\\n****Optimal value of k = %d' %(optimal_k))\n",
        "\n",
        "knn = KNeighborsClassifier(n_neighbors=optimal_k,algorithm='kd_tree')\n",
        "knn.fit(x_train_bow.toarray(),y_train)\n",
        "pred = knn.predict(x_test_bow.toarray())\n",
        "#acc = accuracy_score(y_test, pred, normalize=True) * float(100)\n",
        "#print('\\n****Test accuracy for k = %d is %d%%' %(optimal_k,acc))\n",
        "\n",
        "# roc_auc_score(y_true, y_score) the 2nd parameter should be probability estimates of the positive class\n",
        "# not the predicted outputs\n",
        "train_fpr, train_tpr, thresholds = roc_curve(y_train, knn.predict_proba(x_train_bow.toarray())[:,1])\n",
        "test_fpr, test_tpr, thresholds = roc_curve(y_test, knn.predict_proba(x_test_bow.toarray())[:,1])\n",
        "\n",
        "plt.plot(train_fpr, train_tpr, label=\"train AUC =\"+str(auc(train_fpr, train_tpr)))\n",
        "plt.plot(test_fpr, test_tpr, label=\"test AUC =\"+str(auc(test_fpr, test_tpr)))\n",
        "plt.legend()\n",
        "plt.xlabel(\"K: hyperparameter\")\n",
        "plt.ylabel(\"AUC\")\n",
        "plt.title(\"ROC Curve\")\n",
        "plt.show()\n",
        "\n",
        "print(\"=\"*100)\n",
        "\n",
        "print(\"Train confusion matrix\")\n",
        "print(confusion_matrix(y_train, knn.predict(x_train_bow.toarray())))\n",
        "print(\"Test confusion matrix\")\n",
        "print(confusion_matrix(y_test, knn.predict(x_test_bow.toarray())))"
      ],
      "execution_count": 107,
      "outputs": [
        {
          "output_type": "display_data",
          "data": {
            "image/png": "[encoded data removed]",
            "text/plain": [
              "<Figure size 432x288 with 1 Axes>"
            ]
          },
          "metadata": {
            "tags": []
          }
        },
        {
          "output_type": "stream",
          "text": [
            "K values [1, 5, 10, 15, 21, 31, 35, 41, 45, 51]\n",
            "Train AUC [1.0, 0.9, 0.853, 0.835, 0.821, 0.806, 0.81, 0.809, 0.8, 0.79]\n",
            "CV AUC [0.561, 0.644, 0.656, 0.685, 0.712, 0.73, 0.73, 0.729, 0.743, 0.744]\n",
            "Difference in AUC [0.439, 0.256, 0.197, 0.15, 0.109, 0.076, 0.079, 0.08, 0.057, 0.046]\n",
            "\n",
            "****Optimal value of k = 31\n"
          ],
          "name": "stdout"
        },
        {
          "output_type": "display_data",
          "data": {
            "image/png": "[encoded data removed]",
            "text/plain": [
              "<Figure size 432x288 with 1 Axes>"
            ]
          },
          "metadata": {
            "tags": []
          }
        },
        {
          "output_type": "stream",
          "text": [
            "====================================================================================================\n",
            "Train confusion matrix\n",
            "[[  11  320]\n",
            " [   1 1905]]\n",
            "Test confusion matrix\n",
            "[[  11  279]\n",
            " [   7 1349]]\n"
          ],
          "name": "stdout"
        }
      ]
    },
    {
      "cell_type": "markdown",
      "metadata": {
        "id": "kG-xYnK7DYNt",
        "colab_type": "text"
      },
      "source": [
        "### [5.2.2] Applying KNN kd-tree on TFIDF,<font color='red'> SET 6</font>"
      ]
    },
    {
      "cell_type": "code",
      "metadata": {
        "id": "ffjRVz_iDYNu",
        "colab_type": "code",
        "outputId": "f7773e0c-99ba-44ca-e80f-cc417cf2f9ca",
        "colab": {
          "base_uri": "https://localhost:8080/",
          "height": 792
        }
      },
      "source": [
        "#Input data\n",
        "X = preprocessed_reviews; Y = final['Score']\n",
        "\n",
        "# https://scikit-learn.org/stable/modules/generated/sklearn.model_selection.train_test_split.html\n",
        "from sklearn.model_selection import train_test_split\n",
        "x_train, x_test, y_train, y_test = train_test_split(X, Y, test_size=0.33) # this is random splitting\n",
        "x_train, x_cv, y_train, y_cv = train_test_split(x_train, y_train, test_size=0.33) # this is random splitting\n",
        "\n",
        "vectorizer = TfidfVectorizer(ngram_range=(1,2), min_df=10, max_features=500)\n",
        "vectorizer.fit(x_train) # fit has to happen only on train data\n",
        "\n",
        "# we use the fitted TfidfVectorizer to convert the text to vector\n",
        "x_train = vectorizer.transform(x_train)\n",
        "x_cv = vectorizer.transform(x_cv)\n",
        "x_test = vectorizer.transform(x_test)\n",
        "\n",
        "#10 fold cross validation\n",
        "train_auc = [] ; cv_auc = []; cv_scores= [];\n",
        "k = [1, 5, 10, 15, 21, 31,35, 41,45, 51]\n",
        "for i in k:\n",
        "    # instantiate learning model \n",
        "    knn = KNeighborsClassifier(n_neighbors=i,algorithm='kd_tree')\n",
        "    scores = cross_val_score(knn, x_train.toarray(), y_train, cv=10, scoring='accuracy')\n",
        "    cv_scores.append(scores.mean())\n",
        "\n",
        "    # fitting the model on crossvalidation train\n",
        "    knn.fit(x_train.toarray(), y_train)\n",
        "\n",
        "    # predict the response on the crossvalidation & train data \n",
        "    y_train_pred =  knn.predict_proba(x_train.toarray())[:,1]\n",
        "    y_cv_pred =  knn.predict_proba(x_cv.toarray())[:,1]\n",
        "    \n",
        "    train_auc.append(roc_auc_score(y_train,y_train_pred))\n",
        "    cv_auc.append(roc_auc_score(y_cv, y_cv_pred))\n",
        "   \n",
        "#Plotting the Error plot\n",
        "plt.plot(k, train_auc, label='Train AUC')\n",
        "plt.plot(k, cv_auc, label='CV AUC')\n",
        "plt.legend()\n",
        "plt.xlabel(\"K: hyperparameter\")\n",
        "plt.ylabel(\"AUC\")\n",
        "plt.title(\"ERROR PLOTS\")\n",
        "plt.show()\n",
        "\n",
        "displayAUCInfo(k,train_auc,cv_auc)\n",
        "optimal_k = 41\n",
        "print('\\n****Optimal value of k = %d' %(optimal_k))\n",
        "\n",
        "knn = KNeighborsClassifier(n_neighbors=optimal_k,algorithm='kd_tree')\n",
        "knn.fit(x_train.toarray(),y_train)\n",
        "pred = knn.predict(x_test.toarray())\n",
        "#acc = accuracy_score(y_test, pred, normalize=True) * float(100)\n",
        "#print('\\n****Test accuracy for k = %d is %d%%' %(optimal_k,acc))\n",
        "\n",
        "# roc_auc_score(y_true, y_score) the 2nd parameter should be probability estimates of the positive class\n",
        "# not the predicted outputs\n",
        "train_fpr, train_tpr, thresholds = roc_curve(y_train, knn.predict_proba(x_train.toarray())[:,1])\n",
        "test_fpr, test_tpr, thresholds = roc_curve(y_test, knn.predict_proba(x_test.toarray())[:,1])\n",
        "\n",
        "plt.plot(train_fpr, train_tpr, label=\"train AUC =\"+str(auc(train_fpr, train_tpr)))\n",
        "plt.plot(test_fpr, test_tpr, label=\"test AUC =\"+str(auc(test_fpr, test_tpr)))\n",
        "plt.legend()\n",
        "plt.xlabel(\"K: hyperparameter\")\n",
        "plt.ylabel(\"AUC\")\n",
        "plt.title(\"ROC Curve\")\n",
        "plt.show()\n",
        "\n",
        "print(\"=\"*100)\n",
        "\n",
        "print(\"Train confusion matrix\")\n",
        "print(confusion_matrix(y_train, knn.predict(x_train.toarray())))\n",
        "print(\"Test confusion matrix\")\n",
        "print(confusion_matrix(y_test, knn.predict(x_test.toarray())))"
      ],
      "execution_count": 108,
      "outputs": [
        {
          "output_type": "display_data",
          "data": {
            "image/png": "[encoded data removed]",
            "text/plain": [
              "<Figure size 432x288 with 1 Axes>"
            ]
          },
          "metadata": {
            "tags": []
          }
        },
        {
          "output_type": "stream",
          "text": [
            "K values [1, 5, 10, 15, 21, 31, 35, 41, 45, 51]\n",
            "Train AUC [1.0, 0.961, 0.911, 0.874, 0.857, 0.85, 0.845, 0.838, 0.837, 0.834]\n",
            "CV AUC [0.507, 0.512, 0.638, 0.691, 0.694, 0.725, 0.724, 0.742, 0.753, 0.757]\n",
            "Difference in AUC [0.493, 0.449, 0.273, 0.183, 0.163, 0.125, 0.121, 0.096, 0.084, 0.077]\n",
            "\n",
            "****Optimal value of k = 41\n"
          ],
          "name": "stdout"
        },
        {
          "output_type": "display_data",
          "data": {
            "image/png": "[encoded data removed]",
            "text/plain": [
              "<Figure size 432x288 with 1 Axes>"
            ]
          },
          "metadata": {
            "tags": []
          }
        },
        {
          "output_type": "stream",
          "text": [
            "====================================================================================================\n",
            "Train confusion matrix\n",
            "[[   1  372]\n",
            " [   0 1864]]\n",
            "Test confusion matrix\n",
            "[[   0  275]\n",
            " [   0 1371]]\n"
          ],
          "name": "stdout"
        }
      ]
    },
    {
      "cell_type": "markdown",
      "metadata": {
        "id": "ddU0dZI0DYNx",
        "colab_type": "text"
      },
      "source": [
        "### [5.2.3] Applying KNN kd-tree on AVG W2V,<font color='red'> SET 3</font>"
      ]
    },
    {
      "cell_type": "code",
      "metadata": {
        "id": "YAl6PXWcDYNy",
        "colab_type": "code",
        "outputId": "929a3daa-aec4-480e-8f52-455f908431f8",
        "colab": {
          "base_uri": "https://localhost:8080/",
          "height": 876
        }
      },
      "source": [
        "#Method to convert text to vectors using Avg W2V\n",
        "def textToVectorConvertor(preprocessed_reviews):\n",
        "  list_of_sentance=[]\n",
        "  for sentance in preprocessed_reviews:\n",
        "    list_of_sentance.append(sentance.split())\n",
        "  # this line of code trains your w2v model on the give list of sentances\n",
        "  w2v_model=Word2Vec(list_of_sentance,min_count=5,size=50, workers=4)\n",
        "  w2v_words = list(w2v_model.wv.vocab)\n",
        "\n",
        "  sent_vectors = []; # the avg-w2v for each sentence/review is stored in this list\n",
        "  for sent in tqdm(list_of_sentance): # for each review/sentence\n",
        "    sent_vec = np.zeros(50) # as word vectors are of zero length 50, you might need to change this to 300 if you use google's w2v\n",
        "    cnt_words =0; # num of words with a valid vector in the sentence/review\n",
        "    for word in sent: # for each word in a review/sentence\n",
        "        if word in w2v_words:\n",
        "            vec = w2v_model.wv[word]\n",
        "            sent_vec += vec\n",
        "            cnt_words += 1\n",
        "    if cnt_words != 0:\n",
        "        sent_vec /= cnt_words\n",
        "    sent_vectors.append(sent_vec)\n",
        "  return sent_vectors\n",
        "\n",
        "#Input data\n",
        "X = preprocessed_reviews; Y = final['Score']\n",
        "\n",
        "# https://scikit-learn.org/stable/modules/generated/sklearn.model_selection.train_test_split.html\n",
        "x_train, x_test, y_train, y_test = train_test_split(X, Y, test_size=0.33) # this is random splitting\n",
        "\n",
        "x_train_vect = textToVectorConvertor(x_train)\n",
        "x_test_vect = textToVectorConvertor(x_test)\n",
        "\n",
        "neigh = KNeighborsClassifier()\n",
        "parameters = {'n_neighbors':[1, 5, 10, 15, 21, 31,35, 41,45, 51]}\n",
        "clf = GridSearchCV(neigh, parameters, cv=3, scoring='roc_auc',return_train_score=True)\n",
        "clf.fit(x_train_vect, y_train)\n",
        "\n",
        "train_auc= clf.cv_results_['mean_train_score']\n",
        "train_auc_std= clf.cv_results_['std_train_score']\n",
        "cv_auc = clf.cv_results_['mean_test_score'] \n",
        "cv_auc_std= clf.cv_results_['std_test_score']\n",
        "\n",
        "plt.plot(parameters['n_neighbors'], train_auc, label='Train AUC')\n",
        "# this code is copied from here: https://stackoverflow.com/a/48803361/4084039\n",
        "plt.gca().fill_between(parameters['n_neighbors'],train_auc - train_auc_std,train_auc + train_auc_std,alpha=0.2,color='darkblue')\n",
        "\n",
        "plt.plot(parameters['n_neighbors'], cv_auc, label='CV AUC')\n",
        "# this code is copied from here: https://stackoverflow.com/a/48803361/4084039\n",
        "plt.gca().fill_between(parameters['n_neighbors'],cv_auc - cv_auc_std,cv_auc + cv_auc_std,alpha=0.2,color='darkorange')\n",
        "plt.legend()\n",
        "plt.xlabel(\"K: hyperparameter\")\n",
        "plt.ylabel(\"AUC\")\n",
        "plt.title(\"ERROR PLOTS\")\n",
        "plt.show()\n",
        "\n",
        "displayAUCInfo(k,train_auc,cv_auc)\n",
        "optimal_k = 41\n",
        "print('\\n****Optimal value of k = %d' %(optimal_k))\n",
        "\n",
        "    \n",
        "knn = KNeighborsClassifier(n_neighbors=optimal_k,algorithm='kd_tree')\n",
        "knn.fit(x_train_vect,y_train)\n",
        "pred = knn.predict(x_test_vect)\n",
        "#acc = accuracy_score(y_test, pred, normalize=True) * float(100)\n",
        "#print('\\n****Test accuracy for k = %d is %d%%' %(optimal_k,acc))\n",
        "\n",
        "# roc_auc_score(y_true, y_score) the 2nd parameter should be probability estimates of the positive class\n",
        "# not the predicted outputs\n",
        "train_fpr, train_tpr, thresholds = roc_curve(y_train, knn.predict_proba(x_train_vect)[:,1])\n",
        "test_fpr, test_tpr, thresholds = roc_curve(y_test, knn.predict_proba(x_test_vect)[:,1])\n",
        "\n",
        "plt.plot(train_fpr, train_tpr, label=\"train AUC =\"+str(auc(train_fpr, train_tpr)))\n",
        "plt.plot(test_fpr, test_tpr, label=\"test AUC =\"+str(auc(test_fpr, test_tpr)))\n",
        "plt.legend()\n",
        "plt.xlabel(\"K: hyperparameter\")\n",
        "plt.ylabel(\"AUC\")\n",
        "plt.title(\"ROC Curve\")\n",
        "plt.show()\n",
        "\n",
        "print(\"=\"*100)\n",
        "\n",
        "print(\"Train confusion matrix\")\n",
        "print(confusion_matrix(y_train, knn.predict(x_train_vect)))\n",
        "print(\"Test confusion matrix\")\n",
        "print(confusion_matrix(y_test, knn.predict(x_test_vect)))"
      ],
      "execution_count": 109,
      "outputs": [
        {
          "output_type": "stream",
          "text": [
            "W0809 18:16:35.104168 140370858743680 base_any2vec.py:723] consider setting layer size to a multiple of 4 for greater performance\n",
            "100%|██████████| 3340/3340 [00:03<00:00, 1083.56it/s]\n",
            "W0809 18:16:39.089938 140370858743680 base_any2vec.py:723] consider setting layer size to a multiple of 4 for greater performance\n",
            "W0809 18:16:39.511887 140370858743680 base_any2vec.py:1386] under 10 jobs per worker: consider setting a smaller `batch_words' for smoother alpha decay\n",
            "100%|██████████| 1646/1646 [00:01<00:00, 1422.63it/s]\n"
          ],
          "name": "stderr"
        },
        {
          "output_type": "display_data",
          "data": {
            "image/png": "[encoded data removed]",
            "text/plain": [
              "<Figure size 432x288 with 1 Axes>"
            ]
          },
          "metadata": {
            "tags": []
          }
        },
        {
          "output_type": "stream",
          "text": [
            "K values [1, 5, 10, 15, 21, 31, 35, 41, 45, 51]\n",
            "Train AUC [1.0, 0.83, 0.761, 0.729, 0.705, 0.677, 0.673, 0.659, 0.655, 0.648]\n",
            "CV AUC [0.52, 0.549, 0.577, 0.573, 0.582, 0.577, 0.576, 0.573, 0.577, 0.575]\n",
            "Difference in AUC [0.48, 0.282, 0.184, 0.155, 0.122, 0.1, 0.097, 0.087, 0.078, 0.072]\n",
            "\n",
            "****Optimal value of k = 41\n"
          ],
          "name": "stdout"
        },
        {
          "output_type": "display_data",
          "data": {
            "image/png": "[encoded data removed]",
            "text/plain": [
              "<Figure size 432x288 with 1 Axes>"
            ]
          },
          "metadata": {
            "tags": []
          }
        },
        {
          "output_type": "stream",
          "text": [
            "====================================================================================================\n",
            "Train confusion matrix\n",
            "[[   0  533]\n",
            " [   0 2807]]\n",
            "Test confusion matrix\n",
            "[[   0  275]\n",
            " [   0 1371]]\n"
          ],
          "name": "stdout"
        }
      ]
    },
    {
      "cell_type": "markdown",
      "metadata": {
        "id": "IQUILTzFDYN0",
        "colab_type": "text"
      },
      "source": [
        "### [5.2.4] Applying KNN kd-tree on TFIDF W2V,<font color='red'> SET 4</font>"
      ]
    },
    {
      "cell_type": "code",
      "metadata": {
        "id": "vNmmBe5hDYN1",
        "colab_type": "code",
        "outputId": "7c64583a-1425-415b-eec7-957b10877d8e",
        "colab": {
          "base_uri": "https://localhost:8080/",
          "height": 876
        }
      },
      "source": [
        "#Method to convert text to vectors using tfidf w2v\n",
        "def textToVectorConvertor(preprocessed_reviews):\n",
        "  list_of_sentance=[]\n",
        "  for sentance in preprocessed_reviews:\n",
        "    list_of_sentance.append(sentance.split())\n",
        "    \n",
        "  model = TfidfVectorizer()\n",
        "  model.fit(preprocessed_reviews)\n",
        "  # we are converting a dictionary with word as a key, and the idf as a value\n",
        "  dictionary = dict(zip(model.get_feature_names(), list(model.idf_)))\n",
        "  tfidf_feat = model.get_feature_names()\n",
        "\n",
        "  # this line of code trains your w2v model on the give list of sentances\n",
        "  w2v_model=Word2Vec(list_of_sentance,min_count=5,size=50, workers=4)\n",
        "  w2v_words = list(w2v_model.wv.vocab)\n",
        "  \n",
        "  tfidf_sent_vectors = []; # the tfidf-w2v for each sentence/review is stored in this list\n",
        "  for sent in tqdm(list_of_sentance): # for each review/sentence \n",
        "      sent_vec = np.zeros(50) # as word vectors are of zero length\n",
        "      weight_sum =0; # num of words with a valid vector in the sentence/review\n",
        "      for word in sent: # for each word in a review/sentence\n",
        "          if word in w2v_words and word in tfidf_feat:\n",
        "              vec = w2v_model.wv[word]\n",
        "  #             tf_idf = tf_idf_matrix[row, tfidf_feat.index(word)]\n",
        "              # to reduce the computation we are \n",
        "              # dictionary[word] = idf value of word in whole courpus\n",
        "              # sent.count(word) = tf valeus of word in this review\n",
        "              tf_idf = dictionary[word]*(sent.count(word)/len(sent))\n",
        "              sent_vec += (vec * tf_idf)\n",
        "              weight_sum += tf_idf\n",
        "      if weight_sum != 0:\n",
        "          sent_vec /= weight_sum\n",
        "      tfidf_sent_vectors.append(sent_vec)\n",
        "  return tfidf_sent_vectors\n",
        "\n",
        "#Input data\n",
        "X = preprocessed_reviews; Y = final['Score']\n",
        "\n",
        "# https://scikit-learn.org/stable/modules/generated/sklearn.model_selection.train_test_split.html\n",
        "x_train, x_test, y_train, y_test = train_test_split(X, Y, test_size=0.33) # this is random splitting\n",
        "\n",
        "x_train_vect = textToVectorConvertor(x_train)\n",
        "x_test_vect = textToVectorConvertor(x_test)\n",
        "\n",
        "neigh = KNeighborsClassifier()\n",
        "parameters = {'n_neighbors':[1, 5, 10, 15, 21, 31,35, 41,45, 51]}\n",
        "clf = GridSearchCV(neigh, parameters, cv=3, scoring='roc_auc',return_train_score=True)\n",
        "clf.fit(x_train_vect, y_train)\n",
        "\n",
        "train_auc= clf.cv_results_['mean_train_score']\n",
        "train_auc_std= clf.cv_results_['std_train_score']\n",
        "cv_auc = clf.cv_results_['mean_test_score'] \n",
        "cv_auc_std= clf.cv_results_['std_test_score']\n",
        "\n",
        "plt.plot(parameters['n_neighbors'], train_auc, label='Train AUC')\n",
        "# this code is copied from here: https://stackoverflow.com/a/48803361/4084039\n",
        "plt.gca().fill_between(parameters['n_neighbors'],train_auc - train_auc_std,train_auc + train_auc_std,alpha=0.2,color='darkblue')\n",
        "\n",
        "plt.plot(parameters['n_neighbors'], cv_auc, label='CV AUC')\n",
        "# this code is copied from here: https://stackoverflow.com/a/48803361/4084039\n",
        "plt.gca().fill_between(parameters['n_neighbors'],cv_auc - cv_auc_std,cv_auc + cv_auc_std,alpha=0.2,color='darkorange')\n",
        "plt.legend()\n",
        "plt.xlabel(\"K: hyperparameter\")\n",
        "plt.ylabel(\"AUC\")\n",
        "plt.title(\"ERROR PLOTS\")\n",
        "plt.show()\n",
        "\n",
        "displayAUCInfo(k,train_auc,cv_auc)\n",
        "optimal_k = 41\n",
        "print('\\n****Optimal value of k = %d' %(optimal_k))\n",
        "\n",
        "knn = KNeighborsClassifier(n_neighbors=optimal_k,algorithm='kd_tree')\n",
        "knn.fit(x_train_vect,y_train)\n",
        "pred = knn.predict(x_test_vect)\n",
        "#acc = accuracy_score(y_test, pred, normalize=True) * float(100)\n",
        "#print('\\n****Test accuracy for k = %d is %d%%' %(optimal_k,acc))\n",
        "\n",
        "# roc_auc_score(y_true, y_score) the 2nd parameter should be probability estimates of the positive class\n",
        "# not the predicted outputs\n",
        "train_fpr, train_tpr, thresholds = roc_curve(y_train, knn.predict_proba(x_train_vect)[:,1])\n",
        "test_fpr, test_tpr, thresholds = roc_curve(y_test, knn.predict_proba(x_test_vect)[:,1])\n",
        "\n",
        "plt.plot(train_fpr, train_tpr, label=\"train AUC =\"+str(auc(train_fpr, train_tpr)))\n",
        "plt.plot(test_fpr, test_tpr, label=\"test AUC =\"+str(auc(test_fpr, test_tpr)))\n",
        "plt.legend()\n",
        "plt.xlabel(\"K: hyperparameter\")\n",
        "plt.ylabel(\"AUC\")\n",
        "plt.title(\"ROC Curve\")\n",
        "plt.show()\n",
        "\n",
        "print(\"=\"*100)\n",
        "\n",
        "print(\"Train confusion matrix\")\n",
        "print(confusion_matrix(y_train, knn.predict(x_train_vect)))\n",
        "print(\"Test confusion matrix\")\n",
        "print(confusion_matrix(y_test, knn.predict(x_test_vect)))"
      ],
      "execution_count": 110,
      "outputs": [
        {
          "output_type": "stream",
          "text": [
            "W0809 18:16:50.148214 140370858743680 base_any2vec.py:723] consider setting layer size to a multiple of 4 for greater performance\n",
            "100%|██████████| 3340/3340 [00:19<00:00, 171.21it/s]\n",
            "W0809 18:17:10.644301 140370858743680 base_any2vec.py:723] consider setting layer size to a multiple of 4 for greater performance\n",
            "W0809 18:17:11.066178 140370858743680 base_any2vec.py:1386] under 10 jobs per worker: consider setting a smaller `batch_words' for smoother alpha decay\n",
            "100%|██████████| 1646/1646 [00:07<00:00, 223.95it/s]\n"
          ],
          "name": "stderr"
        },
        {
          "output_type": "display_data",
          "data": {
            "image/png": "[encoded data removed]",
            "text/plain": [
              "<Figure size 432x288 with 1 Axes>"
            ]
          },
          "metadata": {
            "tags": []
          }
        },
        {
          "output_type": "stream",
          "text": [
            "K values [1, 5, 10, 15, 21, 31, 35, 41, 45, 51]\n",
            "Train AUC [1.0, 0.834, 0.758, 0.725, 0.704, 0.67, 0.662, 0.649, 0.643, 0.64]\n",
            "CV AUC [0.517, 0.546, 0.547, 0.553, 0.56, 0.55, 0.553, 0.551, 0.549, 0.554]\n",
            "Difference in AUC [0.483, 0.289, 0.211, 0.172, 0.144, 0.12, 0.109, 0.098, 0.094, 0.086]\n",
            "\n",
            "****Optimal value of k = 41\n"
          ],
          "name": "stdout"
        },
        {
          "output_type": "display_data",
          "data": {
            "image/png": "[encoded data removed]",
            "text/plain": [
              "<Figure size 432x288 with 1 Axes>"
            ]
          },
          "metadata": {
            "tags": []
          }
        },
        {
          "output_type": "stream",
          "text": [
            "====================================================================================================\n",
            "Train confusion matrix\n",
            "[[   0  544]\n",
            " [   0 2796]]\n",
            "Test confusion matrix\n",
            "[[   0  264]\n",
            " [   0 1382]]\n"
          ],
          "name": "stdout"
        }
      ]
    },
    {
      "cell_type": "markdown",
      "metadata": {
        "id": "crZ4qBCyDYN7",
        "colab_type": "text"
      },
      "source": [
        "# [6] Conclusions"
      ]
    },
    {
      "cell_type": "code",
      "metadata": {
        "id": "9OacHxi1DYN8",
        "colab_type": "code",
        "outputId": "913a279d-d33b-4076-cbcc-43b0ca03d026",
        "colab": {
          "base_uri": "https://localhost:8080/",
          "height": 235
        }
      },
      "source": [
        "# Please compare all your models using Prettytable library\n",
        "!pip install PTable\n",
        "\n",
        "from prettytable import PrettyTable\n",
        "    \n",
        "x = PrettyTable()\n",
        "\n",
        "x.field_names = [\"Vectorizer\", \"Model\",\"Hyperparameter\" ,\"Train AUC\",\"Test AUC\"]\n",
        "\n",
        "x.add_row([\"BOW\", \"Brute Force\",31,0.81,0.72])\n",
        "x.add_row([\"TFIDF\", \"Brute Force\",41,0.87,0.79])\n",
        "x.add_row([\"AVG W2V\", \"Brute Force\",45,0.67,0.60])\n",
        "x.add_row([\"TFIDF W2V\", \"Brute Force\",45,0.66,0.55])\n",
        "x.add_row([\"BOW\", \"KD Tree\",31,0.81,0.76])\n",
        "x.add_row([\"TFIDF\", \"KD Tree\",41,0.82,0.76])\n",
        "x.add_row([\"AVG W2V\", \"KD Tree\",41,0.67,0.52])\n",
        "x.add_row([\"TFIDF W2V\", \"KD Tree\",41,0.67,0.52])\n",
        "\n",
        "print(x)"
      ],
      "execution_count": 111,
      "outputs": [
        {
          "output_type": "stream",
          "text": [
            "Requirement already satisfied: PTable in /usr/local/lib/python3.6/dist-packages (0.9.2)\n",
            "+------------+-------------+----------------+-----------+----------+\n",
            "| Vectorizer |    Model    | Hyperparameter | Train AUC | Test AUC |\n",
            "+------------+-------------+----------------+-----------+----------+\n",
            "|    BOW     | Brute Force |       31       |    0.81   |   0.72   |\n",
            "|   TFIDF    | Brute Force |       41       |    0.87   |   0.79   |\n",
            "|  AVG W2V   | Brute Force |       45       |    0.67   |   0.6    |\n",
            "| TFIDF W2V  | Brute Force |       45       |    0.66   |   0.55   |\n",
            "|    BOW     |   KD Tree   |       31       |    0.81   |   0.76   |\n",
            "|   TFIDF    |   KD Tree   |       41       |    0.82   |   0.76   |\n",
            "|  AVG W2V   |   KD Tree   |       41       |    0.67   |   0.52   |\n",
            "| TFIDF W2V  |   KD Tree   |       41       |    0.67   |   0.52   |\n",
            "+------------+-------------+----------------+-----------+----------+\n"
          ],
          "name": "stdout"
        }
      ]
    },
    {
      "cell_type": "markdown",
      "metadata": {
        "id": "qHF3SlKNXIcc",
        "colab_type": "text"
      },
      "source": [
        "Among all other models, KNN with TFIDF vectorizer and Brute Force model has better metrics i.e., Best AUC (Train - 0.87, Test - 0.79) "
      ]
    }
  ]
}